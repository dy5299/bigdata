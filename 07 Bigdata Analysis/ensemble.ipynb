{
 "cells": [
  {
   "cell_type": "markdown",
   "metadata": {},
   "source": [
    "# 앙상블 학습"
   ]
  },
  {
   "cell_type": "markdown",
   "metadata": {},
   "source": [
    "## Voting"
   ]
  },
  {
   "cell_type": "code",
   "execution_count": 1,
   "metadata": {},
   "outputs": [],
   "source": [
    "import pandas as pd\n",
    "\n",
    "from sklearn.ensemble import VotingClassifier\n",
    "from sklearn.linear_model import LogisticRegression\n",
    "from sklearn.neighbors import KNeighborsClassifier\n",
    "from sklearn.tree import DecisionTreeClassifier\n",
    "\n",
    "from sklearn.datasets import load_breast_cancer\n",
    "from sklearn.model_selection import train_test_split"
   ]
  },
  {
   "cell_type": "code",
   "execution_count": 2,
   "metadata": {},
   "outputs": [],
   "source": [
    "# 데이터 적재\n",
    "cancer = load_breast_cancer()"
   ]
  },
  {
   "cell_type": "code",
   "execution_count": 3,
   "metadata": {},
   "outputs": [
    {
     "data": {
      "text/html": [
       "<div>\n",
       "<style scoped>\n",
       "    .dataframe tbody tr th:only-of-type {\n",
       "        vertical-align: middle;\n",
       "    }\n",
       "\n",
       "    .dataframe tbody tr th {\n",
       "        vertical-align: top;\n",
       "    }\n",
       "\n",
       "    .dataframe thead th {\n",
       "        text-align: right;\n",
       "    }\n",
       "</style>\n",
       "<table border=\"1\" class=\"dataframe\">\n",
       "  <thead>\n",
       "    <tr style=\"text-align: right;\">\n",
       "      <th></th>\n",
       "      <th>mean radius</th>\n",
       "      <th>mean texture</th>\n",
       "      <th>mean perimeter</th>\n",
       "      <th>mean area</th>\n",
       "      <th>mean smoothness</th>\n",
       "      <th>mean compactness</th>\n",
       "      <th>mean concavity</th>\n",
       "      <th>mean concave points</th>\n",
       "      <th>mean symmetry</th>\n",
       "      <th>mean fractal dimension</th>\n",
       "      <th>...</th>\n",
       "      <th>worst radius</th>\n",
       "      <th>worst texture</th>\n",
       "      <th>worst perimeter</th>\n",
       "      <th>worst area</th>\n",
       "      <th>worst smoothness</th>\n",
       "      <th>worst compactness</th>\n",
       "      <th>worst concavity</th>\n",
       "      <th>worst concave points</th>\n",
       "      <th>worst symmetry</th>\n",
       "      <th>worst fractal dimension</th>\n",
       "    </tr>\n",
       "  </thead>\n",
       "  <tbody>\n",
       "    <tr>\n",
       "      <th>0</th>\n",
       "      <td>17.99</td>\n",
       "      <td>10.38</td>\n",
       "      <td>122.80</td>\n",
       "      <td>1001.0</td>\n",
       "      <td>0.11840</td>\n",
       "      <td>0.27760</td>\n",
       "      <td>0.3001</td>\n",
       "      <td>0.14710</td>\n",
       "      <td>0.2419</td>\n",
       "      <td>0.07871</td>\n",
       "      <td>...</td>\n",
       "      <td>25.38</td>\n",
       "      <td>17.33</td>\n",
       "      <td>184.60</td>\n",
       "      <td>2019.0</td>\n",
       "      <td>0.1622</td>\n",
       "      <td>0.6656</td>\n",
       "      <td>0.7119</td>\n",
       "      <td>0.2654</td>\n",
       "      <td>0.4601</td>\n",
       "      <td>0.11890</td>\n",
       "    </tr>\n",
       "    <tr>\n",
       "      <th>1</th>\n",
       "      <td>20.57</td>\n",
       "      <td>17.77</td>\n",
       "      <td>132.90</td>\n",
       "      <td>1326.0</td>\n",
       "      <td>0.08474</td>\n",
       "      <td>0.07864</td>\n",
       "      <td>0.0869</td>\n",
       "      <td>0.07017</td>\n",
       "      <td>0.1812</td>\n",
       "      <td>0.05667</td>\n",
       "      <td>...</td>\n",
       "      <td>24.99</td>\n",
       "      <td>23.41</td>\n",
       "      <td>158.80</td>\n",
       "      <td>1956.0</td>\n",
       "      <td>0.1238</td>\n",
       "      <td>0.1866</td>\n",
       "      <td>0.2416</td>\n",
       "      <td>0.1860</td>\n",
       "      <td>0.2750</td>\n",
       "      <td>0.08902</td>\n",
       "    </tr>\n",
       "    <tr>\n",
       "      <th>2</th>\n",
       "      <td>19.69</td>\n",
       "      <td>21.25</td>\n",
       "      <td>130.00</td>\n",
       "      <td>1203.0</td>\n",
       "      <td>0.10960</td>\n",
       "      <td>0.15990</td>\n",
       "      <td>0.1974</td>\n",
       "      <td>0.12790</td>\n",
       "      <td>0.2069</td>\n",
       "      <td>0.05999</td>\n",
       "      <td>...</td>\n",
       "      <td>23.57</td>\n",
       "      <td>25.53</td>\n",
       "      <td>152.50</td>\n",
       "      <td>1709.0</td>\n",
       "      <td>0.1444</td>\n",
       "      <td>0.4245</td>\n",
       "      <td>0.4504</td>\n",
       "      <td>0.2430</td>\n",
       "      <td>0.3613</td>\n",
       "      <td>0.08758</td>\n",
       "    </tr>\n",
       "    <tr>\n",
       "      <th>3</th>\n",
       "      <td>11.42</td>\n",
       "      <td>20.38</td>\n",
       "      <td>77.58</td>\n",
       "      <td>386.1</td>\n",
       "      <td>0.14250</td>\n",
       "      <td>0.28390</td>\n",
       "      <td>0.2414</td>\n",
       "      <td>0.10520</td>\n",
       "      <td>0.2597</td>\n",
       "      <td>0.09744</td>\n",
       "      <td>...</td>\n",
       "      <td>14.91</td>\n",
       "      <td>26.50</td>\n",
       "      <td>98.87</td>\n",
       "      <td>567.7</td>\n",
       "      <td>0.2098</td>\n",
       "      <td>0.8663</td>\n",
       "      <td>0.6869</td>\n",
       "      <td>0.2575</td>\n",
       "      <td>0.6638</td>\n",
       "      <td>0.17300</td>\n",
       "    </tr>\n",
       "    <tr>\n",
       "      <th>4</th>\n",
       "      <td>20.29</td>\n",
       "      <td>14.34</td>\n",
       "      <td>135.10</td>\n",
       "      <td>1297.0</td>\n",
       "      <td>0.10030</td>\n",
       "      <td>0.13280</td>\n",
       "      <td>0.1980</td>\n",
       "      <td>0.10430</td>\n",
       "      <td>0.1809</td>\n",
       "      <td>0.05883</td>\n",
       "      <td>...</td>\n",
       "      <td>22.54</td>\n",
       "      <td>16.67</td>\n",
       "      <td>152.20</td>\n",
       "      <td>1575.0</td>\n",
       "      <td>0.1374</td>\n",
       "      <td>0.2050</td>\n",
       "      <td>0.4000</td>\n",
       "      <td>0.1625</td>\n",
       "      <td>0.2364</td>\n",
       "      <td>0.07678</td>\n",
       "    </tr>\n",
       "  </tbody>\n",
       "</table>\n",
       "<p>5 rows × 30 columns</p>\n",
       "</div>"
      ],
      "text/plain": [
       "   mean radius  mean texture  mean perimeter  mean area  mean smoothness  \\\n",
       "0        17.99         10.38          122.80     1001.0          0.11840   \n",
       "1        20.57         17.77          132.90     1326.0          0.08474   \n",
       "2        19.69         21.25          130.00     1203.0          0.10960   \n",
       "3        11.42         20.38           77.58      386.1          0.14250   \n",
       "4        20.29         14.34          135.10     1297.0          0.10030   \n",
       "\n",
       "   mean compactness  mean concavity  mean concave points  mean symmetry  \\\n",
       "0           0.27760          0.3001              0.14710         0.2419   \n",
       "1           0.07864          0.0869              0.07017         0.1812   \n",
       "2           0.15990          0.1974              0.12790         0.2069   \n",
       "3           0.28390          0.2414              0.10520         0.2597   \n",
       "4           0.13280          0.1980              0.10430         0.1809   \n",
       "\n",
       "   mean fractal dimension  ...  worst radius  worst texture  worst perimeter  \\\n",
       "0                 0.07871  ...         25.38          17.33           184.60   \n",
       "1                 0.05667  ...         24.99          23.41           158.80   \n",
       "2                 0.05999  ...         23.57          25.53           152.50   \n",
       "3                 0.09744  ...         14.91          26.50            98.87   \n",
       "4                 0.05883  ...         22.54          16.67           152.20   \n",
       "\n",
       "   worst area  worst smoothness  worst compactness  worst concavity  \\\n",
       "0      2019.0            0.1622             0.6656           0.7119   \n",
       "1      1956.0            0.1238             0.1866           0.2416   \n",
       "2      1709.0            0.1444             0.4245           0.4504   \n",
       "3       567.7            0.2098             0.8663           0.6869   \n",
       "4      1575.0            0.1374             0.2050           0.4000   \n",
       "\n",
       "   worst concave points  worst symmetry  worst fractal dimension  \n",
       "0                0.2654          0.4601                  0.11890  \n",
       "1                0.1860          0.2750                  0.08902  \n",
       "2                0.2430          0.3613                  0.08758  \n",
       "3                0.2575          0.6638                  0.17300  \n",
       "4                0.1625          0.2364                  0.07678  \n",
       "\n",
       "[5 rows x 30 columns]"
      ]
     },
     "execution_count": 3,
     "metadata": {},
     "output_type": "execute_result"
    }
   ],
   "source": [
    "pd.DataFrame(cancer.data, columns=cancer.feature_names).head()"
   ]
  },
  {
   "cell_type": "code",
   "execution_count": 4,
   "metadata": {},
   "outputs": [
    {
     "data": {
      "text/plain": [
       "VotingClassifier(estimators=[('LR', LogisticRegression(max_iter=2000)),\n",
       "                             ('KNN', KNeighborsClassifier()),\n",
       "                             ('DT', DecisionTreeClassifier()),\n",
       "                             ('DT2', DecisionTreeClassifier(max_depth=3)),\n",
       "                             ('DT3',\n",
       "                              DecisionTreeClassifier(max_depth=5,\n",
       "                                                     min_samples_split=10))],\n",
       "                 voting='soft')"
      ]
     },
     "execution_count": 4,
     "metadata": {},
     "output_type": "execute_result"
    }
   ],
   "source": [
    "# 개별 모델 생성\n",
    "lr_clf = LogisticRegression(solver = 'lbfgs', max_iter=2000)\n",
    "knn_clf = KNeighborsClassifier()\n",
    "dt_clf = DecisionTreeClassifier()\n",
    "dt2_clf = DecisionTreeClassifier(max_depth=3)\n",
    "dt3_clf = DecisionTreeClassifier(max_depth=5, min_samples_split=10)\n",
    "\n",
    "# 개별 모델을 VotingClassifier에 추가\n",
    "vo_clf = VotingClassifier(estimators=[('LR', lr_clf),\n",
    "                                     ('KNN', knn_clf),\n",
    "                                      ('DT', dt_clf),\n",
    "                                      ('DT2', dt2_clf),\n",
    "                                      ('DT3', dt3_clf)], voting = 'soft')\n",
    "\n",
    "vo_clf"
   ]
  },
  {
   "cell_type": "code",
   "execution_count": 5,
   "metadata": {},
   "outputs": [],
   "source": [
    "# 학습용/테스트용 데이터 분리\n",
    "X_train, X_test, y_train, y_test = train_test_split(cancer.data, cancer.target)"
   ]
  },
  {
   "cell_type": "code",
   "execution_count": 6,
   "metadata": {},
   "outputs": [
    {
     "name": "stderr",
     "output_type": "stream",
     "text": [
      "C:\\Anaconda3\\envs\\py36\\lib\\site-packages\\sklearn\\linear_model\\_logistic.py:764: ConvergenceWarning: lbfgs failed to converge (status=1):\n",
      "STOP: TOTAL NO. of ITERATIONS REACHED LIMIT.\n",
      "\n",
      "Increase the number of iterations (max_iter) or scale the data as shown in:\n",
      "    https://scikit-learn.org/stable/modules/preprocessing.html\n",
      "Please also refer to the documentation for alternative solver options:\n",
      "    https://scikit-learn.org/stable/modules/linear_model.html#logistic-regression\n",
      "  extra_warning_msg=_LOGISTIC_SOLVER_CONVERGENCE_MSG)\n"
     ]
    },
    {
     "data": {
      "text/plain": [
       "VotingClassifier(estimators=[('LR', LogisticRegression(max_iter=2000)),\n",
       "                             ('KNN', KNeighborsClassifier()),\n",
       "                             ('DT', DecisionTreeClassifier()),\n",
       "                             ('DT2', DecisionTreeClassifier(max_depth=3)),\n",
       "                             ('DT3',\n",
       "                              DecisionTreeClassifier(max_depth=5,\n",
       "                                                     min_samples_split=10))],\n",
       "                 voting='soft')"
      ]
     },
     "execution_count": 6,
     "metadata": {},
     "output_type": "execute_result"
    }
   ],
   "source": [
    "# 학습\n",
    "vo_clf.fit(X_train, y_train)"
   ]
  },
  {
   "cell_type": "code",
   "execution_count": 7,
   "metadata": {
    "scrolled": true
   },
   "outputs": [
    {
     "name": "stdout",
     "output_type": "stream",
     "text": [
      "학습데이터 정확도: 0.9929577464788732\n",
      "테스트데이터 정확도: 0.958041958041958\n"
     ]
    }
   ],
   "source": [
    "# 평가\n",
    "print(\"학습데이터 정확도:\", vo_clf.score(X_train, y_train))\n",
    "print(\"테스트데이터 정확도:\", vo_clf.score(X_test, y_test))"
   ]
  },
  {
   "cell_type": "code",
   "execution_count": 8,
   "metadata": {},
   "outputs": [
    {
     "data": {
      "text/plain": [
       "array([1, 1, 1, 1, 1, 1, 1, 0, 0, 1, 1, 1, 1, 0, 1, 1, 1, 0, 1, 0, 0, 1,\n",
       "       0, 0, 0, 1, 0, 1, 1, 0, 1, 1, 1, 0, 1, 1, 1, 0, 1, 0, 1, 1, 1, 0,\n",
       "       1, 0, 1, 1, 0, 1, 0, 1, 1, 0, 0, 1, 1, 1, 1, 0, 0, 0, 1, 1, 1, 0,\n",
       "       1, 0, 0, 0, 0, 1, 0, 0, 1, 0, 1, 1, 0, 1, 0, 0, 0, 1, 0, 1, 1, 1,\n",
       "       1, 0, 0, 1, 1, 0, 0, 1, 1, 1, 1, 1, 1, 1, 0, 0, 1, 0, 1, 1, 1, 0,\n",
       "       1, 1, 0, 1, 1, 0, 0, 1, 1, 0, 1, 1, 0, 0, 0, 1, 0, 1, 1, 1, 1, 1,\n",
       "       1, 1, 1, 0, 1, 1, 1, 1, 1, 1, 0])"
      ]
     },
     "execution_count": 8,
     "metadata": {},
     "output_type": "execute_result"
    }
   ],
   "source": [
    "vo_clf.predict(X_test)"
   ]
  },
  {
   "cell_type": "code",
   "execution_count": 9,
   "metadata": {},
   "outputs": [
    {
     "data": {
      "text/plain": [
       "array([[1.73717513e-03, 9.98262825e-01],\n",
       "       [1.93687648e-03, 9.98063124e-01],\n",
       "       [1.63399661e-03, 9.98366003e-01],\n",
       "       [1.97721908e-03, 9.98022781e-01],\n",
       "       [9.95790611e-03, 9.90042094e-01],\n",
       "       [1.06260126e-01, 8.93739874e-01],\n",
       "       [4.97666667e-03, 9.95023333e-01],\n",
       "       [9.01994987e-01, 9.80050131e-02],\n",
       "       [1.00000000e+00, 1.49885518e-10],\n",
       "       [9.16818554e-03, 9.90831814e-01],\n",
       "       [6.65517134e-03, 9.93344829e-01],\n",
       "       [4.36173381e-02, 9.56382662e-01],\n",
       "       [1.75653551e-03, 9.98243464e-01],\n",
       "       [9.54794273e-01, 4.52057269e-02],\n",
       "       [3.24277217e-03, 9.96757228e-01],\n",
       "       [3.49741666e-01, 6.50258334e-01],\n",
       "       [2.16204254e-02, 9.78379575e-01],\n",
       "       [8.39754587e-01, 1.60245413e-01],\n",
       "       [4.66215426e-02, 9.53378457e-01],\n",
       "       [9.99999997e-01, 3.24440827e-09],\n",
       "       [9.99999646e-01, 3.54037205e-07],\n",
       "       [1.62378307e-03, 9.98376217e-01],\n",
       "       [6.01542265e-01, 3.98457735e-01],\n",
       "       [9.99929908e-01, 7.00918086e-05],\n",
       "       [9.99999538e-01, 4.62104632e-07],\n",
       "       [8.64513268e-02, 9.13548673e-01],\n",
       "       [9.99952241e-01, 4.77592252e-05],\n",
       "       [1.90546791e-01, 8.09453209e-01],\n",
       "       [1.65791629e-03, 9.98342084e-01],\n",
       "       [9.99767260e-01, 2.32740174e-04],\n",
       "       [1.69386342e-03, 9.98306137e-01],\n",
       "       [1.66672233e-03, 9.98333278e-01],\n",
       "       [1.60809387e-03, 9.98391906e-01],\n",
       "       [9.99999457e-01, 5.42876514e-07],\n",
       "       [4.36645250e-02, 9.56335475e-01],\n",
       "       [1.71733266e-03, 9.98282667e-01],\n",
       "       [1.13852199e-02, 9.88614780e-01],\n",
       "       [9.99999887e-01, 1.13124456e-07],\n",
       "       [2.34436589e-03, 9.97655634e-01],\n",
       "       [9.99999039e-01, 9.60643201e-07],\n",
       "       [1.60625013e-03, 9.98393750e-01],\n",
       "       [1.66364798e-03, 9.98336352e-01],\n",
       "       [2.03654028e-03, 9.97963460e-01],\n",
       "       [9.99942114e-01, 5.78860041e-05],\n",
       "       [3.13509188e-01, 6.86490812e-01],\n",
       "       [1.00000000e+00, 2.29779472e-12],\n",
       "       [1.65508515e-03, 9.98344915e-01],\n",
       "       [1.60696974e-03, 9.98393030e-01],\n",
       "       [6.82934290e-01, 3.17065710e-01],\n",
       "       [1.84188406e-01, 8.15811594e-01],\n",
       "       [9.99997601e-01, 2.39895633e-06],\n",
       "       [1.61898243e-03, 9.98381018e-01],\n",
       "       [1.60066981e-03, 9.98399330e-01],\n",
       "       [9.99519122e-01, 4.80877802e-04],\n",
       "       [9.99925323e-01, 7.46771921e-05],\n",
       "       [2.14697363e-01, 7.85302637e-01],\n",
       "       [4.44745240e-02, 9.55525476e-01],\n",
       "       [4.26915920e-02, 9.57308408e-01],\n",
       "       [1.61733321e-03, 9.98382667e-01],\n",
       "       [9.88601272e-01, 1.13987281e-02],\n",
       "       [6.83811218e-01, 3.16188782e-01],\n",
       "       [9.99999999e-01, 1.29652739e-09],\n",
       "       [8.09998618e-03, 9.91900014e-01],\n",
       "       [4.50081841e-02, 9.54991816e-01],\n",
       "       [1.13882291e-01, 8.86117709e-01],\n",
       "       [1.00000000e+00, 8.37657955e-17],\n",
       "       [1.02103638e-01, 8.97896362e-01],\n",
       "       [1.00000000e+00, 1.67771430e-13],\n",
       "       [9.99998331e-01, 1.66905827e-06],\n",
       "       [9.99999421e-01, 5.79285512e-07],\n",
       "       [1.00000000e+00, 6.16333115e-11],\n",
       "       [4.20903267e-02, 9.57909673e-01],\n",
       "       [1.00000000e+00, 5.66870476e-16],\n",
       "       [1.00000000e+00, 1.26033638e-20],\n",
       "       [1.69541583e-03, 9.98304584e-01],\n",
       "       [1.00000000e+00, 6.06906408e-35],\n",
       "       [2.77719440e-01, 7.22280560e-01],\n",
       "       [4.39127277e-02, 9.56087272e-01],\n",
       "       [9.99992108e-01, 7.89186860e-06],\n",
       "       [5.62885306e-03, 9.94371147e-01],\n",
       "       [9.97797445e-01, 2.20255526e-03],\n",
       "       [9.56840508e-01, 4.31594918e-02],\n",
       "       [9.47703963e-01, 5.22960374e-02],\n",
       "       [1.60105249e-03, 9.98398948e-01],\n",
       "       [9.99999898e-01, 1.02127830e-07],\n",
       "       [1.60435235e-03, 9.98395648e-01],\n",
       "       [5.27168512e-03, 9.94728315e-01],\n",
       "       [2.57513837e-01, 7.42486163e-01],\n",
       "       [2.12006952e-03, 9.97879930e-01],\n",
       "       [9.99999970e-01, 2.96745248e-08],\n",
       "       [9.99999999e-01, 9.41354277e-10],\n",
       "       [1.60960222e-03, 9.98390398e-01],\n",
       "       [1.60510382e-03, 9.98394896e-01],\n",
       "       [9.99961585e-01, 3.84148128e-05],\n",
       "       [9.56771107e-01, 4.32288928e-02],\n",
       "       [4.16288541e-02, 9.58371146e-01],\n",
       "       [1.78936211e-03, 9.98210638e-01],\n",
       "       [5.85064627e-02, 9.41493537e-01],\n",
       "       [3.38075103e-02, 9.66192490e-01],\n",
       "       [1.62232992e-03, 9.98377670e-01],\n",
       "       [1.65118284e-03, 9.98348817e-01],\n",
       "       [7.59014566e-03, 9.92409854e-01],\n",
       "       [9.99999986e-01, 1.44054133e-08],\n",
       "       [1.00000000e+00, 1.28225331e-12],\n",
       "       [2.43927573e-03, 9.97560724e-01],\n",
       "       [9.99999788e-01, 2.12249933e-07],\n",
       "       [2.50940389e-03, 9.97490596e-01],\n",
       "       [1.66458115e-03, 9.98335419e-01],\n",
       "       [2.52984159e-01, 7.47015841e-01],\n",
       "       [1.00000000e+00, 1.74249995e-10],\n",
       "       [1.66984186e-03, 9.98330158e-01],\n",
       "       [1.60058921e-03, 9.98399411e-01],\n",
       "       [9.99980383e-01, 1.96166252e-05],\n",
       "       [6.82849165e-02, 9.31715084e-01],\n",
       "       [1.63304825e-03, 9.98366952e-01],\n",
       "       [9.99999707e-01, 2.93055655e-07],\n",
       "       [9.99999999e-01, 7.69497420e-10],\n",
       "       [1.65715056e-03, 9.98342849e-01],\n",
       "       [1.64041025e-03, 9.98359590e-01],\n",
       "       [9.88726129e-01, 1.12738712e-02],\n",
       "       [1.60883763e-03, 9.98391162e-01],\n",
       "       [3.38622656e-02, 9.66137734e-01],\n",
       "       [1.00000000e+00, 7.18053610e-15],\n",
       "       [9.99999991e-01, 8.99463168e-09],\n",
       "       [9.99999859e-01, 1.40590916e-07],\n",
       "       [5.26484188e-02, 9.47351581e-01],\n",
       "       [1.00000000e+00, 3.86781181e-15],\n",
       "       [6.89005446e-02, 9.31099455e-01],\n",
       "       [1.85595293e-03, 9.98144047e-01],\n",
       "       [1.60060368e-03, 9.98399396e-01],\n",
       "       [4.05011341e-03, 9.95949887e-01],\n",
       "       [1.62148348e-03, 9.98378517e-01],\n",
       "       [2.15096673e-03, 9.97849033e-01],\n",
       "       [2.99889122e-01, 7.00110878e-01],\n",
       "       [1.67318367e-03, 9.98326816e-01],\n",
       "       [1.00000000e+00, 9.37579793e-13],\n",
       "       [4.99703144e-01, 5.00296856e-01],\n",
       "       [3.16821271e-02, 9.68317873e-01],\n",
       "       [1.61284172e-03, 9.98387158e-01],\n",
       "       [4.39987616e-03, 9.95600124e-01],\n",
       "       [2.32200033e-03, 9.97678000e-01],\n",
       "       [1.83581092e-03, 9.98164189e-01],\n",
       "       [1.00000000e+00, 1.71052052e-16]])"
      ]
     },
     "execution_count": 9,
     "metadata": {},
     "output_type": "execute_result"
    }
   ],
   "source": [
    "vo_clf.predict_proba(X_test)"
   ]
  },
  {
   "cell_type": "code",
   "execution_count": 10,
   "metadata": {},
   "outputs": [],
   "source": [
    "# 개별 모델 정보 출력\n"
   ]
  },
  {
   "cell_type": "markdown",
   "metadata": {},
   "source": [
    "## Bagging - RandomForest"
   ]
  },
  {
   "cell_type": "code",
   "execution_count": 11,
   "metadata": {},
   "outputs": [],
   "source": [
    "from sklearn.ensemble import RandomForestClassifier\n",
    "from sklearn.model_selection import GridSearchCV"
   ]
  },
  {
   "cell_type": "code",
   "execution_count": 12,
   "metadata": {},
   "outputs": [
    {
     "name": "stdout",
     "output_type": "stream",
     "text": [
      "학습데이터 정확도: 1.0\n",
      "테스트데이터 정확도: 0.965034965034965\n"
     ]
    }
   ],
   "source": [
    "# 객체 생성\n",
    "rf_clf = RandomForestClassifier()\n",
    "rf_params = {\n",
    "    'n_estimators':[100, 300, 500],\n",
    "    'max_depth':[3,5,7],    # 위아래 합해서 9개 조합. 700개. 오래 걸려\n",
    "    'n_jobs':[-1]\n",
    "}\n",
    "\n",
    "grid_rf = GridSearchCV(rf_clf, param_grid=rf_params, cv=5)\n",
    "\n",
    "# 학습\n",
    "grid_rf.fit(X_train, y_train)\n",
    "\n",
    "# 평가\n",
    "print(\"학습데이터 정확도:\", grid_rf.score(X_train, y_train))\n",
    "print(\"테스트데이터 정확도:\", grid_rf.score(X_test, y_test))"
   ]
  },
  {
   "cell_type": "code",
   "execution_count": 13,
   "metadata": {},
   "outputs": [
    {
     "data": {
      "text/plain": [
       "{'max_depth': 7, 'n_estimators': 100, 'n_jobs': -1}"
      ]
     },
     "execution_count": 13,
     "metadata": {},
     "output_type": "execute_result"
    }
   ],
   "source": [
    "grid_rf.best_params_"
   ]
  },
  {
   "cell_type": "code",
   "execution_count": 14,
   "metadata": {},
   "outputs": [],
   "source": [
    "best_rf = grid_rf.best_estimator_"
   ]
  },
  {
   "cell_type": "code",
   "execution_count": 15,
   "metadata": {},
   "outputs": [
    {
     "data": {
      "text/plain": [
       "array([0.04038326, 0.02008657, 0.03983402, 0.02913387, 0.00849319,\n",
       "       0.00678967, 0.05552985, 0.12082429, 0.00359865, 0.00498965,\n",
       "       0.01041998, 0.0053972 , 0.01574614, 0.03803473, 0.0057295 ,\n",
       "       0.00241491, 0.00507538, 0.00687513, 0.00388284, 0.00646874,\n",
       "       0.12184415, 0.02158545, 0.12717601, 0.075134  , 0.01203001,\n",
       "       0.01644433, 0.0520546 , 0.12580976, 0.01143069, 0.00678344])"
      ]
     },
     "execution_count": 15,
     "metadata": {},
     "output_type": "execute_result"
    }
   ],
   "source": [
    "best_rf.feature_importances_"
   ]
  },
  {
   "cell_type": "code",
   "execution_count": 16,
   "metadata": {},
   "outputs": [],
   "source": [
    "import matplotlib.pyplot as plt\n",
    "import seaborn as sns\n",
    "%matplotlib inline"
   ]
  },
  {
   "cell_type": "code",
   "execution_count": 17,
   "metadata": {},
   "outputs": [],
   "source": [
    "rf_imp = pd.Series(best_rf.feature_importances_, index=cancer.feature_names)"
   ]
  },
  {
   "cell_type": "code",
   "execution_count": 18,
   "metadata": {},
   "outputs": [],
   "source": [
    "#  높은 top 10 피쳐만 시각화\n",
    "rf_imp10 = rf_imp.sort_values(ascending=False).head(10)"
   ]
  },
  {
   "cell_type": "code",
   "execution_count": 19,
   "metadata": {},
   "outputs": [
    {
     "data": {
      "text/plain": [
       "<matplotlib.axes._subplots.AxesSubplot at 0x22d68ff6550>"
      ]
     },
     "execution_count": 19,
     "metadata": {},
     "output_type": "execute_result"
    },
    {
     "data": {
      "image/png": "[encoded data removed]",
      "text/plain": [
       "<Figure size 432x288 with 1 Axes>"
      ]
     },
     "metadata": {
      "needs_background": "light"
     },
     "output_type": "display_data"
    }
   ],
   "source": [
    "rf_imp10.plot(kind='barh')"
   ]
  },
  {
   "cell_type": "code",
   "execution_count": 20,
   "metadata": {
    "scrolled": true
   },
   "outputs": [
    {
     "data": {
      "text/plain": [
       "<matplotlib.axes._subplots.AxesSubplot at 0x22d690fc048>"
      ]
     },
     "execution_count": 20,
     "metadata": {},
     "output_type": "execute_result"
    },
    {
     "data": {
      "image/png": "[encoded data removed]",
      "text/plain": [
       "<Figure size 576x432 with 1 Axes>"
      ]
     },
     "metadata": {
      "needs_background": "light"
     },
     "output_type": "display_data"
    }
   ],
   "source": [
    "plt.figure(figsize=(8,6))\n",
    "plt.title('Feature importance by Randomforest')\n",
    "sns.barplot(x=rf_imp10, y=rf_imp10.index)"
   ]
  },
  {
   "cell_type": "markdown",
   "metadata": {},
   "source": [
    "## Boosting = GBM (Gradient Boosting Machine)"
   ]
  },
  {
   "cell_type": "code",
   "execution_count": 21,
   "metadata": {},
   "outputs": [],
   "source": [
    "from sklearn.ensemble import GradientBoostingClassifier"
   ]
  },
  {
   "cell_type": "code",
   "execution_count": 22,
   "metadata": {},
   "outputs": [
    {
     "name": "stdout",
     "output_type": "stream",
     "text": [
      "학습데이터 정확도: 1.0\n",
      "테스트데이터 정확도: 0.965034965034965\n"
     ]
    }
   ],
   "source": [
    "gb_clf = GradientBoostingClassifier()\n",
    "gb_params = {\n",
    "    'n_estimators':[100, 300, 500],\n",
    "    'learning_rate':[0.05, 0.1]\n",
    "    \n",
    "    \n",
    "}\n",
    "grid_gb = GridSearchCV(gb_clf, param_grid = gb_params, cv=5)\n",
    "\n",
    "gb_clf.fit(X_train, y_train)\n",
    "print(\"학습데이터 정확도:\", gb_clf.score(X_train, y_train))\n",
    "print(\"테스트데이터 정확도:\", gb_clf.score(X_test, y_test))"
   ]
  },
  {
   "cell_type": "markdown",
   "metadata": {},
   "source": [
    "## XGBoost 실습"
   ]
  },
  {
   "cell_type": "code",
   "execution_count": 24,
   "metadata": {},
   "outputs": [],
   "source": [
    "from xgboost import XGBClassifier"
   ]
  },
  {
   "cell_type": "code",
   "execution_count": 25,
   "metadata": {},
   "outputs": [],
   "source": [
    "xgb_clf = XGBClassifier()"
   ]
  },
  {
   "cell_type": "code",
   "execution_count": 29,
   "metadata": {},
   "outputs": [
    {
     "name": "stdout",
     "output_type": "stream",
     "text": [
      "[0]\tvalidation_0-logloss:0.47194\n",
      "Will train until validation_0-logloss hasn't improved in 100 rounds.\n",
      "[1]\tvalidation_0-logloss:0.35478\n",
      "[2]\tvalidation_0-logloss:0.27497\n",
      "[3]\tvalidation_0-logloss:0.22052\n",
      "[4]\tvalidation_0-logloss:0.18618\n",
      "[5]\tvalidation_0-logloss:0.15824\n",
      "[6]\tvalidation_0-logloss:0.13583\n",
      "[7]\tvalidation_0-logloss:0.12004\n",
      "[8]\tvalidation_0-logloss:0.10744\n",
      "[9]\tvalidation_0-logloss:0.09930\n",
      "[10]\tvalidation_0-logloss:0.09004\n",
      "[11]\tvalidation_0-logloss:0.08879\n",
      "[12]\tvalidation_0-logloss:0.08565\n",
      "[13]\tvalidation_0-logloss:0.08383\n",
      "[14]\tvalidation_0-logloss:0.08062\n",
      "[15]\tvalidation_0-logloss:0.08071\n",
      "[16]\tvalidation_0-logloss:0.07789\n",
      "[17]\tvalidation_0-logloss:0.07595\n",
      "[18]\tvalidation_0-logloss:0.07558\n",
      "[19]\tvalidation_0-logloss:0.07405\n",
      "[20]\tvalidation_0-logloss:0.07396\n",
      "[21]\tvalidation_0-logloss:0.07338\n",
      "[22]\tvalidation_0-logloss:0.07273\n",
      "[23]\tvalidation_0-logloss:0.07141\n",
      "[24]\tvalidation_0-logloss:0.07115\n",
      "[25]\tvalidation_0-logloss:0.07240\n",
      "[26]\tvalidation_0-logloss:0.07373\n",
      "[27]\tvalidation_0-logloss:0.07388\n",
      "[28]\tvalidation_0-logloss:0.07179\n",
      "[29]\tvalidation_0-logloss:0.07236\n",
      "[30]\tvalidation_0-logloss:0.07193\n",
      "[31]\tvalidation_0-logloss:0.07184\n",
      "[32]\tvalidation_0-logloss:0.07018\n",
      "[33]\tvalidation_0-logloss:0.07181\n",
      "[34]\tvalidation_0-logloss:0.07289\n",
      "[35]\tvalidation_0-logloss:0.07199\n",
      "[36]\tvalidation_0-logloss:0.07161\n",
      "[37]\tvalidation_0-logloss:0.07271\n",
      "[38]\tvalidation_0-logloss:0.07230\n",
      "[39]\tvalidation_0-logloss:0.07076\n",
      "[40]\tvalidation_0-logloss:0.07021\n",
      "[41]\tvalidation_0-logloss:0.06971\n",
      "[42]\tvalidation_0-logloss:0.06959\n",
      "[43]\tvalidation_0-logloss:0.07008\n",
      "[44]\tvalidation_0-logloss:0.07025\n",
      "[45]\tvalidation_0-logloss:0.06992\n",
      "[46]\tvalidation_0-logloss:0.06990\n",
      "[47]\tvalidation_0-logloss:0.07043\n",
      "[48]\tvalidation_0-logloss:0.06973\n",
      "[49]\tvalidation_0-logloss:0.07026\n",
      "[50]\tvalidation_0-logloss:0.07014\n",
      "[51]\tvalidation_0-logloss:0.06938\n",
      "[52]\tvalidation_0-logloss:0.07022\n",
      "[53]\tvalidation_0-logloss:0.06956\n",
      "[54]\tvalidation_0-logloss:0.06932\n",
      "[55]\tvalidation_0-logloss:0.06880\n",
      "[56]\tvalidation_0-logloss:0.06927\n",
      "[57]\tvalidation_0-logloss:0.06917\n",
      "[58]\tvalidation_0-logloss:0.06849\n",
      "[59]\tvalidation_0-logloss:0.06907\n",
      "[60]\tvalidation_0-logloss:0.06847\n",
      "[61]\tvalidation_0-logloss:0.06862\n",
      "[62]\tvalidation_0-logloss:0.06941\n",
      "[63]\tvalidation_0-logloss:0.06907\n",
      "[64]\tvalidation_0-logloss:0.06884\n",
      "[65]\tvalidation_0-logloss:0.06828\n",
      "[66]\tvalidation_0-logloss:0.06870\n",
      "[67]\tvalidation_0-logloss:0.06846\n",
      "[68]\tvalidation_0-logloss:0.06790\n",
      "[69]\tvalidation_0-logloss:0.06804\n",
      "[70]\tvalidation_0-logloss:0.06751\n",
      "[71]\tvalidation_0-logloss:0.06804\n",
      "[72]\tvalidation_0-logloss:0.06817\n",
      "[73]\tvalidation_0-logloss:0.06860\n",
      "[74]\tvalidation_0-logloss:0.06852\n",
      "[75]\tvalidation_0-logloss:0.06867\n",
      "[76]\tvalidation_0-logloss:0.06846\n",
      "[77]\tvalidation_0-logloss:0.06817\n",
      "[78]\tvalidation_0-logloss:0.06856\n",
      "[79]\tvalidation_0-logloss:0.06834\n",
      "[80]\tvalidation_0-logloss:0.06881\n",
      "[81]\tvalidation_0-logloss:0.06842\n",
      "[82]\tvalidation_0-logloss:0.06853\n",
      "[83]\tvalidation_0-logloss:0.06862\n",
      "[84]\tvalidation_0-logloss:0.06903\n",
      "[85]\tvalidation_0-logloss:0.06856\n",
      "[86]\tvalidation_0-logloss:0.06903\n",
      "[87]\tvalidation_0-logloss:0.06888\n",
      "[88]\tvalidation_0-logloss:0.06844\n",
      "[89]\tvalidation_0-logloss:0.06885\n",
      "[90]\tvalidation_0-logloss:0.06823\n",
      "[91]\tvalidation_0-logloss:0.06833\n",
      "[92]\tvalidation_0-logloss:0.06894\n",
      "[93]\tvalidation_0-logloss:0.06905\n",
      "[94]\tvalidation_0-logloss:0.06949\n",
      "[95]\tvalidation_0-logloss:0.06905\n",
      "[96]\tvalidation_0-logloss:0.06945\n",
      "[97]\tvalidation_0-logloss:0.06902\n",
      "[98]\tvalidation_0-logloss:0.06888\n",
      "[99]\tvalidation_0-logloss:0.06884\n"
     ]
    },
    {
     "data": {
      "text/plain": [
       "XGBClassifier(base_score=0.5, booster='gbtree', colsample_bylevel=1,\n",
       "              colsample_bynode=1, colsample_bytree=1, gamma=0, gpu_id=-1,\n",
       "              importance_type='gain', interaction_constraints='',\n",
       "              learning_rate=0.300000012, max_delta_step=0, max_depth=6,\n",
       "              min_child_weight=1, missing=nan, monotone_constraints='()',\n",
       "              n_estimators=100, n_jobs=0, num_parallel_tree=1, random_state=0,\n",
       "              reg_alpha=0, reg_lambda=1, scale_pos_weight=1, subsample=1,\n",
       "              tree_method='exact', validate_parameters=1, verbosity=None)"
      ]
     },
     "execution_count": 29,
     "metadata": {},
     "output_type": "execute_result"
    }
   ],
   "source": [
    "xgb_clf.fit(X_train, y_train, early_stopping_rounds=100,\n",
    "           eval_set=[(X_test, y_test)], eval_metric='logloss' )"
   ]
  },
  {
   "cell_type": "code",
   "execution_count": 27,
   "metadata": {},
   "outputs": [
    {
     "data": {
      "text/plain": [
       "0.972027972027972"
      ]
     },
     "execution_count": 27,
     "metadata": {},
     "output_type": "execute_result"
    }
   ],
   "source": [
    "xgb_clf.score(X_test, y_test)"
   ]
  },
  {
   "cell_type": "code",
   "execution_count": 33,
   "metadata": {
    "scrolled": true
   },
   "outputs": [],
   "source": [
    "feat_imp = pd.Series(xgb_clf.feature_importances_, index=cancer.feature_names)"
   ]
  },
  {
   "cell_type": "code",
   "execution_count": 34,
   "metadata": {},
   "outputs": [
    {
     "data": {
      "text/plain": [
       "<matplotlib.axes._subplots.AxesSubplot at 0x22d6a5141d0>"
      ]
     },
     "execution_count": 34,
     "metadata": {},
     "output_type": "execute_result"
    },
    {
     "data": {
      "image/png": "[encoded data removed]",
      "text/plain": [
       "<Figure size 432x288 with 1 Axes>"
      ]
     },
     "metadata": {
      "needs_background": "light"
     },
     "output_type": "display_data"
    }
   ],
   "source": [
    "feat_imp.plot(kind='barh')"
   ]
  },
  {
   "cell_type": "code",
   "execution_count": 35,
   "metadata": {},
   "outputs": [
    {
     "data": {
      "text/plain": [
       "<matplotlib.axes._subplots.AxesSubplot at 0x22d6a697390>"
      ]
     },
     "execution_count": 35,
     "metadata": {},
     "output_type": "execute_result"
    },
    {
     "data": {
      "image/png": "[encoded data removed]",
      "text/plain": [
       "<Figure size 432x288 with 1 Axes>"
      ]
     },
     "metadata": {
      "needs_background": "light"
     },
     "output_type": "display_data"
    }
   ],
   "source": [
    "from xgboost import plot_importance\n",
    "plot_importance(xgb_clf)"
   ]
  },
  {
   "cell_type": "code",
   "execution_count": null,
   "metadata": {},
   "outputs": [],
   "source": []
  }
 ],
 "metadata": {
  "kernelspec": {
   "display_name": "Python 3",
   "language": "python",
   "name": "python3"
  },
  "language_info": {
   "codemirror_mode": {
    "name": "ipython",
    "version": 3
   },
   "file_extension": ".py",
   "mimetype": "text/x-python",
   "name": "python",
   "nbconvert_exporter": "python",
   "pygments_lexer": "ipython3",
   "version": "3.6.10"
  },
  "toc": {
   "base_numbering": 1,
   "nav_menu": {},
   "number_sections": false,
   "sideBar": true,
   "skip_h1_title": false,
   "title_cell": "Table of Contents",
   "title_sidebar": "Contents",
   "toc_cell": false,
   "toc_position": {},
   "toc_section_display": true,
   "toc_window_display": false
  }
 },
 "nbformat": 4,
 "nbformat_minor": 4
}
