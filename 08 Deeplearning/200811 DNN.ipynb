{
 "cells": [
  {
   "cell_type": "code",
   "execution_count": 3,
   "metadata": {},
   "outputs": [],
   "source": [
    "from sklearn.datasets import load_iris\n",
    "\n",
    "iris = load_iris()\n",
    "X, y = iris.data, iris.target"
   ]
  },
  {
   "cell_type": "code",
   "execution_count": 5,
   "metadata": {},
   "outputs": [],
   "source": [
    "from sklearn.model_selection import train_test_split\n",
    "\n",
    "X_train, X_test, y_train, y_test = train_test_split(X, y, test_size=0.3, random_state=0)"
   ]
  },
  {
   "cell_type": "code",
   "execution_count": null,
   "metadata": {},
   "outputs": [],
   "source": [
    "from keras.models import Sequential\n",
    "from keras.layers import Dense\n",
    "\n",
    "model = Sequential()\n",
    "model.add(Dense(units=8, input_dim=4, ))"
   ]
  },
  {
   "cell_type": "code",
   "execution_count": null,
   "metadata": {},
   "outputs": [],
   "source": []
  },
  {
   "cell_type": "code",
   "execution_count": null,
   "metadata": {},
   "outputs": [],
   "source": []
  },
  {
   "cell_type": "markdown",
   "metadata": {},
   "source": [
    "## mnist"
   ]
  },
  {
   "cell_type": "code",
   "execution_count": 7,
   "metadata": {
    "scrolled": true
   },
   "outputs": [
    {
     "name": "stderr",
     "output_type": "stream",
     "text": [
      "Using TensorFlow backend.\n",
      "C:\\Anaconda3\\envs\\py36\\lib\\site-packages\\tensorflow\\python\\framework\\dtypes.py:517: FutureWarning: Passing (type, 1) or '1type' as a synonym of type is deprecated; in a future version of numpy, it will be understood as (type, (1,)) / '(1,)type'.\n",
      "  _np_qint8 = np.dtype([(\"qint8\", np.int8, 1)])\n",
      "C:\\Anaconda3\\envs\\py36\\lib\\site-packages\\tensorflow\\python\\framework\\dtypes.py:518: FutureWarning: Passing (type, 1) or '1type' as a synonym of type is deprecated; in a future version of numpy, it will be understood as (type, (1,)) / '(1,)type'.\n",
      "  _np_quint8 = np.dtype([(\"quint8\", np.uint8, 1)])\n",
      "C:\\Anaconda3\\envs\\py36\\lib\\site-packages\\tensorflow\\python\\framework\\dtypes.py:519: FutureWarning: Passing (type, 1) or '1type' as a synonym of type is deprecated; in a future version of numpy, it will be understood as (type, (1,)) / '(1,)type'.\n",
      "  _np_qint16 = np.dtype([(\"qint16\", np.int16, 1)])\n",
      "C:\\Anaconda3\\envs\\py36\\lib\\site-packages\\tensorflow\\python\\framework\\dtypes.py:520: FutureWarning: Passing (type, 1) or '1type' as a synonym of type is deprecated; in a future version of numpy, it will be understood as (type, (1,)) / '(1,)type'.\n",
      "  _np_quint16 = np.dtype([(\"quint16\", np.uint16, 1)])\n",
      "C:\\Anaconda3\\envs\\py36\\lib\\site-packages\\tensorflow\\python\\framework\\dtypes.py:521: FutureWarning: Passing (type, 1) or '1type' as a synonym of type is deprecated; in a future version of numpy, it will be understood as (type, (1,)) / '(1,)type'.\n",
      "  _np_qint32 = np.dtype([(\"qint32\", np.int32, 1)])\n",
      "C:\\Anaconda3\\envs\\py36\\lib\\site-packages\\tensorflow\\python\\framework\\dtypes.py:526: FutureWarning: Passing (type, 1) or '1type' as a synonym of type is deprecated; in a future version of numpy, it will be understood as (type, (1,)) / '(1,)type'.\n",
      "  np_resource = np.dtype([(\"resource\", np.ubyte, 1)])\n"
     ]
    }
   ],
   "source": [
    "import keras\n",
    "from sklearn.datasets import fetch_openml\n",
    "import numpy as np\n",
    "\n",
    "mnist = fetch_openml(\"mnist_784\", version=1)"
   ]
  },
  {
   "cell_type": "code",
   "execution_count": 8,
   "metadata": {
    "scrolled": false
   },
   "outputs": [],
   "source": [
    "X = mnist.data\n",
    "y_tmp = mnist.target.astype(np.int)"
   ]
  },
  {
   "cell_type": "code",
   "execution_count": 9,
   "metadata": {},
   "outputs": [
    {
     "data": {
      "text/plain": [
       "array([0, 1, 2, 3, 4, 5, 6, 7, 8, 9])"
      ]
     },
     "execution_count": 9,
     "metadata": {},
     "output_type": "execute_result"
    }
   ],
   "source": [
    "np.unique(y_tmp)"
   ]
  },
  {
   "cell_type": "code",
   "execution_count": 10,
   "metadata": {},
   "outputs": [],
   "source": [
    "from keras.utils import to_categorical\n",
    "\n",
    "y = to_categorical(y_tmp, 10)"
   ]
  },
  {
   "cell_type": "code",
   "execution_count": 11,
   "metadata": {},
   "outputs": [],
   "source": [
    "from sklearn.model_selection import train_test_split\n",
    "\n",
    "X_train, X_test, y_train, y_test = train_test_split(X, y, test_size=0.3, random_state=1)"
   ]
  },
  {
   "cell_type": "code",
   "execution_count": 12,
   "metadata": {},
   "outputs": [
    {
     "data": {
      "text/plain": [
       "49000"
      ]
     },
     "execution_count": 12,
     "metadata": {},
     "output_type": "execute_result"
    }
   ],
   "source": [
    "len(X_train)"
   ]
  },
  {
   "cell_type": "code",
   "execution_count": 13,
   "metadata": {},
   "outputs": [
    {
     "data": {
      "text/plain": [
       "21000"
      ]
     },
     "execution_count": 13,
     "metadata": {},
     "output_type": "execute_result"
    }
   ],
   "source": [
    "len(X_test)"
   ]
  },
  {
   "cell_type": "code",
   "execution_count": 14,
   "metadata": {},
   "outputs": [
    {
     "data": {
      "text/plain": [
       "(49000, 784)"
      ]
     },
     "execution_count": 14,
     "metadata": {},
     "output_type": "execute_result"
    }
   ],
   "source": [
    "X_train.shape\n",
    "# feature 개수 = 가로28 * 세로28 * 색상채널1(흑백) = 784 pixels"
   ]
  },
  {
   "cell_type": "code",
   "execution_count": 16,
   "metadata": {},
   "outputs": [
    {
     "data": {
      "text/plain": [
       "(49000, 10)"
      ]
     },
     "execution_count": 16,
     "metadata": {},
     "output_type": "execute_result"
    }
   ],
   "source": [
    "y_train.shape\n",
    "# class 개수=10"
   ]
  },
  {
   "cell_type": "code",
   "execution_count": 17,
   "metadata": {},
   "outputs": [],
   "source": [
    "# 모델 구축\n",
    "\n",
    "from keras.models import Sequential\n",
    "from keras.layers import Dense\n",
    "\n",
    "model = Sequential()\n",
    "model.add(Dense(input_dim=784, units=20, activation='relu'))    # 입력층 feature 개수, units는 마음대로\n",
    "model.add(Dense(units=15, activation='relu'))    # 활성화함수 relu 아니면 다른거 할 게 없어. 성능도, 시간도.\n",
    "model.add(Dense(units=10, activation='softmax'))    # 출력층은 class 개수"
   ]
  },
  {
   "cell_type": "code",
   "execution_count": 18,
   "metadata": {},
   "outputs": [],
   "source": [
    "model.compile(loss='categorical_crossentropy', \n",
    "              optimizer=\"adam\", \n",
    "              metrics=[\"accuracy\"])\n",
    "# 손실함수는 분류이므로 categorical_crossentropy (이진분류면 binary_)\n",
    "# 손실함수가 더 있지만, 정형화되어있어. 분류 문제면 위처럼.\n",
    "# optimizer도. 성능, 시간 면에서.\n",
    "# 노드갯수, 배치 등을 튜닝하지."
   ]
  },
  {
   "cell_type": "code",
   "execution_count": 19,
   "metadata": {},
   "outputs": [
    {
     "name": "stdout",
     "output_type": "stream",
     "text": [
      "Epoch 1/10\n",
      " - 3s - loss: 4.0735 - acc: 0.5523\n",
      "Epoch 2/10\n",
      " - 2s - loss: 0.9189 - acc: 0.7603\n",
      "Epoch 3/10\n",
      " - 2s - loss: 0.6627 - acc: 0.8353\n",
      "Epoch 4/10\n",
      " - 2s - loss: 0.5579 - acc: 0.8621\n",
      "Epoch 5/10\n",
      " - 2s - loss: 0.4680 - acc: 0.8829\n",
      "Epoch 6/10\n",
      " - 2s - loss: 0.3914 - acc: 0.8999\n",
      "Epoch 7/10\n",
      " - 2s - loss: 0.3392 - acc: 0.9121\n",
      "Epoch 8/10\n",
      " - 2s - loss: 0.3009 - acc: 0.9205\n",
      "Epoch 9/10\n",
      " - 2s - loss: 0.2843 - acc: 0.9242\n",
      "Epoch 10/10\n",
      " - 2s - loss: 0.2530 - acc: 0.9313\n"
     ]
    },
    {
     "data": {
      "text/plain": [
       "<keras.callbacks.History at 0x251b20996a0>"
      ]
     },
     "execution_count": 19,
     "metadata": {},
     "output_type": "execute_result"
    }
   ],
   "source": [
    "# 모델 학습\n",
    "\n",
    "model.fit(X_train, y_train, epochs=10, batch_size=100, verbose=2)"
   ]
  },
  {
   "cell_type": "code",
   "execution_count": 20,
   "metadata": {},
   "outputs": [
    {
     "name": "stdout",
     "output_type": "stream",
     "text": [
      "Epoch 1/100\n",
      " - 2s - loss: 0.2369 - acc: 0.9363\n",
      "Epoch 2/100\n",
      " - 2s - loss: 0.2179 - acc: 0.9387\n",
      "Epoch 3/100\n",
      " - 2s - loss: 0.2033 - acc: 0.9438\n",
      "Epoch 4/100\n",
      " - 2s - loss: 0.1933 - acc: 0.9456\n",
      "Epoch 5/100\n",
      " - 2s - loss: 0.1848 - acc: 0.9482\n",
      "Epoch 6/100\n",
      " - 2s - loss: 0.1759 - acc: 0.9510\n",
      "Epoch 7/100\n",
      " - 2s - loss: 0.1710 - acc: 0.9521\n",
      "Epoch 8/100\n",
      " - 2s - loss: 0.1636 - acc: 0.9540\n",
      "Epoch 9/100\n",
      " - 2s - loss: 0.1611 - acc: 0.9548\n",
      "Epoch 10/100\n",
      " - 2s - loss: 0.1558 - acc: 0.9564\n",
      "Epoch 11/100\n",
      " - 2s - loss: 0.1473 - acc: 0.9583\n",
      "Epoch 12/100\n",
      " - 2s - loss: 0.1448 - acc: 0.9584\n",
      "Epoch 13/100\n",
      " - 2s - loss: 0.1369 - acc: 0.9603\n",
      "Epoch 14/100\n",
      " - 2s - loss: 0.1383 - acc: 0.9598\n",
      "Epoch 15/100\n",
      " - 2s - loss: 0.1355 - acc: 0.9611\n",
      "Epoch 16/100\n",
      " - 2s - loss: 0.1301 - acc: 0.9631\n",
      "Epoch 17/100\n",
      " - 2s - loss: 0.1263 - acc: 0.9642\n",
      "Epoch 18/100\n",
      " - 2s - loss: 0.1250 - acc: 0.9642\n",
      "Epoch 19/100\n",
      " - 2s - loss: 0.1238 - acc: 0.9644\n",
      "Epoch 20/100\n",
      " - 2s - loss: 0.1251 - acc: 0.9637\n",
      "Epoch 21/100\n",
      " - 2s - loss: 0.1169 - acc: 0.9657\n",
      "Epoch 22/100\n",
      " - 2s - loss: 0.1139 - acc: 0.9674\n",
      "Epoch 23/100\n",
      " - 2s - loss: 0.1141 - acc: 0.9671\n",
      "Epoch 24/100\n",
      " - 2s - loss: 0.1131 - acc: 0.9677\n",
      "Epoch 25/100\n",
      " - 2s - loss: 0.1107 - acc: 0.9681\n",
      "Epoch 26/100\n",
      " - 2s - loss: 0.1087 - acc: 0.9689\n",
      "Epoch 27/100\n",
      " - 2s - loss: 0.1096 - acc: 0.9678\n",
      "Epoch 28/100\n",
      " - 2s - loss: 0.1037 - acc: 0.9698\n",
      "Epoch 29/100\n",
      " - 2s - loss: 0.1076 - acc: 0.9683\n",
      "Epoch 30/100\n",
      " - 2s - loss: 0.1018 - acc: 0.9704\n",
      "Epoch 31/100\n",
      " - 2s - loss: 0.0979 - acc: 0.9717\n",
      "Epoch 32/100\n",
      " - 2s - loss: 0.1034 - acc: 0.9703\n",
      "Epoch 33/100\n",
      " - 2s - loss: 0.0997 - acc: 0.9706\n",
      "Epoch 34/100\n",
      " - 2s - loss: 0.0980 - acc: 0.9708\n",
      "Epoch 35/100\n",
      " - 2s - loss: 0.1006 - acc: 0.9703\n",
      "Epoch 36/100\n",
      " - 2s - loss: 0.0938 - acc: 0.9721\n",
      "Epoch 37/100\n",
      " - 2s - loss: 0.0967 - acc: 0.9712\n",
      "Epoch 38/100\n",
      " - 2s - loss: 0.0917 - acc: 0.9736\n",
      "Epoch 39/100\n",
      " - 2s - loss: 0.0967 - acc: 0.9719\n",
      "Epoch 40/100\n",
      " - 2s - loss: 0.0896 - acc: 0.9734\n",
      "Epoch 41/100\n",
      " - 2s - loss: 0.0918 - acc: 0.9733\n",
      "Epoch 42/100\n",
      " - 2s - loss: 0.0893 - acc: 0.9745\n",
      "Epoch 43/100\n",
      " - 2s - loss: 0.0901 - acc: 0.9730\n",
      "Epoch 44/100\n",
      " - 2s - loss: 0.0869 - acc: 0.9748\n",
      "Epoch 45/100\n",
      " - 2s - loss: 0.0907 - acc: 0.9738\n",
      "Epoch 46/100\n",
      " - 2s - loss: 0.0852 - acc: 0.9751\n",
      "Epoch 47/100\n",
      " - 2s - loss: 0.0838 - acc: 0.9750\n",
      "Epoch 48/100\n",
      " - 2s - loss: 0.0870 - acc: 0.9740\n",
      "Epoch 49/100\n",
      " - 2s - loss: 0.0854 - acc: 0.9746\n",
      "Epoch 50/100\n",
      " - 2s - loss: 0.0834 - acc: 0.9762\n",
      "Epoch 51/100\n",
      " - 2s - loss: 0.0830 - acc: 0.9754\n",
      "Epoch 52/100\n",
      " - 2s - loss: 0.0802 - acc: 0.9768\n",
      "Epoch 53/100\n",
      " - 2s - loss: 0.0851 - acc: 0.9749\n",
      "Epoch 54/100\n",
      " - 2s - loss: 0.0796 - acc: 0.9770\n",
      "Epoch 55/100\n",
      " - 2s - loss: 0.0804 - acc: 0.9763\n",
      "Epoch 56/100\n",
      " - 2s - loss: 0.0819 - acc: 0.9759\n",
      "Epoch 57/100\n",
      " - 2s - loss: 0.0802 - acc: 0.9770\n",
      "Epoch 58/100\n",
      " - 2s - loss: 0.0743 - acc: 0.9777\n",
      "Epoch 59/100\n",
      " - 2s - loss: 0.0817 - acc: 0.9760\n",
      "Epoch 60/100\n",
      " - 2s - loss: 0.0762 - acc: 0.9777\n",
      "Epoch 61/100\n",
      " - 2s - loss: 0.0804 - acc: 0.9760\n",
      "Epoch 62/100\n",
      " - 2s - loss: 0.0759 - acc: 0.9775\n",
      "Epoch 63/100\n",
      " - 2s - loss: 0.0794 - acc: 0.9762\n",
      "Epoch 64/100\n",
      " - 2s - loss: 0.0740 - acc: 0.9786\n",
      "Epoch 65/100\n",
      " - 2s - loss: 0.0765 - acc: 0.9774\n",
      "Epoch 66/100\n",
      " - 2s - loss: 0.0743 - acc: 0.9777\n",
      "Epoch 67/100\n",
      " - 2s - loss: 0.0727 - acc: 0.9785\n",
      "Epoch 68/100\n",
      " - 2s - loss: 0.0707 - acc: 0.9789\n",
      "Epoch 69/100\n",
      " - 2s - loss: 0.0745 - acc: 0.9781\n",
      "Epoch 70/100\n",
      " - 2s - loss: 0.0738 - acc: 0.9780\n",
      "Epoch 71/100\n",
      " - 2s - loss: 0.0713 - acc: 0.9796\n",
      "Epoch 72/100\n",
      " - 2s - loss: 0.0723 - acc: 0.9785\n",
      "Epoch 73/100\n",
      " - 2s - loss: 0.0710 - acc: 0.9793\n",
      "Epoch 74/100\n",
      " - 2s - loss: 0.0719 - acc: 0.9789\n",
      "Epoch 75/100\n",
      " - 2s - loss: 0.0712 - acc: 0.9785\n",
      "Epoch 76/100\n",
      " - 2s - loss: 0.0697 - acc: 0.9795\n",
      "Epoch 77/100\n",
      " - 2s - loss: 0.0711 - acc: 0.9793\n",
      "Epoch 78/100\n",
      " - 2s - loss: 0.0702 - acc: 0.9788\n",
      "Epoch 79/100\n",
      " - 2s - loss: 0.0683 - acc: 0.9799\n",
      "Epoch 80/100\n",
      " - 2s - loss: 0.0697 - acc: 0.9793\n",
      "Epoch 81/100\n",
      " - 2s - loss: 0.0665 - acc: 0.9808\n",
      "Epoch 82/100\n",
      " - 2s - loss: 0.0708 - acc: 0.9789\n",
      "Epoch 83/100\n",
      " - 2s - loss: 0.0692 - acc: 0.9796\n",
      "Epoch 84/100\n",
      " - 2s - loss: 0.0668 - acc: 0.9812\n",
      "Epoch 85/100\n",
      " - 2s - loss: 0.0653 - acc: 0.9816\n",
      "Epoch 86/100\n",
      " - 2s - loss: 0.0665 - acc: 0.9802\n",
      "Epoch 87/100\n",
      " - 2s - loss: 0.0687 - acc: 0.9799\n",
      "Epoch 88/100\n",
      " - 2s - loss: 0.0692 - acc: 0.9804\n",
      "Epoch 89/100\n",
      " - 2s - loss: 0.0685 - acc: 0.9792\n",
      "Epoch 90/100\n",
      " - 2s - loss: 0.0681 - acc: 0.9802\n",
      "Epoch 91/100\n",
      " - 2s - loss: 0.0639 - acc: 0.9819\n",
      "Epoch 92/100\n",
      " - 2s - loss: 0.0632 - acc: 0.9816\n",
      "Epoch 93/100\n",
      " - 2s - loss: 0.0644 - acc: 0.9813\n",
      "Epoch 94/100\n",
      " - 2s - loss: 0.0626 - acc: 0.9815\n",
      "Epoch 95/100\n",
      " - 2s - loss: 0.0666 - acc: 0.9804\n",
      "Epoch 96/100\n",
      " - 2s - loss: 0.0636 - acc: 0.9814\n",
      "Epoch 97/100\n",
      " - 2s - loss: 0.0656 - acc: 0.9804\n",
      "Epoch 98/100\n",
      " - 2s - loss: 0.0626 - acc: 0.9813\n",
      "Epoch 99/100\n",
      " - 2s - loss: 0.0651 - acc: 0.9806\n",
      "Epoch 100/100\n",
      " - 2s - loss: 0.0620 - acc: 0.9825\n"
     ]
    },
    {
     "data": {
      "text/plain": [
       "<keras.callbacks.History at 0x251c4f92b70>"
      ]
     },
     "execution_count": 20,
     "metadata": {},
     "output_type": "execute_result"
    }
   ],
   "source": [
    "# 모델 학습\n",
    "\n",
    "model.fit(X_train, y_train, epochs=100, batch_size=100, verbose=2)"
   ]
  },
  {
   "cell_type": "code",
   "execution_count": 21,
   "metadata": {},
   "outputs": [
    {
     "name": "stdout",
     "output_type": "stream",
     "text": [
      "21000/21000 [==============================] - 1s 47us/step\n",
      "손실= 0.332155082054791\n",
      "정확도= 0.9394761904761905\n"
     ]
    }
   ],
   "source": [
    "# 평가\n",
    "\n",
    "loss, acc = model.evaluate(X_test, y_test)\n",
    "print(\"손실=\", loss)\n",
    "print(\"정확도=\", acc)"
   ]
  },
  {
   "cell_type": "code",
   "execution_count": 22,
   "metadata": {},
   "outputs": [
    {
     "data": {
      "text/plain": [
       "(21000, 10)"
      ]
     },
     "execution_count": 22,
     "metadata": {},
     "output_type": "execute_result"
    }
   ],
   "source": [
    "y_test.shape"
   ]
  },
  {
   "cell_type": "code",
   "execution_count": 23,
   "metadata": {},
   "outputs": [
    {
     "data": {
      "text/plain": [
       "array([0., 0., 0., 0., 0., 0., 1., 0., 0., 0.], dtype=float32)"
      ]
     },
     "execution_count": 23,
     "metadata": {},
     "output_type": "execute_result"
    }
   ],
   "source": [
    "y_test[0]"
   ]
  },
  {
   "cell_type": "code",
   "execution_count": 26,
   "metadata": {},
   "outputs": [],
   "source": [
    "y_pred = model.predict(X_test)  # 확률값\n",
    "y_pred_class = model.predict_classes(X_test)    # 클래스"
   ]
  },
  {
   "cell_type": "code",
   "execution_count": 28,
   "metadata": {},
   "outputs": [
    {
     "name": "stdout",
     "output_type": "stream",
     "text": [
      "[8 2 7]\n",
      "[[0. 0. 0. 0. 0. 0. 1. 0. 0. 0.]\n",
      " [0. 0. 1. 0. 0. 0. 0. 0. 0. 0.]\n",
      " [0. 0. 0. 0. 0. 0. 0. 1. 0. 0.]]\n"
     ]
    }
   ],
   "source": [
    "print(y_pred_class[:3])\n",
    "print(y_test[:3])"
   ]
  },
  {
   "cell_type": "code",
   "execution_count": 30,
   "metadata": {},
   "outputs": [
    {
     "name": "stdout",
     "output_type": "stream",
     "text": [
      "[[2000    0    5    3    1   22   23    1   17    4]\n",
      " [   1 2264   26   11    3    5    5   35   38    2]\n",
      " [  12    3 1998   37    6   10   11   14   26    7]\n",
      " [   3    0   17 2004    1   76    3   18   23   20]\n",
      " [   9    8   13    1 1872    4   43   16   12   85]\n",
      " [  16    1    3   29    5 1804   15    6   18   26]\n",
      " [  20    1    4    0    8   36 1907    0   22    1]\n",
      " [   8    3   21   16    2    5    0 2076    1   24]\n",
      " [  11    7    6   45    6   35   13    7 1869   49]\n",
      " [   8    1    3   16   26   16    1   39   11 1935]]\n",
      "              precision    recall  f1-score   support\n",
      "\n",
      "           0       0.96      0.96      0.96      2076\n",
      "           1       0.99      0.95      0.97      2390\n",
      "           2       0.95      0.94      0.95      2124\n",
      "           3       0.93      0.93      0.93      2165\n",
      "           4       0.97      0.91      0.94      2063\n",
      "           5       0.90      0.94      0.92      1923\n",
      "           6       0.94      0.95      0.95      1999\n",
      "           7       0.94      0.96      0.95      2156\n",
      "           8       0.92      0.91      0.92      2048\n",
      "           9       0.90      0.94      0.92      2056\n",
      "\n",
      "    accuracy                           0.94     21000\n",
      "   macro avg       0.94      0.94      0.94     21000\n",
      "weighted avg       0.94      0.94      0.94     21000\n",
      "\n"
     ]
    }
   ],
   "source": [
    "import sklearn.metrics as mt\n",
    "y_test_class = np.argmax(y_test, axis=1)    # 원핫 디코딩\n",
    "\n",
    "print(mt.confusion_matrix(y_test_class, y_pred_class))    # 오차행렬\n",
    "print(mt.classification_report(y_test_class, y_pred_class))"
   ]
  },
  {
   "cell_type": "code",
   "execution_count": 33,
   "metadata": {
    "scrolled": false
   },
   "outputs": [
    {
     "data": {
      "text/plain": [
       "(784,)"
      ]
     },
     "execution_count": 33,
     "metadata": {},
     "output_type": "execute_result"
    }
   ],
   "source": [
    "X[0].shape"
   ]
  },
  {
   "cell_type": "code",
   "execution_count": 34,
   "metadata": {
    "scrolled": true
   },
   "outputs": [
    {
     "data": {
      "text/plain": [
       "<matplotlib.image.AxesImage at 0x251c8cf5cc0>"
      ]
     },
     "execution_count": 34,
     "metadata": {},
     "output_type": "execute_result"
    },
    {
     "data": {
      "image/png": "[encoded data removed]",
      "text/plain": [
       "<Figure size 432x288 with 1 Axes>"
      ]
     },
     "metadata": {
      "needs_background": "light"
     },
     "output_type": "display_data"
    }
   ],
   "source": [
    "import matplotlib.pyplot as plt\n",
    "\n",
    "p = np.array(X[0], dtype=\"uint8\").reshape((28, 28))\n",
    "plt.imshow(p, cmap=\"gray\")"
   ]
  },
  {
   "cell_type": "code",
   "execution_count": null,
   "metadata": {},
   "outputs": [],
   "source": []
  }
 ],
 "metadata": {
  "kernelspec": {
   "display_name": "Python 3",
   "language": "python",
   "name": "python3"
  },
  "language_info": {
   "codemirror_mode": {
    "name": "ipython",
    "version": 3
   },
   "file_extension": ".py",
   "mimetype": "text/x-python",
   "name": "python",
   "nbconvert_exporter": "python",
   "pygments_lexer": "ipython3",
   "version": "3.6.10"
  },
  "toc": {
   "base_numbering": 1,
   "nav_menu": {},
   "number_sections": false,
   "sideBar": true,
   "skip_h1_title": false,
   "title_cell": "Table of Contents",
   "title_sidebar": "Contents",
   "toc_cell": false,
   "toc_position": {},
   "toc_section_display": true,
   "toc_window_display": false
  }
 },
 "nbformat": 4,
 "nbformat_minor": 4
}
