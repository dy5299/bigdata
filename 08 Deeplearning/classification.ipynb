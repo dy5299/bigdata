{
 "cells": [
  {
   "cell_type": "code",
   "execution_count": 1,
   "metadata": {},
   "outputs": [],
   "source": [
    "actual_result = [1, 0, 0, 1, 1]\n",
    "predicted_result = [0, 1, 0, 1, 0]"
   ]
  },
  {
   "cell_type": "code",
   "execution_count": 5,
   "metadata": {},
   "outputs": [],
   "source": [
    "import sklearn.metrics as mt\n",
    "\n",
    "accuracy = mt.accuracy_score(actual_result, predicted_result)\n",
    "matrix = mt.confusion_matrix(actual_result, predicted_result)\n",
    "precision = mt.precision_score(actual_result, predicted_result)\n",
    "recall = mt.recall_score(actual_result, predicted_result)\n",
    "f1score = mt.f1_score(actual_result, predicted_result)\n",
    "scores=mt.classification_report(actual_result, predicted_result)"
   ]
  },
  {
   "cell_type": "code",
   "execution_count": 8,
   "metadata": {},
   "outputs": [
    {
     "name": "stdout",
     "output_type": "stream",
     "text": [
      "정확도:  0.4 \n",
      "\n",
      "오차행렬\n",
      ":  [[1 1]\n",
      " [2 1]] \n",
      "\n",
      "정밀도:  0.5 \n",
      "\n",
      "재현율:  0.333 \n",
      "\n",
      "F1스코어:  0.4 \n",
      "\n"
     ]
    }
   ],
   "source": [
    "print(\"정확도: \", accuracy , \"\\n\")\n",
    "print(\"오차행렬\\n: \", matrix , \"\\n\")\n",
    "print(\"정밀도: \", precision , \"\\n\")\n",
    "print(\"재현율: \", round(recall, 3) , \"\\n\")\n",
    "print(\"F1스코어: \", f1score , \"\\n\")"
   ]
  },
  {
   "cell_type": "code",
   "execution_count": 9,
   "metadata": {},
   "outputs": [
    {
     "name": "stdout",
     "output_type": "stream",
     "text": [
      "결과\n",
      "               precision    recall  f1-score   support\n",
      "\n",
      "           0       0.33      0.50      0.40         2\n",
      "           1       0.50      0.33      0.40         3\n",
      "\n",
      "    accuracy                           0.40         5\n",
      "   macro avg       0.42      0.42      0.40         5\n",
      "weighted avg       0.43      0.40      0.40         5\n",
      "\n"
     ]
    }
   ],
   "source": [
    "print(\"결과\\n\", scores)"
   ]
  },
  {
   "cell_type": "code",
   "execution_count": null,
   "metadata": {},
   "outputs": [],
   "source": []
  }
 ],
 "metadata": {
  "kernelspec": {
   "display_name": "Python 3",
   "language": "python",
   "name": "python3"
  },
  "language_info": {
   "codemirror_mode": {
    "name": "ipython",
    "version": 3
   },
   "file_extension": ".py",
   "mimetype": "text/x-python",
   "name": "python",
   "nbconvert_exporter": "python",
   "pygments_lexer": "ipython3",
   "version": "3.6.10"
  },
  "toc": {
   "base_numbering": 1,
   "nav_menu": {},
   "number_sections": false,
   "sideBar": true,
   "skip_h1_title": false,
   "title_cell": "Table of Contents",
   "title_sidebar": "Contents",
   "toc_cell": false,
   "toc_position": {},
   "toc_section_display": true,
   "toc_window_display": false
  }
 },
 "nbformat": 4,
 "nbformat_minor": 4
}
