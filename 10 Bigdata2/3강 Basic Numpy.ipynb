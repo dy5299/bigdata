{
 "cells": [
  {
   "cell_type": "markdown",
   "metadata": {
    "slideshow": {
     "slide_type": "slide"
    }
   },
   "source": [
    "# 3강. Basic Numpy"
   ]
  },
  {
   "cell_type": "markdown",
   "metadata": {
    "slideshow": {
     "slide_type": "slide"
    }
   },
   "source": [
    "# 이번장에서 배우는 것들\n",
    " * Numpy를 이용한 기본적 자료 구조\n",
    " * 필수적인 Numpy 동작에 대해 실습"
   ]
  },
  {
   "cell_type": "code",
   "execution_count": 1,
   "metadata": {
    "slideshow": {
     "slide_type": "slide"
    }
   },
   "outputs": [],
   "source": [
    "#numpy를 import 시킴\n",
    "import numpy as np"
   ]
  },
  {
   "cell_type": "markdown",
   "metadata": {
    "slideshow": {
     "slide_type": "slide"
    }
   },
   "source": [
    "## 기본 자료구조 (List)"
   ]
  },
  {
   "cell_type": "code",
   "execution_count": 2,
   "metadata": {
    "slideshow": {
     "slide_type": "slide"
    }
   },
   "outputs": [
    {
     "name": "stdout",
     "output_type": "stream",
     "text": [
      "['mon', 'tue', 'wed', 'thu', 'fri', 'sat', 'sun'] <class 'list'>\n"
     ]
    }
   ],
   "source": [
    "# python의 기본자료 구조인 list\n",
    "# string 원소를 여러개 가진 list는 다음과 같이 정의 할 수 있음\n",
    "week = ['mon', 'tue', 'wed', 'thu', 'fri', 'sat', 'sun']\n",
    "print(week, type(week))"
   ]
  },
  {
   "cell_type": "code",
   "execution_count": 3,
   "metadata": {
    "slideshow": {
     "slide_type": "slide"
    }
   },
   "outputs": [
    {
     "name": "stdout",
     "output_type": "stream",
     "text": [
      "mon\n"
     ]
    }
   ],
   "source": [
    "# list의 특정 순서의 item을 출력하는 동작은 변수의 뒤에 []를 이용하여 접근 \n",
    "# 0번째 index에 접근\n",
    "print(week[0])"
   ]
  },
  {
   "cell_type": "code",
   "execution_count": 4,
   "metadata": {
    "slideshow": {
     "slide_type": "slide"
    }
   },
   "outputs": [
    {
     "name": "stdout",
     "output_type": "stream",
     "text": [
      "tue\n"
     ]
    }
   ],
   "source": [
    "# 1번째 index에 접근\n",
    "print(week[1])"
   ]
  },
  {
   "cell_type": "code",
   "execution_count": 5,
   "metadata": {
    "slideshow": {
     "slide_type": "slide"
    }
   },
   "outputs": [
    {
     "name": "stdout",
     "output_type": "stream",
     "text": [
      "sun\n"
     ]
    }
   ],
   "source": [
    "# 맨뒤 접근을 -1 index로 표현함\n",
    "print(week[-1])"
   ]
  },
  {
   "cell_type": "code",
   "execution_count": 6,
   "metadata": {
    "slideshow": {
     "slide_type": "slide"
    }
   },
   "outputs": [
    {
     "name": "stdout",
     "output_type": "stream",
     "text": [
      "sat\n"
     ]
    }
   ],
   "source": [
    "# 맨뒤에서 한칸 앞 index에 접근\n",
    "print(week[-2])"
   ]
  },
  {
   "cell_type": "code",
   "execution_count": 7,
   "metadata": {
    "slideshow": {
     "slide_type": "slide"
    }
   },
   "outputs": [
    {
     "name": "stdout",
     "output_type": "stream",
     "text": [
      "[0, 1, 2, 3, 4, 5, 6] <class 'list'>\n"
     ]
    }
   ],
   "source": [
    "# integer 원소를 여러개 가진 list는 다음과 같이 정의 할 수 있음\n",
    "week = [0, 1, 2, 3, 4, 5, 6]\n",
    "print(week, type(week))"
   ]
  },
  {
   "cell_type": "code",
   "execution_count": 8,
   "metadata": {
    "slideshow": {
     "slide_type": "slide"
    }
   },
   "outputs": [
    {
     "name": "stdout",
     "output_type": "stream",
     "text": [
      "0 1 6 5\n"
     ]
    }
   ],
   "source": [
    "# 여러 index에 접근\n",
    "print(week[0], week[1], week[-1], week[-2])"
   ]
  },
  {
   "cell_type": "code",
   "execution_count": 9,
   "metadata": {
    "slideshow": {
     "slide_type": "slide"
    }
   },
   "outputs": [
    {
     "name": "stdout",
     "output_type": "stream",
     "text": [
      "[0, 'mon', 1.0, 2, 3, 'fri', 'sat', 6.0] <class 'list'>\n"
     ]
    }
   ],
   "source": [
    "# python의 list에서는 자료형에 상관없이 여러 타입을 혼합할 수 있음\n",
    "week = [0, 'mon', 1.0, 2, 3, 'fri', 'sat', 6.0]\n",
    "print(week, type(week))"
   ]
  },
  {
   "cell_type": "code",
   "execution_count": 10,
   "metadata": {
    "slideshow": {
     "slide_type": "slide"
    }
   },
   "outputs": [
    {
     "name": "stdout",
     "output_type": "stream",
     "text": [
      "0 mon 6.0 sat\n"
     ]
    }
   ],
   "source": [
    "# 여러 index에 접근\n",
    "print(week[0], week[1], week[-1], week[-2])"
   ]
  },
  {
   "cell_type": "code",
   "execution_count": 11,
   "metadata": {
    "slideshow": {
     "slide_type": "slide"
    }
   },
   "outputs": [
    {
     "name": "stdout",
     "output_type": "stream",
     "text": [
      "[['son', 176, 69], ['kim', 183, 84], ['lee', 163, 57], 7, 9]\n"
     ]
    }
   ],
   "source": [
    "# list안에 다시 list를 원소로 넣어 중첩된 list를 표현 할 수 있음\n",
    "people = [ ['son', 176, 69],  ['kim', 183, 84], ['lee', 163, 57] , 7, 9]\n",
    "print(people)"
   ]
  },
  {
   "cell_type": "code",
   "execution_count": 12,
   "metadata": {
    "slideshow": {
     "slide_type": "slide"
    }
   },
   "outputs": [
    {
     "name": "stdout",
     "output_type": "stream",
     "text": [
      "['son', 176, 69] ['kim', 183, 84] 9 7\n"
     ]
    }
   ],
   "source": [
    "# 여러 index에 접근\n",
    "print(people[0], people[1], people[-1], people[-2])"
   ]
  },
  {
   "cell_type": "code",
   "execution_count": 13,
   "metadata": {
    "slideshow": {
     "slide_type": "slide"
    }
   },
   "outputs": [
    {
     "name": "stdout",
     "output_type": "stream",
     "text": [
      "176 69\n"
     ]
    }
   ],
   "source": [
    "#list 원소는 다시 index를 주어 중첩된 list의 item에 접근 할 수 있음\n",
    "print(people[0][1], people[0][-1])"
   ]
  },
  {
   "cell_type": "code",
   "execution_count": 14,
   "metadata": {
    "slideshow": {
     "slide_type": "slide"
    }
   },
   "outputs": [
    {
     "name": "stdout",
     "output_type": "stream",
     "text": [
      "[['son', 176, 69], ['kim', 183, 84], ['lee', 163, 57], 7, 9, ['park', 177, 75]]\n",
      "['park', 177, 75]\n"
     ]
    }
   ],
   "source": [
    "#append 명령어로 list의 가장 끝 부분에 data를 삽입할 수 있음\n",
    "people.append(['park', 177, 75])\n",
    "print(people)\n",
    "print(people[-1])"
   ]
  },
  {
   "cell_type": "code",
   "execution_count": 15,
   "metadata": {
    "slideshow": {
     "slide_type": "slide"
    }
   },
   "outputs": [
    {
     "name": "stdout",
     "output_type": "stream",
     "text": [
      "[['son', 176, 69], ['kim', 183, 84], ['lee', 163, 57], 7, 9, ['park', 177, 75], ['bug!', 177, 75, 234]]\n",
      "['bug!', 177, 75, 234]\n"
     ]
    }
   ],
   "source": [
    "#list는 기존 item과 size가 달라도 추가 가능\n",
    "people.append(['bug!', 177, 75, 234])\n",
    "print(people)\n",
    "print(people[-1])"
   ]
  },
  {
   "cell_type": "code",
   "execution_count": 16,
   "metadata": {
    "slideshow": {
     "slide_type": "slide"
    }
   },
   "outputs": [
    {
     "name": "stdout",
     "output_type": "stream",
     "text": [
      "[['son', 176, 69], ['kim', 183, 84], ['lee', 163, 57], 7, 9, ['park', 177, 75]]\n"
     ]
    }
   ],
   "source": [
    "# pop 명령어를 이용하여 list의 item을 제거 할 수 있음\n",
    "# 가장 뒤의 원소를 제거함\n",
    "people.pop()\n",
    "print(people)"
   ]
  },
  {
   "cell_type": "code",
   "execution_count": 17,
   "metadata": {
    "slideshow": {
     "slide_type": "slide"
    }
   },
   "outputs": [
    {
     "name": "stdout",
     "output_type": "stream",
     "text": [
      "[['kim', 183, 84], ['lee', 163, 57], 7, 9, ['park', 177, 75]]\n"
     ]
    }
   ],
   "source": [
    "# 가장 앞의 원소를 제거함\n",
    "people.pop(0)\n",
    "print(people)\n"
   ]
  },
  {
   "cell_type": "markdown",
   "metadata": {
    "slideshow": {
     "slide_type": "slide"
    }
   },
   "source": [
    "## 기본 자료구조 (Numpy array)"
   ]
  },
  {
   "cell_type": "code",
   "execution_count": 18,
   "metadata": {
    "slideshow": {
     "slide_type": "slide"
    }
   },
   "outputs": [
    {
     "name": "stdout",
     "output_type": "stream",
     "text": [
      "['mon' 'tue' 'wed' 'thu' 'fri' 'sat' 'sun'] <class 'numpy.ndarray'> <U3\n"
     ]
    }
   ],
   "source": [
    "import numpy as np\n",
    "# np array는 python list를 converting 할 수 있음\n",
    "# string list를 변환\n",
    "week = np.array(['mon', 'tue', 'wed', 'thu', 'fri', 'sat', 'sun'])\n",
    "print(week, type(week), week.dtype)"
   ]
  },
  {
   "cell_type": "code",
   "execution_count": 19,
   "metadata": {
    "slideshow": {
     "slide_type": "slide"
    }
   },
   "outputs": [
    {
     "name": "stdout",
     "output_type": "stream",
     "text": [
      "mon tue sun sat\n"
     ]
    }
   ],
   "source": [
    "# 여러 index에 접근\n",
    "print(week[0], week[1], week[-1], week[-2])"
   ]
  },
  {
   "cell_type": "code",
   "execution_count": 20,
   "metadata": {
    "slideshow": {
     "slide_type": "slide"
    }
   },
   "outputs": [
    {
     "name": "stdout",
     "output_type": "stream",
     "text": [
      "[0 1 2 3 4 5 6] <class 'numpy.ndarray'> int32\n"
     ]
    }
   ],
   "source": [
    "# int list를 변환\n",
    "week = np.array([0, 1, 2, 3, 4, 5, 6])\n",
    "print(week, type(week), week.dtype)"
   ]
  },
  {
   "cell_type": "code",
   "execution_count": 21,
   "metadata": {
    "slideshow": {
     "slide_type": "slide"
    }
   },
   "outputs": [
    {
     "name": "stdout",
     "output_type": "stream",
     "text": [
      "0 1 6 5\n"
     ]
    }
   ],
   "source": [
    "# 여러 index에 접근\n",
    "print(week[0], week[1], week[-1], week[-2])"
   ]
  },
  {
   "cell_type": "code",
   "execution_count": 22,
   "metadata": {
    "slideshow": {
     "slide_type": "slide"
    }
   },
   "outputs": [
    {
     "name": "stdout",
     "output_type": "stream",
     "text": [
      "['0' 'mon' '1.0' '2' '3' 'fri' 'sat' '6.0'] <class 'numpy.ndarray'> <U11\n"
     ]
    }
   ],
   "source": [
    "# 복합 자료형 list는 변환할 수 없음\n",
    "# 해당 자료형을 전부 포괄 할 수 있는 자료형이 있다면 해당 자료형으로 converting 후 변환\n",
    "week = np.array([0, 'mon', 1.0, 2, 3, 'fri', 'sat', 6.0])\n",
    "print(week, type(week), week.dtype)"
   ]
  },
  {
   "cell_type": "code",
   "execution_count": 23,
   "metadata": {
    "slideshow": {
     "slide_type": "slide"
    }
   },
   "outputs": [
    {
     "name": "stdout",
     "output_type": "stream",
     "text": [
      "[['son' '176' '69']\n",
      " ['kim' '183' '84']\n",
      " ['lee' '163' '57']] <class 'numpy.ndarray'> (3, 3)\n"
     ]
    }
   ],
   "source": [
    "# 사이즈가 같은 중첩된 list는 같은 규칙에 의해 numpy array로 전환됨 \n",
    "people = np.array([['son', 176, 69], ['kim', 183, 84], ['lee', 163, 57]])\n",
    "print(people, type(people), people.shape)"
   ]
  },
  {
   "cell_type": "code",
   "execution_count": 24,
   "metadata": {
    "slideshow": {
     "slide_type": "slide"
    }
   },
   "outputs": [
    {
     "name": "stdout",
     "output_type": "stream",
     "text": [
      "[list(['son', 176, 69]) list(['kim', 183, 84]) list(['lee', 163, 57])\n",
      " list(['bug!', 183, 123, 341])] <class 'numpy.ndarray'> (4,) object\n"
     ]
    }
   ],
   "source": [
    "# 사이즈가 다른 중첩된 list는 numpy array로 변환 될 수 없음\n",
    "# 혀용되는 numpy array에 각 원소를 다시 list를 갖는 numpy array로 변환\n",
    "people = np.array([['son', 176, 69], ['kim', 183, 84], ['lee', 163, 57], ['bug!', 183, 123, 341]])\n",
    "print(people, type(people), people.shape, people.dtype)"
   ]
  },
  {
   "cell_type": "code",
   "execution_count": 25,
   "metadata": {
    "slideshow": {
     "slide_type": "slide"
    }
   },
   "outputs": [
    {
     "ename": "SyntaxError",
     "evalue": "invalid syntax (<ipython-input-25-9c6bb0c887a2>, line 2)",
     "output_type": "error",
     "traceback": [
      "\u001b[1;36m  File \u001b[1;32m\"<ipython-input-25-9c6bb0c887a2>\"\u001b[1;36m, line \u001b[1;32m2\u001b[0m\n\u001b[1;33m    people.\u001b[0m\n\u001b[1;37m           ^\u001b[0m\n\u001b[1;31mSyntaxError\u001b[0m\u001b[1;31m:\u001b[0m invalid syntax\n"
     ]
    }
   ],
   "source": [
    "# 생성된 numpy array는 append, pop 등의 메서드가 없기 때문에 item을 새로 추가/삭제 불가능\n",
    "people."
   ]
  },
  {
   "cell_type": "markdown",
   "metadata": {
    "slideshow": {
     "slide_type": "slide"
    }
   },
   "source": [
    "## 간단한 List와 Numpy array 연산 비교"
   ]
  },
  {
   "cell_type": "code",
   "execution_count": 26,
   "metadata": {
    "slideshow": {
     "slide_type": "slide"
    }
   },
   "outputs": [
    {
     "name": "stdout",
     "output_type": "stream",
     "text": [
      "<class 'list'> <class 'list'>\n",
      "2 [1, 2]\n",
      "2 [3, 4]\n",
      "[1, 2, 3, 4]\n"
     ]
    }
   ],
   "source": [
    "a = [1,2]\n",
    "b = [3,4]\n",
    "\n",
    "print(type(a), type(b)) #<class 'list'> <class 'list'>\n",
    "print(len(a), a)        # 2 [1, 2]\n",
    "print(len(b), b)        # 2 [3, 4]\n",
    "print(a+b)              # [1, 2, 3, 4]: appending"
   ]
  },
  {
   "cell_type": "code",
   "execution_count": 27,
   "metadata": {
    "slideshow": {
     "slide_type": "slide"
    }
   },
   "outputs": [
    {
     "name": "stdout",
     "output_type": "stream",
     "text": [
      "int32 int32\n",
      "<class 'numpy.ndarray'> <class 'numpy.ndarray'>\n",
      "2 [1 2]\n",
      "2 [3 4]\n",
      "[4 6]\n"
     ]
    }
   ],
   "source": [
    "aa = np.array(a) # from Python List to NumPy Array\n",
    "bb = np.array(b) # from Python List to NumPy Array\n",
    "\n",
    "print(aa.dtype, bb.dtype) # int64 int64\n",
    "print(type(aa), type(bb)) # int64 int64\n",
    "print(len(aa), aa) # 1 [1,2]\n",
    "print(len(bb), bb) # 1 [3,4]\n",
    "print(aa+bb) # [4, 6]: vector operation"
   ]
  },
  {
   "cell_type": "markdown",
   "metadata": {
    "slideshow": {
     "slide_type": "slide"
    }
   },
   "source": [
    "## np array 구조 (shape, ndim, axis, len, size)"
   ]
  },
  {
   "cell_type": "code",
   "execution_count": 28,
   "metadata": {
    "slideshow": {
     "slide_type": "slide"
    }
   },
   "outputs": [
    {
     "name": "stdout",
     "output_type": "stream",
     "text": [
      "len 4\n",
      "shape (4,)\n",
      "ndim 1\n",
      "size 4\n"
     ]
    }
   ],
   "source": [
    "#1차원 array 선언\n",
    "a1 = np.array([7,2,9,10])\n",
    "\n",
    "#len, shape, ndim 출력\n",
    "print('len', len(a1))\n",
    "print('shape', a1.shape)\n",
    "print('ndim', a1.ndim)\n",
    "print('size', a1.size)"
   ]
  },
  {
   "cell_type": "code",
   "execution_count": 29,
   "metadata": {
    "slideshow": {
     "slide_type": "slide"
    }
   },
   "outputs": [
    {
     "name": "stdout",
     "output_type": "stream",
     "text": [
      "len 2\n",
      "shape (2, 3)\n",
      "ndim 2\n",
      "size 6\n"
     ]
    }
   ],
   "source": [
    "#2차원 array 선언\n",
    "a2 = np.array([[5.2, 3.0, 4.5],\n",
    "               [9.1, 0.1, 0.3]])\n",
    "\n",
    "#len, shape, ndim 출력\n",
    "print('len', len(a2))\n",
    "print('shape', a2.shape)\n",
    "print('ndim', a2.ndim)\n",
    "print('size', a2.size)"
   ]
  },
  {
   "cell_type": "code",
   "execution_count": 30,
   "metadata": {
    "slideshow": {
     "slide_type": "slide"
    }
   },
   "outputs": [
    {
     "name": "stdout",
     "output_type": "stream",
     "text": [
      "len 4\n",
      "shape (4, 3, 2)\n",
      "ndim 3\n",
      "size 24\n"
     ]
    }
   ],
   "source": [
    "#3차원 array 선언\n",
    "a3 = np.array([\n",
    "    [[1, 2], [4, 3], [7, 4]],\n",
    "    [[2, 1], [9, 2], [7, 5]],\n",
    "    [[1, 8], [3, 4], [0, 2]],\n",
    "    [[9, 4], [6, 2], [9, 8]]])\n",
    "\n",
    "#len, shape, ndim 출력\n",
    "print('len', len(a3))\n",
    "print('shape', a3.shape)\n",
    "print('ndim', a3.ndim)\n",
    "print('size', a3.size)"
   ]
  },
  {
   "cell_type": "markdown",
   "metadata": {
    "slideshow": {
     "slide_type": "slide"
    }
   },
   "source": [
    "## np array 기본 함수"
   ]
  },
  {
   "cell_type": "code",
   "execution_count": 31,
   "metadata": {
    "slideshow": {
     "slide_type": "slide"
    }
   },
   "outputs": [
    {
     "name": "stdout",
     "output_type": "stream",
     "text": [
      "15\n",
      "120\n"
     ]
    }
   ],
   "source": [
    "a = np.array([1, 2, 3, 4, 5])\n",
    "#a를 전체 item 기준으로 sum과 prod 계산\n",
    "print(np.sum(a)) # 15 = 1+2+3+4+5\n",
    "print(np.prod(a)) # 120 = 1*2*3*4*5"
   ]
  },
  {
   "cell_type": "code",
   "execution_count": 32,
   "metadata": {
    "slideshow": {
     "slide_type": "slide"
    }
   },
   "outputs": [
    {
     "name": "stdout",
     "output_type": "stream",
     "text": [
      "3.0\n",
      "2.0\n",
      "1.4142135623730951\n"
     ]
    }
   ],
   "source": [
    "#a를 전체 item 기준으로 평균, 분산, 표준편차 계산\n",
    "print(np.mean(a)) # 3.0 = (1+2+3+4+5)/5\n",
    "print(np.var(a)) # 2.0: variance\n",
    "print(np.std(a)) # 1.414..: std\n"
   ]
  },
  {
   "cell_type": "code",
   "execution_count": 33,
   "metadata": {
    "slideshow": {
     "slide_type": "slide"
    }
   },
   "outputs": [
    {
     "name": "stdout",
     "output_type": "stream",
     "text": [
      "1\n",
      "5\n"
     ]
    }
   ],
   "source": [
    "#a를 전체 item 기준으로 최소, 최대값 계산\n",
    "print(np.min(a)) # 1: minimum\n",
    "print(np.max(a)) # 5: maximum"
   ]
  },
  {
   "cell_type": "code",
   "execution_count": 34,
   "metadata": {
    "slideshow": {
     "slide_type": "slide"
    }
   },
   "outputs": [
    {
     "name": "stdout",
     "output_type": "stream",
     "text": [
      "0\n",
      "4\n"
     ]
    }
   ],
   "source": [
    "#a를 전체 item 기준으로 최소, 최대값의 index위치를 반환\n",
    "print(np.argmin(a)) # 0: the index of the min. value\n",
    "print(np.argmax(a)) # 4: the index of the max. value"
   ]
  },
  {
   "cell_type": "code",
   "execution_count": 35,
   "metadata": {
    "slideshow": {
     "slide_type": "slide"
    }
   },
   "outputs": [
    {
     "name": "stdout",
     "output_type": "stream",
     "text": [
      "55\n",
      "3628800\n"
     ]
    }
   ],
   "source": [
    "a = np.array([[1, 2, 3, 4, 5], [6, 7, 8, 9, 10]])\n",
    "#a를 전체 item 기준으로 sum과 prod 계산\n",
    "print(np.sum(a))\n",
    "print(np.prod(a))"
   ]
  },
  {
   "cell_type": "code",
   "execution_count": 36,
   "metadata": {
    "slideshow": {
     "slide_type": "slide"
    }
   },
   "outputs": [
    {
     "name": "stdout",
     "output_type": "stream",
     "text": [
      "55 [ 7  9 11 13 15] [15 40]\n",
      "3628800 [ 6 14 24 36 50] [  120 30240]\n"
     ]
    }
   ],
   "source": [
    "#axis를 바꿔가며 sum, prod 계산\n",
    "print(np.sum(a), np.sum(a, axis=0), np.sum(a, axis=1))\n",
    "print(np.prod(a), np.prod(a, axis=0), np.prod(a, axis=1))"
   ]
  },
  {
   "cell_type": "code",
   "execution_count": 37,
   "metadata": {
    "slideshow": {
     "slide_type": "slide"
    }
   },
   "outputs": [
    {
     "name": "stdout",
     "output_type": "stream",
     "text": [
      "5.5 [3.5 4.5 5.5 6.5 7.5] [3. 8.]\n",
      "8.25 [6.25 6.25 6.25 6.25 6.25] [2. 2.]\n",
      "2.8722813232690143 [2.5 2.5 2.5 2.5 2.5] [1.41421356 1.41421356]\n"
     ]
    }
   ],
   "source": [
    "#axis를 바꿔가며 mean, var, std 계산\n",
    "print(np.mean(a), np.mean(a, axis=0), np.mean(a, axis=1))\n",
    "print(np.var(a), np.var(a, axis=0), np.var(a, axis=1))\n",
    "print(np.std(a), np.std(a, axis=0), np.std(a, axis=1))"
   ]
  },
  {
   "cell_type": "code",
   "execution_count": 38,
   "metadata": {
    "slideshow": {
     "slide_type": "slide"
    }
   },
   "outputs": [
    {
     "name": "stdout",
     "output_type": "stream",
     "text": [
      "1 [1 2 3 4 5] [1 6]\n",
      "10 [ 6  7  8  9 10] [ 5 10]\n"
     ]
    }
   ],
   "source": [
    "#axis를 바꿔가며 min, max 계산\n",
    "print(np.min(a), np.min(a, axis=0), np.min(a, axis=1))\n",
    "print(np.max(a), np.max(a, axis=0), np.max(a, axis=1))"
   ]
  },
  {
   "cell_type": "code",
   "execution_count": 39,
   "metadata": {
    "slideshow": {
     "slide_type": "slide"
    }
   },
   "outputs": [
    {
     "name": "stdout",
     "output_type": "stream",
     "text": [
      "0 [0 0 0 0 0] [0 0]\n",
      "9 [1 1 1 1 1] [4 4]\n"
     ]
    }
   ],
   "source": [
    "#axis를 바꿔가며 argmin, argmax 계산\n",
    "print(np.argmin(a), np.argmin(a, axis=0), np.argmin(a, axis=1))\n",
    "print(np.argmax(a), np.argmax(a, axis=0), np.argmax(a, axis=1))"
   ]
  },
  {
   "cell_type": "markdown",
   "metadata": {
    "slideshow": {
     "slide_type": "slide"
    }
   },
   "source": [
    "## indexing & slicing"
   ]
  },
  {
   "cell_type": "code",
   "execution_count": 40,
   "metadata": {
    "slideshow": {
     "slide_type": "slide"
    }
   },
   "outputs": [
    {
     "name": "stdout",
     "output_type": "stream",
     "text": [
      "1 2\n",
      "[1 2]\n",
      "[2 3 4 5]\n",
      "[4 5 6]\n",
      "[1 2 3 4]\n"
     ]
    }
   ],
   "source": [
    "data = np.array([1, 2, 3, 4, 5, 6])\n",
    "#각 원소를 index를 이용하여 출력\n",
    "print(data[0], data[1])\n",
    "\n",
    "#연속된 원소를 slice를 이용하여 출력\n",
    "print(data[0:2])\n",
    "print(data[1:-1])\n",
    "print(data[3:])\n",
    "print(data[:4])"
   ]
  },
  {
   "cell_type": "code",
   "execution_count": 41,
   "metadata": {
    "slideshow": {
     "slide_type": "slide"
    }
   },
   "outputs": [
    {
     "name": "stdout",
     "output_type": "stream",
     "text": [
      "[1 2 3 4 5] [ 6  7  8  9 10]\n",
      "2 8\n",
      "2 8\n"
     ]
    }
   ],
   "source": [
    "data = np.array([[1, 2, 3, 4, 5], [6, 7, 8, 9, 10]])\n",
    "#각 원소를 index를 이용하여 출력\n",
    "print(data[0], data[1])\n",
    "print(data[0][1], data[1][2])\n",
    "print(data[0, 1], data[1 ,2])"
   ]
  },
  {
   "cell_type": "code",
   "execution_count": 42,
   "metadata": {
    "slideshow": {
     "slide_type": "slide"
    }
   },
   "outputs": [
    {
     "name": "stdout",
     "output_type": "stream",
     "text": [
      "[[1 2 3 4 5]]\n",
      "[[ 1  2  3  4  5]\n",
      " [ 6  7  8  9 10]]\n",
      "[4]\n",
      "[4 9]\n"
     ]
    }
   ],
   "source": [
    "#연속된 원소를 slice를 이용하여 출력\n",
    "print(data[0:1])\n",
    "print(data[0:2])\n",
    "\n",
    "print(data[0:1, 3])\n",
    "print(data[0:2, 3])"
   ]
  },
  {
   "cell_type": "markdown",
   "metadata": {
    "slideshow": {
     "slide_type": "slide"
    }
   },
   "source": [
    "## np 산술 연산 (element-wise)"
   ]
  },
  {
   "cell_type": "code",
   "execution_count": 43,
   "metadata": {
    "slideshow": {
     "slide_type": "slide"
    }
   },
   "outputs": [],
   "source": [
    "# shape이 같은 2개의 np array를 선언\n",
    "data = np.array([1, 2])\n",
    "ones = np.array([1, 1])"
   ]
  },
  {
   "cell_type": "code",
   "execution_count": 44,
   "metadata": {
    "slideshow": {
     "slide_type": "slide"
    }
   },
   "outputs": [
    {
     "data": {
      "text/plain": [
       "array([2, 3])"
      ]
     },
     "execution_count": 44,
     "metadata": {},
     "output_type": "execute_result"
    }
   ],
   "source": [
    "# 더하기 연산\n",
    "data + ones"
   ]
  },
  {
   "cell_type": "code",
   "execution_count": 45,
   "metadata": {
    "slideshow": {
     "slide_type": "slide"
    }
   },
   "outputs": [
    {
     "data": {
      "text/plain": [
       "array([0, 1])"
      ]
     },
     "execution_count": 45,
     "metadata": {},
     "output_type": "execute_result"
    }
   ],
   "source": [
    "# 빼기 연산\n",
    "data - ones"
   ]
  },
  {
   "cell_type": "code",
   "execution_count": 46,
   "metadata": {
    "slideshow": {
     "slide_type": "slide"
    }
   },
   "outputs": [
    {
     "data": {
      "text/plain": [
       "array([1, 2])"
      ]
     },
     "execution_count": 46,
     "metadata": {},
     "output_type": "execute_result"
    }
   ],
   "source": [
    "# 곱하기 연산\n",
    "data * ones"
   ]
  },
  {
   "cell_type": "code",
   "execution_count": 47,
   "metadata": {
    "slideshow": {
     "slide_type": "slide"
    }
   },
   "outputs": [
    {
     "data": {
      "text/plain": [
       "array([1., 1.])"
      ]
     },
     "execution_count": 47,
     "metadata": {},
     "output_type": "execute_result"
    }
   ],
   "source": [
    "# 나누기 연산\n",
    "data / data"
   ]
  },
  {
   "cell_type": "markdown",
   "metadata": {
    "slideshow": {
     "slide_type": "slide"
    }
   },
   "source": [
    "## np 산술 연산 (matrix-multiplication)"
   ]
  },
  {
   "cell_type": "code",
   "execution_count": 48,
   "metadata": {
    "slideshow": {
     "slide_type": "slide"
    }
   },
   "outputs": [],
   "source": [
    "a = np.array([[1,2],\n",
    "              [3,4]])\n",
    "\n",
    "b = np.array([[2,1],\n",
    "              [4,3]])"
   ]
  },
  {
   "cell_type": "code",
   "execution_count": 49,
   "metadata": {
    "slideshow": {
     "slide_type": "slide"
    }
   },
   "outputs": [
    {
     "name": "stdout",
     "output_type": "stream",
     "text": [
      "[[ 2  2]\n",
      " [12 12]]\n"
     ]
    }
   ],
   "source": [
    "# element-wise product 연산\n",
    "print(a * b)"
   ]
  },
  {
   "cell_type": "code",
   "execution_count": 50,
   "metadata": {
    "slideshow": {
     "slide_type": "slide"
    }
   },
   "outputs": [
    {
     "name": "stdout",
     "output_type": "stream",
     "text": [
      "[[10  7]\n",
      " [22 15]]\n"
     ]
    }
   ],
   "source": [
    "# matrix-multiplication 연산\n",
    "print(a @ b)"
   ]
  },
  {
   "cell_type": "code",
   "execution_count": 51,
   "metadata": {
    "slideshow": {
     "slide_type": "slide"
    }
   },
   "outputs": [
    {
     "name": "stdout",
     "output_type": "stream",
     "text": [
      "[[10  7]\n",
      " [22 15]]\n"
     ]
    }
   ],
   "source": [
    "# matrix-multiplication 연산\n",
    "print(np.matmul(a, b))"
   ]
  },
  {
   "cell_type": "code",
   "execution_count": 52,
   "metadata": {
    "slideshow": {
     "slide_type": "slide"
    }
   },
   "outputs": [
    {
     "name": "stdout",
     "output_type": "stream",
     "text": [
      "[[10  7]\n",
      " [22 15]]\n"
     ]
    }
   ],
   "source": [
    "# dot-product 연산\n",
    "print(np.dot(a, b))"
   ]
  },
  {
   "cell_type": "code",
   "execution_count": 53,
   "metadata": {
    "slideshow": {
     "slide_type": "slide"
    }
   },
   "outputs": [
    {
     "name": "stdout",
     "output_type": "stream",
     "text": [
      "(3, 2) (2, 2)\n"
     ]
    }
   ],
   "source": [
    "a = np.array([[1,2],\n",
    "              [3,4],\n",
    "              [5,6]\n",
    "             ])\n",
    "\n",
    "b = np.array([[2,1],\n",
    "              [4,3]])\n",
    "\n",
    "print(a.shape, b.shape)"
   ]
  },
  {
   "cell_type": "code",
   "execution_count": 54,
   "metadata": {
    "slideshow": {
     "slide_type": "slide"
    }
   },
   "outputs": [
    {
     "name": "stdout",
     "output_type": "stream",
     "text": [
      "[[10  7]\n",
      " [22 15]\n",
      " [34 23]] (3, 2)\n"
     ]
    }
   ],
   "source": [
    "# 뒷 열과 앞 행이 같은 경우 연산 가능\n",
    "print(a @ b, (a @ b).shape)"
   ]
  },
  {
   "cell_type": "code",
   "execution_count": 55,
   "metadata": {
    "slideshow": {
     "slide_type": "slide"
    }
   },
   "outputs": [
    {
     "name": "stdout",
     "output_type": "stream",
     "text": [
      "(3, 3) (3, 4)\n",
      "[[13 13 19  4]\n",
      " [27 25 43 10]\n",
      " [41 37 67 16]] (3, 4)\n"
     ]
    }
   ],
   "source": [
    "a = np.array([[1,2,3],\n",
    "              [3,4,5],\n",
    "              [5,6,7]\n",
    "             ])\n",
    "\n",
    "b = np.array([[2,1,6,2],\n",
    "              [4,3,5,1],\n",
    "              [1,2,1,0]\n",
    "             ])\n",
    "\n",
    "# 뒷 열과 앞 행이 같은 경우 연산 가능\n",
    "print(a.shape, b.shape)\n",
    "print(a @ b, (a @ b).shape)"
   ]
  },
  {
   "cell_type": "code",
   "execution_count": 56,
   "metadata": {
    "slideshow": {
     "slide_type": "slide"
    }
   },
   "outputs": [
    {
     "name": "stdout",
     "output_type": "stream",
     "text": [
      "(3, 2) (3, 4)\n"
     ]
    },
    {
     "ename": "ValueError",
     "evalue": "matmul: Input operand 1 has a mismatch in its core dimension 0, with gufunc signature (n?,k),(k,m?)->(n?,m?) (size 3 is different from 2)",
     "output_type": "error",
     "traceback": [
      "\u001b[1;31m---------------------------------------------------------------------------\u001b[0m",
      "\u001b[1;31mValueError\u001b[0m                                Traceback (most recent call last)",
      "\u001b[1;32m<ipython-input-56-71d298374972>\u001b[0m in \u001b[0;36m<module>\u001b[1;34m\u001b[0m\n\u001b[0;32m     11\u001b[0m \u001b[1;31m# 뒷 열과 앞 행이 다른 경우 연산 불가능\u001b[0m\u001b[1;33m\u001b[0m\u001b[1;33m\u001b[0m\u001b[1;33m\u001b[0m\u001b[0m\n\u001b[0;32m     12\u001b[0m \u001b[0mprint\u001b[0m\u001b[1;33m(\u001b[0m\u001b[0ma\u001b[0m\u001b[1;33m.\u001b[0m\u001b[0mshape\u001b[0m\u001b[1;33m,\u001b[0m \u001b[0mb\u001b[0m\u001b[1;33m.\u001b[0m\u001b[0mshape\u001b[0m\u001b[1;33m)\u001b[0m\u001b[1;33m\u001b[0m\u001b[1;33m\u001b[0m\u001b[0m\n\u001b[1;32m---> 13\u001b[1;33m \u001b[0mprint\u001b[0m\u001b[1;33m(\u001b[0m\u001b[0ma\u001b[0m \u001b[1;33m@\u001b[0m \u001b[0mb\u001b[0m\u001b[1;33m,\u001b[0m \u001b[1;33m(\u001b[0m\u001b[0ma\u001b[0m \u001b[1;33m@\u001b[0m \u001b[0mb\u001b[0m\u001b[1;33m)\u001b[0m\u001b[1;33m.\u001b[0m\u001b[0mshape\u001b[0m\u001b[1;33m)\u001b[0m\u001b[1;33m\u001b[0m\u001b[1;33m\u001b[0m\u001b[0m\n\u001b[0m",
      "\u001b[1;31mValueError\u001b[0m: matmul: Input operand 1 has a mismatch in its core dimension 0, with gufunc signature (n?,k),(k,m?)->(n?,m?) (size 3 is different from 2)"
     ]
    }
   ],
   "source": [
    "a = np.array([[1,2],\n",
    "              [3,4],\n",
    "              [5,6]\n",
    "             ])\n",
    "\n",
    "b = np.array([[2,1,6,2],\n",
    "              [4,3,5,1],\n",
    "              [1,2,1,0]\n",
    "             ])\n",
    "\n",
    "# 뒷 열과 앞 행이 다른 경우 연산 불가능\n",
    "print(a.shape, b.shape)\n",
    "print(a @ b, (a @ b).shape)"
   ]
  },
  {
   "cell_type": "markdown",
   "metadata": {
    "slideshow": {
     "slide_type": "slide"
    }
   },
   "source": [
    "## np Broadcasting"
   ]
  },
  {
   "cell_type": "code",
   "execution_count": 57,
   "metadata": {
    "slideshow": {
     "slide_type": "slide"
    }
   },
   "outputs": [],
   "source": [
    "# shape이 다른 2개의 np array를 선언\n",
    "data = np.array([[1, 2], [3,4]])\n",
    "data2 = np.array([1, 1, 3])"
   ]
  },
  {
   "cell_type": "code",
   "execution_count": 58,
   "metadata": {
    "slideshow": {
     "slide_type": "slide"
    }
   },
   "outputs": [
    {
     "ename": "ValueError",
     "evalue": "operands could not be broadcast together with shapes (2,2) (3,) ",
     "output_type": "error",
     "traceback": [
      "\u001b[1;31m---------------------------------------------------------------------------\u001b[0m",
      "\u001b[1;31mValueError\u001b[0m                                Traceback (most recent call last)",
      "\u001b[1;32m<ipython-input-58-5d90ab82d71a>\u001b[0m in \u001b[0;36m<module>\u001b[1;34m\u001b[0m\n\u001b[0;32m      1\u001b[0m \u001b[1;31m# shape이 다른 자료는 연산 할 수 없음\u001b[0m\u001b[1;33m\u001b[0m\u001b[1;33m\u001b[0m\u001b[1;33m\u001b[0m\u001b[0m\n\u001b[1;32m----> 2\u001b[1;33m \u001b[0mdata\u001b[0m \u001b[1;33m+\u001b[0m \u001b[0mdata2\u001b[0m\u001b[1;33m\u001b[0m\u001b[1;33m\u001b[0m\u001b[0m\n\u001b[0m",
      "\u001b[1;31mValueError\u001b[0m: operands could not be broadcast together with shapes (2,2) (3,) "
     ]
    }
   ],
   "source": [
    "# shape이 다른 자료는 연산 할 수 없음\n",
    "data + data2"
   ]
  },
  {
   "cell_type": "code",
   "execution_count": 59,
   "metadata": {
    "slideshow": {
     "slide_type": "slide"
    }
   },
   "outputs": [
    {
     "data": {
      "text/plain": [
       "array([[1.6, 3.2],\n",
       "       [4.8, 6.4]])"
      ]
     },
     "execution_count": 59,
     "metadata": {},
     "output_type": "execute_result"
    }
   ],
   "source": [
    "# 상수와 연산\n",
    "data * 1.6"
   ]
  },
  {
   "cell_type": "code",
   "execution_count": 60,
   "metadata": {
    "slideshow": {
     "slide_type": "slide"
    }
   },
   "outputs": [
    {
     "data": {
      "text/plain": [
       "array([[2, 3],\n",
       "       [4, 5]])"
      ]
     },
     "execution_count": 60,
     "metadata": {},
     "output_type": "execute_result"
    }
   ],
   "source": [
    "# data와 일부 shape이 같은 array로 연산\n",
    "data + np.array([1,1])"
   ]
  },
  {
   "cell_type": "markdown",
   "metadata": {
    "slideshow": {
     "slide_type": "slide"
    }
   },
   "source": [
    "## Transpose"
   ]
  },
  {
   "cell_type": "code",
   "execution_count": 61,
   "metadata": {
    "slideshow": {
     "slide_type": "slide"
    }
   },
   "outputs": [
    {
     "name": "stdout",
     "output_type": "stream",
     "text": [
      "[[1 2 3 4]] (1, 4)\n",
      "[1 2 3 4] (4,)\n"
     ]
    }
   ],
   "source": [
    "# 2차원 np array 선언\n",
    "a = np.array([[1,2,3,4]])\n",
    "print(a, a.shape)\n",
    "\n",
    "b = np.array([1,2,3,4])\n",
    "print(b, b.shape)"
   ]
  },
  {
   "cell_type": "code",
   "execution_count": 62,
   "metadata": {
    "slideshow": {
     "slide_type": "slide"
    }
   },
   "outputs": [
    {
     "name": "stdout",
     "output_type": "stream",
     "text": [
      "[[1]\n",
      " [2]\n",
      " [3]\n",
      " [4]] (4, 1)\n"
     ]
    }
   ],
   "source": [
    "# a의 transpose\n",
    "print(a.T, a.T.shape)"
   ]
  },
  {
   "cell_type": "code",
   "execution_count": 63,
   "metadata": {
    "slideshow": {
     "slide_type": "slide"
    }
   },
   "outputs": [
    {
     "name": "stdout",
     "output_type": "stream",
     "text": [
      "[[1 2]\n",
      " [3 4]] (2, 2)\n"
     ]
    }
   ],
   "source": [
    "# 2차원 np array 선언\n",
    "b = np.array([[1,2],[3,4]])\n",
    "print(b, b.shape)"
   ]
  },
  {
   "cell_type": "code",
   "execution_count": 64,
   "metadata": {
    "slideshow": {
     "slide_type": "slide"
    }
   },
   "outputs": [
    {
     "name": "stdout",
     "output_type": "stream",
     "text": [
      "[[1 3]\n",
      " [2 4]] (2, 2)\n"
     ]
    }
   ],
   "source": [
    "# b의 transpose\n",
    "print(b.T, b.T.shape)"
   ]
  },
  {
   "cell_type": "markdown",
   "metadata": {
    "slideshow": {
     "slide_type": "slide"
    }
   },
   "source": [
    "## test yourself\n",
    "\n"
   ]
  },
  {
   "cell_type": "markdown",
   "metadata": {},
   "source": [
    "* $ a = [1, 2, 3], b = [4, 5, 6] $일 때 배운 np 연산을 이용하여 32를 출력해보시오.\n",
    " * 행렬연산을 이용해보시오.\n",
    " * 산술연산을 이용해보시오."
   ]
  },
  {
   "cell_type": "markdown",
   "metadata": {
    "slideshow": {
     "slide_type": "fragment"
    }
   },
   "source": [
    "$$\\begin{pmatrix} 5 & 2 & 5 \\\\ 1 & 7 & 4 \\\\ -4 & 8 & 5 \\end{pmatrix}$$\n",
    "* 주어진 (1) 행렬의 값을 5배 키워보시오."
   ]
  },
  {
   "cell_type": "markdown",
   "metadata": {
    "slideshow": {
     "slide_type": "fragment"
    }
   },
   "source": [
    "* 주어진 (1) 3x3 행렬에서 axis 1와 axis 2으로 sum을 한 각각의 결과를 서로 product하여 scalar값을 출력해보시오."
   ]
  },
  {
   "cell_type": "code",
   "execution_count": null,
   "metadata": {},
   "outputs": [],
   "source": []
  }
 ],
 "metadata": {
  "celltoolbar": "Slideshow",
  "kernelspec": {
   "display_name": "Python 3",
   "language": "python",
   "name": "python3"
  },
  "language_info": {
   "codemirror_mode": {
    "name": "ipython",
    "version": 3
   },
   "file_extension": ".py",
   "mimetype": "text/x-python",
   "name": "python",
   "nbconvert_exporter": "python",
   "pygments_lexer": "ipython3",
   "version": "3.6.10"
  },
  "latex_envs": {
   "LaTeX_envs_menu_present": true,
   "autoclose": false,
   "autocomplete": true,
   "bibliofile": "biblio.bib",
   "cite_by": "apalike",
   "current_citInitial": 1,
   "eqLabelWithNumbers": true,
   "eqNumInitial": 1,
   "hotkeys": {
    "equation": "Ctrl-E",
    "itemize": "Ctrl-I"
   },
   "labels_anchors": false,
   "latex_user_defs": false,
   "report_style_numbering": false,
   "user_envs_cfg": false
  },
  "toc": {
   "base_numbering": 1,
   "nav_menu": {},
   "number_sections": false,
   "sideBar": false,
   "skip_h1_title": false,
   "title_cell": "Table of Contents",
   "title_sidebar": "Contents",
   "toc_cell": false,
   "toc_position": {
    "height": "47px",
    "left": "1616px",
    "top": "198px",
    "width": "159px"
   },
   "toc_section_display": false,
   "toc_window_display": false
  },
  "varInspector": {
   "cols": {
    "lenName": 16,
    "lenType": 16,
    "lenVar": 40
   },
   "kernels_config": {
    "python": {
     "delete_cmd_postfix": "",
     "delete_cmd_prefix": "del ",
     "library": "var_list.py",
     "varRefreshCmd": "print(var_dic_list())"
    },
    "r": {
     "delete_cmd_postfix": ") ",
     "delete_cmd_prefix": "rm(",
     "library": "var_list.r",
     "varRefreshCmd": "cat(var_dic_list()) "
    }
   },
   "types_to_exclude": [
    "module",
    "function",
    "builtin_function_or_method",
    "instance",
    "_Feature"
   ],
   "window_display": false
  }
 },
 "nbformat": 4,
 "nbformat_minor": 2
}
