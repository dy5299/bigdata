{
 "cells": [
  {
   "cell_type": "markdown",
   "metadata": {},
   "source": [
    "# Lecture"
   ]
  },
  {
   "cell_type": "markdown",
   "metadata": {},
   "source": [
    "## 사이킷런에서 K폴드 교차 검증 수행 (1)"
   ]
  },
  {
   "cell_type": "code",
   "execution_count": 1,
   "metadata": {},
   "outputs": [],
   "source": [
    "import sklearn.model_selection as ms\n",
    "\n",
    "kfold = ms.KFold(5)"
   ]
  },
  {
   "cell_type": "code",
   "execution_count": 2,
   "metadata": {},
   "outputs": [],
   "source": [
    "import sklearn.datasets as d\n",
    "import sklearn.linear_model as lm\n",
    "\n",
    "diab = d.load_diabetes()\n",
    "X = diab.data\n",
    "y = diab.target\n",
    "\n",
    "lr = lm.LinearRegression()"
   ]
  },
  {
   "cell_type": "code",
   "execution_count": 3,
   "metadata": {},
   "outputs": [],
   "source": [
    "import sklearn.metrics as mt\n",
    "\n",
    "n_iter = 0\n",
    "r2_scores = []\n",
    "\n",
    "for train_num, test_num in kfold.split(X):\n",
    "    X_train, X_test = X[train_num], X[test_num]\n",
    "    y_train, y_test = y[train_num], y[test_num]\n",
    "    \n",
    "    reg = lr.fit(X_train, y_train)\n",
    "    y_pred = reg.predict(X_test)\n",
    "    \n",
    "    n_iter += 1\n",
    "    r2_scores.append(  mt.r2_score(y_test, y_pred)  )"
   ]
  },
  {
   "cell_type": "code",
   "execution_count": 6,
   "metadata": {},
   "outputs": [
    {
     "name": "stdout",
     "output_type": "stream",
     "text": [
      "[1회차] R2: 0.430\n",
      "[2회차] R2: 0.523\n",
      "[3회차] R2: 0.483\n",
      "[4회차] R2: 0.427\n",
      "[5회차] R2: 0.550\n",
      "평균 R2: 0.482\n"
     ]
    }
   ],
   "source": [
    "import numpy as np\n",
    "\n",
    "for i in range(n_iter):\n",
    "    print(\"[{}회차] R2: {:.3f}\".format(i+1, r2_scores[i]))\n",
    "print(\"평균 R2:\", np.round(np.mean(r2_scores), 3))"
   ]
  },
  {
   "cell_type": "markdown",
   "metadata": {},
   "source": [
    "## 사이킷런에서 K폴드 교차 검증 수행 (2)"
   ]
  },
  {
   "cell_type": "code",
   "execution_count": 7,
   "metadata": {},
   "outputs": [
    {
     "name": "stdout",
     "output_type": "stream",
     "text": [
      "교차 검증 회차별 R2: [0.43  0.523 0.483 0.427 0.55 ]\n",
      "평균 R2: 0.482\n"
     ]
    }
   ],
   "source": [
    "import sklearn.datasets as d\n",
    "import sklearn.linear_model as lm\n",
    "import sklearn.model_selection as ms\n",
    "import numpy as np\n",
    "\n",
    "diab = d.load_diabetes()\n",
    "X = diab.data\n",
    "y = diab.target\n",
    "lr = lm.LinearRegression()\n",
    "\n",
    "r2_scores = ms.cross_val_score(lr, X, y, cv=5)\n",
    "\n",
    "print(\"교차 검증 회차별 R2:\", np.round(r2_scores, 3))\n",
    "print(\"평균 R2:\", np.round(np.mean(r2_scores), 3))"
   ]
  },
  {
   "cell_type": "code",
   "execution_count": 8,
   "metadata": {},
   "outputs": [
    {
     "name": "stdout",
     "output_type": "stream",
     "text": [
      "교차 검증 회차별 R2: [0.404 0.521 0.544]\n",
      "평균 R2: 0.49\n"
     ]
    }
   ],
   "source": [
    "import sklearn.datasets as d\n",
    "import sklearn.linear_model as lm\n",
    "import sklearn.model_selection as ms\n",
    "import numpy as np\n",
    "\n",
    "diab = d.load_diabetes()\n",
    "X = diab.data\n",
    "y = diab.target\n",
    "lr = lm.LinearRegression()\n",
    "\n",
    "# KFold: 각 폴드마다 shuffling 가능. -> cross_val_score에는 없는 기능.\n",
    "kfold = ms.KFold(3, shuffle=True, random_state=0)\n",
    "r2_scores = ms.cross_val_score(lr, X, y, cv=kfold)\n",
    "\n",
    "print(\"교차 검증 회차별 R2:\", np.round(r2_scores, 3))\n",
    "print(\"평균 R2:\", np.round(np.mean(r2_scores), 3))"
   ]
  },
  {
   "cell_type": "markdown",
   "metadata": {},
   "source": [
    "# practice"
   ]
  },
  {
   "cell_type": "code",
   "execution_count": 9,
   "metadata": {},
   "outputs": [],
   "source": [
    "import sklearn.datasets as d\n",
    "import sklearn.metrics as mt\n",
    "import sklearn.linear_model as lm\n",
    "import sklearn.model_selection as ms\n",
    "import pandas as pd\n",
    "import numpy as np"
   ]
  },
  {
   "cell_type": "code",
   "execution_count": 11,
   "metadata": {},
   "outputs": [
    {
     "name": "stdout",
     "output_type": "stream",
     "text": [
      "[0.66875949 0.7342547  0.70986601 0.77595168 0.68727731]\n"
     ]
    }
   ],
   "source": [
    "boston = d.load_boston()\n",
    "X = boston.data\n",
    "y = boston.target\n",
    "\n",
    "lr = lm.LinearRegression()\n",
    "\n",
    "kf = ms.KFold(5, shuffle = True, random_state = 42)    #n_splits = 5\n",
    "\n",
    "result = ms.cross_val_score(lr, X, y, cv=kf)    # fold 갯수만큼의 r2 score 값들\n",
    "\n",
    "print(result)"
   ]
  },
  {
   "cell_type": "markdown",
   "metadata": {},
   "source": [
    "스코어들 보니, 의미가 있는 것 같다."
   ]
  },
  {
   "cell_type": "code",
   "execution_count": null,
   "metadata": {},
   "outputs": [],
   "source": []
  }
 ],
 "metadata": {
  "kernelspec": {
   "display_name": "Python 3",
   "language": "python",
   "name": "python3"
  },
  "language_info": {
   "codemirror_mode": {
    "name": "ipython",
    "version": 3
   },
   "file_extension": ".py",
   "mimetype": "text/x-python",
   "name": "python",
   "nbconvert_exporter": "python",
   "pygments_lexer": "ipython3",
   "version": "3.6.10"
  }
 },
 "nbformat": 4,
 "nbformat_minor": 4
}
