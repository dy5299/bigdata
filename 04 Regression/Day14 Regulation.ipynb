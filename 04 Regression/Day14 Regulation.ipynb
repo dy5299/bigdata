{
 "cells": [
  {
   "cell_type": "markdown",
   "metadata": {},
   "source": [
    "# Regulation"
   ]
  },
  {
   "cell_type": "code",
   "execution_count": 3,
   "metadata": {},
   "outputs": [],
   "source": [
    "import sklearn.datasets as d\n",
    "import sklearn.model_selection as ms\n",
    "import sklearn.linear_model as lm\n",
    "import sklearn.metrics as mt\n",
    "import pandas as pd\n",
    "import numpy as np\n",
    "import matplotlib.pyplot as plt\n",
    "%matplotlib inline"
   ]
  },
  {
   "cell_type": "code",
   "execution_count": 5,
   "metadata": {},
   "outputs": [],
   "source": [
    "diab = d.load_diabetes()\n",
    "X_train, X_test, y_train, y_test = ms.train_test_split(\n",
    "    diab.data, diab.target, test_size = 0.3, random_state = 78)"
   ]
  },
  {
   "cell_type": "markdown",
   "metadata": {},
   "source": [
    "## Ridge Reg\n",
    "alpha = 0.01"
   ]
  },
  {
   "cell_type": "code",
   "execution_count": 7,
   "metadata": {},
   "outputs": [],
   "source": [
    "ridge = lm.Ridge(alpha = 0.01)\n",
    "reg = ridge.fit(X_train, y_train)\n",
    "\n",
    "y_pred = reg.predict(X_test)"
   ]
  },
  {
   "cell_type": "code",
   "execution_count": 9,
   "metadata": {},
   "outputs": [
    {
     "data": {
      "text/plain": [
       "s5     735.286\n",
       "bmi    450.733\n",
       "bp     367.440\n",
       "s2     239.094\n",
       "s6      60.548\n",
       "s4     -23.619\n",
       "age    -29.339\n",
       "s3     -95.215\n",
       "sex   -179.510\n",
       "s1    -436.699\n",
       "dtype: float64"
      ]
     },
     "execution_count": 9,
     "metadata": {},
     "output_type": "execute_result"
    }
   ],
   "source": [
    "coefs = pd.Series(np.round(reg.coef_, 3), index = diab.feature_names)\n",
    "coefs.sort_values(ascending=False)"
   ]
  },
  {
   "cell_type": "code",
   "execution_count": null,
   "metadata": {},
   "outputs": [],
   "source": []
  },
  {
   "cell_type": "code",
   "execution_count": 10,
   "metadata": {
    "scrolled": true
   },
   "outputs": [
    {
     "data": {
      "text/plain": [
       "153.422"
      ]
     },
     "execution_count": 10,
     "metadata": {},
     "output_type": "execute_result"
    }
   ],
   "source": [
    "round(reg.intercept_, 3)"
   ]
  },
  {
   "cell_type": "code",
   "execution_count": 11,
   "metadata": {},
   "outputs": [
    {
     "data": {
      "text/plain": [
       "<matplotlib.collections.PathCollection at 0x26148b25ef0>"
      ]
     },
     "execution_count": 11,
     "metadata": {},
     "output_type": "execute_result"
    },
    {
     "data": {
      "image/png": "[encoded data removed]",
      "text/plain": [
       "<Figure size 432x288 with 1 Axes>"
      ]
     },
     "metadata": {
      "needs_background": "light"
     },
     "output_type": "display_data"
    }
   ],
   "source": [
    "plt.scatter(y_test, y_pred, color = 'blue')"
   ]
  },
  {
   "cell_type": "code",
   "execution_count": 34,
   "metadata": {},
   "outputs": [
    {
     "data": {
      "text/html": [
       "<div>\n",
       "<style scoped>\n",
       "    .dataframe tbody tr th:only-of-type {\n",
       "        vertical-align: middle;\n",
       "    }\n",
       "\n",
       "    .dataframe tbody tr th {\n",
       "        vertical-align: top;\n",
       "    }\n",
       "\n",
       "    .dataframe thead th {\n",
       "        text-align: right;\n",
       "    }\n",
       "</style>\n",
       "<table border=\"1\" class=\"dataframe\">\n",
       "  <thead>\n",
       "    <tr style=\"text-align: right;\">\n",
       "      <th></th>\n",
       "      <th>alpha = 0</th>\n",
       "      <th>alpha = 0.01</th>\n",
       "      <th>alpha = 1</th>\n",
       "      <th>alpha = 10</th>\n",
       "      <th>alpha = 100</th>\n",
       "    </tr>\n",
       "  </thead>\n",
       "  <tbody>\n",
       "    <tr>\n",
       "      <th>AGE</th>\n",
       "      <td>-10.012198</td>\n",
       "      <td>-7.199457</td>\n",
       "      <td>29.465746</td>\n",
       "      <td>19.812822</td>\n",
       "      <td>2.897090</td>\n",
       "    </tr>\n",
       "    <tr>\n",
       "      <th>SEX</th>\n",
       "      <td>-239.819089</td>\n",
       "      <td>-234.552930</td>\n",
       "      <td>-83.154885</td>\n",
       "      <td>-0.918458</td>\n",
       "      <td>0.585254</td>\n",
       "    </tr>\n",
       "    <tr>\n",
       "      <th>BMI</th>\n",
       "      <td>519.839787</td>\n",
       "      <td>520.583136</td>\n",
       "      <td>306.351627</td>\n",
       "      <td>75.416167</td>\n",
       "      <td>9.240719</td>\n",
       "    </tr>\n",
       "    <tr>\n",
       "      <th>BP</th>\n",
       "      <td>324.390428</td>\n",
       "      <td>320.523356</td>\n",
       "      <td>201.629434</td>\n",
       "      <td>55.025419</td>\n",
       "      <td>6.931321</td>\n",
       "    </tr>\n",
       "    <tr>\n",
       "      <th>S1</th>\n",
       "      <td>-792.184162</td>\n",
       "      <td>-380.607066</td>\n",
       "      <td>5.909369</td>\n",
       "      <td>19.924600</td>\n",
       "      <td>3.230957</td>\n",
       "    </tr>\n",
       "    <tr>\n",
       "      <th>S2</th>\n",
       "      <td>476.745838</td>\n",
       "      <td>150.483752</td>\n",
       "      <td>-29.515927</td>\n",
       "      <td>13.948686</td>\n",
       "      <td>2.616766</td>\n",
       "    </tr>\n",
       "    <tr>\n",
       "      <th>S3</th>\n",
       "      <td>101.044570</td>\n",
       "      <td>-78.591232</td>\n",
       "      <td>-152.040465</td>\n",
       "      <td>-47.553816</td>\n",
       "      <td>-6.174550</td>\n",
       "    </tr>\n",
       "    <tr>\n",
       "      <th>S4</th>\n",
       "      <td>177.064176</td>\n",
       "      <td>130.313059</td>\n",
       "      <td>117.311715</td>\n",
       "      <td>48.259420</td>\n",
       "      <td>6.678027</td>\n",
       "    </tr>\n",
       "    <tr>\n",
       "      <th>S5</th>\n",
       "      <td>751.279321</td>\n",
       "      <td>592.349587</td>\n",
       "      <td>262.944995</td>\n",
       "      <td>70.144068</td>\n",
       "      <td>8.876864</td>\n",
       "    </tr>\n",
       "    <tr>\n",
       "      <th>S6</th>\n",
       "      <td>67.625386</td>\n",
       "      <td>71.133768</td>\n",
       "      <td>111.878718</td>\n",
       "      <td>44.213876</td>\n",
       "      <td>5.955597</td>\n",
       "    </tr>\n",
       "    <tr>\n",
       "      <th>INTERCEPT</th>\n",
       "      <td>152.133484</td>\n",
       "      <td>152.133484</td>\n",
       "      <td>152.133484</td>\n",
       "      <td>152.133484</td>\n",
       "      <td>152.133484</td>\n",
       "    </tr>\n",
       "  </tbody>\n",
       "</table>\n",
       "</div>"
      ],
      "text/plain": [
       "            alpha = 0  alpha = 0.01   alpha = 1  alpha = 10  alpha = 100\n",
       "AGE        -10.012198     -7.199457   29.465746   19.812822     2.897090\n",
       "SEX       -239.819089   -234.552930  -83.154885   -0.918458     0.585254\n",
       "BMI        519.839787    520.583136  306.351627   75.416167     9.240719\n",
       "BP         324.390428    320.523356  201.629434   55.025419     6.931321\n",
       "S1        -792.184162   -380.607066    5.909369   19.924600     3.230957\n",
       "S2         476.745838    150.483752  -29.515927   13.948686     2.616766\n",
       "S3         101.044570    -78.591232 -152.040465  -47.553816    -6.174550\n",
       "S4         177.064176    130.313059  117.311715   48.259420     6.678027\n",
       "S5         751.279321    592.349587  262.944995   70.144068     8.876864\n",
       "S6          67.625386     71.133768  111.878718   44.213876     5.955597\n",
       "INTERCEPT  152.133484    152.133484  152.133484  152.133484   152.133484"
      ]
     },
     "execution_count": 34,
     "metadata": {},
     "output_type": "execute_result"
    }
   ],
   "source": [
    "result = pd.DataFrame()\n",
    "for a in [0, 0.01, 1, 10, 100]:\n",
    "    ridge = lm.Ridge(alpha = a)\n",
    "#     reg = ridge.fit(X_train, y_train)\n",
    "    reg = ridge.fit(diab.data, diab.target)\n",
    "\n",
    "#     y_pred = reg.predict(X_test)\n",
    "\n",
    "    coefs = pd.Series(np.hstack([reg.coef_, reg.intercept_]), \n",
    "                      index = map(lambda x: x.upper(), diab.feature_names+ [\"INTERCEPT\"]))\n",
    "    cname = \"alpha = \" + str(a)\n",
    "#     result.append(coefs, ignore_index=True) 안 됨\n",
    "    result[cname] = coefs\n",
    "\n",
    "result"
   ]
  },
  {
   "cell_type": "markdown",
   "metadata": {},
   "source": [
    "## Lasso Reg"
   ]
  },
  {
   "cell_type": "code",
   "execution_count": 36,
   "metadata": {},
   "outputs": [],
   "source": [
    "lasso = lm.Lasso(alpha = 0.01)\n",
    "reg = lasso.fit(X_train, y_train)\n",
    "\n",
    "y_pred = reg.predict(X_test)"
   ]
  },
  {
   "cell_type": "code",
   "execution_count": 37,
   "metadata": {},
   "outputs": [
    {
     "data": {
      "text/plain": [
       "s5     825.933\n",
       "bmi    451.930\n",
       "s2     400.500\n",
       "bp     367.985\n",
       "s6      50.191\n",
       "s4       0.000\n",
       "s3      -0.000\n",
       "age    -27.913\n",
       "sex   -177.585\n",
       "s1    -643.630\n",
       "dtype: float64"
      ]
     },
     "execution_count": 37,
     "metadata": {},
     "output_type": "execute_result"
    }
   ],
   "source": [
    "coefs = pd.Series(np.round(reg.coef_, 3), index = diab.feature_names)\n",
    "coefs.sort_values(ascending=False)"
   ]
  },
  {
   "cell_type": "markdown",
   "metadata": {},
   "source": [
    "s3, s4가 0 -> 이 규제에서 아무 가치 없는 독립 변수.  \n",
    "이런 식으로 특정 독립 변수를 탈락시킬 수 있다."
   ]
  },
  {
   "cell_type": "code",
   "execution_count": 38,
   "metadata": {},
   "outputs": [
    {
     "data": {
      "text/plain": [
       "<matplotlib.collections.PathCollection at 0x26148cad668>"
      ]
     },
     "execution_count": 38,
     "metadata": {},
     "output_type": "execute_result"
    },
    {
     "data": {
      "image/png": "[encoded data removed]",
      "text/plain": [
       "<Figure size 432x288 with 1 Axes>"
      ]
     },
     "metadata": {
      "needs_background": "light"
     },
     "output_type": "display_data"
    }
   ],
   "source": [
    "plt.scatter(y_test, y_pred, color = \"red\")"
   ]
  },
  {
   "cell_type": "code",
   "execution_count": 40,
   "metadata": {},
   "outputs": [
    {
     "name": "stderr",
     "output_type": "stream",
     "text": [
      "C:\\Anaconda3\\envs\\py36\\lib\\site-packages\\ipykernel_launcher.py:4: UserWarning: With alpha=0, this algorithm does not converge well. You are advised to use the LinearRegression estimator\n",
      "  after removing the cwd from sys.path.\n",
      "C:\\Anaconda3\\envs\\py36\\lib\\site-packages\\sklearn\\linear_model\\_coordinate_descent.py:531: UserWarning: Coordinate descent with no regularization may lead to unexpected results and is discouraged.\n",
      "  positive)\n",
      "C:\\Anaconda3\\envs\\py36\\lib\\site-packages\\sklearn\\linear_model\\_coordinate_descent.py:531: ConvergenceWarning: Objective did not converge. You might want to increase the number of iterations. Duality gap: 453376.2486197757, tolerance: 186.12641423948216\n",
      "  positive)\n"
     ]
    },
    {
     "data": {
      "text/html": [
       "<div>\n",
       "<style scoped>\n",
       "    .dataframe tbody tr th:only-of-type {\n",
       "        vertical-align: middle;\n",
       "    }\n",
       "\n",
       "    .dataframe tbody tr th {\n",
       "        vertical-align: top;\n",
       "    }\n",
       "\n",
       "    .dataframe thead th {\n",
       "        text-align: right;\n",
       "    }\n",
       "</style>\n",
       "<table border=\"1\" class=\"dataframe\">\n",
       "  <thead>\n",
       "    <tr style=\"text-align: right;\">\n",
       "      <th></th>\n",
       "      <th>alpha = 0</th>\n",
       "      <th>alpha = 0.01</th>\n",
       "      <th>alpha = 1</th>\n",
       "      <th>alpha = 10</th>\n",
       "      <th>alpha = 100</th>\n",
       "    </tr>\n",
       "  </thead>\n",
       "  <tbody>\n",
       "    <tr>\n",
       "      <th>AGE</th>\n",
       "      <td>-40.650538</td>\n",
       "      <td>-27.912894</td>\n",
       "      <td>0.000000</td>\n",
       "      <td>0.000000</td>\n",
       "      <td>0.000000</td>\n",
       "    </tr>\n",
       "    <tr>\n",
       "      <th>SEX</th>\n",
       "      <td>-188.833784</td>\n",
       "      <td>-177.585296</td>\n",
       "      <td>0.000000</td>\n",
       "      <td>0.000000</td>\n",
       "      <td>0.000000</td>\n",
       "    </tr>\n",
       "    <tr>\n",
       "      <th>BMI</th>\n",
       "      <td>446.193843</td>\n",
       "      <td>451.929617</td>\n",
       "      <td>253.725556</td>\n",
       "      <td>0.000000</td>\n",
       "      <td>0.000000</td>\n",
       "    </tr>\n",
       "    <tr>\n",
       "      <th>BP</th>\n",
       "      <td>376.688555</td>\n",
       "      <td>367.985068</td>\n",
       "      <td>121.495100</td>\n",
       "      <td>0.000000</td>\n",
       "      <td>0.000000</td>\n",
       "    </tr>\n",
       "    <tr>\n",
       "      <th>S1</th>\n",
       "      <td>-1088.036363</td>\n",
       "      <td>-643.629750</td>\n",
       "      <td>0.000000</td>\n",
       "      <td>0.000000</td>\n",
       "      <td>0.000000</td>\n",
       "    </tr>\n",
       "    <tr>\n",
       "      <th>S2</th>\n",
       "      <td>762.812001</td>\n",
       "      <td>400.500062</td>\n",
       "      <td>0.000000</td>\n",
       "      <td>0.000000</td>\n",
       "      <td>0.000000</td>\n",
       "    </tr>\n",
       "    <tr>\n",
       "      <th>S3</th>\n",
       "      <td>181.587593</td>\n",
       "      <td>-0.000000</td>\n",
       "      <td>-0.000000</td>\n",
       "      <td>-0.000000</td>\n",
       "      <td>-0.000000</td>\n",
       "    </tr>\n",
       "    <tr>\n",
       "      <th>S4</th>\n",
       "      <td>35.485976</td>\n",
       "      <td>0.000000</td>\n",
       "      <td>0.000000</td>\n",
       "      <td>0.000000</td>\n",
       "      <td>0.000000</td>\n",
       "    </tr>\n",
       "    <tr>\n",
       "      <th>S5</th>\n",
       "      <td>1003.980125</td>\n",
       "      <td>825.932724</td>\n",
       "      <td>336.890966</td>\n",
       "      <td>0.000000</td>\n",
       "      <td>0.000000</td>\n",
       "    </tr>\n",
       "    <tr>\n",
       "      <th>S6</th>\n",
       "      <td>52.820141</td>\n",
       "      <td>50.190671</td>\n",
       "      <td>0.000000</td>\n",
       "      <td>0.000000</td>\n",
       "      <td>0.000000</td>\n",
       "    </tr>\n",
       "    <tr>\n",
       "      <th>INTERCEPT</th>\n",
       "      <td>153.506281</td>\n",
       "      <td>153.436904</td>\n",
       "      <td>153.478812</td>\n",
       "      <td>153.773463</td>\n",
       "      <td>153.773463</td>\n",
       "    </tr>\n",
       "  </tbody>\n",
       "</table>\n",
       "</div>"
      ],
      "text/plain": [
       "             alpha = 0  alpha = 0.01   alpha = 1  alpha = 10  alpha = 100\n",
       "AGE         -40.650538    -27.912894    0.000000    0.000000     0.000000\n",
       "SEX        -188.833784   -177.585296    0.000000    0.000000     0.000000\n",
       "BMI         446.193843    451.929617  253.725556    0.000000     0.000000\n",
       "BP          376.688555    367.985068  121.495100    0.000000     0.000000\n",
       "S1        -1088.036363   -643.629750    0.000000    0.000000     0.000000\n",
       "S2          762.812001    400.500062    0.000000    0.000000     0.000000\n",
       "S3          181.587593     -0.000000   -0.000000   -0.000000    -0.000000\n",
       "S4           35.485976      0.000000    0.000000    0.000000     0.000000\n",
       "S5         1003.980125    825.932724  336.890966    0.000000     0.000000\n",
       "S6           52.820141     50.190671    0.000000    0.000000     0.000000\n",
       "INTERCEPT   153.506281    153.436904  153.478812  153.773463   153.773463"
      ]
     },
     "execution_count": 40,
     "metadata": {},
     "output_type": "execute_result"
    }
   ],
   "source": [
    "result = pd.DataFrame()\n",
    "for a in [0, 0.01, 1, 10, 100]:\n",
    "    lasso = lm.Lasso(alpha = a)\n",
    "    reg = lasso.fit(X_train, y_train)\n",
    "\n",
    "    y_pred = reg.predict(X_test)\n",
    "\n",
    "    coefs = pd.Series(np.hstack([reg.coef_, reg.intercept_]), \n",
    "                      index = map(lambda x: x.upper(), diab.feature_names+ [\"INTERCEPT\"]))\n",
    "    cname = \"alpha = \" + str(a)\n",
    "#     result.append(coefs, ignore_index=True) 안 됨\n",
    "    result[cname] = coefs\n",
    "\n",
    "result"
   ]
  },
  {
   "cell_type": "markdown",
   "metadata": {},
   "source": [
    "alpha가 점차 증가할 때, 특정 시점에서 0으로 떨어져버린다.  \n",
    "alpha = 1 이후는 데이터를 반영 안 한 것임.  \n",
    "alpha = 1 정도에서, 주요 변수 추출 가능함.  "
   ]
  },
  {
   "cell_type": "markdown",
   "metadata": {},
   "source": [
    "## Elastic Reg"
   ]
  },
  {
   "cell_type": "code",
   "execution_count": 51,
   "metadata": {},
   "outputs": [],
   "source": [
    "elastic = lm.ElasticNet(alpha = 0.01, l1_ratio=0.5)\n",
    "reg = elastic.fit(X_train, y_train)\n",
    "\n",
    "y_pred = reg.predict(X_test)"
   ]
  },
  {
   "cell_type": "code",
   "execution_count": 52,
   "metadata": {},
   "outputs": [
    {
     "data": {
      "text/plain": [
       "s5     193.035\n",
       "bmi    188.291\n",
       "bp     166.146\n",
       "s6      97.612\n",
       "s4      88.288\n",
       "age     41.467\n",
       "s1      17.336\n",
       "s2      -6.645\n",
       "sex    -15.595\n",
       "s3    -113.204\n",
       "dtype: float64"
      ]
     },
     "execution_count": 52,
     "metadata": {},
     "output_type": "execute_result"
    }
   ],
   "source": [
    "coefs = pd.Series(np.round(reg.coef_, 3), index = diab.feature_names)\n",
    "coefs.sort_values(ascending=False)"
   ]
  },
  {
   "cell_type": "code",
   "execution_count": 53,
   "metadata": {},
   "outputs": [
    {
     "data": {
      "text/plain": [
       "<matplotlib.collections.PathCollection at 0x26148e1f438>"
      ]
     },
     "execution_count": 53,
     "metadata": {},
     "output_type": "execute_result"
    },
    {
     "data": {
      "image/png": "[encoded data removed]",
      "text/plain": [
       "<Figure size 432x288 with 1 Axes>"
      ]
     },
     "metadata": {
      "needs_background": "light"
     },
     "output_type": "display_data"
    }
   ],
   "source": [
    "plt.scatter(y_test, y_pred, color = \"purple\")"
   ]
  },
  {
   "cell_type": "code",
   "execution_count": 54,
   "metadata": {},
   "outputs": [
    {
     "name": "stderr",
     "output_type": "stream",
     "text": [
      "C:\\Anaconda3\\envs\\py36\\lib\\site-packages\\ipykernel_launcher.py:4: UserWarning: With alpha=0, this algorithm does not converge well. You are advised to use the LinearRegression estimator\n",
      "  after removing the cwd from sys.path.\n",
      "C:\\Anaconda3\\envs\\py36\\lib\\site-packages\\sklearn\\linear_model\\_coordinate_descent.py:531: UserWarning: Coordinate descent with no regularization may lead to unexpected results and is discouraged.\n",
      "  positive)\n",
      "C:\\Anaconda3\\envs\\py36\\lib\\site-packages\\sklearn\\linear_model\\_coordinate_descent.py:531: ConvergenceWarning: Objective did not converge. You might want to increase the number of iterations. Duality gap: 631991.5781277422, tolerance: 262.1009124434389\n",
      "  positive)\n"
     ]
    },
    {
     "data": {
      "text/html": [
       "<div>\n",
       "<style scoped>\n",
       "    .dataframe tbody tr th:only-of-type {\n",
       "        vertical-align: middle;\n",
       "    }\n",
       "\n",
       "    .dataframe tbody tr th {\n",
       "        vertical-align: top;\n",
       "    }\n",
       "\n",
       "    .dataframe thead th {\n",
       "        text-align: right;\n",
       "    }\n",
       "</style>\n",
       "<table border=\"1\" class=\"dataframe\">\n",
       "  <thead>\n",
       "    <tr style=\"text-align: right;\">\n",
       "      <th></th>\n",
       "      <th>alpha = 0</th>\n",
       "      <th>alpha = 0.01</th>\n",
       "      <th>alpha = 1</th>\n",
       "      <th>alpha = 10</th>\n",
       "      <th>alpha = 100</th>\n",
       "    </tr>\n",
       "  </thead>\n",
       "  <tbody>\n",
       "    <tr>\n",
       "      <th>AGE</th>\n",
       "      <td>-10.012198</td>\n",
       "      <td>33.147202</td>\n",
       "      <td>0.359018</td>\n",
       "      <td>0.000000</td>\n",
       "      <td>0.000000</td>\n",
       "    </tr>\n",
       "    <tr>\n",
       "      <th>SEX</th>\n",
       "      <td>-239.819089</td>\n",
       "      <td>-35.245609</td>\n",
       "      <td>0.000000</td>\n",
       "      <td>0.000000</td>\n",
       "      <td>0.000000</td>\n",
       "    </tr>\n",
       "    <tr>\n",
       "      <th>BMI</th>\n",
       "      <td>519.839787</td>\n",
       "      <td>211.023930</td>\n",
       "      <td>3.259767</td>\n",
       "      <td>0.000000</td>\n",
       "      <td>0.000000</td>\n",
       "    </tr>\n",
       "    <tr>\n",
       "      <th>BP</th>\n",
       "      <td>324.390428</td>\n",
       "      <td>144.560115</td>\n",
       "      <td>2.204356</td>\n",
       "      <td>0.000000</td>\n",
       "      <td>0.000000</td>\n",
       "    </tr>\n",
       "    <tr>\n",
       "      <th>S1</th>\n",
       "      <td>-792.184135</td>\n",
       "      <td>21.931533</td>\n",
       "      <td>0.528646</td>\n",
       "      <td>0.000000</td>\n",
       "      <td>0.000000</td>\n",
       "    </tr>\n",
       "    <tr>\n",
       "      <th>S2</th>\n",
       "      <td>476.745817</td>\n",
       "      <td>0.000000</td>\n",
       "      <td>0.250935</td>\n",
       "      <td>0.000000</td>\n",
       "      <td>0.000000</td>\n",
       "    </tr>\n",
       "    <tr>\n",
       "      <th>S3</th>\n",
       "      <td>101.044558</td>\n",
       "      <td>-115.620017</td>\n",
       "      <td>-1.861363</td>\n",
       "      <td>-0.000000</td>\n",
       "      <td>-0.000000</td>\n",
       "    </tr>\n",
       "    <tr>\n",
       "      <th>S4</th>\n",
       "      <td>177.064173</td>\n",
       "      <td>100.658838</td>\n",
       "      <td>2.114454</td>\n",
       "      <td>0.000000</td>\n",
       "      <td>0.000000</td>\n",
       "    </tr>\n",
       "    <tr>\n",
       "      <th>S5</th>\n",
       "      <td>751.279311</td>\n",
       "      <td>185.326334</td>\n",
       "      <td>3.105841</td>\n",
       "      <td>0.000000</td>\n",
       "      <td>0.000000</td>\n",
       "    </tr>\n",
       "    <tr>\n",
       "      <th>S6</th>\n",
       "      <td>67.625386</td>\n",
       "      <td>96.257214</td>\n",
       "      <td>1.769851</td>\n",
       "      <td>0.000000</td>\n",
       "      <td>0.000000</td>\n",
       "    </tr>\n",
       "    <tr>\n",
       "      <th>INTERCEPT</th>\n",
       "      <td>152.133484</td>\n",
       "      <td>152.133484</td>\n",
       "      <td>152.133484</td>\n",
       "      <td>152.133484</td>\n",
       "      <td>152.133484</td>\n",
       "    </tr>\n",
       "  </tbody>\n",
       "</table>\n",
       "</div>"
      ],
      "text/plain": [
       "            alpha = 0  alpha = 0.01   alpha = 1  alpha = 10  alpha = 100\n",
       "AGE        -10.012198     33.147202    0.359018    0.000000     0.000000\n",
       "SEX       -239.819089    -35.245609    0.000000    0.000000     0.000000\n",
       "BMI        519.839787    211.023930    3.259767    0.000000     0.000000\n",
       "BP         324.390428    144.560115    2.204356    0.000000     0.000000\n",
       "S1        -792.184135     21.931533    0.528646    0.000000     0.000000\n",
       "S2         476.745817      0.000000    0.250935    0.000000     0.000000\n",
       "S3         101.044558   -115.620017   -1.861363   -0.000000    -0.000000\n",
       "S4         177.064173    100.658838    2.114454    0.000000     0.000000\n",
       "S5         751.279311    185.326334    3.105841    0.000000     0.000000\n",
       "S6          67.625386     96.257214    1.769851    0.000000     0.000000\n",
       "INTERCEPT  152.133484    152.133484  152.133484  152.133484   152.133484"
      ]
     },
     "execution_count": 54,
     "metadata": {},
     "output_type": "execute_result"
    }
   ],
   "source": [
    "result = pd.DataFrame()\n",
    "for a in [0, 0.01, 1, 10, 100]:\n",
    "    elastic = lm.ElasticNet(alpha = a, l1_ratio=0.5)\n",
    "    reg = elastic.fit(diab.data, diab.target)\n",
    "\n",
    "    coefs = pd.Series(np.hstack([reg.coef_, reg.intercept_]), \n",
    "                      index = map(lambda x: x.upper(), diab.feature_names+ [\"INTERCEPT\"]))\n",
    "    cname = \"alpha = \" + str(a)\n",
    "    result[cname] = coefs\n",
    "\n",
    "result"
   ]
  },
  {
   "cell_type": "code",
   "execution_count": 58,
   "metadata": {},
   "outputs": [
    {
     "data": {
      "text/html": [
       "<div>\n",
       "<style scoped>\n",
       "    .dataframe tbody tr th:only-of-type {\n",
       "        vertical-align: middle;\n",
       "    }\n",
       "\n",
       "    .dataframe tbody tr th {\n",
       "        vertical-align: top;\n",
       "    }\n",
       "\n",
       "    .dataframe thead th {\n",
       "        text-align: right;\n",
       "    }\n",
       "</style>\n",
       "<table border=\"1\" class=\"dataframe\">\n",
       "  <thead>\n",
       "    <tr style=\"text-align: right;\">\n",
       "      <th></th>\n",
       "      <th>l1_ratio = 0.01</th>\n",
       "      <th>l1_ratio = 0.1</th>\n",
       "      <th>l1_ratio = 0.5</th>\n",
       "      <th>l1_ratio = 0.75</th>\n",
       "      <th>l1_ratio = 1</th>\n",
       "    </tr>\n",
       "  </thead>\n",
       "  <tbody>\n",
       "    <tr>\n",
       "      <th>AGE</th>\n",
       "      <td>29.664286</td>\n",
       "      <td>30.502682</td>\n",
       "      <td>33.147202</td>\n",
       "      <td>29.228680</td>\n",
       "      <td>-1.306575</td>\n",
       "    </tr>\n",
       "    <tr>\n",
       "      <th>SEX</th>\n",
       "      <td>-12.201647</td>\n",
       "      <td>-14.495972</td>\n",
       "      <td>-35.245609</td>\n",
       "      <td>-74.199262</td>\n",
       "      <td>-228.822331</td>\n",
       "    </tr>\n",
       "    <tr>\n",
       "      <th>BMI</th>\n",
       "      <td>139.301981</td>\n",
       "      <td>148.364700</td>\n",
       "      <td>211.023930</td>\n",
       "      <td>293.577325</td>\n",
       "      <td>525.560658</td>\n",
       "    </tr>\n",
       "    <tr>\n",
       "      <th>BP</th>\n",
       "      <td>98.762731</td>\n",
       "      <td>104.728595</td>\n",
       "      <td>144.560115</td>\n",
       "      <td>193.700364</td>\n",
       "      <td>316.175320</td>\n",
       "    </tr>\n",
       "    <tr>\n",
       "      <th>S1</th>\n",
       "      <td>25.795506</td>\n",
       "      <td>25.843804</td>\n",
       "      <td>21.931533</td>\n",
       "      <td>6.387102</td>\n",
       "      <td>-307.013677</td>\n",
       "    </tr>\n",
       "    <tr>\n",
       "      <th>S2</th>\n",
       "      <td>13.027108</td>\n",
       "      <td>11.984279</td>\n",
       "      <td>0.000000</td>\n",
       "      <td>-21.860869</td>\n",
       "      <td>89.321688</td>\n",
       "    </tr>\n",
       "    <tr>\n",
       "      <th>S3</th>\n",
       "      <td>-82.521697</td>\n",
       "      <td>-87.044388</td>\n",
       "      <td>-115.620017</td>\n",
       "      <td>-146.541969</td>\n",
       "      <td>-105.081398</td>\n",
       "    </tr>\n",
       "    <tr>\n",
       "      <th>S4</th>\n",
       "      <td>78.111935</td>\n",
       "      <td>81.552522</td>\n",
       "      <td>100.658838</td>\n",
       "      <td>114.735471</td>\n",
       "      <td>119.597989</td>\n",
       "    </tr>\n",
       "    <tr>\n",
       "      <th>S5</th>\n",
       "      <td>125.786550</td>\n",
       "      <td>133.448258</td>\n",
       "      <td>185.326334</td>\n",
       "      <td>252.764800</td>\n",
       "      <td>571.330871</td>\n",
       "    </tr>\n",
       "    <tr>\n",
       "      <th>S6</th>\n",
       "      <td>73.338215</td>\n",
       "      <td>76.793979</td>\n",
       "      <td>96.257214</td>\n",
       "      <td>110.043179</td>\n",
       "      <td>65.007316</td>\n",
       "    </tr>\n",
       "    <tr>\n",
       "      <th>INTERCEPT</th>\n",
       "      <td>152.133484</td>\n",
       "      <td>152.133484</td>\n",
       "      <td>152.133484</td>\n",
       "      <td>152.133484</td>\n",
       "      <td>152.133484</td>\n",
       "    </tr>\n",
       "  </tbody>\n",
       "</table>\n",
       "</div>"
      ],
      "text/plain": [
       "           l1_ratio = 0.01  l1_ratio = 0.1  l1_ratio = 0.5  l1_ratio = 0.75  \\\n",
       "AGE              29.664286       30.502682       33.147202        29.228680   \n",
       "SEX             -12.201647      -14.495972      -35.245609       -74.199262   \n",
       "BMI             139.301981      148.364700      211.023930       293.577325   \n",
       "BP               98.762731      104.728595      144.560115       193.700364   \n",
       "S1               25.795506       25.843804       21.931533         6.387102   \n",
       "S2               13.027108       11.984279        0.000000       -21.860869   \n",
       "S3              -82.521697      -87.044388     -115.620017      -146.541969   \n",
       "S4               78.111935       81.552522      100.658838       114.735471   \n",
       "S5              125.786550      133.448258      185.326334       252.764800   \n",
       "S6               73.338215       76.793979       96.257214       110.043179   \n",
       "INTERCEPT       152.133484      152.133484      152.133484       152.133484   \n",
       "\n",
       "           l1_ratio = 1  \n",
       "AGE           -1.306575  \n",
       "SEX         -228.822331  \n",
       "BMI          525.560658  \n",
       "BP           316.175320  \n",
       "S1          -307.013677  \n",
       "S2            89.321688  \n",
       "S3          -105.081398  \n",
       "S4           119.597989  \n",
       "S5           571.330871  \n",
       "S6            65.007316  \n",
       "INTERCEPT    152.133484  "
      ]
     },
     "execution_count": 58,
     "metadata": {},
     "output_type": "execute_result"
    }
   ],
   "source": [
    "result = pd.DataFrame()\n",
    "for r in [0.01, 0.1, 0.5, 0.75, 1]:\n",
    "    elastic = lm.ElasticNet(alpha = 0.01, l1_ratio=r)\n",
    "    reg = elastic.fit(diab.data, diab.target)\n",
    "\n",
    "    coefs = pd.Series(np.hstack([reg.coef_, reg.intercept_]), \n",
    "                      index = map(lambda x: x.upper(), diab.feature_names+ [\"INTERCEPT\"]))\n",
    "    cname = \"l1_ratio = \" + str(r)\n",
    "    result[cname] = coefs\n",
    "\n",
    "result"
   ]
  },
  {
   "cell_type": "markdown",
   "metadata": {},
   "source": [
    "l1 ratio가 커져도 l2 규제가 살아있기 때문에, 원래의 lasso 회귀의 특성이 충분히 잘 반영된 회귀 계수는 아니다.  \n",
    "lasso는 0으로 급격히 떨어지는데, elastic 보면 안 떨어진다.  \n",
    "절충한 것이라 좋은 것처럼 보일 수 있겠지만, 무턱대고 쓸 것은 아니다.  "
   ]
  },
  {
   "cell_type": "code",
   "execution_count": null,
   "metadata": {},
   "outputs": [],
   "source": []
  }
 ],
 "metadata": {
  "kernelspec": {
   "display_name": "Python 3",
   "language": "python",
   "name": "python3"
  },
  "language_info": {
   "codemirror_mode": {
    "name": "ipython",
    "version": 3
   },
   "file_extension": ".py",
   "mimetype": "text/x-python",
   "name": "python",
   "nbconvert_exporter": "python",
   "pygments_lexer": "ipython3",
   "version": "3.6.10"
  }
 },
 "nbformat": 4,
 "nbformat_minor": 4
}
