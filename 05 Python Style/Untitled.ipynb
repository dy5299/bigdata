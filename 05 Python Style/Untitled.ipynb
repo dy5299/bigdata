{
 "cells": [
  {
   "cell_type": "code",
   "execution_count": null,
   "metadata": {},
   "outputs": [],
   "source": [
    "def ssum(left, right):    #변수 간 공백\n",
    "    return (left+right, left-right)     #먼저 연산되는 연산자는 붙여서\n",
    "\n",
    "#두 칸 띄기\n",
    "val1 = 5\n",
    "val2 = 8\n",
    "print(ssum(val1, val2))\n",
    "#한 칸 띄기"
   ]
  }
 ],
 "metadata": {
  "kernelspec": {
   "display_name": "Python 3",
   "language": "python",
   "name": "python3"
  },
  "language_info": {
   "codemirror_mode": {
    "name": "ipython",
    "version": 3
   },
   "file_extension": ".py",
   "mimetype": "text/x-python",
   "name": "python",
   "nbconvert_exporter": "python",
   "pygments_lexer": "ipython3",
   "version": "3.6.10"
  }
 },
 "nbformat": 4,
 "nbformat_minor": 4
}
