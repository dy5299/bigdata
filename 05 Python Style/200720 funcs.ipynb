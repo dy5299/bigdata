{
 "cells": [
  {
   "cell_type": "code",
   "execution_count": 1,
   "metadata": {},
   "outputs": [
    {
     "name": "stdout",
     "output_type": "stream",
     "text": [
      "st_size= 632\n"
     ]
    }
   ],
   "source": [
    "import os\n",
    "\n",
    "statinfo = os.stat('Untitled1.ipynb')\n",
    "print('st_size=', statinfo.st_size)\n",
    "print('st_in')"
   ]
  },
  {
   "cell_type": "code",
   "execution_count": 2,
   "metadata": {},
   "outputs": [
    {
     "name": "stdout",
     "output_type": "stream",
     "text": [
      "It's me\n"
     ]
    }
   ],
   "source": [
    "def def_():\n",
    "    return \"It's me\"\n",
    "\n",
    "print(def_())"
   ]
  },
  {
   "cell_type": "code",
   "execution_count": 3,
   "metadata": {},
   "outputs": [
    {
     "name": "stdout",
     "output_type": "stream",
     "text": [
      "2.71828\n",
      "2.71828\n",
      "50\n",
      "50\n"
     ]
    }
   ],
   "source": [
    "# constant\n",
    "_THIS_IS_PRIVATE_E = 2.71828\n",
    "\n",
    "# _ 언더바 하나\n",
    "# 모듈 안에서 쓸거라는 just 명시적 의미\n",
    "# 직접 import 하면 불러올 수는 있으나, from modulename import * 하면 로드 안 됨\n",
    "\n",
    "def _get_evalue():\n",
    "    return _THIS_IS_PRIVATE_E\n",
    "\n",
    "# class\n",
    "class _E_class:\n",
    "    def __init__(this):\n",
    "        this._my_value = 50\n",
    "    def _get_value(this):\n",
    "        return this._my_value\n",
    "\n",
    "    \n",
    "print(_THIS_IS_PRIVATE_E)\n",
    "print(_get_evalue())\n",
    "print(_E_class()._my_value)\n",
    "print(_E_class()._get_value())"
   ]
  },
  {
   "cell_type": "code",
   "execution_count": 4,
   "metadata": {
    "scrolled": false
   },
   "outputs": [
    {
     "name": "stdout",
     "output_type": "stream",
     "text": [
      "2.71828\n",
      "2.71828\n"
     ]
    },
    {
     "ename": "AttributeError",
     "evalue": "'__E_class' object has no attribute '__my_value'",
     "output_type": "error",
     "traceback": [
      "\u001b[1;31m---------------------------------------------------------------------------\u001b[0m",
      "\u001b[1;31mAttributeError\u001b[0m                            Traceback (most recent call last)",
      "\u001b[1;32m<ipython-input-4-fc78c65a0381>\u001b[0m in \u001b[0;36m<module>\u001b[1;34m\u001b[0m\n\u001b[0;32m     10\u001b[0m \u001b[0mprint\u001b[0m\u001b[1;33m(\u001b[0m\u001b[0m__THIS_IS_PRIVATE_E\u001b[0m\u001b[1;33m)\u001b[0m\u001b[1;33m\u001b[0m\u001b[1;33m\u001b[0m\u001b[0m\n\u001b[0;32m     11\u001b[0m \u001b[0mprint\u001b[0m\u001b[1;33m(\u001b[0m\u001b[0m__get_evalue\u001b[0m\u001b[1;33m(\u001b[0m\u001b[1;33m)\u001b[0m\u001b[1;33m)\u001b[0m\u001b[1;33m\u001b[0m\u001b[1;33m\u001b[0m\u001b[0m\n\u001b[1;32m---> 12\u001b[1;33m \u001b[0mprint\u001b[0m\u001b[1;33m(\u001b[0m\u001b[0m__E_class\u001b[0m\u001b[1;33m(\u001b[0m\u001b[1;33m)\u001b[0m\u001b[1;33m.\u001b[0m\u001b[0m__my_value\u001b[0m\u001b[1;33m)\u001b[0m\u001b[1;33m\u001b[0m\u001b[1;33m\u001b[0m\u001b[0m\n\u001b[0m\u001b[0;32m     13\u001b[0m \u001b[0mprint\u001b[0m\u001b[1;33m(\u001b[0m\u001b[0m__E_class\u001b[0m\u001b[1;33m(\u001b[0m\u001b[1;33m)\u001b[0m\u001b[1;33m.\u001b[0m\u001b[0m__get_value\u001b[0m\u001b[1;33m(\u001b[0m\u001b[1;33m)\u001b[0m\u001b[1;33m)\u001b[0m\u001b[1;33m\u001b[0m\u001b[1;33m\u001b[0m\u001b[0m\n",
      "\u001b[1;31mAttributeError\u001b[0m: '__E_class' object has no attribute '__my_value'"
     ]
    }
   ],
   "source": [
    "# __ 언더바 두 개\n",
    "# 모듈 안에서 쓸 것이라는 의미, 외부에서 절대 사용 불가\n",
    "\n",
    "__THIS_IS_PRIVATE_E = 2.71828\n",
    "def __get_evalue():\n",
    "    return __THIS_IS_PRIVATE_E\n",
    "class __E_class:\n",
    "    def __init__(this):\n",
    "        this.__my_value = 50\n",
    "    def __get_value(this):\n",
    "        return this.__my_value\n",
    "\n",
    "print(__THIS_IS_PRIVATE_E)\n",
    "print(__get_evalue())\n",
    "print(__E_class().__my_value)\n",
    "print(__E_class().__get_value())"
   ]
  },
  {
   "cell_type": "code",
   "execution_count": null,
   "metadata": {},
   "outputs": [],
   "source": [
    "# package naming : underscore는 자제.\n",
    "# module naming: low case & underscore. 가독성 위해 _ 사용"
   ]
  },
  {
   "cell_type": "code",
   "execution_count": 5,
   "metadata": {},
   "outputs": [
    {
     "name": "stdout",
     "output_type": "stream",
     "text": [
      "80\n"
     ]
    }
   ],
   "source": [
    "import http.client as c\n",
    "print(c.HTTP_PORT)\n",
    "c.HTTP_PORT = 5    #상수이지만. 변경하면 메모리 상 값이 변경된다"
   ]
  },
  {
   "cell_type": "code",
   "execution_count": 6,
   "metadata": {},
   "outputs": [
    {
     "ename": "NameError",
     "evalue": "name 'HTTP_PORT' is not defined",
     "output_type": "error",
     "traceback": [
      "\u001b[1;31m---------------------------------------------------------------------------\u001b[0m",
      "\u001b[1;31mNameError\u001b[0m                                 Traceback (most recent call last)",
      "\u001b[1;32m<ipython-input-6-9363b7c5257e>\u001b[0m in \u001b[0;36m<module>\u001b[1;34m\u001b[0m\n\u001b[0;32m      1\u001b[0m \u001b[1;31m# single leading underscore\u001b[0m\u001b[1;33m\u001b[0m\u001b[1;33m\u001b[0m\u001b[1;33m\u001b[0m\u001b[0m\n\u001b[0;32m      2\u001b[0m \u001b[1;32mfrom\u001b[0m \u001b[0mhttp\u001b[0m\u001b[1;33m.\u001b[0m\u001b[0mclient\u001b[0m \u001b[1;32mimport\u001b[0m \u001b[1;33m*\u001b[0m\u001b[1;33m\u001b[0m\u001b[1;33m\u001b[0m\u001b[0m\n\u001b[1;32m----> 3\u001b[1;33m \u001b[0mprint\u001b[0m\u001b[1;33m(\u001b[0m\u001b[0mHTTP_PORT\u001b[0m\u001b[1;33m)\u001b[0m\u001b[1;33m\u001b[0m\u001b[1;33m\u001b[0m\u001b[0m\n\u001b[0m",
      "\u001b[1;31mNameError\u001b[0m: name 'HTTP_PORT' is not defined"
     ]
    }
   ],
   "source": [
    "# single leading underscore\n",
    "from http.client import *\n",
    "# import * : 실제로 임포트되는 건 __all__ 리스트 안에 있는 변수, 상수, 함수만 임포트된다.\n",
    "print(HTTP_PORT)"
   ]
  },
  {
   "cell_type": "code",
   "execution_count": null,
   "metadata": {},
   "outputs": [],
   "source": []
  },
  {
   "cell_type": "markdown",
   "metadata": {},
   "source": [
    "# OOP"
   ]
  },
  {
   "cell_type": "code",
   "execution_count": 7,
   "metadata": {},
   "outputs": [
    {
     "name": "stdout",
     "output_type": "stream",
     "text": [
      "6\n"
     ]
    }
   ],
   "source": [
    "a = 2\n",
    "my_name = \"jack\"\n",
    "print(a.__add__(4))"
   ]
  },
  {
   "cell_type": "code",
   "execution_count": 8,
   "metadata": {},
   "outputs": [
    {
     "name": "stdout",
     "output_type": "stream",
     "text": [
      "stop\n"
     ]
    }
   ],
   "source": [
    "name = \"puppy\"\n",
    "direction = \"stop\"\n",
    "\n",
    "def go_to(dir_):    #tdd\n",
    "    direction = dir_\n",
    "\n",
    "go_to(\"go head\")\n",
    "print(direction)"
   ]
  },
  {
   "cell_type": "code",
   "execution_count": 9,
   "metadata": {},
   "outputs": [
    {
     "name": "stdout",
     "output_type": "stream",
     "text": [
      "go head\n"
     ]
    }
   ],
   "source": [
    "name = \"puppy\"\n",
    "direction = \"stop\"\n",
    "\n",
    "def go_to(dir_):    #tdd\n",
    "    global direction\n",
    "    direction = dir_\n",
    "\n",
    "go_to(\"go head\")\n",
    "print(direction)"
   ]
  },
  {
   "cell_type": "code",
   "execution_count": 13,
   "metadata": {},
   "outputs": [
    {
     "name": "stdout",
     "output_type": "stream",
     "text": [
      "stop\n"
     ]
    }
   ],
   "source": [
    "# scott, doldol\n",
    "name2 = \"puppy\"\n",
    "direction2 = \"stop\"\n",
    "\n",
    "def go_to2(dir_):    #tdd\n",
    "    global diretion2\n",
    "    direction2 = dir_\n",
    "\n",
    "go_to2(\"go head\")\n",
    "print(direction2)"
   ]
  },
  {
   "cell_type": "code",
   "execution_count": 19,
   "metadata": {},
   "outputs": [
    {
     "name": "stdout",
     "output_type": "stream",
     "text": [
      "puppy go head\n",
      "scott go left\n"
     ]
    }
   ],
   "source": [
    "class Dog:\n",
    "    def __init__(self, name_):  # constructor\n",
    "        self.name = name_\n",
    "        self.direction = \"stop\"\n",
    "        \n",
    "    def go_to(self, dir_):    # method\n",
    "        self.direction = dir_\n",
    "    \n",
    "    def __str__(self):    # for print\n",
    "        return self.name + \" \" + self.direction\n",
    "\n",
    "    \n",
    "my_puppy = Dog(\"puppy\")\n",
    "my_puppy.go_to(\"go head\")\n",
    "print(my_puppy)\n",
    "\n",
    "my_scott = Dog(\"scott\")\n",
    "my_scott.go_to(\"go left\")\n",
    "print(my_scott)"
   ]
  },
  {
   "cell_type": "code",
   "execution_count": 20,
   "metadata": {},
   "outputs": [
    {
     "name": "stdout",
     "output_type": "stream",
     "text": [
      "<__main__.Dog object at 0x0000018950B58BA8>\n"
     ]
    }
   ],
   "source": [
    "def Dog():\n",
    "    return \"Dog()\"\n",
    "\n",
    "class Dog:\n",
    "    pass\n",
    "\n",
    "my_puppy = Dog()\n",
    "print(my_puppy)\n",
    "\n",
    "#가장 가까운 것이 클래스"
   ]
  },
  {
   "cell_type": "code",
   "execution_count": 21,
   "metadata": {},
   "outputs": [
    {
     "name": "stdout",
     "output_type": "stream",
     "text": [
      "Dog()\n"
     ]
    }
   ],
   "source": [
    "class Dog:\n",
    "    pass\n",
    "\n",
    "def Dog():\n",
    "    return \"Dog()\"\n",
    "\n",
    "my_puppy = Dog()\n",
    "print(my_puppy)\n",
    "\n",
    "#가장 가까운 것이 함수"
   ]
  },
  {
   "cell_type": "code",
   "execution_count": null,
   "metadata": {},
   "outputs": [],
   "source": []
  },
  {
   "cell_type": "code",
   "execution_count": null,
   "metadata": {},
   "outputs": [],
   "source": []
  },
  {
   "cell_type": "code",
   "execution_count": 24,
   "metadata": {},
   "outputs": [
    {
     "name": "stdout",
     "output_type": "stream",
     "text": [
      "puppy go head\n",
      "scott go left\n",
      "puppy\n",
      "puppy stop\n"
     ]
    }
   ],
   "source": [
    "class Dog:\n",
    "    def __init__(this, name_):  # constructor\n",
    "        this.name = name_\n",
    "        this.direction = \"stop\"\n",
    "        \n",
    "    def go_to(my, dir_):    # method\n",
    "        my.direction = dir_\n",
    "    \n",
    "    def __str__(self):    # for print\n",
    "        return self.name + \" \" + self.direction\n",
    "\n",
    "    \n",
    "my_puppy = Dog(\"puppy\")\n",
    "my_puppy.go_to(\"go head\")\n",
    "print(my_puppy)\n",
    "\n",
    "my_scott = Dog(\"scott\")\n",
    "my_scott.go_to(\"go left\")\n",
    "print(my_scott)"
   ]
  },
  {
   "cell_type": "code",
   "execution_count": 29,
   "metadata": {},
   "outputs": [
    {
     "name": "stdout",
     "output_type": "stream",
     "text": [
      "['_Dog__start_with', '__class__', '__delattr__', '__dict__', '__dir__', '__doc__', '__eq__', '__format__', '__ge__', '__getattribute__', '__gt__', '__hash__', '__init__', '__init_subclass__', '__le__', '__lt__', '__module__', '__ne__', '__new__', '__reduce__', '__reduce_ex__', '__repr__', '__setattr__', '__sizeof__', '__str__', '__subclasshook__', '__weakref__', 'direction', 'go_to', 'name']\n"
     ]
    }
   ],
   "source": [
    "class Dog:\n",
    "    def __init__(this, name_):  # constructor\n",
    "        this.name = name_\n",
    "        this.direction = \"stop\"\n",
    "        this.__start_with = False\n",
    "        \n",
    "    def go_to(my, dir_):    # method(#2)\n",
    "        my.direction = dir_\n",
    "    \n",
    "    def __str__(self):    # for print\n",
    "        return self.name + \" \" + self.direction\n",
    "\n",
    "\n",
    "# 클래스 상속\n",
    "class Puppy(Dog):\n",
    "    def __init__(this, name_):  # constructor\n",
    "        super().__init__(name_)    # 부모=super()\n",
    "        print(this.name)\n",
    "        print(this.__start_with)\n",
    "\n",
    "# print(Puppy(\"puppy\"))\n",
    "print(dir(Dog(\"puppy\")))"
   ]
  },
  {
   "cell_type": "code",
   "execution_count": null,
   "metadata": {},
   "outputs": [],
   "source": []
  },
  {
   "cell_type": "code",
   "execution_count": null,
   "metadata": {},
   "outputs": [],
   "source": []
  },
  {
   "cell_type": "markdown",
   "metadata": {},
   "source": [
    " ## List Comprehension"
   ]
  },
  {
   "cell_type": "code",
   "execution_count": null,
   "metadata": {},
   "outputs": [],
   "source": [
    "txt = \"The quick brown for jupsover the lazy dog\""
   ]
  },
  {
   "cell_type": "code",
   "execution_count": 30,
   "metadata": {
    "scrolled": true
   },
   "outputs": [
    {
     "name": "stdout",
     "output_type": "stream",
     "text": [
      "['00', '02', '04', '06', '10', '12', '14', '16', '30', '32', '34', '36', '50', '52', '54', '56']\n",
      "[['00', '10', '30', '50'], ['02', '12', '32', '52'], ['04', '14', '34', '54'], ['06', '16', '36', '56']]\n"
     ]
    }
   ],
   "source": [
    "# Nested loop: 대괄호 위치에 따른 우선순위 제어\n",
    "even = \"0246\"\n",
    "odd = \"0135\"\n",
    "print([i+j for i in odd for j in even])\n",
    "print([[i+j for i in odd] for j in even])"
   ]
  },
  {
   "cell_type": "code",
   "execution_count": null,
   "metadata": {},
   "outputs": [],
   "source": [
    "s_list = [('math', 90), ('history', 80), ('English', 95), ('cs',)]"
   ]
  },
  {
   "cell_type": "code",
   "execution_count": 31,
   "metadata": {},
   "outputs": [],
   "source": [
    "mul = (  x**2  for x in range(0,10))"
   ]
  },
  {
   "cell_type": "code",
   "execution_count": 32,
   "metadata": {},
   "outputs": [
    {
     "name": "stdout",
     "output_type": "stream",
     "text": [
      "0\n",
      "1\n",
      "4\n",
      "9\n"
     ]
    }
   ],
   "source": [
    "print(next(mul))\n",
    "print(next(mul))\n",
    "print(next(mul))\n",
    "print(next(mul))"
   ]
  },
  {
   "cell_type": "markdown",
   "metadata": {},
   "source": [
    "1. comprehension\n",
    "2. MR(map, reduce)\n",
    "    * 응용 형태: enumerate, zip, ..."
   ]
  },
  {
   "cell_type": "markdown",
   "metadata": {},
   "source": [
    "## enumerate\n",
    "* Indexing number와 item를 결합 한(packing) tuple생성"
   ]
  },
  {
   "cell_type": "code",
   "execution_count": 34,
   "metadata": {},
   "outputs": [
    {
     "name": "stdout",
     "output_type": "stream",
     "text": [
      "[(0, 'Spring'), (1, 'Summer')]\n"
     ]
    }
   ],
   "source": [
    "lst = ['Spring', 'Summer']\n",
    "print(list(enumerate(lst, start=0)))"
   ]
  },
  {
   "cell_type": "markdown",
   "metadata": {},
   "source": [
    "## zip\n",
    "* 동일 위치의 각 item을 추출하여 하나의 tuple로 packing"
   ]
  },
  {
   "cell_type": "code",
   "execution_count": 36,
   "metadata": {},
   "outputs": [
    {
     "name": "stdout",
     "output_type": "stream",
     "text": [
      "<class 'tuple'>\n",
      "([1, 2, 3], [4, 5, 6])\n"
     ]
    }
   ],
   "source": [
    "def myzip(*iterables):\n",
    "    print(type(iterables))\n",
    "    print(iterables)\n",
    "    \n",
    "myzip([1,2,3], [4,5,6])"
   ]
  },
  {
   "cell_type": "code",
   "execution_count": 39,
   "metadata": {},
   "outputs": [
    {
     "name": "stdout",
     "output_type": "stream",
     "text": [
      "<class 'dict'>\n",
      "{'my_first': [1, 2, 3], 'my_send': [4, 5, 6]}\n"
     ]
    }
   ],
   "source": [
    "def myzip(**iterables):\n",
    "    print(type(iterables))\n",
    "    print(iterables)\n",
    "    \n",
    "myzip(my_first=[1,2,3], my_send=[4,5,6])"
   ]
  },
  {
   "cell_type": "code",
   "execution_count": 41,
   "metadata": {},
   "outputs": [
    {
     "data": {
      "text/plain": [
       "[5, 7, 9]"
      ]
     },
     "execution_count": 41,
     "metadata": {},
     "output_type": "execute_result"
    }
   ],
   "source": [
    "[  sum(x) for x in zip([1,2,3], [4,5,6])  ]"
   ]
  },
  {
   "cell_type": "code",
   "execution_count": 43,
   "metadata": {},
   "outputs": [
    {
     "name": "stdout",
     "output_type": "stream",
     "text": [
      "<class 'zip'>\n",
      "<zip object at 0x0000018950B560C8>\n",
      "<class 'tuple'>\n",
      "(1, 4)\n"
     ]
    }
   ],
   "source": [
    "g = zip([1,2,3], [4,5,6])\n",
    "print(type(g))\n",
    "print(g)\n",
    "\n",
    "a,b,c = zip([1,2,3], [4,5,6])\n",
    "print(type(a))\n",
    "print(a)"
   ]
  },
  {
   "cell_type": "code",
   "execution_count": 45,
   "metadata": {},
   "outputs": [
    {
     "name": "stdout",
     "output_type": "stream",
     "text": [
      "(1, 4)\n",
      "[(2, 5), (3, 6)]\n"
     ]
    }
   ],
   "source": [
    "a,*b = zip([1,2,3], [4,5,6])\n",
    "print(a)\n",
    "print(b)"
   ]
  },
  {
   "cell_type": "markdown",
   "metadata": {},
   "source": [
    "### practice"
   ]
  },
  {
   "cell_type": "code",
   "execution_count": 56,
   "metadata": {
    "scrolled": true
   },
   "outputs": [
    {
     "name": "stdout",
     "output_type": "stream",
     "text": [
      "[(0, ('a1', 'b1')), (1, ('a2', 'b2')), (2, ('a3', 'b3'))]\n"
     ]
    }
   ],
   "source": [
    "alist = ['a1', 'a2', 'a3']\n",
    "blist = ['b1', 'b2', 'b3']\n",
    "result = enumerate(zip(alist, blist))\n",
    "print(list(result))"
   ]
  },
  {
   "cell_type": "code",
   "execution_count": 53,
   "metadata": {},
   "outputs": [
    {
     "name": "stdout",
     "output_type": "stream",
     "text": [
      "[[0, 'a1', 'b1'], [1, 'a2', 'b2'], [2, 'a3', 'b3']]\n"
     ]
    }
   ],
   "source": [
    "alist=['a1','a2','a3']\n",
    "blist=['b1','b2','b3']\n",
    "result = [  [index, a_value, b_value] \\\n",
    "    for index, (a_value, b_value) \\\n",
    "          in enumerate(zip(alist, blist))  ]\n",
    "print(result)"
   ]
  },
  {
   "cell_type": "markdown",
   "metadata": {},
   "source": [
    "### practice"
   ]
  },
  {
   "cell_type": "code",
   "execution_count": 68,
   "metadata": {},
   "outputs": [
    {
     "name": "stdout",
     "output_type": "stream",
     "text": [
      "{'env0': ['Seoul', '5512'], 'env1': ['Busan', '113'], 'env2': ['Incheon', '6112']}\n"
     ]
    }
   ],
   "source": [
    "loc = ['Seoul', 'Busan', 'Incheon']\n",
    "est = ['5512', '113', '6112']\n",
    "result = {'env'+str(index) : [l,e] for index,(l,e) in enumerate(zip(loc,est))}\n",
    "print(result)"
   ]
  },
  {
   "cell_type": "markdown",
   "metadata": {},
   "source": [
    "## lambda\n",
    "이름 없는 함수"
   ]
  },
  {
   "cell_type": "code",
   "execution_count": 69,
   "metadata": {},
   "outputs": [
    {
     "name": "stdout",
     "output_type": "stream",
     "text": [
      "3\n"
     ]
    }
   ],
   "source": [
    "def sum_two(l, r):\n",
    "    return l + r\n",
    "\n",
    "print(sum_two(1,2))"
   ]
  },
  {
   "cell_type": "code",
   "execution_count": 71,
   "metadata": {},
   "outputs": [
    {
     "name": "stdout",
     "output_type": "stream",
     "text": [
      "6\n",
      "0\n"
     ]
    }
   ],
   "source": [
    "sum_two_lambda = lambda l, r : l + r if l % 2 == 0 else 0\n",
    "print(sum_two_lambda(2,4))\n",
    "print(sum_two_lambda(1,4))"
   ]
  },
  {
   "cell_type": "code",
   "execution_count": 72,
   "metadata": {},
   "outputs": [
    {
     "data": {
      "text/plain": [
       "3"
      ]
     },
     "execution_count": 72,
     "metadata": {},
     "output_type": "execute_result"
    }
   ],
   "source": [
    "(lambda l, r: l+r)(1,2)"
   ]
  },
  {
   "cell_type": "code",
   "execution_count": 73,
   "metadata": {},
   "outputs": [
    {
     "data": {
      "text/plain": [
       "[2, 4, 6]"
      ]
     },
     "execution_count": 73,
     "metadata": {},
     "output_type": "execute_result"
    }
   ],
   "source": [
    "list(  map(lambda x: x*2, [1,2,3])  )"
   ]
  },
  {
   "cell_type": "code",
   "execution_count": 74,
   "metadata": {},
   "outputs": [
    {
     "data": {
      "text/plain": [
       "3"
      ]
     },
     "execution_count": 74,
     "metadata": {},
     "output_type": "execute_result"
    }
   ],
   "source": [
    "my = map(lambda x,y: x*y, [1,2], [3,4])\n",
    "next(my)"
   ]
  },
  {
   "cell_type": "code",
   "execution_count": 75,
   "metadata": {},
   "outputs": [
    {
     "data": {
      "text/plain": [
       "8"
      ]
     },
     "execution_count": 75,
     "metadata": {},
     "output_type": "execute_result"
    }
   ],
   "source": [
    "next(my)"
   ]
  },
  {
   "cell_type": "code",
   "execution_count": 76,
   "metadata": {},
   "outputs": [
    {
     "ename": "StopIteration",
     "evalue": "",
     "output_type": "error",
     "traceback": [
      "\u001b[1;31m---------------------------------------------------------------------------\u001b[0m",
      "\u001b[1;31mStopIteration\u001b[0m                             Traceback (most recent call last)",
      "\u001b[1;32m<ipython-input-76-9696c2072e1e>\u001b[0m in \u001b[0;36m<module>\u001b[1;34m\u001b[0m\n\u001b[1;32m----> 1\u001b[1;33m \u001b[0mnext\u001b[0m\u001b[1;33m(\u001b[0m\u001b[0mmy\u001b[0m\u001b[1;33m)\u001b[0m\u001b[1;33m\u001b[0m\u001b[1;33m\u001b[0m\u001b[0m\n\u001b[0m",
      "\u001b[1;31mStopIteration\u001b[0m: "
     ]
    }
   ],
   "source": [
    "next(my)"
   ]
  },
  {
   "cell_type": "markdown",
   "metadata": {},
   "source": [
    "### practice"
   ]
  },
  {
   "cell_type": "code",
   "execution_count": 77,
   "metadata": {},
   "outputs": [
    {
     "name": "stdout",
     "output_type": "stream",
     "text": [
      "[1, 4, 9, 16, 25]\n"
     ]
    }
   ],
   "source": [
    "ex = [1,2,3,4,5]\n",
    "print([x**2 for x in ex])"
   ]
  },
  {
   "cell_type": "code",
   "execution_count": 79,
   "metadata": {},
   "outputs": [
    {
     "name": "stdout",
     "output_type": "stream",
     "text": [
      "[1, 4, 9, 16, 25]\n"
     ]
    }
   ],
   "source": [
    "print(list(  map(lambda x:x**2, ex)  ))"
   ]
  },
  {
   "cell_type": "markdown",
   "metadata": {},
   "source": [
    "## reduce\n",
    "iterable에 차례대로 function을 적용하여 하나의 값으로 집계하는 함수"
   ]
  },
  {
   "cell_type": "code",
   "execution_count": 82,
   "metadata": {},
   "outputs": [
    {
     "data": {
      "text/plain": [
       "6"
      ]
     },
     "execution_count": 82,
     "metadata": {},
     "output_type": "execute_result"
    }
   ],
   "source": [
    "from functools import reduce\n",
    "reduce(lambda x, y: x+y, [1,2,3])"
   ]
  },
  {
   "cell_type": "markdown",
   "metadata": {},
   "source": [
    "### practice"
   ]
  },
  {
   "cell_type": "code",
   "execution_count": 87,
   "metadata": {},
   "outputs": [
    {
     "name": "stdout",
     "output_type": "stream",
     "text": [
      "최댓값:\n",
      "최솟값:\n"
     ]
    }
   ],
   "source": [
    "import random\n",
    "import time\n",
    "\n",
    "from functools import reduce\n",
    "\n",
    "random.seed((time.time()))\n",
    "est = [random.random() for _ in range(5)]\n",
    "print('최댓값:', )\n",
    "print('최솟값:', )"
   ]
  },
  {
   "cell_type": "code",
   "execution_count": 88,
   "metadata": {},
   "outputs": [
    {
     "name": "stdout",
     "output_type": "stream",
     "text": [
      "[0.22821673737594328, 0.844377470535101, 0.8249965194207138, 0.570466271314099, 0.9707321427225181]\n"
     ]
    }
   ],
   "source": [
    "print(est)"
   ]
  },
  {
   "cell_type": "code",
   "execution_count": 89,
   "metadata": {},
   "outputs": [
    {
     "name": "stdout",
     "output_type": "stream",
     "text": [
      "최댓값: 0.9707321427225181\n"
     ]
    }
   ],
   "source": [
    "print('최댓값:',   reduce(lambda x,y: x if x>=y else y, est)  )"
   ]
  },
  {
   "cell_type": "code",
   "execution_count": 90,
   "metadata": {},
   "outputs": [
    {
     "name": "stdout",
     "output_type": "stream",
     "text": [
      "최솟값: 0.22821673737594328\n"
     ]
    }
   ],
   "source": [
    "print('최솟값:',   reduce(lambda x,y: x if x<=y else y, est)  )"
   ]
  },
  {
   "cell_type": "markdown",
   "metadata": {},
   "source": [
    "## unpacking"
   ]
  },
  {
   "cell_type": "code",
   "execution_count": 91,
   "metadata": {},
   "outputs": [
    {
     "name": "stdout",
     "output_type": "stream",
     "text": [
      "0\n",
      "[1, 2, 3, 4]\n"
     ]
    }
   ],
   "source": [
    "a, *b = range(5)\n",
    "print(a)\n",
    "print(b)"
   ]
  },
  {
   "cell_type": "code",
   "execution_count": 92,
   "metadata": {},
   "outputs": [
    {
     "name": "stdout",
     "output_type": "stream",
     "text": [
      "[0, 1, 2, 3, 4]\n"
     ]
    }
   ],
   "source": [
    "*a, = range(5)\n",
    "print(a)"
   ]
  },
  {
   "cell_type": "code",
   "execution_count": 93,
   "metadata": {
    "scrolled": true
   },
   "outputs": [
    {
     "ename": "SyntaxError",
     "evalue": "starred assignment target must be in a list or tuple (<ipython-input-93-f811c1b01b33>, line 4)",
     "output_type": "error",
     "traceback": [
      "\u001b[1;36m  File \u001b[1;32m\"<ipython-input-93-f811c1b01b33>\"\u001b[1;36m, line \u001b[1;32m4\u001b[0m\n\u001b[1;31mSyntaxError\u001b[0m\u001b[1;31m:\u001b[0m starred assignment target must be in a list or tuple\n"
     ]
    }
   ],
   "source": [
    "*a = range(5)\n",
    "print(a)"
   ]
  },
  {
   "cell_type": "code",
   "execution_count": 94,
   "metadata": {},
   "outputs": [
    {
     "name": "stdout",
     "output_type": "stream",
     "text": [
      "[2, 3]\n",
      "[5, 6, 7]\n"
     ]
    }
   ],
   "source": [
    "for a, *b in [  (1,2,3), (4,5,6,7)  ]:\n",
    "    print(b)"
   ]
  },
  {
   "cell_type": "code",
   "execution_count": null,
   "metadata": {},
   "outputs": [],
   "source": []
  }
 ],
 "metadata": {
  "kernelspec": {
   "display_name": "Python 3",
   "language": "python",
   "name": "python3"
  },
  "language_info": {
   "codemirror_mode": {
    "name": "ipython",
    "version": 3
   },
   "file_extension": ".py",
   "mimetype": "text/x-python",
   "name": "python",
   "nbconvert_exporter": "python",
   "pygments_lexer": "ipython3",
   "version": "3.6.10"
  }
 },
 "nbformat": 4,
 "nbformat_minor": 4
}
