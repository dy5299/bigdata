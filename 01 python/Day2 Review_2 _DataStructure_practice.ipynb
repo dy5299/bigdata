{
 "cells": [
  {
   "cell_type": "code",
   "execution_count": 1,
   "metadata": {},
   "outputs": [
    {
     "data": {
      "text/plain": [
       "''"
      ]
     },
     "execution_count": 1,
     "metadata": {},
     "output_type": "execute_result"
    }
   ],
   "source": [
    "\"\"\"\"\"\" \n",
    "#1 ~ #9 까지 진행하시오\n",
    "\"\"\"\"\"\" "
   ]
  },
  {
   "cell_type": "code",
   "execution_count": 2,
   "metadata": {},
   "outputs": [],
   "source": [
    "#1. 다음과 같은 3개의 리스트를 생성하라\n",
    "# small_birds - 'hummingbird', 'finch'\n",
    "# extinct_birds  - 'dodo','passenger pigeon' , 'Norwegian Blue'\n",
    "# carol_birds - 'french hens' , 'turtledoves'"
   ]
  },
  {
   "cell_type": "code",
   "execution_count": 27,
   "metadata": {},
   "outputs": [],
   "source": [
    "small_birds = ['hummingbird', 'finch']\n",
    "extinct_birds  = ['dodo','passenger pigeon' , 'Norwegian Blue']\n",
    "carol_birds = ['french hens' , 'turtledoves']"
   ]
  },
  {
   "cell_type": "code",
   "execution_count": 3,
   "metadata": {},
   "outputs": [],
   "source": [
    "#2. 3 개의 리스트를 요소로 갖는  all_birds 를 만들어 보자"
   ]
  },
  {
   "cell_type": "code",
   "execution_count": 28,
   "metadata": {
    "scrolled": true
   },
   "outputs": [],
   "source": [
    "all_birds=[small_birds,extinct_birds,carol_birds]"
   ]
  },
  {
   "cell_type": "code",
   "execution_count": 4,
   "metadata": {},
   "outputs": [],
   "source": [
    "#3.  모든 새를 종류별로 구분 되지 않고 한 줄이 되도록 연결하고 \n",
    "#  all_birds_list에 저장하라\n"
   ]
  },
  {
   "cell_type": "code",
   "execution_count": 29,
   "metadata": {},
   "outputs": [],
   "source": [
    "all_birds_list=[]"
   ]
  },
  {
   "cell_type": "code",
   "execution_count": 30,
   "metadata": {
    "scrolled": true
   },
   "outputs": [],
   "source": [
    "all_birds_list.extend(small_birds)\n",
    "all_birds_list.extend(extinct_birds)\n",
    "all_birds_list.extend(carol_birds)"
   ]
  },
  {
   "cell_type": "code",
   "execution_count": 31,
   "metadata": {},
   "outputs": [
    {
     "data": {
      "text/plain": [
       "['hummingbird',\n",
       " 'finch',\n",
       " 'dodo',\n",
       " 'passenger pigeon',\n",
       " 'Norwegian Blue',\n",
       " 'french hens',\n",
       " 'turtledoves']"
      ]
     },
     "execution_count": 31,
     "metadata": {},
     "output_type": "execute_result"
    }
   ],
   "source": [
    "all_birds_list"
   ]
  },
  {
   "cell_type": "code",
   "execution_count": 5,
   "metadata": {},
   "outputs": [],
   "source": [
    "# 4. small_birds 마지막에 'sparrow' 를 추가해보자"
   ]
  },
  {
   "cell_type": "code",
   "execution_count": 32,
   "metadata": {},
   "outputs": [],
   "source": [
    "small_birds.append('sparrow')"
   ]
  },
  {
   "cell_type": "code",
   "execution_count": 6,
   "metadata": {},
   "outputs": [],
   "source": [
    "# 5. all_birds 와 all_birds_list를 확인해보라. 'sparrow'가 있는가?\n",
    "#    이로 부터  서로 어떤 관계가 있다고 생각되는가?"
   ]
  },
  {
   "cell_type": "code",
   "execution_count": 33,
   "metadata": {},
   "outputs": [
    {
     "data": {
      "text/plain": [
       "[['hummingbird', 'finch', 'sparrow'],\n",
       " ['dodo', 'passenger pigeon', 'Norwegian Blue'],\n",
       " ['french hens', 'turtledoves']]"
      ]
     },
     "execution_count": 33,
     "metadata": {},
     "output_type": "execute_result"
    }
   ],
   "source": [
    "all_birds"
   ]
  },
  {
   "cell_type": "code",
   "execution_count": 34,
   "metadata": {},
   "outputs": [
    {
     "data": {
      "text/plain": [
       "['hummingbird',\n",
       " 'finch',\n",
       " 'dodo',\n",
       " 'passenger pigeon',\n",
       " 'Norwegian Blue',\n",
       " 'french hens',\n",
       " 'turtledoves']"
      ]
     },
     "execution_count": 34,
     "metadata": {},
     "output_type": "execute_result"
    }
   ],
   "source": [
    "all_birds_list"
   ]
  },
  {
   "cell_type": "code",
   "execution_count": 7,
   "metadata": {},
   "outputs": [],
   "source": [
    "# 6. all_birds 내 체계의 순서를 현재의 역순으로 만들고 싶다.\n",
    "# 슬라이싱을 사용해서 진행 해보라\n",
    "# reverse 메소드를 사용해서 진행 해보라\n",
    "# 2 개의 차이가 무엇이라고 생각되나 ?"
   ]
  },
  {
   "cell_type": "code",
   "execution_count": 35,
   "metadata": {},
   "outputs": [
    {
     "data": {
      "text/plain": [
       "[['french hens', 'turtledoves'],\n",
       " ['dodo', 'passenger pigeon', 'Norwegian Blue'],\n",
       " ['hummingbird', 'finch', 'sparrow']]"
      ]
     },
     "execution_count": 35,
     "metadata": {},
     "output_type": "execute_result"
    }
   ],
   "source": [
    "#참조만.\n",
    "all_birds[::-1]"
   ]
  },
  {
   "cell_type": "code",
   "execution_count": 36,
   "metadata": {},
   "outputs": [],
   "source": [
    "#함수임.메소드\n",
    "all_birds.reverse()"
   ]
  },
  {
   "cell_type": "code",
   "execution_count": 37,
   "metadata": {},
   "outputs": [
    {
     "data": {
      "text/plain": [
       "[['french hens', 'turtledoves'],\n",
       " ['dodo', 'passenger pigeon', 'Norwegian Blue'],\n",
       " ['hummingbird', 'finch', 'sparrow']]"
      ]
     },
     "execution_count": 37,
     "metadata": {},
     "output_type": "execute_result"
    }
   ],
   "source": [
    "all_birds"
   ]
  },
  {
   "cell_type": "code",
   "execution_count": 8,
   "metadata": {},
   "outputs": [],
   "source": [
    "#7. all_birds_list 를 이용해서 모든 새의 목록이 \n",
    "# 콤마와 공백문자  ', ' 로 연결된 하나의 문자열을 all_birds_str 에 저장하고\n",
    "# 이를 화면에 보여라\n",
    "#  문자열 메소드 .join() 을 사용한다. "
   ]
  },
  {
   "cell_type": "code",
   "execution_count": 38,
   "metadata": {},
   "outputs": [
    {
     "data": {
      "text/plain": [
       "'hummingbird, finch, dodo, passenger pigeon, Norwegian Blue, french hens, turtledoves'"
      ]
     },
     "execution_count": 38,
     "metadata": {},
     "output_type": "execute_result"
    }
   ],
   "source": [
    "all_birds_str = \", \".join(all_birds_list)\n",
    "all_birds_str"
   ]
  },
  {
   "cell_type": "code",
   "execution_count": 9,
   "metadata": {},
   "outputs": [],
   "source": [
    "#8. all_birds_list를 정렬 하고 마지막 항목을 조회해보라"
   ]
  },
  {
   "cell_type": "code",
   "execution_count": 39,
   "metadata": {},
   "outputs": [],
   "source": [
    "all_birds_list.sort()"
   ]
  },
  {
   "cell_type": "code",
   "execution_count": 41,
   "metadata": {},
   "outputs": [
    {
     "data": {
      "text/plain": [
       "['hummingbird', 'finch', 'sparrow']"
      ]
     },
     "execution_count": 41,
     "metadata": {},
     "output_type": "execute_result"
    }
   ],
   "source": [
    "all_birds[-1]"
   ]
  },
  {
   "cell_type": "code",
   "execution_count": 10,
   "metadata": {},
   "outputs": [],
   "source": [
    "#9. 정렬된 all_birds_list의 마지막 값과 \n",
    "#  all_birds_list의 최대값이 같은지 확인하라"
   ]
  },
  {
   "cell_type": "code",
   "execution_count": 42,
   "metadata": {},
   "outputs": [
    {
     "data": {
      "text/plain": [
       "True"
      ]
     },
     "execution_count": 42,
     "metadata": {},
     "output_type": "execute_result"
    }
   ],
   "source": [
    "all_birds_list[-1]==max(all_birds_list)"
   ]
  },
  {
   "cell_type": "code",
   "execution_count": 11,
   "metadata": {},
   "outputs": [
    {
     "data": {
      "text/plain": [
       "''"
      ]
     },
     "execution_count": 11,
     "metadata": {},
     "output_type": "execute_result"
    }
   ],
   "source": [
    "\"\"\"\n",
    "PRESWOT1 . \n",
    "#9. 에서 출력된 결과 True 또는 False 값을 입력하라 \n",
    "\"\"\"\n",
    "\"\""
   ]
  },
  {
   "cell_type": "code",
   "execution_count": 12,
   "metadata": {},
   "outputs": [
    {
     "data": {
      "text/plain": [
       "''"
      ]
     },
     "execution_count": 12,
     "metadata": {},
     "output_type": "execute_result"
    }
   ],
   "source": [
    "\"\"\"\"\"\" \n",
    "#10 ~ #14 까지 진행하시오\n",
    "\"\"\"\"\"\" "
   ]
  },
  {
   "cell_type": "code",
   "execution_count": 13,
   "metadata": {},
   "outputs": [],
   "source": [
    "# 10. 이번에는 사전을 만들어본다. \n",
    "#  각 새의 유형 (small_birds, extinct_birds,carol_birds) 을 키로 하고\n",
    "# 각 리스트를 값으로 하는  all_birds_dic을 만들어보라\n",
    "# "
   ]
  },
  {
   "cell_type": "code",
   "execution_count": 43,
   "metadata": {},
   "outputs": [],
   "source": [
    "all_birds_dic=dict(\n",
    "small_birds = ['hummingbird', 'finch'],\n",
    "extinct_birds  = ['dodo','passenger pigeon' , 'Norwegian Blue'],\n",
    "carol_birds = ['french hens' , 'turtledoves']\n",
    ")"
   ]
  },
  {
   "cell_type": "code",
   "execution_count": 44,
   "metadata": {},
   "outputs": [
    {
     "data": {
      "text/plain": [
       "{'small_birds': ['hummingbird', 'finch'],\n",
       " 'extinct_birds': ['dodo', 'passenger pigeon', 'Norwegian Blue'],\n",
       " 'carol_birds': ['french hens', 'turtledoves']}"
      ]
     },
     "execution_count": 44,
     "metadata": {},
     "output_type": "execute_result"
    }
   ],
   "source": [
    "all_birds_dic"
   ]
  },
  {
   "cell_type": "code",
   "execution_count": null,
   "metadata": {},
   "outputs": [],
   "source": []
  },
  {
   "cell_type": "code",
   "execution_count": 14,
   "metadata": {},
   "outputs": [],
   "source": [
    "# 11. all_birds_dic 에서 small_birds의 마지막 새를 구하라"
   ]
  },
  {
   "cell_type": "code",
   "execution_count": 46,
   "metadata": {},
   "outputs": [
    {
     "data": {
      "text/plain": [
       "'finch'"
      ]
     },
     "execution_count": 46,
     "metadata": {},
     "output_type": "execute_result"
    }
   ],
   "source": [
    "all_birds_dic['small_birds'][-1]"
   ]
  },
  {
   "cell_type": "code",
   "execution_count": 15,
   "metadata": {},
   "outputs": [],
   "source": [
    "# 12. all_birds_dic 에서 small_birds에 [2] 위치에 'swallow' 를 삽입하라\n",
    "# small_birds 에 변화가 있는지 확인해보라"
   ]
  },
  {
   "cell_type": "code",
   "execution_count": 47,
   "metadata": {},
   "outputs": [],
   "source": [
    "all_birds_dic['small_birds'].append('swallow')"
   ]
  },
  {
   "cell_type": "code",
   "execution_count": 48,
   "metadata": {},
   "outputs": [
    {
     "data": {
      "text/plain": [
       "['hummingbird', 'finch', 'sparrow']"
      ]
     },
     "execution_count": 48,
     "metadata": {},
     "output_type": "execute_result"
    }
   ],
   "source": [
    "small_birds"
   ]
  },
  {
   "cell_type": "code",
   "execution_count": 16,
   "metadata": {},
   "outputs": [],
   "source": [
    "# 13. all_birds_dic 에  polar_bird 인 penguin 을 추가하라\n"
   ]
  },
  {
   "cell_type": "code",
   "execution_count": 49,
   "metadata": {},
   "outputs": [],
   "source": [
    "all_birds_dic['polar_bird']=['penguin']"
   ]
  },
  {
   "cell_type": "code",
   "execution_count": 17,
   "metadata": {},
   "outputs": [],
   "source": [
    "# 14. all_birds_dic에서 분류 유형 명의 목록을 구하라"
   ]
  },
  {
   "cell_type": "code",
   "execution_count": 50,
   "metadata": {},
   "outputs": [
    {
     "data": {
      "text/plain": [
       "dict_keys(['small_birds', 'extinct_birds', 'carol_birds', 'polar_bird'])"
      ]
     },
     "execution_count": 50,
     "metadata": {},
     "output_type": "execute_result"
    }
   ],
   "source": [
    "all_birds_dic.keys()"
   ]
  },
  {
   "cell_type": "code",
   "execution_count": 18,
   "metadata": {},
   "outputs": [
    {
     "data": {
      "text/plain": [
       "''"
      ]
     },
     "execution_count": 18,
     "metadata": {},
     "output_type": "execute_result"
    }
   ],
   "source": [
    "\"\"\"\n",
    "PRESWOT2 . \n",
    "#14. 의 코드를 입력하시오\n",
    "\"\"\"\n",
    "\"\""
   ]
  },
  {
   "cell_type": "code",
   "execution_count": 19,
   "metadata": {},
   "outputs": [
    {
     "data": {
      "text/plain": [
       "''"
      ]
     },
     "execution_count": 19,
     "metadata": {},
     "output_type": "execute_result"
    }
   ],
   "source": [
    "\"\"\"\"\"\" \n",
    "#15 ~ #21 까지 진행하시오\n",
    "\"\"\"\"\"\" "
   ]
  },
  {
   "cell_type": "code",
   "execution_count": 20,
   "metadata": {},
   "outputs": [],
   "source": [
    "# 15. all_birds_dic으로 부터 키 값만 갖는 birds_category_set 을 만드시오"
   ]
  },
  {
   "cell_type": "code",
   "execution_count": 54,
   "metadata": {},
   "outputs": [],
   "source": [
    "birds_category_set=set(all_birds_dic.keys())"
   ]
  },
  {
   "cell_type": "code",
   "execution_count": null,
   "metadata": {},
   "outputs": [],
   "source": []
  },
  {
   "cell_type": "code",
   "execution_count": 21,
   "metadata": {},
   "outputs": [],
   "source": [
    "# 16. my_freind_set 은 'small_birds' , 'big_bear', 'little_cats' 의\n",
    "#     집합으로 구성하라 "
   ]
  },
  {
   "cell_type": "code",
   "execution_count": 53,
   "metadata": {},
   "outputs": [],
   "source": [
    "my_freind_set={'small_birds' , 'big_bear', 'little_cats' }"
   ]
  },
  {
   "cell_type": "code",
   "execution_count": 22,
   "metadata": {},
   "outputs": [],
   "source": [
    "# 17. my_freind_set 과 birds_category_set 의 교집합의 개수를 구하라\n",
    "# 메소드를 사용해서 구해 보라"
   ]
  },
  {
   "cell_type": "code",
   "execution_count": 55,
   "metadata": {
    "scrolled": true
   },
   "outputs": [
    {
     "data": {
      "text/plain": [
       "{'small_birds'}"
      ]
     },
     "execution_count": 55,
     "metadata": {},
     "output_type": "execute_result"
    }
   ],
   "source": [
    "birds_category_set.intersection(my_freind_set)"
   ]
  },
  {
   "cell_type": "code",
   "execution_count": 23,
   "metadata": {},
   "outputs": [],
   "source": [
    "# 18. my_freind_set 과 birds_category_set 의 교집합의 개수를 구하라\n",
    "# & 연산자를 사용해서 구해보라"
   ]
  },
  {
   "cell_type": "code",
   "execution_count": 59,
   "metadata": {
    "scrolled": true
   },
   "outputs": [
    {
     "data": {
      "text/plain": [
       "{'small_birds'}"
      ]
     },
     "execution_count": 59,
     "metadata": {},
     "output_type": "execute_result"
    }
   ],
   "source": [
    "birds_category_set&my_freind_set"
   ]
  },
  {
   "cell_type": "code",
   "execution_count": null,
   "metadata": {},
   "outputs": [],
   "source": []
  },
  {
   "cell_type": "code",
   "execution_count": 24,
   "metadata": {},
   "outputs": [],
   "source": [
    "# 19. my_freind_set 과 birds_category_set 의 합집합을 구하라\n",
    "# 메소드를 사용해서 구해 보라"
   ]
  },
  {
   "cell_type": "code",
   "execution_count": 60,
   "metadata": {},
   "outputs": [
    {
     "data": {
      "text/plain": [
       "{'big_bear',\n",
       " 'carol_birds',\n",
       " 'extinct_birds',\n",
       " 'little_cats',\n",
       " 'polar_bird',\n",
       " 'small_birds'}"
      ]
     },
     "execution_count": 60,
     "metadata": {},
     "output_type": "execute_result"
    }
   ],
   "source": [
    "birds_category_set.union(my_freind_set)"
   ]
  },
  {
   "cell_type": "code",
   "execution_count": 62,
   "metadata": {},
   "outputs": [],
   "source": [
    "# 20. 아래와 같이 friend 들의 방문 이력이 있다. \n",
    "# 누가 방문했는지 확인해보자 . (집합 활용)\n",
    "friend_visit_list =  ['small_birds' , 'big_bear', 'little_cats', \\\n",
    "                      'sleepy_dog','blue_snake', 'blue_snake','big_bear',\\\n",
    "                      'blue_snake','big_bear','sleepy_dog' ]"
   ]
  },
  {
   "cell_type": "code",
   "execution_count": 64,
   "metadata": {},
   "outputs": [
    {
     "data": {
      "text/plain": [
       "{'big_bear', 'blue_snake', 'little_cats', 'sleepy_dog', 'small_birds'}"
      ]
     },
     "execution_count": 64,
     "metadata": {},
     "output_type": "execute_result"
    }
   ],
   "source": [
    "set(friend_visit_list)"
   ]
  },
  {
   "cell_type": "code",
   "execution_count": 26,
   "metadata": {},
   "outputs": [],
   "source": [
    "# 21.  기존의 my_freind_set 과 같은지 비교해보라"
   ]
  },
  {
   "cell_type": "code",
   "execution_count": 65,
   "metadata": {},
   "outputs": [
    {
     "data": {
      "text/plain": [
       "False"
      ]
     },
     "execution_count": 65,
     "metadata": {},
     "output_type": "execute_result"
    }
   ],
   "source": [
    "my_freind_set==set(friend_visit_list)"
   ]
  },
  {
   "cell_type": "code",
   "execution_count": 27,
   "metadata": {},
   "outputs": [
    {
     "data": {
      "text/plain": [
       "''"
      ]
     },
     "execution_count": 27,
     "metadata": {},
     "output_type": "execute_result"
    }
   ],
   "source": [
    "\"\"\"\n",
    "PRESWOT3 . \n",
    "#21. 의 결과를 입력하시오\n",
    "\"\"\"\n",
    "\"\""
   ]
  },
  {
   "cell_type": "code",
   "execution_count": 28,
   "metadata": {},
   "outputs": [
    {
     "data": {
      "text/plain": [
       "''"
      ]
     },
     "execution_count": 28,
     "metadata": {},
     "output_type": "execute_result"
    }
   ],
   "source": [
    "\"\"\"\"\"\" \n",
    "#22 ~ 마지막 까지 진행하시오\n",
    "\"\"\"\"\"\" "
   ]
  },
  {
   "cell_type": "code",
   "execution_count": 29,
   "metadata": {},
   "outputs": [],
   "source": [
    "# 22. 지금 까지 등장한 아래 객체 들의 각각의 길이를  한 줄에 표현해 보아라. len을 사용\n",
    "#    birds_category_set, all_birds_dic, all_birds_list  "
   ]
  },
  {
   "cell_type": "code",
   "execution_count": 71,
   "metadata": {},
   "outputs": [
    {
     "data": {
      "text/plain": [
       "(4, 4, 7)"
      ]
     },
     "execution_count": 71,
     "metadata": {},
     "output_type": "execute_result"
    }
   ],
   "source": [
    "len(birds_category_set), len(all_birds_dic), len(all_birds_list)"
   ]
  },
  {
   "cell_type": "code",
   "execution_count": 30,
   "metadata": {},
   "outputs": [],
   "source": [
    "# 23. 22의 코딩 문장을  lens 에 할당하고, 그 타입을 확인해보라"
   ]
  },
  {
   "cell_type": "code",
   "execution_count": 72,
   "metadata": {},
   "outputs": [],
   "source": [
    "lens=len(birds_category_set), len(all_birds_dic), len(all_birds_list)"
   ]
  },
  {
   "cell_type": "code",
   "execution_count": 73,
   "metadata": {},
   "outputs": [
    {
     "data": {
      "text/plain": [
       "tuple"
      ]
     },
     "execution_count": 73,
     "metadata": {},
     "output_type": "execute_result"
    }
   ],
   "source": [
    "type(lens)"
   ]
  },
  {
   "cell_type": "code",
   "execution_count": 31,
   "metadata": {},
   "outputs": [],
   "source": [
    "#24. lens 의 요소를  각각 l1, l2, l3 에 할당하고 확인해 보아라\n",
    "#    간결할 수 있도록 고민하라"
   ]
  },
  {
   "cell_type": "code",
   "execution_count": 74,
   "metadata": {},
   "outputs": [],
   "source": [
    "l1,l2,l3=lens"
   ]
  },
  {
   "cell_type": "code",
   "execution_count": 32,
   "metadata": {},
   "outputs": [],
   "source": [
    "#25.  all_birds_list과 동일한 값을 갖는 tuple   all_birds_tuple 을 생성하라"
   ]
  },
  {
   "cell_type": "code",
   "execution_count": 75,
   "metadata": {},
   "outputs": [],
   "source": [
    "all_birds_tuple=tuple(all_birds_list)"
   ]
  },
  {
   "cell_type": "code",
   "execution_count": 33,
   "metadata": {},
   "outputs": [],
   "source": [
    "#26. all_birds_list 마지막에 'eagle'을 추가하라. \n",
    "# 그리고 all_birds_list 와 all_birds_tuple 을 살펴봐라\n",
    "# 무엇을 알 수 있는가\n"
   ]
  },
  {
   "cell_type": "code",
   "execution_count": 76,
   "metadata": {
    "scrolled": true
   },
   "outputs": [],
   "source": [
    "all_birds_list.append('eagle')"
   ]
  },
  {
   "cell_type": "code",
   "execution_count": 77,
   "metadata": {},
   "outputs": [
    {
     "data": {
      "text/plain": [
       "['Norwegian Blue',\n",
       " 'dodo',\n",
       " 'finch',\n",
       " 'french hens',\n",
       " 'hummingbird',\n",
       " 'passenger pigeon',\n",
       " 'turtledoves',\n",
       " 'eagle']"
      ]
     },
     "execution_count": 77,
     "metadata": {},
     "output_type": "execute_result"
    }
   ],
   "source": [
    "all_birds_list"
   ]
  },
  {
   "cell_type": "code",
   "execution_count": 78,
   "metadata": {},
   "outputs": [
    {
     "data": {
      "text/plain": [
       "('Norwegian Blue',\n",
       " 'dodo',\n",
       " 'finch',\n",
       " 'french hens',\n",
       " 'hummingbird',\n",
       " 'passenger pigeon',\n",
       " 'turtledoves')"
      ]
     },
     "execution_count": 78,
     "metadata": {},
     "output_type": "execute_result"
    }
   ],
   "source": [
    "all_birds_tuple"
   ]
  },
  {
   "cell_type": "code",
   "execution_count": 34,
   "metadata": {
    "scrolled": true
   },
   "outputs": [
    {
     "data": {
      "text/plain": [
       "''"
      ]
     },
     "execution_count": 34,
     "metadata": {},
     "output_type": "execute_result"
    }
   ],
   "source": [
    "\"\"\"\n",
    "PRESWOT4 . \n",
    "#26. 질문에 대해서 기술하시요.\n",
    "\"\"\"\n",
    "\"\""
   ]
  },
  {
   "cell_type": "code",
   "execution_count": null,
   "metadata": {},
   "outputs": [],
   "source": [
    "#메소드는 새로운 객체를 생성"
   ]
  }
 ],
 "metadata": {
  "kernelspec": {
   "display_name": "Python 3",
   "language": "python",
   "name": "python3"
  },
  "language_info": {
   "codemirror_mode": {
    "name": "ipython",
    "version": 3
   },
   "file_extension": ".py",
   "mimetype": "text/x-python",
   "name": "python",
   "nbconvert_exporter": "python",
   "pygments_lexer": "ipython3",
   "version": "3.6.10"
  }
 },
 "nbformat": 4,
 "nbformat_minor": 2
}
