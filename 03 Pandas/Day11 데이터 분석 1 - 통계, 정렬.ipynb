{
 "cells": [
  {
   "cell_type": "code",
   "execution_count": 51,
   "metadata": {},
   "outputs": [],
   "source": [
    "import pandas as pd\n",
    "from pandas import Series, DataFrame\n",
    "import numpy as np"
   ]
  },
  {
   "cell_type": "markdown",
   "metadata": {},
   "source": [
    "# 7-1. 통계 함수\n",
    "## 주요 통계 함수 목록\n",
    "<img src=\"img/7강/통계함수.jpg\" alt=\"통계함수\" style=\"width: 400px;\"/>\n",
    "\n",
    "## 주요 함수 옵션\n",
    "<img src=\"img/7강/주요함수옵션.jpg\" alt=\"주요옵션\" style=\"width: 400px;\"/>\n",
    "\n",
    "### ** axis는 통계함수 뿐만 아니라, 많은 함수에서 동일하게 적용됨. **"
   ]
  },
  {
   "cell_type": "code",
   "execution_count": 52,
   "metadata": {},
   "outputs": [],
   "source": [
    "# 샘플 데이터 생성\n",
    "np.random.seed(0)\n",
    "df = pd.DataFrame(np.random.randint(50, 100, (5, 6)), \n",
    "                  columns=[[2016, 2016, 2016, 2017, 2017, 2017], ['영어','수학', '과학','영어','수학', '과학']], \n",
    "                  index = ['Kim','Park','Lee','Jung','Moon'])\n",
    "df.index.set_names('학생명', inplace = True)\n",
    "df.columns.set_names(['년도','과목'], inplace = True)\n",
    "df.loc['Moon', (2016, '과학')] = np.nan"
   ]
  },
  {
   "cell_type": "code",
   "execution_count": 53,
   "metadata": {},
   "outputs": [
    {
     "data": {
      "text/html": [
       "<div>\n",
       "<style scoped>\n",
       "    .dataframe tbody tr th:only-of-type {\n",
       "        vertical-align: middle;\n",
       "    }\n",
       "\n",
       "    .dataframe tbody tr th {\n",
       "        vertical-align: top;\n",
       "    }\n",
       "\n",
       "    .dataframe thead tr th {\n",
       "        text-align: left;\n",
       "    }\n",
       "\n",
       "    .dataframe thead tr:last-of-type th {\n",
       "        text-align: right;\n",
       "    }\n",
       "</style>\n",
       "<table border=\"1\" class=\"dataframe\">\n",
       "  <thead>\n",
       "    <tr>\n",
       "      <th>년도</th>\n",
       "      <th colspan=\"3\" halign=\"left\">2016</th>\n",
       "      <th colspan=\"3\" halign=\"left\">2017</th>\n",
       "    </tr>\n",
       "    <tr>\n",
       "      <th>과목</th>\n",
       "      <th>영어</th>\n",
       "      <th>수학</th>\n",
       "      <th>과학</th>\n",
       "      <th>영어</th>\n",
       "      <th>수학</th>\n",
       "      <th>과학</th>\n",
       "    </tr>\n",
       "    <tr>\n",
       "      <th>학생명</th>\n",
       "      <th></th>\n",
       "      <th></th>\n",
       "      <th></th>\n",
       "      <th></th>\n",
       "      <th></th>\n",
       "      <th></th>\n",
       "    </tr>\n",
       "  </thead>\n",
       "  <tbody>\n",
       "    <tr>\n",
       "      <th>Kim</th>\n",
       "      <td>94</td>\n",
       "      <td>97</td>\n",
       "      <td>50.0</td>\n",
       "      <td>53</td>\n",
       "      <td>53</td>\n",
       "      <td>89</td>\n",
       "    </tr>\n",
       "    <tr>\n",
       "      <th>Park</th>\n",
       "      <td>59</td>\n",
       "      <td>69</td>\n",
       "      <td>71.0</td>\n",
       "      <td>86</td>\n",
       "      <td>73</td>\n",
       "      <td>56</td>\n",
       "    </tr>\n",
       "    <tr>\n",
       "      <th>Lee</th>\n",
       "      <td>74</td>\n",
       "      <td>74</td>\n",
       "      <td>62.0</td>\n",
       "      <td>51</td>\n",
       "      <td>88</td>\n",
       "      <td>89</td>\n",
       "    </tr>\n",
       "    <tr>\n",
       "      <th>Jung</th>\n",
       "      <td>73</td>\n",
       "      <td>96</td>\n",
       "      <td>74.0</td>\n",
       "      <td>67</td>\n",
       "      <td>87</td>\n",
       "      <td>75</td>\n",
       "    </tr>\n",
       "    <tr>\n",
       "      <th>Moon</th>\n",
       "      <td>63</td>\n",
       "      <td>58</td>\n",
       "      <td>NaN</td>\n",
       "      <td>70</td>\n",
       "      <td>66</td>\n",
       "      <td>55</td>\n",
       "    </tr>\n",
       "  </tbody>\n",
       "</table>\n",
       "</div>"
      ],
      "text/plain": [
       "년도   2016           2017        \n",
       "과목     영어  수학    과학   영어  수학  과학\n",
       "학생명                             \n",
       "Kim    94  97  50.0   53  53  89\n",
       "Park   59  69  71.0   86  73  56\n",
       "Lee    74  74  62.0   51  88  89\n",
       "Jung   73  96  74.0   67  87  75\n",
       "Moon   63  58   NaN   70  66  55"
      ]
     },
     "execution_count": 53,
     "metadata": {},
     "output_type": "execute_result"
    }
   ],
   "source": [
    "df"
   ]
  },
  {
   "cell_type": "code",
   "execution_count": 54,
   "metadata": {},
   "outputs": [
    {
     "data": {
      "text/html": [
       "<div>\n",
       "<style scoped>\n",
       "    .dataframe tbody tr th:only-of-type {\n",
       "        vertical-align: middle;\n",
       "    }\n",
       "\n",
       "    .dataframe tbody tr th {\n",
       "        vertical-align: top;\n",
       "    }\n",
       "\n",
       "    .dataframe thead th {\n",
       "        text-align: right;\n",
       "    }\n",
       "</style>\n",
       "<table border=\"1\" class=\"dataframe\">\n",
       "  <thead>\n",
       "    <tr style=\"text-align: right;\">\n",
       "      <th>과목</th>\n",
       "      <th>영어</th>\n",
       "      <th>수학</th>\n",
       "      <th>과학</th>\n",
       "    </tr>\n",
       "    <tr>\n",
       "      <th>학생명</th>\n",
       "      <th></th>\n",
       "      <th></th>\n",
       "      <th></th>\n",
       "    </tr>\n",
       "  </thead>\n",
       "  <tbody>\n",
       "    <tr>\n",
       "      <th>Kim</th>\n",
       "      <td>94</td>\n",
       "      <td>97</td>\n",
       "      <td>50.0</td>\n",
       "    </tr>\n",
       "    <tr>\n",
       "      <th>Park</th>\n",
       "      <td>59</td>\n",
       "      <td>69</td>\n",
       "      <td>71.0</td>\n",
       "    </tr>\n",
       "    <tr>\n",
       "      <th>Lee</th>\n",
       "      <td>74</td>\n",
       "      <td>74</td>\n",
       "      <td>62.0</td>\n",
       "    </tr>\n",
       "    <tr>\n",
       "      <th>Jung</th>\n",
       "      <td>73</td>\n",
       "      <td>96</td>\n",
       "      <td>74.0</td>\n",
       "    </tr>\n",
       "    <tr>\n",
       "      <th>Moon</th>\n",
       "      <td>63</td>\n",
       "      <td>58</td>\n",
       "      <td>NaN</td>\n",
       "    </tr>\n",
       "  </tbody>\n",
       "</table>\n",
       "</div>"
      ],
      "text/plain": [
       "과목    영어  수학    과학\n",
       "학생명               \n",
       "Kim   94  97  50.0\n",
       "Park  59  69  71.0\n",
       "Lee   74  74  62.0\n",
       "Jung  73  96  74.0\n",
       "Moon  63  58   NaN"
      ]
     },
     "execution_count": 54,
     "metadata": {},
     "output_type": "execute_result"
    }
   ],
   "source": [
    "# 2016년 성적만 선택해서 df2016에 저장\n",
    "df2016 = df[2016]\n",
    "df2016"
   ]
  },
  {
   "cell_type": "code",
   "execution_count": 55,
   "metadata": {},
   "outputs": [
    {
     "data": {
      "text/plain": [
       "과목\n",
       "영어    5\n",
       "수학    5\n",
       "과학    4\n",
       "dtype: int64"
      ]
     },
     "execution_count": 55,
     "metadata": {},
     "output_type": "execute_result"
    }
   ],
   "source": [
    "# 1) count() - NaN 값을 제외한 데이터의 갯수 \n",
    "df2016.count()\n",
    "# 기본적으로 컬럼 단위로 함수 적용"
   ]
  },
  {
   "cell_type": "code",
   "execution_count": 56,
   "metadata": {},
   "outputs": [
    {
     "data": {
      "text/plain": [
       "과목\n",
       "영어    363.0\n",
       "수학    394.0\n",
       "과학    257.0\n",
       "dtype: float64"
      ]
     },
     "execution_count": 56,
     "metadata": {},
     "output_type": "execute_result"
    }
   ],
   "source": [
    "# 2) sum() - 값의 합을 계산\n",
    "## 기본적으로 함수는 각 컬럼에 있는 로우(row)들의 값들로 수행됨. (기본값 axis =0) \n",
    "## 모든 통계 함수는 동일함.\n",
    "df2016.sum()"
   ]
  },
  {
   "cell_type": "code",
   "execution_count": 57,
   "metadata": {
    "scrolled": true
   },
   "outputs": [
    {
     "data": {
      "text/plain": [
       "학생명\n",
       "Kim     80.333333\n",
       "Park    66.333333\n",
       "Lee     70.000000\n",
       "Jung    81.000000\n",
       "Moon    60.500000\n",
       "dtype: float64"
      ]
     },
     "execution_count": 57,
     "metadata": {},
     "output_type": "execute_result"
    }
   ],
   "source": [
    "# 각 학생들의 과목 평균 구하기\n",
    "df2016.mean(axis=1)\n",
    "# moon은 과학 점수가 없음. 통계함수는 기본값이 NaN을 빼고 계산"
   ]
  },
  {
   "cell_type": "code",
   "execution_count": 58,
   "metadata": {
    "scrolled": true
   },
   "outputs": [
    {
     "data": {
      "text/plain": [
       "학생명\n",
       "Kim     80.333333\n",
       "Park    66.333333\n",
       "Lee     70.000000\n",
       "Jung    81.000000\n",
       "Moon    40.333333\n",
       "dtype: float64"
      ]
     },
     "execution_count": 58,
     "metadata": {},
     "output_type": "execute_result"
    }
   ],
   "source": [
    "df2016.fillna(0).mean(axis=1)"
   ]
  },
  {
   "cell_type": "code",
   "execution_count": 59,
   "metadata": {},
   "outputs": [
    {
     "data": {
      "text/plain": [
       "nan"
      ]
     },
     "execution_count": 59,
     "metadata": {},
     "output_type": "execute_result"
    }
   ],
   "source": [
    "# 연산 시 하나라도 NaN이 나오면 결과값은 NaN\n",
    "63 + 48 + np.NaN"
   ]
  },
  {
   "cell_type": "code",
   "execution_count": 60,
   "metadata": {
    "scrolled": false
   },
   "outputs": [
    {
     "data": {
      "text/plain": [
       "학생명\n",
       "Kim     80.333333\n",
       "Park    66.333333\n",
       "Lee     70.000000\n",
       "Jung    81.000000\n",
       "Moon          NaN\n",
       "dtype: float64"
      ]
     },
     "execution_count": 60,
     "metadata": {},
     "output_type": "execute_result"
    }
   ],
   "source": [
    "df2016.mean(axis=1, skipna=False)"
   ]
  },
  {
   "cell_type": "code",
   "execution_count": 61,
   "metadata": {},
   "outputs": [
    {
     "data": {
      "text/html": [
       "<div>\n",
       "<style scoped>\n",
       "    .dataframe tbody tr th:only-of-type {\n",
       "        vertical-align: middle;\n",
       "    }\n",
       "\n",
       "    .dataframe tbody tr th {\n",
       "        vertical-align: top;\n",
       "    }\n",
       "\n",
       "    .dataframe thead th {\n",
       "        text-align: right;\n",
       "    }\n",
       "</style>\n",
       "<table border=\"1\" class=\"dataframe\">\n",
       "  <thead>\n",
       "    <tr style=\"text-align: right;\">\n",
       "      <th>과목</th>\n",
       "      <th>영어</th>\n",
       "      <th>수학</th>\n",
       "      <th>과학</th>\n",
       "    </tr>\n",
       "  </thead>\n",
       "  <tbody>\n",
       "    <tr>\n",
       "      <th>count</th>\n",
       "      <td>5.000000</td>\n",
       "      <td>5.000000</td>\n",
       "      <td>4.000000</td>\n",
       "    </tr>\n",
       "    <tr>\n",
       "      <th>mean</th>\n",
       "      <td>72.600000</td>\n",
       "      <td>78.800000</td>\n",
       "      <td>64.250000</td>\n",
       "    </tr>\n",
       "    <tr>\n",
       "      <th>std</th>\n",
       "      <td>13.575714</td>\n",
       "      <td>17.166828</td>\n",
       "      <td>10.781929</td>\n",
       "    </tr>\n",
       "    <tr>\n",
       "      <th>min</th>\n",
       "      <td>59.000000</td>\n",
       "      <td>58.000000</td>\n",
       "      <td>50.000000</td>\n",
       "    </tr>\n",
       "    <tr>\n",
       "      <th>25%</th>\n",
       "      <td>63.000000</td>\n",
       "      <td>69.000000</td>\n",
       "      <td>59.000000</td>\n",
       "    </tr>\n",
       "    <tr>\n",
       "      <th>50%</th>\n",
       "      <td>73.000000</td>\n",
       "      <td>74.000000</td>\n",
       "      <td>66.500000</td>\n",
       "    </tr>\n",
       "    <tr>\n",
       "      <th>75%</th>\n",
       "      <td>74.000000</td>\n",
       "      <td>96.000000</td>\n",
       "      <td>71.750000</td>\n",
       "    </tr>\n",
       "    <tr>\n",
       "      <th>max</th>\n",
       "      <td>94.000000</td>\n",
       "      <td>97.000000</td>\n",
       "      <td>74.000000</td>\n",
       "    </tr>\n",
       "  </tbody>\n",
       "</table>\n",
       "</div>"
      ],
      "text/plain": [
       "과목            영어         수학         과학\n",
       "count   5.000000   5.000000   4.000000\n",
       "mean   72.600000  78.800000  64.250000\n",
       "std    13.575714  17.166828  10.781929\n",
       "min    59.000000  58.000000  50.000000\n",
       "25%    63.000000  69.000000  59.000000\n",
       "50%    73.000000  74.000000  66.500000\n",
       "75%    74.000000  96.000000  71.750000\n",
       "max    94.000000  97.000000  74.000000"
      ]
     },
     "execution_count": 61,
     "metadata": {},
     "output_type": "execute_result"
    }
   ],
   "source": [
    "# 3) describe() - 각 컬럼에 대한 요약 통계\n",
    "df2016.describe()"
   ]
  },
  {
   "cell_type": "code",
   "execution_count": 62,
   "metadata": {
    "scrolled": true
   },
   "outputs": [
    {
     "data": {
      "text/plain": [
       "년도    과목\n",
       "2016  영어    72.60\n",
       "      수학    78.80\n",
       "      과학    64.25\n",
       "2017  영어    65.40\n",
       "      수학    73.40\n",
       "      과학    72.80\n",
       "dtype: float64"
      ]
     },
     "execution_count": 62,
     "metadata": {},
     "output_type": "execute_result"
    }
   ],
   "source": [
    "# 실습 1.df 대상으로 년도별 과목별 평균 성적을 출력\n",
    "df.mean()"
   ]
  },
  {
   "cell_type": "code",
   "execution_count": 63,
   "metadata": {},
   "outputs": [
    {
     "data": {
      "text/plain": [
       "학생명\n",
       "Kim     72.666667\n",
       "Park    69.000000\n",
       "Lee     73.000000\n",
       "Jung    78.666667\n",
       "Moon    62.400000\n",
       "dtype: float64"
      ]
     },
     "execution_count": 63,
     "metadata": {},
     "output_type": "execute_result"
    }
   ],
   "source": [
    "# 실습 2. df 대상으로 학생별로 모든 년도/과목에 대한 전체 평균을 출력\n",
    "df.mean(axis=1)"
   ]
  },
  {
   "cell_type": "code",
   "execution_count": 64,
   "metadata": {},
   "outputs": [
    {
     "data": {
      "text/html": [
       "<div>\n",
       "<style scoped>\n",
       "    .dataframe tbody tr th:only-of-type {\n",
       "        vertical-align: middle;\n",
       "    }\n",
       "\n",
       "    .dataframe tbody tr th {\n",
       "        vertical-align: top;\n",
       "    }\n",
       "\n",
       "    .dataframe thead tr th {\n",
       "        text-align: left;\n",
       "    }\n",
       "\n",
       "    .dataframe thead tr:last-of-type th {\n",
       "        text-align: right;\n",
       "    }\n",
       "</style>\n",
       "<table border=\"1\" class=\"dataframe\">\n",
       "  <thead>\n",
       "    <tr>\n",
       "      <th>년도</th>\n",
       "      <th colspan=\"4\" halign=\"left\">2016</th>\n",
       "      <th colspan=\"4\" halign=\"left\">2017</th>\n",
       "    </tr>\n",
       "    <tr>\n",
       "      <th>과목</th>\n",
       "      <th>과학</th>\n",
       "      <th>수학</th>\n",
       "      <th>영어</th>\n",
       "      <th>평균</th>\n",
       "      <th>과학</th>\n",
       "      <th>수학</th>\n",
       "      <th>영어</th>\n",
       "      <th>평균</th>\n",
       "    </tr>\n",
       "    <tr>\n",
       "      <th>학생명</th>\n",
       "      <th></th>\n",
       "      <th></th>\n",
       "      <th></th>\n",
       "      <th></th>\n",
       "      <th></th>\n",
       "      <th></th>\n",
       "      <th></th>\n",
       "      <th></th>\n",
       "    </tr>\n",
       "  </thead>\n",
       "  <tbody>\n",
       "    <tr>\n",
       "      <th>Kim</th>\n",
       "      <td>50.0</td>\n",
       "      <td>97</td>\n",
       "      <td>94</td>\n",
       "      <td>80.333333</td>\n",
       "      <td>89</td>\n",
       "      <td>53</td>\n",
       "      <td>53</td>\n",
       "      <td>65.000000</td>\n",
       "    </tr>\n",
       "    <tr>\n",
       "      <th>Park</th>\n",
       "      <td>71.0</td>\n",
       "      <td>69</td>\n",
       "      <td>59</td>\n",
       "      <td>66.333333</td>\n",
       "      <td>56</td>\n",
       "      <td>73</td>\n",
       "      <td>86</td>\n",
       "      <td>71.666667</td>\n",
       "    </tr>\n",
       "    <tr>\n",
       "      <th>Lee</th>\n",
       "      <td>62.0</td>\n",
       "      <td>74</td>\n",
       "      <td>74</td>\n",
       "      <td>70.000000</td>\n",
       "      <td>89</td>\n",
       "      <td>88</td>\n",
       "      <td>51</td>\n",
       "      <td>76.000000</td>\n",
       "    </tr>\n",
       "    <tr>\n",
       "      <th>Jung</th>\n",
       "      <td>74.0</td>\n",
       "      <td>96</td>\n",
       "      <td>73</td>\n",
       "      <td>81.000000</td>\n",
       "      <td>75</td>\n",
       "      <td>87</td>\n",
       "      <td>67</td>\n",
       "      <td>76.333333</td>\n",
       "    </tr>\n",
       "    <tr>\n",
       "      <th>Moon</th>\n",
       "      <td>NaN</td>\n",
       "      <td>58</td>\n",
       "      <td>63</td>\n",
       "      <td>60.500000</td>\n",
       "      <td>55</td>\n",
       "      <td>66</td>\n",
       "      <td>70</td>\n",
       "      <td>63.666667</td>\n",
       "    </tr>\n",
       "  </tbody>\n",
       "</table>\n",
       "</div>"
      ],
      "text/plain": [
       "년도    2016                    2017                   \n",
       "과목      과학  수학  영어         평균   과학  수학  영어         평균\n",
       "학생명                                                  \n",
       "Kim   50.0  97  94  80.333333   89  53  53  65.000000\n",
       "Park  71.0  69  59  66.333333   56  73  86  71.666667\n",
       "Lee   62.0  74  74  70.000000   89  88  51  76.000000\n",
       "Jung  74.0  96  73  81.000000   75  87  67  76.333333\n",
       "Moon   NaN  58  63  60.500000   55  66  70  63.666667"
      ]
     },
     "execution_count": 64,
     "metadata": {},
     "output_type": "execute_result"
    }
   ],
   "source": [
    "# 실습 3. 년도별 학생별 평균 구하기 \n",
    "# 컬럼명이 (2016, '평균')으로 2016년 학생별 평균을 저장.\n",
    "# 컬럼명이 (2017, '평균')으로 2017년 학생별 평균을 저장.\n",
    "df[2016, '평균'] = df[2016].mean(axis=1)\n",
    "df[2017, '평균'] = df[2017].mean(axis=1)\n",
    "df.sort_index(axis=1)"
   ]
  },
  {
   "cell_type": "code",
   "execution_count": 65,
   "metadata": {
    "scrolled": false
   },
   "outputs": [
    {
     "data": {
      "text/plain": [
       "MultiIndex([(2016, '영어'),\n",
       "            (2016, '수학'),\n",
       "            (2016, '과학'),\n",
       "            (2017, '영어'),\n",
       "            (2017, '수학'),\n",
       "            (2017, '과학'),\n",
       "            (2016, '평균'),\n",
       "            (2017, '평균')],\n",
       "           names=['년도', '과목'])"
      ]
     },
     "execution_count": 65,
     "metadata": {},
     "output_type": "execute_result"
    }
   ],
   "source": [
    "# 두번째 방법 -  컬럼 인덱스 정보를 활용하여 일반화하여 구하기\n",
    "df.columns\n"
   ]
  },
  {
   "cell_type": "code",
   "execution_count": 66,
   "metadata": {},
   "outputs": [
    {
     "data": {
      "text/plain": [
       "Int64Index([2016, 2016, 2016, 2017, 2017, 2017, 2016, 2017], dtype='int64', name='년도')"
      ]
     },
     "execution_count": 66,
     "metadata": {},
     "output_type": "execute_result"
    }
   ],
   "source": [
    "df.columns.get_level_values(0)"
   ]
  },
  {
   "cell_type": "code",
   "execution_count": 67,
   "metadata": {},
   "outputs": [
    {
     "data": {
      "text/plain": [
       "Int64Index([2016, 2017], dtype='int64', name='년도')"
      ]
     },
     "execution_count": 67,
     "metadata": {},
     "output_type": "execute_result"
    }
   ],
   "source": [
    "year = df.columns.get_level_values(0).unique()\n",
    "year"
   ]
  },
  {
   "cell_type": "code",
   "execution_count": 68,
   "metadata": {},
   "outputs": [
    {
     "data": {
      "text/html": [
       "<div>\n",
       "<style scoped>\n",
       "    .dataframe tbody tr th:only-of-type {\n",
       "        vertical-align: middle;\n",
       "    }\n",
       "\n",
       "    .dataframe tbody tr th {\n",
       "        vertical-align: top;\n",
       "    }\n",
       "\n",
       "    .dataframe thead tr th {\n",
       "        text-align: left;\n",
       "    }\n",
       "\n",
       "    .dataframe thead tr:last-of-type th {\n",
       "        text-align: right;\n",
       "    }\n",
       "</style>\n",
       "<table border=\"1\" class=\"dataframe\">\n",
       "  <thead>\n",
       "    <tr>\n",
       "      <th>년도</th>\n",
       "      <th colspan=\"3\" halign=\"left\">2016</th>\n",
       "      <th colspan=\"3\" halign=\"left\">2017</th>\n",
       "      <th>2016</th>\n",
       "      <th>2017</th>\n",
       "      <th>2016</th>\n",
       "      <th>2017</th>\n",
       "    </tr>\n",
       "    <tr>\n",
       "      <th>과목</th>\n",
       "      <th>영어</th>\n",
       "      <th>수학</th>\n",
       "      <th>과학</th>\n",
       "      <th>영어</th>\n",
       "      <th>수학</th>\n",
       "      <th>과학</th>\n",
       "      <th>평균</th>\n",
       "      <th>평균</th>\n",
       "      <th>평균2</th>\n",
       "      <th>평균2</th>\n",
       "    </tr>\n",
       "    <tr>\n",
       "      <th>학생명</th>\n",
       "      <th></th>\n",
       "      <th></th>\n",
       "      <th></th>\n",
       "      <th></th>\n",
       "      <th></th>\n",
       "      <th></th>\n",
       "      <th></th>\n",
       "      <th></th>\n",
       "      <th></th>\n",
       "      <th></th>\n",
       "    </tr>\n",
       "  </thead>\n",
       "  <tbody>\n",
       "    <tr>\n",
       "      <th>Kim</th>\n",
       "      <td>94</td>\n",
       "      <td>97</td>\n",
       "      <td>50.0</td>\n",
       "      <td>53</td>\n",
       "      <td>53</td>\n",
       "      <td>89</td>\n",
       "      <td>80.333333</td>\n",
       "      <td>65.000000</td>\n",
       "      <td>80.333333</td>\n",
       "      <td>65.000000</td>\n",
       "    </tr>\n",
       "    <tr>\n",
       "      <th>Park</th>\n",
       "      <td>59</td>\n",
       "      <td>69</td>\n",
       "      <td>71.0</td>\n",
       "      <td>86</td>\n",
       "      <td>73</td>\n",
       "      <td>56</td>\n",
       "      <td>66.333333</td>\n",
       "      <td>71.666667</td>\n",
       "      <td>66.333333</td>\n",
       "      <td>71.666667</td>\n",
       "    </tr>\n",
       "    <tr>\n",
       "      <th>Lee</th>\n",
       "      <td>74</td>\n",
       "      <td>74</td>\n",
       "      <td>62.0</td>\n",
       "      <td>51</td>\n",
       "      <td>88</td>\n",
       "      <td>89</td>\n",
       "      <td>70.000000</td>\n",
       "      <td>76.000000</td>\n",
       "      <td>70.000000</td>\n",
       "      <td>76.000000</td>\n",
       "    </tr>\n",
       "    <tr>\n",
       "      <th>Jung</th>\n",
       "      <td>73</td>\n",
       "      <td>96</td>\n",
       "      <td>74.0</td>\n",
       "      <td>67</td>\n",
       "      <td>87</td>\n",
       "      <td>75</td>\n",
       "      <td>81.000000</td>\n",
       "      <td>76.333333</td>\n",
       "      <td>81.000000</td>\n",
       "      <td>76.333333</td>\n",
       "    </tr>\n",
       "    <tr>\n",
       "      <th>Moon</th>\n",
       "      <td>63</td>\n",
       "      <td>58</td>\n",
       "      <td>NaN</td>\n",
       "      <td>70</td>\n",
       "      <td>66</td>\n",
       "      <td>55</td>\n",
       "      <td>60.500000</td>\n",
       "      <td>63.666667</td>\n",
       "      <td>60.500000</td>\n",
       "      <td>63.666667</td>\n",
       "    </tr>\n",
       "  </tbody>\n",
       "</table>\n",
       "</div>"
      ],
      "text/plain": [
       "년도   2016           2017               2016       2017       2016       2017\n",
       "과목     영어  수학    과학   영어  수학  과학         평균         평균        평균2        평균2\n",
       "학생명                                                                         \n",
       "Kim    94  97  50.0   53  53  89  80.333333  65.000000  80.333333  65.000000\n",
       "Park   59  69  71.0   86  73  56  66.333333  71.666667  66.333333  71.666667\n",
       "Lee    74  74  62.0   51  88  89  70.000000  76.000000  70.000000  76.000000\n",
       "Jung   73  96  74.0   67  87  75  81.000000  76.333333  81.000000  76.333333\n",
       "Moon   63  58   NaN   70  66  55  60.500000  63.666667  60.500000  63.666667"
      ]
     },
     "execution_count": 68,
     "metadata": {},
     "output_type": "execute_result"
    }
   ],
   "source": [
    "for col in year:\n",
    "    df[col, '평균2'] = df[col].mean(axis=1)\n",
    "df"
   ]
  },
  {
   "cell_type": "markdown",
   "metadata": {},
   "source": [
    "# 7-2. 정렬\n",
    "## * 데이터 정렬 : sort_values()\n",
    "<img src=\"img/7강/데이터프레임정렬.jpg\" alt=\"DataFrame.sort_values\" style=\"width: 600px;\"/>\n",
    "## * 인덱스 정렬 : sort_index() - 인자는 sort_values()와 동일\n",
    "### http://pandas.pydata.org/pandas-docs/stable/generated/pandas.DataFrame.sort_values.html#pandas.DataFrame.sort_values"
   ]
  },
  {
   "cell_type": "markdown",
   "metadata": {},
   "source": [
    "## 1) Series 정렬"
   ]
  },
  {
   "cell_type": "code",
   "execution_count": 69,
   "metadata": {
    "scrolled": true
   },
   "outputs": [
    {
     "data": {
      "text/plain": [
       "b     3\n",
       "c     5\n",
       "a     2\n",
       "f     1\n",
       "e     7\n",
       "d    10\n",
       "dtype: int64"
      ]
     },
     "execution_count": 69,
     "metadata": {},
     "output_type": "execute_result"
    }
   ],
   "source": [
    "# Series 정렬을 위한 샘플 데이터\n",
    "sr = Series([3,5,2,1,7,10], index = list('bcafed'))\n",
    "sr"
   ]
  },
  {
   "cell_type": "code",
   "execution_count": 70,
   "metadata": {},
   "outputs": [
    {
     "data": {
      "text/plain": [
       "a     2\n",
       "b     3\n",
       "c     5\n",
       "d    10\n",
       "e     7\n",
       "f     1\n",
       "dtype: int64"
      ]
     },
     "execution_count": 70,
     "metadata": {},
     "output_type": "execute_result"
    }
   ],
   "source": [
    "# 로우 인덱스 라벨의 값으로 정렬\n",
    "sr.sort_index()"
   ]
  },
  {
   "cell_type": "code",
   "execution_count": 71,
   "metadata": {
    "scrolled": true
   },
   "outputs": [
    {
     "data": {
      "text/plain": [
       "f     1\n",
       "a     2\n",
       "b     3\n",
       "c     5\n",
       "e     7\n",
       "d    10\n",
       "dtype: int64"
      ]
     },
     "execution_count": 71,
     "metadata": {},
     "output_type": "execute_result"
    }
   ],
   "source": [
    "# Series의 값으로 정렬 (기본값 = 오름차순)\n",
    "sr.sort_values()"
   ]
  },
  {
   "cell_type": "code",
   "execution_count": 72,
   "metadata": {},
   "outputs": [
    {
     "data": {
      "text/plain": [
       "d    10\n",
       "e     7\n",
       "c     5\n",
       "b     3\n",
       "a     2\n",
       "f     1\n",
       "dtype: int64"
      ]
     },
     "execution_count": 72,
     "metadata": {},
     "output_type": "execute_result"
    }
   ],
   "source": [
    "# Series의 값으로 내림차순 정렬\n",
    "sr.sort_values(ascending=False)"
   ]
  },
  {
   "cell_type": "markdown",
   "metadata": {},
   "source": [
    "## 2) DataFrame 정렬"
   ]
  },
  {
   "cell_type": "code",
   "execution_count": 73,
   "metadata": {
    "scrolled": true
   },
   "outputs": [
    {
     "data": {
      "text/html": [
       "<div>\n",
       "<style scoped>\n",
       "    .dataframe tbody tr th:only-of-type {\n",
       "        vertical-align: middle;\n",
       "    }\n",
       "\n",
       "    .dataframe tbody tr th {\n",
       "        vertical-align: top;\n",
       "    }\n",
       "\n",
       "    .dataframe thead th {\n",
       "        text-align: right;\n",
       "    }\n",
       "</style>\n",
       "<table border=\"1\" class=\"dataframe\">\n",
       "  <thead>\n",
       "    <tr style=\"text-align: right;\">\n",
       "      <th>과목</th>\n",
       "      <th>영어</th>\n",
       "      <th>수학</th>\n",
       "      <th>과학</th>\n",
       "    </tr>\n",
       "    <tr>\n",
       "      <th>학생명</th>\n",
       "      <th></th>\n",
       "      <th></th>\n",
       "      <th></th>\n",
       "    </tr>\n",
       "  </thead>\n",
       "  <tbody>\n",
       "    <tr>\n",
       "      <th>Kim</th>\n",
       "      <td>94</td>\n",
       "      <td>97</td>\n",
       "      <td>50.0</td>\n",
       "    </tr>\n",
       "    <tr>\n",
       "      <th>Park</th>\n",
       "      <td>59</td>\n",
       "      <td>69</td>\n",
       "      <td>71.0</td>\n",
       "    </tr>\n",
       "    <tr>\n",
       "      <th>Lee</th>\n",
       "      <td>74</td>\n",
       "      <td>74</td>\n",
       "      <td>62.0</td>\n",
       "    </tr>\n",
       "    <tr>\n",
       "      <th>Jung</th>\n",
       "      <td>73</td>\n",
       "      <td>96</td>\n",
       "      <td>74.0</td>\n",
       "    </tr>\n",
       "    <tr>\n",
       "      <th>Moon</th>\n",
       "      <td>63</td>\n",
       "      <td>58</td>\n",
       "      <td>NaN</td>\n",
       "    </tr>\n",
       "  </tbody>\n",
       "</table>\n",
       "</div>"
      ],
      "text/plain": [
       "과목    영어  수학    과학\n",
       "학생명               \n",
       "Kim   94  97  50.0\n",
       "Park  59  69  71.0\n",
       "Lee   74  74  62.0\n",
       "Jung  73  96  74.0\n",
       "Moon  63  58   NaN"
      ]
     },
     "execution_count": 73,
     "metadata": {},
     "output_type": "execute_result"
    }
   ],
   "source": [
    "df2016"
   ]
  },
  {
   "cell_type": "code",
   "execution_count": 74,
   "metadata": {
    "scrolled": true
   },
   "outputs": [
    {
     "data": {
      "text/html": [
       "<div>\n",
       "<style scoped>\n",
       "    .dataframe tbody tr th:only-of-type {\n",
       "        vertical-align: middle;\n",
       "    }\n",
       "\n",
       "    .dataframe tbody tr th {\n",
       "        vertical-align: top;\n",
       "    }\n",
       "\n",
       "    .dataframe thead th {\n",
       "        text-align: right;\n",
       "    }\n",
       "</style>\n",
       "<table border=\"1\" class=\"dataframe\">\n",
       "  <thead>\n",
       "    <tr style=\"text-align: right;\">\n",
       "      <th>과목</th>\n",
       "      <th>영어</th>\n",
       "      <th>수학</th>\n",
       "      <th>과학</th>\n",
       "    </tr>\n",
       "    <tr>\n",
       "      <th>학생명</th>\n",
       "      <th></th>\n",
       "      <th></th>\n",
       "      <th></th>\n",
       "    </tr>\n",
       "  </thead>\n",
       "  <tbody>\n",
       "    <tr>\n",
       "      <th>Jung</th>\n",
       "      <td>73</td>\n",
       "      <td>96</td>\n",
       "      <td>74.0</td>\n",
       "    </tr>\n",
       "    <tr>\n",
       "      <th>Kim</th>\n",
       "      <td>94</td>\n",
       "      <td>97</td>\n",
       "      <td>50.0</td>\n",
       "    </tr>\n",
       "    <tr>\n",
       "      <th>Lee</th>\n",
       "      <td>74</td>\n",
       "      <td>74</td>\n",
       "      <td>62.0</td>\n",
       "    </tr>\n",
       "    <tr>\n",
       "      <th>Moon</th>\n",
       "      <td>63</td>\n",
       "      <td>58</td>\n",
       "      <td>NaN</td>\n",
       "    </tr>\n",
       "    <tr>\n",
       "      <th>Park</th>\n",
       "      <td>59</td>\n",
       "      <td>69</td>\n",
       "      <td>71.0</td>\n",
       "    </tr>\n",
       "  </tbody>\n",
       "</table>\n",
       "</div>"
      ],
      "text/plain": [
       "과목    영어  수학    과학\n",
       "학생명               \n",
       "Jung  73  96  74.0\n",
       "Kim   94  97  50.0\n",
       "Lee   74  74  62.0\n",
       "Moon  63  58   NaN\n",
       "Park  59  69  71.0"
      ]
     },
     "execution_count": 74,
     "metadata": {},
     "output_type": "execute_result"
    }
   ],
   "source": [
    "# 학생명으로 정렬(row index로 정렬)\n",
    "df2016.sort_index()"
   ]
  },
  {
   "cell_type": "code",
   "execution_count": 75,
   "metadata": {},
   "outputs": [
    {
     "data": {
      "text/html": [
       "<div>\n",
       "<style scoped>\n",
       "    .dataframe tbody tr th:only-of-type {\n",
       "        vertical-align: middle;\n",
       "    }\n",
       "\n",
       "    .dataframe tbody tr th {\n",
       "        vertical-align: top;\n",
       "    }\n",
       "\n",
       "    .dataframe thead th {\n",
       "        text-align: right;\n",
       "    }\n",
       "</style>\n",
       "<table border=\"1\" class=\"dataframe\">\n",
       "  <thead>\n",
       "    <tr style=\"text-align: right;\">\n",
       "      <th>과목</th>\n",
       "      <th>과학</th>\n",
       "      <th>수학</th>\n",
       "      <th>영어</th>\n",
       "    </tr>\n",
       "    <tr>\n",
       "      <th>학생명</th>\n",
       "      <th></th>\n",
       "      <th></th>\n",
       "      <th></th>\n",
       "    </tr>\n",
       "  </thead>\n",
       "  <tbody>\n",
       "    <tr>\n",
       "      <th>Kim</th>\n",
       "      <td>50.0</td>\n",
       "      <td>97</td>\n",
       "      <td>94</td>\n",
       "    </tr>\n",
       "    <tr>\n",
       "      <th>Park</th>\n",
       "      <td>71.0</td>\n",
       "      <td>69</td>\n",
       "      <td>59</td>\n",
       "    </tr>\n",
       "    <tr>\n",
       "      <th>Lee</th>\n",
       "      <td>62.0</td>\n",
       "      <td>74</td>\n",
       "      <td>74</td>\n",
       "    </tr>\n",
       "    <tr>\n",
       "      <th>Jung</th>\n",
       "      <td>74.0</td>\n",
       "      <td>96</td>\n",
       "      <td>73</td>\n",
       "    </tr>\n",
       "    <tr>\n",
       "      <th>Moon</th>\n",
       "      <td>NaN</td>\n",
       "      <td>58</td>\n",
       "      <td>63</td>\n",
       "    </tr>\n",
       "  </tbody>\n",
       "</table>\n",
       "</div>"
      ],
      "text/plain": [
       "과목      과학  수학  영어\n",
       "학생명               \n",
       "Kim   50.0  97  94\n",
       "Park  71.0  69  59\n",
       "Lee   62.0  74  74\n",
       "Jung  74.0  96  73\n",
       "Moon   NaN  58  63"
      ]
     },
     "execution_count": 75,
     "metadata": {},
     "output_type": "execute_result"
    }
   ],
   "source": [
    "# 컬럼 인덱스를 정렬하고자 할 때에는 axis 인자 활용\n",
    "df2016.sort_index(axis=1)"
   ]
  },
  {
   "cell_type": "code",
   "execution_count": 76,
   "metadata": {
    "scrolled": true
   },
   "outputs": [
    {
     "data": {
      "text/html": [
       "<div>\n",
       "<style scoped>\n",
       "    .dataframe tbody tr th:only-of-type {\n",
       "        vertical-align: middle;\n",
       "    }\n",
       "\n",
       "    .dataframe tbody tr th {\n",
       "        vertical-align: top;\n",
       "    }\n",
       "\n",
       "    .dataframe thead th {\n",
       "        text-align: right;\n",
       "    }\n",
       "</style>\n",
       "<table border=\"1\" class=\"dataframe\">\n",
       "  <thead>\n",
       "    <tr style=\"text-align: right;\">\n",
       "      <th>과목</th>\n",
       "      <th>영어</th>\n",
       "      <th>수학</th>\n",
       "      <th>과학</th>\n",
       "    </tr>\n",
       "    <tr>\n",
       "      <th>학생명</th>\n",
       "      <th></th>\n",
       "      <th></th>\n",
       "      <th></th>\n",
       "    </tr>\n",
       "  </thead>\n",
       "  <tbody>\n",
       "    <tr>\n",
       "      <th>Moon</th>\n",
       "      <td>63</td>\n",
       "      <td>58</td>\n",
       "      <td>NaN</td>\n",
       "    </tr>\n",
       "    <tr>\n",
       "      <th>Park</th>\n",
       "      <td>59</td>\n",
       "      <td>69</td>\n",
       "      <td>71.0</td>\n",
       "    </tr>\n",
       "    <tr>\n",
       "      <th>Lee</th>\n",
       "      <td>74</td>\n",
       "      <td>74</td>\n",
       "      <td>62.0</td>\n",
       "    </tr>\n",
       "    <tr>\n",
       "      <th>Jung</th>\n",
       "      <td>73</td>\n",
       "      <td>96</td>\n",
       "      <td>74.0</td>\n",
       "    </tr>\n",
       "    <tr>\n",
       "      <th>Kim</th>\n",
       "      <td>94</td>\n",
       "      <td>97</td>\n",
       "      <td>50.0</td>\n",
       "    </tr>\n",
       "  </tbody>\n",
       "</table>\n",
       "</div>"
      ],
      "text/plain": [
       "과목    영어  수학    과학\n",
       "학생명               \n",
       "Moon  63  58   NaN\n",
       "Park  59  69  71.0\n",
       "Lee   74  74  62.0\n",
       "Jung  73  96  74.0\n",
       "Kim   94  97  50.0"
      ]
     },
     "execution_count": 76,
     "metadata": {},
     "output_type": "execute_result"
    }
   ],
   "source": [
    "#df2016을 수학성적으로 오름차순 정렬\n",
    "df2016.sort_values(by='수학')"
   ]
  },
  {
   "cell_type": "code",
   "execution_count": 77,
   "metadata": {},
   "outputs": [
    {
     "data": {
      "text/html": [
       "<div>\n",
       "<style scoped>\n",
       "    .dataframe tbody tr th:only-of-type {\n",
       "        vertical-align: middle;\n",
       "    }\n",
       "\n",
       "    .dataframe tbody tr th {\n",
       "        vertical-align: top;\n",
       "    }\n",
       "\n",
       "    .dataframe thead th {\n",
       "        text-align: right;\n",
       "    }\n",
       "</style>\n",
       "<table border=\"1\" class=\"dataframe\">\n",
       "  <thead>\n",
       "    <tr style=\"text-align: right;\">\n",
       "      <th>과목</th>\n",
       "      <th>영어</th>\n",
       "      <th>수학</th>\n",
       "      <th>과학</th>\n",
       "    </tr>\n",
       "    <tr>\n",
       "      <th>학생명</th>\n",
       "      <th></th>\n",
       "      <th></th>\n",
       "      <th></th>\n",
       "    </tr>\n",
       "  </thead>\n",
       "  <tbody>\n",
       "    <tr>\n",
       "      <th>Kim</th>\n",
       "      <td>94</td>\n",
       "      <td>97</td>\n",
       "      <td>50.0</td>\n",
       "    </tr>\n",
       "    <tr>\n",
       "      <th>Lee</th>\n",
       "      <td>74</td>\n",
       "      <td>74</td>\n",
       "      <td>62.0</td>\n",
       "    </tr>\n",
       "    <tr>\n",
       "      <th>Jung</th>\n",
       "      <td>73</td>\n",
       "      <td>96</td>\n",
       "      <td>74.0</td>\n",
       "    </tr>\n",
       "    <tr>\n",
       "      <th>Moon</th>\n",
       "      <td>63</td>\n",
       "      <td>58</td>\n",
       "      <td>NaN</td>\n",
       "    </tr>\n",
       "    <tr>\n",
       "      <th>Park</th>\n",
       "      <td>59</td>\n",
       "      <td>69</td>\n",
       "      <td>71.0</td>\n",
       "    </tr>\n",
       "  </tbody>\n",
       "</table>\n",
       "</div>"
      ],
      "text/plain": [
       "과목    영어  수학    과학\n",
       "학생명               \n",
       "Kim   94  97  50.0\n",
       "Lee   74  74  62.0\n",
       "Jung  73  96  74.0\n",
       "Moon  63  58   NaN\n",
       "Park  59  69  71.0"
      ]
     },
     "execution_count": 77,
     "metadata": {},
     "output_type": "execute_result"
    }
   ],
   "source": [
    "# df2016을 영어 성적으로 내림차순 정렬\n",
    "df2016.sort_values(by='영어', ascending=False)"
   ]
  },
  {
   "cell_type": "code",
   "execution_count": 78,
   "metadata": {},
   "outputs": [],
   "source": [
    "# 계층 색인 정렬\n"
   ]
  },
  {
   "cell_type": "code",
   "execution_count": 80,
   "metadata": {
    "scrolled": true
   },
   "outputs": [
    {
     "data": {
      "text/html": [
       "<div>\n",
       "<style scoped>\n",
       "    .dataframe tbody tr th:only-of-type {\n",
       "        vertical-align: middle;\n",
       "    }\n",
       "\n",
       "    .dataframe tbody tr th {\n",
       "        vertical-align: top;\n",
       "    }\n",
       "\n",
       "    .dataframe thead tr th {\n",
       "        text-align: left;\n",
       "    }\n",
       "\n",
       "    .dataframe thead tr:last-of-type th {\n",
       "        text-align: right;\n",
       "    }\n",
       "</style>\n",
       "<table border=\"1\" class=\"dataframe\">\n",
       "  <thead>\n",
       "    <tr>\n",
       "      <th>년도</th>\n",
       "      <th colspan=\"3\" halign=\"left\">2016</th>\n",
       "      <th colspan=\"3\" halign=\"left\">2017</th>\n",
       "      <th>2016</th>\n",
       "      <th>2017</th>\n",
       "    </tr>\n",
       "    <tr>\n",
       "      <th>과목</th>\n",
       "      <th>영어</th>\n",
       "      <th>수학</th>\n",
       "      <th>과학</th>\n",
       "      <th>영어</th>\n",
       "      <th>수학</th>\n",
       "      <th>과학</th>\n",
       "      <th>평균</th>\n",
       "      <th>평균</th>\n",
       "    </tr>\n",
       "    <tr>\n",
       "      <th>학생명</th>\n",
       "      <th></th>\n",
       "      <th></th>\n",
       "      <th></th>\n",
       "      <th></th>\n",
       "      <th></th>\n",
       "      <th></th>\n",
       "      <th></th>\n",
       "      <th></th>\n",
       "    </tr>\n",
       "  </thead>\n",
       "  <tbody>\n",
       "    <tr>\n",
       "      <th>Kim</th>\n",
       "      <td>94</td>\n",
       "      <td>97</td>\n",
       "      <td>50.0</td>\n",
       "      <td>53</td>\n",
       "      <td>53</td>\n",
       "      <td>89</td>\n",
       "      <td>80.333333</td>\n",
       "      <td>65.000000</td>\n",
       "    </tr>\n",
       "    <tr>\n",
       "      <th>Park</th>\n",
       "      <td>59</td>\n",
       "      <td>69</td>\n",
       "      <td>71.0</td>\n",
       "      <td>86</td>\n",
       "      <td>73</td>\n",
       "      <td>56</td>\n",
       "      <td>66.333333</td>\n",
       "      <td>71.666667</td>\n",
       "    </tr>\n",
       "    <tr>\n",
       "      <th>Lee</th>\n",
       "      <td>74</td>\n",
       "      <td>74</td>\n",
       "      <td>62.0</td>\n",
       "      <td>51</td>\n",
       "      <td>88</td>\n",
       "      <td>89</td>\n",
       "      <td>70.000000</td>\n",
       "      <td>76.000000</td>\n",
       "    </tr>\n",
       "    <tr>\n",
       "      <th>Jung</th>\n",
       "      <td>73</td>\n",
       "      <td>96</td>\n",
       "      <td>74.0</td>\n",
       "      <td>67</td>\n",
       "      <td>87</td>\n",
       "      <td>75</td>\n",
       "      <td>81.000000</td>\n",
       "      <td>76.333333</td>\n",
       "    </tr>\n",
       "    <tr>\n",
       "      <th>Moon</th>\n",
       "      <td>63</td>\n",
       "      <td>58</td>\n",
       "      <td>NaN</td>\n",
       "      <td>70</td>\n",
       "      <td>66</td>\n",
       "      <td>55</td>\n",
       "      <td>60.500000</td>\n",
       "      <td>63.666667</td>\n",
       "    </tr>\n",
       "  </tbody>\n",
       "</table>\n",
       "</div>"
      ],
      "text/plain": [
       "년도   2016           2017               2016       2017\n",
       "과목     영어  수학    과학   영어  수학  과학         평균         평균\n",
       "학생명                                                   \n",
       "Kim    94  97  50.0   53  53  89  80.333333  65.000000\n",
       "Park   59  69  71.0   86  73  56  66.333333  71.666667\n",
       "Lee    74  74  62.0   51  88  89  70.000000  76.000000\n",
       "Jung   73  96  74.0   67  87  75  81.000000  76.333333\n",
       "Moon   63  58   NaN   70  66  55  60.500000  63.666667"
      ]
     },
     "execution_count": 80,
     "metadata": {},
     "output_type": "execute_result"
    }
   ],
   "source": [
    "# df의 평균2 컬럼을 삭제\n",
    "df.drop([  (2016, '평균2'), (2017, '평균2')  ], axis=1, inplace=True)\n",
    "df"
   ]
  },
  {
   "cell_type": "code",
   "execution_count": 83,
   "metadata": {},
   "outputs": [
    {
     "data": {
      "text/html": [
       "<div>\n",
       "<style scoped>\n",
       "    .dataframe tbody tr th:only-of-type {\n",
       "        vertical-align: middle;\n",
       "    }\n",
       "\n",
       "    .dataframe tbody tr th {\n",
       "        vertical-align: top;\n",
       "    }\n",
       "\n",
       "    .dataframe thead tr th {\n",
       "        text-align: left;\n",
       "    }\n",
       "\n",
       "    .dataframe thead tr:last-of-type th {\n",
       "        text-align: right;\n",
       "    }\n",
       "</style>\n",
       "<table border=\"1\" class=\"dataframe\">\n",
       "  <thead>\n",
       "    <tr>\n",
       "      <th>년도</th>\n",
       "      <th colspan=\"4\" halign=\"left\">2016</th>\n",
       "      <th colspan=\"4\" halign=\"left\">2017</th>\n",
       "    </tr>\n",
       "    <tr>\n",
       "      <th>과목</th>\n",
       "      <th>과학</th>\n",
       "      <th>수학</th>\n",
       "      <th>영어</th>\n",
       "      <th>평균</th>\n",
       "      <th>과학</th>\n",
       "      <th>수학</th>\n",
       "      <th>영어</th>\n",
       "      <th>평균</th>\n",
       "    </tr>\n",
       "    <tr>\n",
       "      <th>학생명</th>\n",
       "      <th></th>\n",
       "      <th></th>\n",
       "      <th></th>\n",
       "      <th></th>\n",
       "      <th></th>\n",
       "      <th></th>\n",
       "      <th></th>\n",
       "      <th></th>\n",
       "    </tr>\n",
       "  </thead>\n",
       "  <tbody>\n",
       "    <tr>\n",
       "      <th>Kim</th>\n",
       "      <td>50.0</td>\n",
       "      <td>97</td>\n",
       "      <td>94</td>\n",
       "      <td>80.333333</td>\n",
       "      <td>89</td>\n",
       "      <td>53</td>\n",
       "      <td>53</td>\n",
       "      <td>65.000000</td>\n",
       "    </tr>\n",
       "    <tr>\n",
       "      <th>Park</th>\n",
       "      <td>71.0</td>\n",
       "      <td>69</td>\n",
       "      <td>59</td>\n",
       "      <td>66.333333</td>\n",
       "      <td>56</td>\n",
       "      <td>73</td>\n",
       "      <td>86</td>\n",
       "      <td>71.666667</td>\n",
       "    </tr>\n",
       "    <tr>\n",
       "      <th>Lee</th>\n",
       "      <td>62.0</td>\n",
       "      <td>74</td>\n",
       "      <td>74</td>\n",
       "      <td>70.000000</td>\n",
       "      <td>89</td>\n",
       "      <td>88</td>\n",
       "      <td>51</td>\n",
       "      <td>76.000000</td>\n",
       "    </tr>\n",
       "    <tr>\n",
       "      <th>Jung</th>\n",
       "      <td>74.0</td>\n",
       "      <td>96</td>\n",
       "      <td>73</td>\n",
       "      <td>81.000000</td>\n",
       "      <td>75</td>\n",
       "      <td>87</td>\n",
       "      <td>67</td>\n",
       "      <td>76.333333</td>\n",
       "    </tr>\n",
       "    <tr>\n",
       "      <th>Moon</th>\n",
       "      <td>NaN</td>\n",
       "      <td>58</td>\n",
       "      <td>63</td>\n",
       "      <td>60.500000</td>\n",
       "      <td>55</td>\n",
       "      <td>66</td>\n",
       "      <td>70</td>\n",
       "      <td>63.666667</td>\n",
       "    </tr>\n",
       "  </tbody>\n",
       "</table>\n",
       "</div>"
      ],
      "text/plain": [
       "년도    2016                    2017                   \n",
       "과목      과학  수학  영어         평균   과학  수학  영어         평균\n",
       "학생명                                                  \n",
       "Kim   50.0  97  94  80.333333   89  53  53  65.000000\n",
       "Park  71.0  69  59  66.333333   56  73  86  71.666667\n",
       "Lee   62.0  74  74  70.000000   89  88  51  76.000000\n",
       "Jung  74.0  96  73  81.000000   75  87  67  76.333333\n",
       "Moon   NaN  58  63  60.500000   55  66  70  63.666667"
      ]
     },
     "execution_count": 83,
     "metadata": {},
     "output_type": "execute_result"
    }
   ],
   "source": [
    "df.sort_index(axis=1, inplace=True)\n",
    "df"
   ]
  },
  {
   "cell_type": "code",
   "execution_count": 84,
   "metadata": {
    "scrolled": true
   },
   "outputs": [
    {
     "data": {
      "text/html": [
       "<div>\n",
       "<style scoped>\n",
       "    .dataframe tbody tr th:only-of-type {\n",
       "        vertical-align: middle;\n",
       "    }\n",
       "\n",
       "    .dataframe tbody tr th {\n",
       "        vertical-align: top;\n",
       "    }\n",
       "\n",
       "    .dataframe thead tr th {\n",
       "        text-align: left;\n",
       "    }\n",
       "\n",
       "    .dataframe thead tr:last-of-type th {\n",
       "        text-align: right;\n",
       "    }\n",
       "</style>\n",
       "<table border=\"1\" class=\"dataframe\">\n",
       "  <thead>\n",
       "    <tr>\n",
       "      <th>년도</th>\n",
       "      <th colspan=\"4\" halign=\"left\">2016</th>\n",
       "      <th colspan=\"4\" halign=\"left\">2017</th>\n",
       "    </tr>\n",
       "    <tr>\n",
       "      <th>과목</th>\n",
       "      <th>과학</th>\n",
       "      <th>수학</th>\n",
       "      <th>영어</th>\n",
       "      <th>평균</th>\n",
       "      <th>과학</th>\n",
       "      <th>수학</th>\n",
       "      <th>영어</th>\n",
       "      <th>평균</th>\n",
       "    </tr>\n",
       "    <tr>\n",
       "      <th>학생명</th>\n",
       "      <th></th>\n",
       "      <th></th>\n",
       "      <th></th>\n",
       "      <th></th>\n",
       "      <th></th>\n",
       "      <th></th>\n",
       "      <th></th>\n",
       "      <th></th>\n",
       "    </tr>\n",
       "  </thead>\n",
       "  <tbody>\n",
       "    <tr>\n",
       "      <th>Lee</th>\n",
       "      <td>62.0</td>\n",
       "      <td>74</td>\n",
       "      <td>74</td>\n",
       "      <td>70.000000</td>\n",
       "      <td>89</td>\n",
       "      <td>88</td>\n",
       "      <td>51</td>\n",
       "      <td>76.000000</td>\n",
       "    </tr>\n",
       "    <tr>\n",
       "      <th>Jung</th>\n",
       "      <td>74.0</td>\n",
       "      <td>96</td>\n",
       "      <td>73</td>\n",
       "      <td>81.000000</td>\n",
       "      <td>75</td>\n",
       "      <td>87</td>\n",
       "      <td>67</td>\n",
       "      <td>76.333333</td>\n",
       "    </tr>\n",
       "    <tr>\n",
       "      <th>Park</th>\n",
       "      <td>71.0</td>\n",
       "      <td>69</td>\n",
       "      <td>59</td>\n",
       "      <td>66.333333</td>\n",
       "      <td>56</td>\n",
       "      <td>73</td>\n",
       "      <td>86</td>\n",
       "      <td>71.666667</td>\n",
       "    </tr>\n",
       "    <tr>\n",
       "      <th>Moon</th>\n",
       "      <td>NaN</td>\n",
       "      <td>58</td>\n",
       "      <td>63</td>\n",
       "      <td>60.500000</td>\n",
       "      <td>55</td>\n",
       "      <td>66</td>\n",
       "      <td>70</td>\n",
       "      <td>63.666667</td>\n",
       "    </tr>\n",
       "    <tr>\n",
       "      <th>Kim</th>\n",
       "      <td>50.0</td>\n",
       "      <td>97</td>\n",
       "      <td>94</td>\n",
       "      <td>80.333333</td>\n",
       "      <td>89</td>\n",
       "      <td>53</td>\n",
       "      <td>53</td>\n",
       "      <td>65.000000</td>\n",
       "    </tr>\n",
       "  </tbody>\n",
       "</table>\n",
       "</div>"
      ],
      "text/plain": [
       "년도    2016                    2017                   \n",
       "과목      과학  수학  영어         평균   과학  수학  영어         평균\n",
       "학생명                                                  \n",
       "Lee   62.0  74  74  70.000000   89  88  51  76.000000\n",
       "Jung  74.0  96  73  81.000000   75  87  67  76.333333\n",
       "Park  71.0  69  59  66.333333   56  73  86  71.666667\n",
       "Moon   NaN  58  63  60.500000   55  66  70  63.666667\n",
       "Kim   50.0  97  94  80.333333   89  53  53  65.000000"
      ]
     },
     "execution_count": 84,
     "metadata": {},
     "output_type": "execute_result"
    }
   ],
   "source": [
    "# df를 2017년 수학 성적 기준으로 내림차순 정렬\n",
    "df.sort_values(by=(2017,'수학'), ascending=False)"
   ]
  },
  {
   "cell_type": "code",
   "execution_count": 85,
   "metadata": {},
   "outputs": [
    {
     "data": {
      "text/html": [
       "<div>\n",
       "<style scoped>\n",
       "    .dataframe tbody tr th:only-of-type {\n",
       "        vertical-align: middle;\n",
       "    }\n",
       "\n",
       "    .dataframe tbody tr th {\n",
       "        vertical-align: top;\n",
       "    }\n",
       "\n",
       "    .dataframe thead tr th {\n",
       "        text-align: left;\n",
       "    }\n",
       "\n",
       "    .dataframe thead tr:last-of-type th {\n",
       "        text-align: right;\n",
       "    }\n",
       "</style>\n",
       "<table border=\"1\" class=\"dataframe\">\n",
       "  <thead>\n",
       "    <tr>\n",
       "      <th>년도</th>\n",
       "      <th colspan=\"4\" halign=\"left\">2016</th>\n",
       "      <th colspan=\"4\" halign=\"left\">2017</th>\n",
       "    </tr>\n",
       "    <tr>\n",
       "      <th>과목</th>\n",
       "      <th>과학</th>\n",
       "      <th>수학</th>\n",
       "      <th>영어</th>\n",
       "      <th>평균</th>\n",
       "      <th>과학</th>\n",
       "      <th>수학</th>\n",
       "      <th>영어</th>\n",
       "      <th>평균</th>\n",
       "    </tr>\n",
       "    <tr>\n",
       "      <th>학생명</th>\n",
       "      <th></th>\n",
       "      <th></th>\n",
       "      <th></th>\n",
       "      <th></th>\n",
       "      <th></th>\n",
       "      <th></th>\n",
       "      <th></th>\n",
       "      <th></th>\n",
       "    </tr>\n",
       "  </thead>\n",
       "  <tbody>\n",
       "    <tr>\n",
       "      <th>Lee</th>\n",
       "      <td>62.0</td>\n",
       "      <td>74</td>\n",
       "      <td>74</td>\n",
       "      <td>70.000000</td>\n",
       "      <td>89</td>\n",
       "      <td>88</td>\n",
       "      <td>51</td>\n",
       "      <td>76.000000</td>\n",
       "    </tr>\n",
       "    <tr>\n",
       "      <th>Jung</th>\n",
       "      <td>74.0</td>\n",
       "      <td>96</td>\n",
       "      <td>73</td>\n",
       "      <td>81.000000</td>\n",
       "      <td>75</td>\n",
       "      <td>87</td>\n",
       "      <td>67</td>\n",
       "      <td>76.333333</td>\n",
       "    </tr>\n",
       "    <tr>\n",
       "      <th>Park</th>\n",
       "      <td>71.0</td>\n",
       "      <td>69</td>\n",
       "      <td>59</td>\n",
       "      <td>66.333333</td>\n",
       "      <td>56</td>\n",
       "      <td>73</td>\n",
       "      <td>86</td>\n",
       "      <td>71.666667</td>\n",
       "    </tr>\n",
       "    <tr>\n",
       "      <th>Moon</th>\n",
       "      <td>NaN</td>\n",
       "      <td>58</td>\n",
       "      <td>63</td>\n",
       "      <td>60.500000</td>\n",
       "      <td>55</td>\n",
       "      <td>66</td>\n",
       "      <td>70</td>\n",
       "      <td>63.666667</td>\n",
       "    </tr>\n",
       "    <tr>\n",
       "      <th>Kim</th>\n",
       "      <td>50.0</td>\n",
       "      <td>97</td>\n",
       "      <td>94</td>\n",
       "      <td>80.333333</td>\n",
       "      <td>89</td>\n",
       "      <td>53</td>\n",
       "      <td>53</td>\n",
       "      <td>65.000000</td>\n",
       "    </tr>\n",
       "  </tbody>\n",
       "</table>\n",
       "</div>"
      ],
      "text/plain": [
       "년도    2016                    2017                   \n",
       "과목      과학  수학  영어         평균   과학  수학  영어         평균\n",
       "학생명                                                  \n",
       "Lee   62.0  74  74  70.000000   89  88  51  76.000000\n",
       "Jung  74.0  96  73  81.000000   75  87  67  76.333333\n",
       "Park  71.0  69  59  66.333333   56  73  86  71.666667\n",
       "Moon   NaN  58  63  60.500000   55  66  70  63.666667\n",
       "Kim   50.0  97  94  80.333333   89  53  53  65.000000"
      ]
     },
     "execution_count": 85,
     "metadata": {},
     "output_type": "execute_result"
    }
   ],
   "source": [
    "# df를 2017년 수학 성적 기준으로 내림차순 정렬, 2017년 평균이 같은 경우에는 2016년 평균으로 내림차순 정렬\n",
    "df.sort_values(by = [(2017, '수학'), (2016, '평균')], \n",
    "               ascending = False)"
   ]
  },
  {
   "cell_type": "code",
   "execution_count": null,
   "metadata": {},
   "outputs": [],
   "source": []
  }
 ],
 "metadata": {
  "kernelspec": {
   "display_name": "Python 3",
   "language": "python",
   "name": "python3"
  },
  "language_info": {
   "codemirror_mode": {
    "name": "ipython",
    "version": 3
   },
   "file_extension": ".py",
   "mimetype": "text/x-python",
   "name": "python",
   "nbconvert_exporter": "python",
   "pygments_lexer": "ipython3",
   "version": "3.6.10"
  },
  "toc": {
   "base_numbering": 1,
   "nav_menu": {},
   "number_sections": true,
   "sideBar": true,
   "skip_h1_title": false,
   "title_cell": "Table of Contents",
   "title_sidebar": "Contents",
   "toc_cell": false,
   "toc_position": {},
   "toc_section_display": true,
   "toc_window_display": false
  }
 },
 "nbformat": 4,
 "nbformat_minor": 2
}
