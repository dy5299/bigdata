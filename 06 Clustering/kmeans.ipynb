{
 "cells": [
  {
   "cell_type": "code",
   "execution_count": 7,
   "metadata": {},
   "outputs": [],
   "source": [
    "from __future__ import print_function\n",
    "from sklearn.datasets import make_blobs\n",
    "from sklearn.cluster import KMeans\n",
    "from sklearn.metrics import silhouette_samples, silhouette_score\n",
    "from pandas import DataFrame\n",
    "from scipy.stats import entropy\n",
    "from math import log, e\n",
    "import matplotlib.pyplot as plt\n",
    "import matplotlib.cm as cm\n",
    "import numpy as np\n",
    "import pandas as pd\n",
    "import math\n",
    "import timeit\n",
    "%matplotlib inline"
   ]
  },
  {
   "cell_type": "code",
   "execution_count": 9,
   "metadata": {},
   "outputs": [
    {
     "data": {
      "image/png": "[encoded data removed]",
      "text/plain": [
       "<Figure size 432x288 with 1 Axes>"
      ]
     },
     "metadata": {
      "needs_background": "light"
     },
     "output_type": "display_data"
    }
   ],
   "source": [
    "X = np.array([  [2,0], [3,0], [4,0], [10,0], [11,0], [12,0], [20,0], [25,0], [30,0]  ])\n",
    "plt.scatter(X[:, 0], X[:, 1], s=100)\n",
    "plt.show()"
   ]
  },
  {
   "cell_type": "code",
   "execution_count": 11,
   "metadata": {},
   "outputs": [
    {
     "data": {
      "text/plain": [
       "(array([2.5, 0. ]), array([16.,  0.]))"
      ]
     },
     "execution_count": 11,
     "metadata": {},
     "output_type": "execute_result"
    }
   ],
   "source": [
    "# k-means 1회차\n",
    "model1 = KMeans(n_clusters=2, init=np.array([[3,0], [4,0]]), n_init=1, max_iter=1).fit(X)\n",
    "c0, c1 = model1.cluster_centers_\n",
    "c0, c1"
   ]
  },
  {
   "cell_type": "code",
   "execution_count": 12,
   "metadata": {},
   "outputs": [
    {
     "data": {
      "text/plain": [
       "-372.75"
      ]
     },
     "execution_count": 12,
     "metadata": {},
     "output_type": "execute_result"
    }
   ],
   "source": [
    "model1.score(X)"
   ]
  },
  {
   "cell_type": "code",
   "execution_count": 13,
   "metadata": {
    "code_folding": []
   },
   "outputs": [],
   "source": [
    "def kmeans_df(model, c0, c1):\n",
    "    df = pd.DataFrame(np.hstack([X,\n",
    "                                np.linalg.norm(X - c0, axis=1)[:, np.newaxis],\n",
    "                                np.linalg.norm(X - c0, axis=1)[:, np.newaxis],\n",
    "                                model.labels_[:, np.newaxis]]),\n",
    "                     columns=['x0', 'x1', 'd0', 'd1', 'c'])    # x좌표, y좌표, 군집거리1, 군집거리2, 군집번호\n",
    "    return df"
   ]
  },
  {
   "cell_type": "code",
   "execution_count": 14,
   "metadata": {},
   "outputs": [
    {
     "data": {
      "text/html": [
       "<div>\n",
       "<style scoped>\n",
       "    .dataframe tbody tr th:only-of-type {\n",
       "        vertical-align: middle;\n",
       "    }\n",
       "\n",
       "    .dataframe tbody tr th {\n",
       "        vertical-align: top;\n",
       "    }\n",
       "\n",
       "    .dataframe thead th {\n",
       "        text-align: right;\n",
       "    }\n",
       "</style>\n",
       "<table border=\"1\" class=\"dataframe\">\n",
       "  <thead>\n",
       "    <tr style=\"text-align: right;\">\n",
       "      <th></th>\n",
       "      <th>x0</th>\n",
       "      <th>x1</th>\n",
       "      <th>d0</th>\n",
       "      <th>d1</th>\n",
       "      <th>c</th>\n",
       "    </tr>\n",
       "  </thead>\n",
       "  <tbody>\n",
       "    <tr>\n",
       "      <th>0</th>\n",
       "      <td>2.0</td>\n",
       "      <td>0.0</td>\n",
       "      <td>0.5</td>\n",
       "      <td>0.5</td>\n",
       "      <td>0.0</td>\n",
       "    </tr>\n",
       "    <tr>\n",
       "      <th>1</th>\n",
       "      <td>3.0</td>\n",
       "      <td>0.0</td>\n",
       "      <td>0.5</td>\n",
       "      <td>0.5</td>\n",
       "      <td>0.0</td>\n",
       "    </tr>\n",
       "    <tr>\n",
       "      <th>2</th>\n",
       "      <td>4.0</td>\n",
       "      <td>0.0</td>\n",
       "      <td>1.5</td>\n",
       "      <td>1.5</td>\n",
       "      <td>0.0</td>\n",
       "    </tr>\n",
       "    <tr>\n",
       "      <th>3</th>\n",
       "      <td>10.0</td>\n",
       "      <td>0.0</td>\n",
       "      <td>7.5</td>\n",
       "      <td>7.5</td>\n",
       "      <td>1.0</td>\n",
       "    </tr>\n",
       "    <tr>\n",
       "      <th>4</th>\n",
       "      <td>11.0</td>\n",
       "      <td>0.0</td>\n",
       "      <td>8.5</td>\n",
       "      <td>8.5</td>\n",
       "      <td>1.0</td>\n",
       "    </tr>\n",
       "    <tr>\n",
       "      <th>5</th>\n",
       "      <td>12.0</td>\n",
       "      <td>0.0</td>\n",
       "      <td>9.5</td>\n",
       "      <td>9.5</td>\n",
       "      <td>1.0</td>\n",
       "    </tr>\n",
       "    <tr>\n",
       "      <th>6</th>\n",
       "      <td>20.0</td>\n",
       "      <td>0.0</td>\n",
       "      <td>17.5</td>\n",
       "      <td>17.5</td>\n",
       "      <td>1.0</td>\n",
       "    </tr>\n",
       "    <tr>\n",
       "      <th>7</th>\n",
       "      <td>25.0</td>\n",
       "      <td>0.0</td>\n",
       "      <td>22.5</td>\n",
       "      <td>22.5</td>\n",
       "      <td>1.0</td>\n",
       "    </tr>\n",
       "    <tr>\n",
       "      <th>8</th>\n",
       "      <td>30.0</td>\n",
       "      <td>0.0</td>\n",
       "      <td>27.5</td>\n",
       "      <td>27.5</td>\n",
       "      <td>1.0</td>\n",
       "    </tr>\n",
       "  </tbody>\n",
       "</table>\n",
       "</div>"
      ],
      "text/plain": [
       "     x0   x1    d0    d1    c\n",
       "0   2.0  0.0   0.5   0.5  0.0\n",
       "1   3.0  0.0   0.5   0.5  0.0\n",
       "2   4.0  0.0   1.5   1.5  0.0\n",
       "3  10.0  0.0   7.5   7.5  1.0\n",
       "4  11.0  0.0   8.5   8.5  1.0\n",
       "5  12.0  0.0   9.5   9.5  1.0\n",
       "6  20.0  0.0  17.5  17.5  1.0\n",
       "7  25.0  0.0  22.5  22.5  1.0\n",
       "8  30.0  0.0  27.5  27.5  1.0"
      ]
     },
     "execution_count": 14,
     "metadata": {},
     "output_type": "execute_result"
    }
   ],
   "source": [
    "kmeans_df(model1, c0, c1)"
   ]
  },
  {
   "cell_type": "code",
   "execution_count": 17,
   "metadata": {},
   "outputs": [],
   "source": [
    "def plot_cluster(model, c0, c1):\n",
    "    plt.scatter(X[model.labels_ == 0, 0],\n",
    "               X[model.labels_ == 0, 1], s=100, marker='v', c='r')\n",
    "    plt.scatter(X[model.labels_ == 1, 0],\n",
    "               X[model.labels_ == 1, 1], s=100, marker='^', c='b')\n",
    "    plt.scatter(c0[0], c0[1], s=200, c='r')\n",
    "    plt.scatter(c1[0], c1[1], s=200, c='b')\n",
    "    plt.show()"
   ]
  },
  {
   "cell_type": "code",
   "execution_count": 18,
   "metadata": {},
   "outputs": [
    {
     "data": {
      "image/png": "[encoded data removed]",
      "text/plain": [
       "<Figure size 432x288 with 1 Axes>"
      ]
     },
     "metadata": {
      "needs_background": "light"
     },
     "output_type": "display_data"
    }
   ],
   "source": [
    "plot_cluster(model1, c0, c1)"
   ]
  },
  {
   "cell_type": "code",
   "execution_count": 19,
   "metadata": {},
   "outputs": [
    {
     "name": "stdout",
     "output_type": "stream",
     "text": [
      "[4.75 0.  ] [19.6  0. ]\n",
      "-267.85499999999996\n",
      "     x0   x1     d0     d1    c\n",
      "0   2.0  0.0   2.75   2.75  0.0\n",
      "1   3.0  0.0   1.75   1.75  0.0\n",
      "2   4.0  0.0   0.75   0.75  0.0\n",
      "3  10.0  0.0   5.25   5.25  0.0\n",
      "4  11.0  0.0   6.25   6.25  0.0\n",
      "5  12.0  0.0   7.25   7.25  0.0\n",
      "6  20.0  0.0  15.25  15.25  1.0\n",
      "7  25.0  0.0  20.25  20.25  1.0\n",
      "8  30.0  0.0  25.25  25.25  1.0\n"
     ]
    },
    {
     "data": {
      "image/png": "[encoded data removed]",
      "text/plain": [
       "<Figure size 432x288 with 1 Axes>"
      ]
     },
     "metadata": {
      "needs_background": "light"
     },
     "output_type": "display_data"
    }
   ],
   "source": [
    "# k-means 3회차\n",
    "model1 = KMeans(n_clusters=2, init=np.array([[3,0], [18,0]]), n_init=1, max_iter=1).fit(X)\n",
    "c0, c1 = model1.cluster_centers_\n",
    "\n",
    "print(c0, c1)\n",
    "print(model1.score(X))\n",
    "print(kmeans_df(model1, c0, c1))\n",
    "plot_cluster(model1, c0, c1)"
   ]
  },
  {
   "cell_type": "code",
   "execution_count": 23,
   "metadata": {},
   "outputs": [
    {
     "name": "stdout",
     "output_type": "stream",
     "text": [
      "[7. 0.] [25.  0.]\n",
      "-150.0\n",
      "     x0   x1    d0    d1    c\n",
      "0   2.0  0.0   5.0   5.0  0.0\n",
      "1   3.0  0.0   4.0   4.0  0.0\n",
      "2   4.0  0.0   3.0   3.0  0.0\n",
      "3  10.0  0.0   3.0   3.0  0.0\n",
      "4  11.0  0.0   4.0   4.0  0.0\n",
      "5  12.0  0.0   5.0   5.0  0.0\n",
      "6  20.0  0.0  13.0  13.0  1.0\n",
      "7  25.0  0.0  18.0  18.0  1.0\n",
      "8  30.0  0.0  23.0  23.0  1.0\n"
     ]
    },
    {
     "data": {
      "image/png": "[encoded data removed]",
      "text/plain": [
       "<Figure size 432x288 with 1 Axes>"
      ]
     },
     "metadata": {
      "needs_background": "light"
     },
     "output_type": "display_data"
    }
   ],
   "source": [
    "# k-means 5회차\n",
    "model1 = KMeans(n_clusters=2, init=np.array([[7,0], [25,0]]), n_init=1, max_iter=1).fit(X)\n",
    "c0, c1 = model1.cluster_centers_\n",
    "\n",
    "print(c0, c1)\n",
    "print(model1.score(X))\n",
    "print(kmeans_df(model1, c0, c1))\n",
    "plot_cluster(model1, c0, c1)"
   ]
  },
  {
   "cell_type": "code",
   "execution_count": 20,
   "metadata": {},
   "outputs": [
    {
     "name": "stdout",
     "output_type": "stream",
     "text": [
      "[25.  0.] [7. 0.]\n",
      "-150.0\n",
      "     x0   x1    d0    d1    c\n",
      "0   2.0  0.0  23.0  23.0  1.0\n",
      "1   3.0  0.0  22.0  22.0  1.0\n",
      "2   4.0  0.0  21.0  21.0  1.0\n",
      "3  10.0  0.0  15.0  15.0  1.0\n",
      "4  11.0  0.0  14.0  14.0  1.0\n",
      "5  12.0  0.0  13.0  13.0  1.0\n",
      "6  20.0  0.0   5.0   5.0  0.0\n",
      "7  25.0  0.0   0.0   0.0  0.0\n",
      "8  30.0  0.0   5.0   5.0  0.0\n"
     ]
    },
    {
     "data": {
      "image/png": "[encoded data removed]",
      "text/plain": [
       "<Figure size 432x288 with 1 Axes>"
      ]
     },
     "metadata": {
      "needs_background": "light"
     },
     "output_type": "display_data"
    }
   ],
   "source": [
    "# k-means random\n",
    "model1 = KMeans(n_clusters=2, init='random', n_init=10, max_iter=100).fit(X)\n",
    "c0, c1 = model1.cluster_centers_\n",
    "\n",
    "print(c0, c1)\n",
    "print(model1.score(X))\n",
    "print(kmeans_df(model1, c0, c1))\n",
    "plot_cluster(model1, c0, c1)"
   ]
  },
  {
   "cell_type": "code",
   "execution_count": null,
   "metadata": {},
   "outputs": [],
   "source": []
  }
 ],
 "metadata": {
  "kernelspec": {
   "display_name": "Python 3",
   "language": "python",
   "name": "python3"
  },
  "language_info": {
   "codemirror_mode": {
    "name": "ipython",
    "version": 3
   },
   "file_extension": ".py",
   "mimetype": "text/x-python",
   "name": "python",
   "nbconvert_exporter": "python",
   "pygments_lexer": "ipython3",
   "version": "3.6.10"
  },
  "toc": {
   "base_numbering": 1,
   "nav_menu": {},
   "number_sections": false,
   "sideBar": true,
   "skip_h1_title": false,
   "title_cell": "Table of Contents",
   "title_sidebar": "Contents",
   "toc_cell": false,
   "toc_position": {},
   "toc_section_display": true,
   "toc_window_display": false
  }
 },
 "nbformat": 4,
 "nbformat_minor": 4
}
