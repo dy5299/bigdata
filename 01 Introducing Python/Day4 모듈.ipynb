{
 "cells": [
  {
   "cell_type": "markdown",
   "metadata": {},
   "source": [
    "# module"
   ]
  },
  {
   "cell_type": "code",
   "execution_count": 2,
   "metadata": {},
   "outputs": [
    {
     "name": "stdout",
     "output_type": "stream",
     "text": [
      "['__doc__', '__loader__', '__name__', '__package__', '__spec__', 'acos', 'acosh', 'asin', 'asinh', 'atan', 'atan2', 'atanh', 'ceil', 'copysign', 'cos', 'cosh', 'degrees', 'e', 'erf', 'erfc', 'exp', 'expm1', 'fabs', 'factorial', 'floor', 'fmod', 'frexp', 'fsum', 'gamma', 'gcd', 'hypot', 'inf', 'isclose', 'isfinite', 'isinf', 'isnan', 'ldexp', 'lgamma', 'log', 'log10', 'log1p', 'log2', 'modf', 'nan', 'pi', 'pow', 'radians', 'sin', 'sinh', 'sqrt', 'tan', 'tanh', 'tau', 'trunc']\n"
     ]
    }
   ],
   "source": [
    "import math\n",
    "print(dir(math))"
   ]
  },
  {
   "cell_type": "code",
   "execution_count": 3,
   "metadata": {},
   "outputs": [
    {
     "name": "stdout",
     "output_type": "stream",
     "text": [
      "Help on built-in function sqrt in module math:\n",
      "\n",
      "sqrt(...)\n",
      "    sqrt(x)\n",
      "    \n",
      "    Return the square root of x.\n",
      "\n"
     ]
    }
   ],
   "source": [
    "help(math.sqrt)"
   ]
  },
  {
   "cell_type": "code",
   "execution_count": 8,
   "metadata": {},
   "outputs": [
    {
     "name": "stdout",
     "output_type": "stream",
     "text": [
      "[5, 2, 1, 4, 3]\n"
     ]
    }
   ],
   "source": [
    "# 선택\n",
    "import random\n",
    "t1 = [1,2,3,4,5]\n",
    "random.shuffle(t1)\n",
    "print(t1)"
   ]
  },
  {
   "cell_type": "code",
   "execution_count": 9,
   "metadata": {},
   "outputs": [
    {
     "name": "stdout",
     "output_type": "stream",
     "text": [
      "['BPF', 'LOG4', 'NV_MAGICCONST', 'RECIP_BPF', 'Random', 'SG_MAGICCONST', 'SystemRandom', 'TWOPI', '_BuiltinMethodType', '_MethodType', '_Sequence', '_Set', '__all__', '__builtins__', '__cached__', '__doc__', '__file__', '__loader__', '__name__', '__package__', '__spec__', '_acos', '_bisect', '_ceil', '_cos', '_e', '_exp', '_inst', '_itertools', '_log', '_pi', '_random', '_sha512', '_sin', '_sqrt', '_test', '_test_generator', '_urandom', '_warn', 'betavariate', 'choice', 'choices', 'expovariate', 'gammavariate', 'gauss', 'getrandbits', 'getstate', 'lognormvariate', 'normalvariate', 'paretovariate', 'randint', 'random', 'randrange', 'sample', 'seed', 'setstate', 'shuffle', 'triangular', 'uniform', 'vonmisesvariate', 'weibullvariate']\n"
     ]
    }
   ],
   "source": [
    "print(dir(random))"
   ]
  },
  {
   "cell_type": "code",
   "execution_count": 11,
   "metadata": {},
   "outputs": [
    {
     "name": "stdout",
     "output_type": "stream",
     "text": [
      "['Decimal', 'Fraction', 'StatisticsError', '__all__', '__builtins__', '__cached__', '__doc__', '__file__', '__loader__', '__name__', '__package__', '__spec__', '_coerce', '_convert', '_counts', '_exact_ratio', '_fail_neg', '_find_lteq', '_find_rteq', '_isfinite', '_ss', '_sum', 'bisect_left', 'bisect_right', 'chain', 'collections', 'decimal', 'groupby', 'harmonic_mean', 'math', 'mean', 'median', 'median_grouped', 'median_high', 'median_low', 'mode', 'numbers', 'pstdev', 'pvariance', 'stdev', 'variance']\n"
     ]
    }
   ],
   "source": [
    "# 집계 분석 위주\n",
    "import statistics\n",
    "print(dir(statistics))"
   ]
  },
  {
   "cell_type": "code",
   "execution_count": 13,
   "metadata": {},
   "outputs": [
    {
     "name": "stdout",
     "output_type": "stream",
     "text": [
      "5.6\n",
      "5\n"
     ]
    }
   ],
   "source": [
    "t1 = [2,3,5,7,11]\n",
    "print(  statistics.mean(t1)  )\n",
    "print(  statistics.median(t1)  )"
   ]
  },
  {
   "cell_type": "code",
   "execution_count": 14,
   "metadata": {},
   "outputs": [
    {
     "name": "stdout",
     "output_type": "stream",
     "text": [
      "C:\\Users\\Dayoung\\Dropbox\\Documents\\MultiCampus\\2020데이터청년캠퍼스\\kdata_learning\\01 Introducing Python\n"
     ]
    }
   ],
   "source": [
    "import os\n",
    "print(  os.getcwd()  )\n",
    "#current working directory"
   ]
  },
  {
   "cell_type": "code",
   "execution_count": 15,
   "metadata": {},
   "outputs": [
    {
     "name": "stdout",
     "output_type": "stream",
     "text": [
      "A ['Alen', 'Adam']\n",
      "W ['Wes', 'Will']\n",
      "A ['Albert']\n",
      "S ['Steven']\n"
     ]
    }
   ],
   "source": [
    "# 데이터 알고리즘\n",
    "import itertools\n",
    "\n",
    "first_letter = lambda x : x[0]\n",
    "names = ['Alen','Adam','Wes','Will','Albert','Steven']\n",
    "\n",
    "for letter, names in itertools.groupby(names, first_letter):\n",
    "    print(letter, list(names))"
   ]
  },
  {
   "cell_type": "code",
   "execution_count": 18,
   "metadata": {},
   "outputs": [
    {
     "name": "stdout",
     "output_type": "stream",
     "text": [
      "('Alen', 'Adam', 'Wes')\n",
      "('Alen', 'Adam', 'Will')\n",
      "('Alen', 'Adam', 'Albert')\n",
      "('Alen', 'Adam', 'Steven')\n",
      "('Alen', 'Wes', 'Will')\n",
      "('Alen', 'Wes', 'Albert')\n",
      "('Alen', 'Wes', 'Steven')\n",
      "('Alen', 'Will', 'Albert')\n",
      "('Alen', 'Will', 'Steven')\n",
      "('Alen', 'Albert', 'Steven')\n",
      "('Adam', 'Wes', 'Will')\n",
      "('Adam', 'Wes', 'Albert')\n",
      "('Adam', 'Wes', 'Steven')\n",
      "('Adam', 'Will', 'Albert')\n",
      "('Adam', 'Will', 'Steven')\n",
      "('Adam', 'Albert', 'Steven')\n",
      "('Wes', 'Will', 'Albert')\n",
      "('Wes', 'Will', 'Steven')\n",
      "('Wes', 'Albert', 'Steven')\n",
      "('Will', 'Albert', 'Steven')\n"
     ]
    }
   ],
   "source": [
    "names = ['Alen','Adam','Wes','Will','Albert','Steven']\n",
    "for comb in itertools.combinations(names, 3):\n",
    "    print(comb)"
   ]
  },
  {
   "cell_type": "code",
   "execution_count": 19,
   "metadata": {},
   "outputs": [
    {
     "name": "stdout",
     "output_type": "stream",
     "text": [
      "1\n",
      "3\n",
      "6\n",
      "10\n"
     ]
    }
   ],
   "source": [
    "for item in itertools.accumulate([1,2,3,4]):\n",
    "    print(item)"
   ]
  },
  {
   "cell_type": "code",
   "execution_count": 20,
   "metadata": {},
   "outputs": [
    {
     "name": "stdout",
     "output_type": "stream",
     "text": [
      "1\n",
      "2\n",
      "6\n",
      "24\n"
     ]
    }
   ],
   "source": [
    "def multiply(a,b):\n",
    "    return a*b\n",
    "\n",
    "for item in itertools.accumulate([1,2,3,4], multiply):\n",
    "    print(item)"
   ]
  },
  {
   "cell_type": "code",
   "execution_count": null,
   "metadata": {},
   "outputs": [],
   "source": []
  },
  {
   "cell_type": "code",
   "execution_count": 22,
   "metadata": {},
   "outputs": [
    {
     "name": "stdout",
     "output_type": "stream",
     "text": [
      "welcome 이름자리\n",
      "None\n",
      "(8, -2, 15, 0.6)\n"
     ]
    }
   ],
   "source": [
    "from mymodule import notice,myfunc\n",
    "print(notice('이름자리'))\n",
    "print(myfunc(3,5))"
   ]
  },
  {
   "cell_type": "markdown",
   "metadata": {},
   "source": [
    "## review\n",
    "### Simple Poer game"
   ]
  },
  {
   "cell_type": "code",
   "execution_count": 24,
   "metadata": {},
   "outputs": [],
   "source": [
    "suit = ['spade','heart','diamond','clover']\n",
    "face=['king','queen','jack','ten','nine','eight','seven','six','five','four','three','two','one']"
   ]
  },
  {
   "cell_type": "code",
   "execution_count": 26,
   "metadata": {},
   "outputs": [
    {
     "data": {
      "text/plain": [
       "[('king', 13),\n",
       " ('queen', 12),\n",
       " ('jack', 11),\n",
       " ('ten', 10),\n",
       " ('nine', 9),\n",
       " ('eight', 8),\n",
       " ('seven', 7),\n",
       " ('six', 6),\n",
       " ('five', 5),\n",
       " ('four', 4),\n",
       " ('three', 3),\n",
       " ('two', 2),\n",
       " ('one', 1)]"
      ]
     },
     "execution_count": 26,
     "metadata": {},
     "output_type": "execute_result"
    }
   ],
   "source": [
    "import itertools\n",
    "\n",
    "nums=[  (f,v) for f,v in zip(face,range(13,0,-1))  ]\n",
    "nums"
   ]
  },
  {
   "cell_type": "code",
   "execution_count": 28,
   "metadata": {
    "scrolled": true
   },
   "outputs": [
    {
     "data": {
      "text/plain": [
       "[['spade', 'king', 13],\n",
       " ['spade', 'queen', 12],\n",
       " ['spade', 'jack', 11],\n",
       " ['spade', 'ten', 10],\n",
       " ['spade', 'nine', 9],\n",
       " ['spade', 'eight', 8],\n",
       " ['spade', 'seven', 7],\n",
       " ['spade', 'six', 6],\n",
       " ['spade', 'five', 5],\n",
       " ['spade', 'four', 4],\n",
       " ['spade', 'three', 3],\n",
       " ['spade', 'two', 2],\n",
       " ['spade', 'one', 1],\n",
       " ['heart', 'king', 13],\n",
       " ['heart', 'queen', 12],\n",
       " ['heart', 'jack', 11],\n",
       " ['heart', 'ten', 10],\n",
       " ['heart', 'nine', 9],\n",
       " ['heart', 'eight', 8],\n",
       " ['heart', 'seven', 7],\n",
       " ['heart', 'six', 6],\n",
       " ['heart', 'five', 5],\n",
       " ['heart', 'four', 4],\n",
       " ['heart', 'three', 3],\n",
       " ['heart', 'two', 2],\n",
       " ['heart', 'one', 1],\n",
       " ['diamond', 'king', 13],\n",
       " ['diamond', 'queen', 12],\n",
       " ['diamond', 'jack', 11],\n",
       " ['diamond', 'ten', 10],\n",
       " ['diamond', 'nine', 9],\n",
       " ['diamond', 'eight', 8],\n",
       " ['diamond', 'seven', 7],\n",
       " ['diamond', 'six', 6],\n",
       " ['diamond', 'five', 5],\n",
       " ['diamond', 'four', 4],\n",
       " ['diamond', 'three', 3],\n",
       " ['diamond', 'two', 2],\n",
       " ['diamond', 'one', 1],\n",
       " ['clover', 'king', 13],\n",
       " ['clover', 'queen', 12],\n",
       " ['clover', 'jack', 11],\n",
       " ['clover', 'ten', 10],\n",
       " ['clover', 'nine', 9],\n",
       " ['clover', 'eight', 8],\n",
       " ['clover', 'seven', 7],\n",
       " ['clover', 'six', 6],\n",
       " ['clover', 'five', 5],\n",
       " ['clover', 'four', 4],\n",
       " ['clover', 'three', 3],\n",
       " ['clover', 'two', 2],\n",
       " ['clover', 'one', 1]]"
      ]
     },
     "execution_count": 28,
     "metadata": {},
     "output_type": "execute_result"
    }
   ],
   "source": [
    "sorted_deck=[  [  s,n[0],n[1]  ] for s,n in itertools.product(suit,nums)  ]\n",
    "sorted_deck"
   ]
  },
  {
   "cell_type": "code",
   "execution_count": 34,
   "metadata": {},
   "outputs": [],
   "source": [
    "import random\n",
    "def shuffle(deck):\n",
    "    new_deck = deck[:]\n",
    "    random.shuffle(new_deck)\n",
    "    return new_deck"
   ]
  },
  {
   "cell_type": "code",
   "execution_count": 35,
   "metadata": {},
   "outputs": [
    {
     "data": {
      "text/plain": [
       "[['heart', 'one', 1], ['spade', 'six', 6], ['diamond', 'king', 13]]"
      ]
     },
     "execution_count": 35,
     "metadata": {},
     "output_type": "execute_result"
    }
   ],
   "source": [
    "new_deck = shuffle(sorted_deck)\n",
    "new_deck[-3:]"
   ]
  },
  {
   "cell_type": "code",
   "execution_count": 36,
   "metadata": {},
   "outputs": [],
   "source": [
    "def dispense(deck,n):\n",
    "    return [  deck.pop() for i in range(n)  ]"
   ]
  },
  {
   "cell_type": "code",
   "execution_count": 37,
   "metadata": {},
   "outputs": [
    {
     "name": "stdout",
     "output_type": "stream",
     "text": [
      "52\n",
      "45\n",
      "[['diamond', 'king', 13], ['spade', 'six', 6], ['heart', 'one', 1], ['diamond', 'seven', 7], ['heart', 'four', 4], ['diamond', 'eight', 8], ['clover', 'king', 13]]\n"
     ]
    }
   ],
   "source": [
    "print(len(new_deck))\n",
    "dealer = dispense(new_deck,7)\n",
    "print(len(new_deck))\n",
    "print(dealer)"
   ]
  },
  {
   "cell_type": "code",
   "execution_count": null,
   "metadata": {},
   "outputs": [],
   "source": [
    "\n",
    "#     spades=[d for d in deck if d[0]=='spade']\n",
    "#     heart=[d for d in deck if d[0]=='heart']\n",
    "#     diamond=[d for d in deck if d[0]=='diamond']\n",
    "#     clover=[d for d in deck if d[0]=='clover']"
   ]
  },
  {
   "cell_type": "code",
   "execution_count": 33,
   "metadata": {},
   "outputs": [
    {
     "name": "stdout",
     "output_type": "stream",
     "text": [
      "[['clover', 'king', 13], ['diamond', 'king', 13], ['heart', 'queen', 12], ['diamond', 'jack', 11], ['clover', 'seven', 7], ['spade', 'six', 6], ['heart', 'three', 3]]\n"
     ]
    }
   ],
   "source": [
    "def assess_category(deck):\n",
    "    topcards=sorted(deck, key=lambda x : -x[2])\n",
    "    print(topcards)\n",
    "\n",
    "assess_category(dispense(sorted_deck,7))"
   ]
  },
  {
   "cell_type": "code",
   "execution_count": null,
   "metadata": {},
   "outputs": [],
   "source": [
    "def assess_category(deck):\n",
    "    my_sorted_deck=sorted(deck, key=lambda x : -x[2])\n",
    "    topest=[card for card in my_sorted_deck if i[2]==my_sorted_deck[0][2]]\n",
    "    if len(topest)>1:\n",
    "        suit = ['spade','heart','diamond','clover']\n",
    "        for s in suit:\n",
    "            if s in [i[0] for i in topest]:\n",
    "                print('동률')\n",
    "                break\n",
    "    else:\n",
    "        return topest[0]\n",
    "    \n",
    "assess_category(dispense(sorted_deck,7))"
   ]
  },
  {
   "cell_type": "code",
   "execution_count": 38,
   "metadata": {},
   "outputs": [],
   "source": [
    "def assess_category(deck):\n",
    "    return max([card[2] for card in deck])"
   ]
  },
  {
   "cell_type": "code",
   "execution_count": 39,
   "metadata": {},
   "outputs": [
    {
     "data": {
      "text/plain": [
       "13"
      ]
     },
     "execution_count": 39,
     "metadata": {},
     "output_type": "execute_result"
    }
   ],
   "source": [
    "assess_category(dealer)"
   ]
  },
  {
   "cell_type": "code",
   "execution_count": 42,
   "metadata": {},
   "outputs": [],
   "source": [
    "def simplest_pocker():\n",
    "    new_deck = shuffle(sorted_deck)\n",
    "    player=dispense(new_deck,7)\n",
    "    dealer=dispense(new_deck,7)\n",
    "    \n",
    "    if assess_category(player) > assess_category(dealer):\n",
    "        print('Player win.')\n",
    "    elif assess_category(player) < assess_category(dealer):\n",
    "        print('Dealer win.')\n",
    "    else:\n",
    "        print('Draw')\n",
    "        \n",
    "    print(\"player's card >>\" ,player)\n",
    "    print(\"dealer's card >>\" ,dealer)"
   ]
  },
  {
   "cell_type": "code",
   "execution_count": 43,
   "metadata": {},
   "outputs": [
    {
     "name": "stdout",
     "output_type": "stream",
     "text": [
      "Dealer win.\n",
      "player's card >> [['spade', 'six', 6], ['diamond', 'three', 3], ['spade', 'jack', 11], ['spade', 'seven', 7], ['clover', 'nine', 9], ['clover', 'eight', 8], ['clover', 'five', 5]]\n",
      "dealer's card >> [['clover', 'seven', 7], ['heart', 'ten', 10], ['diamond', 'nine', 9], ['heart', 'queen', 12], ['clover', 'six', 6], ['clover', 'two', 2], ['heart', 'jack', 11]]\n"
     ]
    }
   ],
   "source": [
    "simplest_pocker()"
   ]
  },
  {
   "cell_type": "code",
   "execution_count": null,
   "metadata": {},
   "outputs": [],
   "source": []
  }
 ],
 "metadata": {
  "kernelspec": {
   "display_name": "Python 3",
   "language": "python",
   "name": "python3"
  },
  "language_info": {
   "codemirror_mode": {
    "name": "ipython",
    "version": 3
   },
   "file_extension": ".py",
   "mimetype": "text/x-python",
   "name": "python",
   "nbconvert_exporter": "python",
   "pygments_lexer": "ipython3",
   "version": "3.6.10"
  }
 },
 "nbformat": 4,
 "nbformat_minor": 4
}
