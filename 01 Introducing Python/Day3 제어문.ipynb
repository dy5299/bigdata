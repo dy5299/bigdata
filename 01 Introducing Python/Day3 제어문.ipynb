{
 "cells": [
  {
   "cell_type": "markdown",
   "metadata": {},
   "source": [
    "# Control statement"
   ]
  },
  {
   "cell_type": "markdown",
   "metadata": {},
   "source": [
    "## if"
   ]
  },
  {
   "cell_type": "markdown",
   "metadata": {},
   "source": [
    "### practice"
   ]
  },
  {
   "cell_type": "code",
   "execution_count": 1,
   "metadata": {},
   "outputs": [
    {
     "name": "stdout",
     "output_type": "stream",
     "text": [
      "연도를 입력하세요 >>>2011\n",
      "2011 년은 평년입니다.\n"
     ]
    }
   ],
   "source": [
    "year = int(input('연도를 입력하세요 >>>'))\n",
    "\n",
    "if year%4 != 0:\n",
    "    print(year,'년은 평년입니다.')\n",
    "elif year%100==0:\n",
    "    if year%400==0:\n",
    "        print(year,'년은 윤년입니다.')\n",
    "    else:\n",
    "        print(year,'년은 평년입니다.')\n",
    "else:\n",
    "    print(year,'년은 윤년입니다.')"
   ]
  },
  {
   "cell_type": "code",
   "execution_count": 2,
   "metadata": {},
   "outputs": [
    {
     "name": "stdout",
     "output_type": "stream",
     "text": [
      "연도를 입력하세요 >>>2012\n",
      "2012 년은 윤년입니다.\n"
     ]
    }
   ],
   "source": [
    "year = int(input('연도를 입력하세요 >>>'))\n",
    "if ((year%4==0 and year%100 != 0) or year%400==0):\n",
    "    print(year,'년은 윤년입니다.')\n",
    "else:\n",
    "    print(year,'년은 윤년이 아닙니다.')"
   ]
  },
  {
   "cell_type": "markdown",
   "metadata": {},
   "source": [
    "## for"
   ]
  },
  {
   "cell_type": "code",
   "execution_count": 3,
   "metadata": {},
   "outputs": [
    {
     "name": "stdout",
     "output_type": "stream",
     "text": [
      "Enter word or sentence.Hi there!\n",
      "모음은 3개, 자음은 4개 입니다.\n"
     ]
    }
   ],
   "source": [
    "# 자음과 모음 구분\n",
    "\n",
    "s=input('Enter word or sentence.')\n",
    "\n",
    "word = s.lower()\n",
    "\n",
    "v=0\n",
    "c=0\n",
    "\n",
    "for ch in word:\n",
    "    if ch.isalpha():\n",
    "        if ch in 'aeiou':\n",
    "            v+=1\n",
    "        else:\n",
    "            c+=1\n",
    "\n",
    "print('모음은 {}개, 자음은 {}개 입니다.'.format(v,c))"
   ]
  },
  {
   "cell_type": "code",
   "execution_count": 11,
   "metadata": {},
   "outputs": [
    {
     "name": "stdout",
     "output_type": "stream",
     "text": [
      "3\n",
      "3는 소수가 아닙니다\n"
     ]
    }
   ],
   "source": [
    "# 소수 판단 실패\n",
    "\n",
    "def isprime(n):\n",
    "    for i in range(2,n+1):\n",
    "        if n%i==0:\n",
    "            return False\n",
    "    return True\n",
    "\n",
    "\n",
    "inp=int(input())\n",
    "if isprime(inp)==True:\n",
    "    print(\"{}는 소수입니다\".format(inp))\n",
    "else:\n",
    "    print(\"{}는 소수가 아닙니다\".format(inp))"
   ]
  },
  {
   "cell_type": "code",
   "execution_count": 12,
   "metadata": {},
   "outputs": [
    {
     "name": "stdout",
     "output_type": "stream",
     "text": [
      "수를 입력3\n",
      "3 is prime.\n"
     ]
    }
   ],
   "source": [
    "# 소수 판단\n",
    "\n",
    "N=int(input('수를 입력'))\n",
    "primeChk = True\n",
    "for k in range(2,N):\n",
    "    if N%k == 0:\n",
    "        primeChk=False\n",
    "        break\n",
    "\n",
    "if primeChk == True:\n",
    "    print('{} is prime.'.format(N))\n",
    "else:\n",
    "    print('{} is not prime.'.format(N))"
   ]
  },
  {
   "cell_type": "code",
   "execution_count": null,
   "metadata": {},
   "outputs": [],
   "source": []
  }
 ],
 "metadata": {
  "kernelspec": {
   "display_name": "Python 3",
   "language": "python",
   "name": "python3"
  },
  "language_info": {
   "codemirror_mode": {
    "name": "ipython",
    "version": 3
   },
   "file_extension": ".py",
   "mimetype": "text/x-python",
   "name": "python",
   "nbconvert_exporter": "python",
   "pygments_lexer": "ipython3",
   "version": "3.6.10"
  }
 },
 "nbformat": 4,
 "nbformat_minor": 4
}
