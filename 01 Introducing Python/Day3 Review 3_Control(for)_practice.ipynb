{
 "cells": [
  {
   "cell_type": "markdown",
   "metadata": {},
   "source": [
    "### 디오 온라인 쇼핑몰의 회원명단 목록이 다음과 같은 형태로 관리되고 있었으나, 원본이 분실 되고, 항목 목록만 남았음.\n",
    "  - 성명, 성별, 연령, 전화번호, 이메일, 마케팅수신동의, 매출총액, 구매횟수\n",
    "  \n",
    "### 이를 정리하여 필요한 업무를 수행하고자 함\n",
    "\n",
    "### ** 실제 업무에서는 데이터베이스 및 보다 다양한 언어, 도구를 사용하여 간결하게 처리함\n"
   ]
  },
  {
   "cell_type": "code",
   "execution_count": null,
   "metadata": {},
   "outputs": [],
   "source": []
  },
  {
   "cell_type": "code",
   "execution_count": 1,
   "metadata": {},
   "outputs": [],
   "source": [
    "member= ['서지수','F',24,'010-5429-6666','sjs@gmail.com','Y',1052500,12,'임단아','F',32,'010-5855-6513','danalim@gmail.com','Y',350800,13,'남경훈','M',46,'010-3620-7879','bruece@naver.com','Y',7054500,92,'박수하','F',31,'010-7319-8161','soo2121@samsung.com','N',85400,3,'김경율','M',62,'010-6300-6083','kkl@gle.net','Y',4099500,12,'박혜진','M',39,'010-3876-3880','hyejinp@gmail.com','N',6007900,101,'한가람','F',28,'010-4699-9251','goodwill@hilton.com','Y',327200,3,'조민호','M',31,'010-2639-4831','min0702@hyundai.com','N',5575500,56,'최아리','F',35,'010-2705-3535','bigtree@naver.com','Y',7896300,120,'배진우','M',41,'010-8522-5566','jinwbae@gmail.com','N',2372600,20,'김환중','M',53,'010-7367-9405','hjk@naver.com','Y',4607900,73,'이민수','M',29,'010-6366-2263','smp@naver.com','Y',6173300,81,'박원기','M',33,'010-3663-5462','wonki.park@hanwha.com','Y',592400,21,'강형규','M',42,'010-6648-2164','kyu3821@naver.com','N',1767200,15,'이상윤','M',39,'010-3543-2479','saint32@yahoo.com','Y',4102100,89,'김선미','F',52,'010-7497-9061','dreamcatcher@daum.net','N',2190900,19,'이주은','F',47,'010-7735-7277','dalhmin@naver.com','N',304600,12,'방혁','M',49,'010-2705-3535','peace@sk.com','Y',5954900,42,'홍진주','F',38,'010-9584-6382','redperl@daum.net','Y',3755600,13,'김사무엘','M',31,'010-4893-7757','dududaddy@peace.com','Y',6974700,79,'이진환','M',37,'010-4093-6487','jinhwan42@naver.com','N',6315500,92,'박준수','M',23,'010-5481-7213','joonsp@naver.com','Y',3145500,28,'황민아','F',44,'010-8851-2576','min353@happyschool.com','Y',4983500,112,'표나리','F',37,'010-9516-7732','naree@naver.com','Y',2725500,32,'김단','M',30,'010-4816-4732','daniel@gmail.com','Y',3308700,45,'윤동오','M',48,'010-4599-4758','dongohyoon2811@huenet.com','N',5611700,81,'송민지','F',28,'010-8889-3005','elsa@naver.com','Y',2888700,92,'박지혁','M',27,'010-6520-3871','jihyck22@bigtent.com','N',7299400,143,'남상진','M',34,'010-4059-9935','sangjin@gmail.com','Y',5196800,28,'이윤후','M',25,'010-6900-8168','yoonhoolee@naver.com','Y',4705400,32]\n"
   ]
  },
  {
   "cell_type": "markdown",
   "metadata": {},
   "source": [
    "### 1. 데이터의 개요를 파악하고 인별로 구분된 목록(리스트)을 생성\n",
    " - member 로부터 mem_list 생성"
   ]
  },
  {
   "cell_type": "code",
   "execution_count": 2,
   "metadata": {
    "collapsed": true
   },
   "outputs": [
    {
     "name": "stdout",
     "output_type": "stream",
     "text": [
      "['서지수', 'F', 24, '010-5429-6666', 'sjs@gmail.com', 'Y', 1052500, 12, '임단아', 'F', 32, '010-5855-6513', 'danalim@gmail.com', 'Y', 350800, 13, '남경훈', 'M', 46, '010-3620-7879', 'bruece@naver.com', 'Y', 7054500, 92, '박수하', 'F', 31, '010-7319-8161', 'soo2121@samsung.com', 'N', 85400, 3, '김경율', 'M', 62, '010-6300-6083', 'kkl@gle.net', 'Y', 4099500, 12, '박혜진', 'M', 39, '010-3876-3880', 'hyejinp@gmail.com', 'N', 6007900, 101, '한가람', 'F', 28, '010-4699-9251', 'goodwill@hilton.com', 'Y', 327200, 3, '조민호', 'M', 31, '010-2639-4831', 'min0702@hyundai.com', 'N', 5575500, 56, '최아리', 'F', 35, '010-2705-3535', 'bigtree@naver.com', 'Y', 7896300, 120, '배진우', 'M', 41, '010-8522-5566', 'jinwbae@gmail.com', 'N', 2372600, 20, '김환중', 'M', 53, '010-7367-9405', 'hjk@naver.com', 'Y', 4607900, 73, '이민수', 'M', 29, '010-6366-2263', 'smp@naver.com', 'Y', 6173300, 81, '박원기', 'M', 33, '010-3663-5462', 'wonki.park@hanwha.com', 'Y', 592400, 21, '강형규', 'M', 42, '010-6648-2164', 'kyu3821@naver.com', 'N', 1767200, 15, '이상윤', 'M', 39, '010-3543-2479', 'saint32@yahoo.com', 'Y', 4102100, 89, '김선미', 'F', 52, '010-7497-9061', 'dreamcatcher@daum.net', 'N', 2190900, 19, '이주은', 'F', 47, '010-7735-7277', 'dalhmin@naver.com', 'N', 304600, 12, '방혁', 'M', 49, '010-2705-3535', 'peace@sk.com', 'Y', 5954900, 42, '홍진주', 'F', 38, '010-9584-6382', 'redperl@daum.net', 'Y', 3755600, 13, '김사무엘', 'M', 31, '010-4893-7757', 'dududaddy@peace.com', 'Y', 6974700, 79, '이진환', 'M', 37, '010-4093-6487', 'jinhwan42@naver.com', 'N', 6315500, 92, '박준수', 'M', 23, '010-5481-7213', 'joonsp@naver.com', 'Y', 3145500, 28, '황민아', 'F', 44, '010-8851-2576', 'min353@happyschool.com', 'Y', 4983500, 112, '표나리', 'F', 37, '010-9516-7732', 'naree@naver.com', 'Y', 2725500, 32, '김단', 'M', 30, '010-4816-4732', 'daniel@gmail.com', 'Y', 3308700, 45, '윤동오', 'M', 48, '010-4599-4758', 'dongohyoon2811@huenet.com', 'N', 5611700, 81, '송민지', 'F', 28, '010-8889-3005', 'elsa@naver.com', 'Y', 2888700, 92, '박지혁', 'M', 27, '010-6520-3871', 'jihyck22@bigtent.com', 'N', 7299400, 143, '남상진', 'M', 34, '010-4059-9935', 'sangjin@gmail.com', 'Y', 5196800, 28, '이윤후', 'M', 25, '010-6900-8168', 'yoonhoolee@naver.com', 'Y', 4705400, 32]\n"
     ]
    }
   ],
   "source": [
    "print (member)\n"
   ]
  },
  {
   "cell_type": "code",
   "execution_count": 60,
   "metadata": {},
   "outputs": [
    {
     "name": "stdout",
     "output_type": "stream",
     "text": [
      "240\n"
     ]
    }
   ],
   "source": [
    "print (len (member))"
   ]
  },
  {
   "cell_type": "code",
   "execution_count": 3,
   "metadata": {
    "collapsed": true
   },
   "outputs": [
    {
     "data": {
      "text/plain": [
       "[['서지수', 'F', 24, '010-5429-6666', 'sjs@gmail.com', 'Y', 1052500, 12],\n",
       " ['임단아', 'F', 32, '010-5855-6513', 'danalim@gmail.com', 'Y', 350800, 13],\n",
       " ['남경훈', 'M', 46, '010-3620-7879', 'bruece@naver.com', 'Y', 7054500, 92],\n",
       " ['박수하', 'F', 31, '010-7319-8161', 'soo2121@samsung.com', 'N', 85400, 3],\n",
       " ['김경율', 'M', 62, '010-6300-6083', 'kkl@gle.net', 'Y', 4099500, 12],\n",
       " ['박혜진', 'M', 39, '010-3876-3880', 'hyejinp@gmail.com', 'N', 6007900, 101],\n",
       " ['한가람', 'F', 28, '010-4699-9251', 'goodwill@hilton.com', 'Y', 327200, 3],\n",
       " ['조민호', 'M', 31, '010-2639-4831', 'min0702@hyundai.com', 'N', 5575500, 56],\n",
       " ['최아리', 'F', 35, '010-2705-3535', 'bigtree@naver.com', 'Y', 7896300, 120],\n",
       " ['배진우', 'M', 41, '010-8522-5566', 'jinwbae@gmail.com', 'N', 2372600, 20],\n",
       " ['김환중', 'M', 53, '010-7367-9405', 'hjk@naver.com', 'Y', 4607900, 73],\n",
       " ['이민수', 'M', 29, '010-6366-2263', 'smp@naver.com', 'Y', 6173300, 81],\n",
       " ['박원기', 'M', 33, '010-3663-5462', 'wonki.park@hanwha.com', 'Y', 592400, 21],\n",
       " ['강형규', 'M', 42, '010-6648-2164', 'kyu3821@naver.com', 'N', 1767200, 15],\n",
       " ['이상윤', 'M', 39, '010-3543-2479', 'saint32@yahoo.com', 'Y', 4102100, 89],\n",
       " ['김선미', 'F', 52, '010-7497-9061', 'dreamcatcher@daum.net', 'N', 2190900, 19],\n",
       " ['이주은', 'F', 47, '010-7735-7277', 'dalhmin@naver.com', 'N', 304600, 12],\n",
       " ['방혁', 'M', 49, '010-2705-3535', 'peace@sk.com', 'Y', 5954900, 42],\n",
       " ['홍진주', 'F', 38, '010-9584-6382', 'redperl@daum.net', 'Y', 3755600, 13],\n",
       " ['김사무엘', 'M', 31, '010-4893-7757', 'dududaddy@peace.com', 'Y', 6974700, 79],\n",
       " ['이진환', 'M', 37, '010-4093-6487', 'jinhwan42@naver.com', 'N', 6315500, 92],\n",
       " ['박준수', 'M', 23, '010-5481-7213', 'joonsp@naver.com', 'Y', 3145500, 28],\n",
       " ['황민아',\n",
       "  'F',\n",
       "  44,\n",
       "  '010-8851-2576',\n",
       "  'min353@happyschool.com',\n",
       "  'Y',\n",
       "  4983500,\n",
       "  112],\n",
       " ['표나리', 'F', 37, '010-9516-7732', 'naree@naver.com', 'Y', 2725500, 32],\n",
       " ['김단', 'M', 30, '010-4816-4732', 'daniel@gmail.com', 'Y', 3308700, 45],\n",
       " ['윤동오',\n",
       "  'M',\n",
       "  48,\n",
       "  '010-4599-4758',\n",
       "  'dongohyoon2811@huenet.com',\n",
       "  'N',\n",
       "  5611700,\n",
       "  81],\n",
       " ['송민지', 'F', 28, '010-8889-3005', 'elsa@naver.com', 'Y', 2888700, 92],\n",
       " ['박지혁', 'M', 27, '010-6520-3871', 'jihyck22@bigtent.com', 'N', 7299400, 143],\n",
       " ['남상진', 'M', 34, '010-4059-9935', 'sangjin@gmail.com', 'Y', 5196800, 28],\n",
       " ['이윤후', 'M', 25, '010-6900-8168', 'yoonhoolee@naver.com', 'Y', 4705400, 32]]"
      ]
     },
     "execution_count": 3,
     "metadata": {},
     "output_type": "execute_result"
    }
   ],
   "source": [
    "mem_list = []\n",
    "\n",
    "for i  in range (0, len(member), 8) :\n",
    "    mem_list.append ( member [i:i+8])\n",
    "    \n",
    "mem_list"
   ]
  },
  {
   "cell_type": "code",
   "execution_count": 5,
   "metadata": {
    "scrolled": true
   },
   "outputs": [
    {
     "data": {
      "text/plain": [
       "[['서지수', 'F', 24, '010-5429-6666', 'sjs@gmail.com', 'Y', 1052500, 12],\n",
       " ['임단아', 'F', 32, '010-5855-6513', 'danalim@gmail.com', 'Y', 350800, 13],\n",
       " ['남경훈', 'M', 46, '010-3620-7879', 'bruece@naver.com', 'Y', 7054500, 92],\n",
       " ['박수하', 'F', 31, '010-7319-8161', 'soo2121@samsung.com', 'N', 85400, 3],\n",
       " ['김경율', 'M', 62, '010-6300-6083', 'kkl@gle.net', 'Y', 4099500, 12],\n",
       " ['박혜진', 'M', 39, '010-3876-3880', 'hyejinp@gmail.com', 'N', 6007900, 101],\n",
       " ['한가람', 'F', 28, '010-4699-9251', 'goodwill@hilton.com', 'Y', 327200, 3],\n",
       " ['조민호', 'M', 31, '010-2639-4831', 'min0702@hyundai.com', 'N', 5575500, 56],\n",
       " ['최아리', 'F', 35, '010-2705-3535', 'bigtree@naver.com', 'Y', 7896300, 120],\n",
       " ['배진우', 'M', 41, '010-8522-5566', 'jinwbae@gmail.com', 'N', 2372600, 20],\n",
       " ['김환중', 'M', 53, '010-7367-9405', 'hjk@naver.com', 'Y', 4607900, 73],\n",
       " ['이민수', 'M', 29, '010-6366-2263', 'smp@naver.com', 'Y', 6173300, 81],\n",
       " ['박원기', 'M', 33, '010-3663-5462', 'wonki.park@hanwha.com', 'Y', 592400, 21],\n",
       " ['강형규', 'M', 42, '010-6648-2164', 'kyu3821@naver.com', 'N', 1767200, 15],\n",
       " ['이상윤', 'M', 39, '010-3543-2479', 'saint32@yahoo.com', 'Y', 4102100, 89],\n",
       " ['김선미', 'F', 52, '010-7497-9061', 'dreamcatcher@daum.net', 'N', 2190900, 19],\n",
       " ['이주은', 'F', 47, '010-7735-7277', 'dalhmin@naver.com', 'N', 304600, 12],\n",
       " ['방혁', 'M', 49, '010-2705-3535', 'peace@sk.com', 'Y', 5954900, 42],\n",
       " ['홍진주', 'F', 38, '010-9584-6382', 'redperl@daum.net', 'Y', 3755600, 13],\n",
       " ['김사무엘', 'M', 31, '010-4893-7757', 'dududaddy@peace.com', 'Y', 6974700, 79],\n",
       " ['이진환', 'M', 37, '010-4093-6487', 'jinhwan42@naver.com', 'N', 6315500, 92],\n",
       " ['박준수', 'M', 23, '010-5481-7213', 'joonsp@naver.com', 'Y', 3145500, 28],\n",
       " ['황민아',\n",
       "  'F',\n",
       "  44,\n",
       "  '010-8851-2576',\n",
       "  'min353@happyschool.com',\n",
       "  'Y',\n",
       "  4983500,\n",
       "  112],\n",
       " ['표나리', 'F', 37, '010-9516-7732', 'naree@naver.com', 'Y', 2725500, 32],\n",
       " ['김단', 'M', 30, '010-4816-4732', 'daniel@gmail.com', 'Y', 3308700, 45],\n",
       " ['윤동오',\n",
       "  'M',\n",
       "  48,\n",
       "  '010-4599-4758',\n",
       "  'dongohyoon2811@huenet.com',\n",
       "  'N',\n",
       "  5611700,\n",
       "  81],\n",
       " ['송민지', 'F', 28, '010-8889-3005', 'elsa@naver.com', 'Y', 2888700, 92],\n",
       " ['박지혁', 'M', 27, '010-6520-3871', 'jihyck22@bigtent.com', 'N', 7299400, 143],\n",
       " ['남상진', 'M', 34, '010-4059-9935', 'sangjin@gmail.com', 'Y', 5196800, 28],\n",
       " ['이윤후', 'M', 25, '010-6900-8168', 'yoonhoolee@naver.com', 'Y', 4705400, 32]]"
      ]
     },
     "execution_count": 5,
     "metadata": {},
     "output_type": "execute_result"
    }
   ],
   "source": [
    "mem_list = [member [i:i+8] for i  in range (0, len(member), 8)]\n",
    "\n",
    "mem_list"
   ]
  },
  {
   "cell_type": "markdown",
   "metadata": {},
   "source": [
    "### 2. 회원별 카드를 생성 : dictionary 형태\n",
    "\n",
    " - mem_list 로 부터 mem_card  생성\n",
    " - key :  name , gender, age, hpno, email, optin, sales, count\n",
    " - for loop 활용\n",
    " - dictionary 생성 방법\n",
    "   * { key1 : value1 , key2 : value2 , ...}\n",
    "   * dict ( key1 = value1, key2 = value2 ,...)\n",
    "   * dict ( list of tuple)\n"
   ]
  },
  {
   "cell_type": "code",
   "execution_count": 10,
   "metadata": {
    "collapsed": true
   },
   "outputs": [
    {
     "data": {
      "text/plain": [
       "[{'name': '서지수',\n",
       "  'gender': 'F',\n",
       "  'age': 24,\n",
       "  'hpno': '010-5429-6666',\n",
       "  'email': 'sjs@gmail.com',\n",
       "  'optin': 'Y',\n",
       "  'sales': 1052500,\n",
       "  'count': 12},\n",
       " {'name': '임단아',\n",
       "  'gender': 'F',\n",
       "  'age': 32,\n",
       "  'hpno': '010-5855-6513',\n",
       "  'email': 'danalim@gmail.com',\n",
       "  'optin': 'Y',\n",
       "  'sales': 350800,\n",
       "  'count': 13},\n",
       " {'name': '남경훈',\n",
       "  'gender': 'M',\n",
       "  'age': 46,\n",
       "  'hpno': '010-3620-7879',\n",
       "  'email': 'bruece@naver.com',\n",
       "  'optin': 'Y',\n",
       "  'sales': 7054500,\n",
       "  'count': 92},\n",
       " {'name': '박수하',\n",
       "  'gender': 'F',\n",
       "  'age': 31,\n",
       "  'hpno': '010-7319-8161',\n",
       "  'email': 'soo2121@samsung.com',\n",
       "  'optin': 'N',\n",
       "  'sales': 85400,\n",
       "  'count': 3},\n",
       " {'name': '김경율',\n",
       "  'gender': 'M',\n",
       "  'age': 62,\n",
       "  'hpno': '010-6300-6083',\n",
       "  'email': 'kkl@gle.net',\n",
       "  'optin': 'Y',\n",
       "  'sales': 4099500,\n",
       "  'count': 12},\n",
       " {'name': '박혜진',\n",
       "  'gender': 'M',\n",
       "  'age': 39,\n",
       "  'hpno': '010-3876-3880',\n",
       "  'email': 'hyejinp@gmail.com',\n",
       "  'optin': 'N',\n",
       "  'sales': 6007900,\n",
       "  'count': 101},\n",
       " {'name': '한가람',\n",
       "  'gender': 'F',\n",
       "  'age': 28,\n",
       "  'hpno': '010-4699-9251',\n",
       "  'email': 'goodwill@hilton.com',\n",
       "  'optin': 'Y',\n",
       "  'sales': 327200,\n",
       "  'count': 3},\n",
       " {'name': '조민호',\n",
       "  'gender': 'M',\n",
       "  'age': 31,\n",
       "  'hpno': '010-2639-4831',\n",
       "  'email': 'min0702@hyundai.com',\n",
       "  'optin': 'N',\n",
       "  'sales': 5575500,\n",
       "  'count': 56},\n",
       " {'name': '최아리',\n",
       "  'gender': 'F',\n",
       "  'age': 35,\n",
       "  'hpno': '010-2705-3535',\n",
       "  'email': 'bigtree@naver.com',\n",
       "  'optin': 'Y',\n",
       "  'sales': 7896300,\n",
       "  'count': 120},\n",
       " {'name': '배진우',\n",
       "  'gender': 'M',\n",
       "  'age': 41,\n",
       "  'hpno': '010-8522-5566',\n",
       "  'email': 'jinwbae@gmail.com',\n",
       "  'optin': 'N',\n",
       "  'sales': 2372600,\n",
       "  'count': 20},\n",
       " {'name': '김환중',\n",
       "  'gender': 'M',\n",
       "  'age': 53,\n",
       "  'hpno': '010-7367-9405',\n",
       "  'email': 'hjk@naver.com',\n",
       "  'optin': 'Y',\n",
       "  'sales': 4607900,\n",
       "  'count': 73},\n",
       " {'name': '이민수',\n",
       "  'gender': 'M',\n",
       "  'age': 29,\n",
       "  'hpno': '010-6366-2263',\n",
       "  'email': 'smp@naver.com',\n",
       "  'optin': 'Y',\n",
       "  'sales': 6173300,\n",
       "  'count': 81},\n",
       " {'name': '박원기',\n",
       "  'gender': 'M',\n",
       "  'age': 33,\n",
       "  'hpno': '010-3663-5462',\n",
       "  'email': 'wonki.park@hanwha.com',\n",
       "  'optin': 'Y',\n",
       "  'sales': 592400,\n",
       "  'count': 21},\n",
       " {'name': '강형규',\n",
       "  'gender': 'M',\n",
       "  'age': 42,\n",
       "  'hpno': '010-6648-2164',\n",
       "  'email': 'kyu3821@naver.com',\n",
       "  'optin': 'N',\n",
       "  'sales': 1767200,\n",
       "  'count': 15},\n",
       " {'name': '이상윤',\n",
       "  'gender': 'M',\n",
       "  'age': 39,\n",
       "  'hpno': '010-3543-2479',\n",
       "  'email': 'saint32@yahoo.com',\n",
       "  'optin': 'Y',\n",
       "  'sales': 4102100,\n",
       "  'count': 89},\n",
       " {'name': '김선미',\n",
       "  'gender': 'F',\n",
       "  'age': 52,\n",
       "  'hpno': '010-7497-9061',\n",
       "  'email': 'dreamcatcher@daum.net',\n",
       "  'optin': 'N',\n",
       "  'sales': 2190900,\n",
       "  'count': 19},\n",
       " {'name': '이주은',\n",
       "  'gender': 'F',\n",
       "  'age': 47,\n",
       "  'hpno': '010-7735-7277',\n",
       "  'email': 'dalhmin@naver.com',\n",
       "  'optin': 'N',\n",
       "  'sales': 304600,\n",
       "  'count': 12},\n",
       " {'name': '방혁',\n",
       "  'gender': 'M',\n",
       "  'age': 49,\n",
       "  'hpno': '010-2705-3535',\n",
       "  'email': 'peace@sk.com',\n",
       "  'optin': 'Y',\n",
       "  'sales': 5954900,\n",
       "  'count': 42},\n",
       " {'name': '홍진주',\n",
       "  'gender': 'F',\n",
       "  'age': 38,\n",
       "  'hpno': '010-9584-6382',\n",
       "  'email': 'redperl@daum.net',\n",
       "  'optin': 'Y',\n",
       "  'sales': 3755600,\n",
       "  'count': 13},\n",
       " {'name': '김사무엘',\n",
       "  'gender': 'M',\n",
       "  'age': 31,\n",
       "  'hpno': '010-4893-7757',\n",
       "  'email': 'dududaddy@peace.com',\n",
       "  'optin': 'Y',\n",
       "  'sales': 6974700,\n",
       "  'count': 79},\n",
       " {'name': '이진환',\n",
       "  'gender': 'M',\n",
       "  'age': 37,\n",
       "  'hpno': '010-4093-6487',\n",
       "  'email': 'jinhwan42@naver.com',\n",
       "  'optin': 'N',\n",
       "  'sales': 6315500,\n",
       "  'count': 92},\n",
       " {'name': '박준수',\n",
       "  'gender': 'M',\n",
       "  'age': 23,\n",
       "  'hpno': '010-5481-7213',\n",
       "  'email': 'joonsp@naver.com',\n",
       "  'optin': 'Y',\n",
       "  'sales': 3145500,\n",
       "  'count': 28},\n",
       " {'name': '황민아',\n",
       "  'gender': 'F',\n",
       "  'age': 44,\n",
       "  'hpno': '010-8851-2576',\n",
       "  'email': 'min353@happyschool.com',\n",
       "  'optin': 'Y',\n",
       "  'sales': 4983500,\n",
       "  'count': 112},\n",
       " {'name': '표나리',\n",
       "  'gender': 'F',\n",
       "  'age': 37,\n",
       "  'hpno': '010-9516-7732',\n",
       "  'email': 'naree@naver.com',\n",
       "  'optin': 'Y',\n",
       "  'sales': 2725500,\n",
       "  'count': 32},\n",
       " {'name': '김단',\n",
       "  'gender': 'M',\n",
       "  'age': 30,\n",
       "  'hpno': '010-4816-4732',\n",
       "  'email': 'daniel@gmail.com',\n",
       "  'optin': 'Y',\n",
       "  'sales': 3308700,\n",
       "  'count': 45},\n",
       " {'name': '윤동오',\n",
       "  'gender': 'M',\n",
       "  'age': 48,\n",
       "  'hpno': '010-4599-4758',\n",
       "  'email': 'dongohyoon2811@huenet.com',\n",
       "  'optin': 'N',\n",
       "  'sales': 5611700,\n",
       "  'count': 81},\n",
       " {'name': '송민지',\n",
       "  'gender': 'F',\n",
       "  'age': 28,\n",
       "  'hpno': '010-8889-3005',\n",
       "  'email': 'elsa@naver.com',\n",
       "  'optin': 'Y',\n",
       "  'sales': 2888700,\n",
       "  'count': 92},\n",
       " {'name': '박지혁',\n",
       "  'gender': 'M',\n",
       "  'age': 27,\n",
       "  'hpno': '010-6520-3871',\n",
       "  'email': 'jihyck22@bigtent.com',\n",
       "  'optin': 'N',\n",
       "  'sales': 7299400,\n",
       "  'count': 143},\n",
       " {'name': '남상진',\n",
       "  'gender': 'M',\n",
       "  'age': 34,\n",
       "  'hpno': '010-4059-9935',\n",
       "  'email': 'sangjin@gmail.com',\n",
       "  'optin': 'Y',\n",
       "  'sales': 5196800,\n",
       "  'count': 28},\n",
       " {'name': '이윤후',\n",
       "  'gender': 'M',\n",
       "  'age': 25,\n",
       "  'hpno': '010-6900-8168',\n",
       "  'email': 'yoonhoolee@naver.com',\n",
       "  'optin': 'Y',\n",
       "  'sales': 4705400,\n",
       "  'count': 32}]"
      ]
     },
     "execution_count": 10,
     "metadata": {},
     "output_type": "execute_result"
    }
   ],
   "source": [
    "# use   dict\n",
    "\n",
    "mem_card=[{'name':i[0] , 'gender':i[1], 'age':i[2], 'hpno':i[3], 'email':i[4], 'optin':i[5], 'sales':i[6], 'count':i[7]} for i in mem_list]\n",
    "\n",
    "mem_card"
   ]
  },
  {
   "cell_type": "code",
   "execution_count": 12,
   "metadata": {
    "collapsed": true
   },
   "outputs": [
    {
     "data": {
      "text/plain": [
       "[{'name': '서지수',\n",
       "  'gender': 'F',\n",
       "  'age': 24,\n",
       "  'hpno': '010-5429-6666',\n",
       "  'email': 'sjs@gmail.com',\n",
       "  'optin': 'Y',\n",
       "  'sales': 1052500,\n",
       "  'count': 12},\n",
       " {'name': '임단아',\n",
       "  'gender': 'F',\n",
       "  'age': 32,\n",
       "  'hpno': '010-5855-6513',\n",
       "  'email': 'danalim@gmail.com',\n",
       "  'optin': 'Y',\n",
       "  'sales': 350800,\n",
       "  'count': 13},\n",
       " {'name': '남경훈',\n",
       "  'gender': 'M',\n",
       "  'age': 46,\n",
       "  'hpno': '010-3620-7879',\n",
       "  'email': 'bruece@naver.com',\n",
       "  'optin': 'Y',\n",
       "  'sales': 7054500,\n",
       "  'count': 92},\n",
       " {'name': '박수하',\n",
       "  'gender': 'F',\n",
       "  'age': 31,\n",
       "  'hpno': '010-7319-8161',\n",
       "  'email': 'soo2121@samsung.com',\n",
       "  'optin': 'N',\n",
       "  'sales': 85400,\n",
       "  'count': 3},\n",
       " {'name': '김경율',\n",
       "  'gender': 'M',\n",
       "  'age': 62,\n",
       "  'hpno': '010-6300-6083',\n",
       "  'email': 'kkl@gle.net',\n",
       "  'optin': 'Y',\n",
       "  'sales': 4099500,\n",
       "  'count': 12},\n",
       " {'name': '박혜진',\n",
       "  'gender': 'M',\n",
       "  'age': 39,\n",
       "  'hpno': '010-3876-3880',\n",
       "  'email': 'hyejinp@gmail.com',\n",
       "  'optin': 'N',\n",
       "  'sales': 6007900,\n",
       "  'count': 101},\n",
       " {'name': '한가람',\n",
       "  'gender': 'F',\n",
       "  'age': 28,\n",
       "  'hpno': '010-4699-9251',\n",
       "  'email': 'goodwill@hilton.com',\n",
       "  'optin': 'Y',\n",
       "  'sales': 327200,\n",
       "  'count': 3},\n",
       " {'name': '조민호',\n",
       "  'gender': 'M',\n",
       "  'age': 31,\n",
       "  'hpno': '010-2639-4831',\n",
       "  'email': 'min0702@hyundai.com',\n",
       "  'optin': 'N',\n",
       "  'sales': 5575500,\n",
       "  'count': 56},\n",
       " {'name': '최아리',\n",
       "  'gender': 'F',\n",
       "  'age': 35,\n",
       "  'hpno': '010-2705-3535',\n",
       "  'email': 'bigtree@naver.com',\n",
       "  'optin': 'Y',\n",
       "  'sales': 7896300,\n",
       "  'count': 120},\n",
       " {'name': '배진우',\n",
       "  'gender': 'M',\n",
       "  'age': 41,\n",
       "  'hpno': '010-8522-5566',\n",
       "  'email': 'jinwbae@gmail.com',\n",
       "  'optin': 'N',\n",
       "  'sales': 2372600,\n",
       "  'count': 20},\n",
       " {'name': '김환중',\n",
       "  'gender': 'M',\n",
       "  'age': 53,\n",
       "  'hpno': '010-7367-9405',\n",
       "  'email': 'hjk@naver.com',\n",
       "  'optin': 'Y',\n",
       "  'sales': 4607900,\n",
       "  'count': 73},\n",
       " {'name': '이민수',\n",
       "  'gender': 'M',\n",
       "  'age': 29,\n",
       "  'hpno': '010-6366-2263',\n",
       "  'email': 'smp@naver.com',\n",
       "  'optin': 'Y',\n",
       "  'sales': 6173300,\n",
       "  'count': 81},\n",
       " {'name': '박원기',\n",
       "  'gender': 'M',\n",
       "  'age': 33,\n",
       "  'hpno': '010-3663-5462',\n",
       "  'email': 'wonki.park@hanwha.com',\n",
       "  'optin': 'Y',\n",
       "  'sales': 592400,\n",
       "  'count': 21},\n",
       " {'name': '강형규',\n",
       "  'gender': 'M',\n",
       "  'age': 42,\n",
       "  'hpno': '010-6648-2164',\n",
       "  'email': 'kyu3821@naver.com',\n",
       "  'optin': 'N',\n",
       "  'sales': 1767200,\n",
       "  'count': 15},\n",
       " {'name': '이상윤',\n",
       "  'gender': 'M',\n",
       "  'age': 39,\n",
       "  'hpno': '010-3543-2479',\n",
       "  'email': 'saint32@yahoo.com',\n",
       "  'optin': 'Y',\n",
       "  'sales': 4102100,\n",
       "  'count': 89},\n",
       " {'name': '김선미',\n",
       "  'gender': 'F',\n",
       "  'age': 52,\n",
       "  'hpno': '010-7497-9061',\n",
       "  'email': 'dreamcatcher@daum.net',\n",
       "  'optin': 'N',\n",
       "  'sales': 2190900,\n",
       "  'count': 19},\n",
       " {'name': '이주은',\n",
       "  'gender': 'F',\n",
       "  'age': 47,\n",
       "  'hpno': '010-7735-7277',\n",
       "  'email': 'dalhmin@naver.com',\n",
       "  'optin': 'N',\n",
       "  'sales': 304600,\n",
       "  'count': 12},\n",
       " {'name': '방혁',\n",
       "  'gender': 'M',\n",
       "  'age': 49,\n",
       "  'hpno': '010-2705-3535',\n",
       "  'email': 'peace@sk.com',\n",
       "  'optin': 'Y',\n",
       "  'sales': 5954900,\n",
       "  'count': 42},\n",
       " {'name': '홍진주',\n",
       "  'gender': 'F',\n",
       "  'age': 38,\n",
       "  'hpno': '010-9584-6382',\n",
       "  'email': 'redperl@daum.net',\n",
       "  'optin': 'Y',\n",
       "  'sales': 3755600,\n",
       "  'count': 13},\n",
       " {'name': '김사무엘',\n",
       "  'gender': 'M',\n",
       "  'age': 31,\n",
       "  'hpno': '010-4893-7757',\n",
       "  'email': 'dududaddy@peace.com',\n",
       "  'optin': 'Y',\n",
       "  'sales': 6974700,\n",
       "  'count': 79},\n",
       " {'name': '이진환',\n",
       "  'gender': 'M',\n",
       "  'age': 37,\n",
       "  'hpno': '010-4093-6487',\n",
       "  'email': 'jinhwan42@naver.com',\n",
       "  'optin': 'N',\n",
       "  'sales': 6315500,\n",
       "  'count': 92},\n",
       " {'name': '박준수',\n",
       "  'gender': 'M',\n",
       "  'age': 23,\n",
       "  'hpno': '010-5481-7213',\n",
       "  'email': 'joonsp@naver.com',\n",
       "  'optin': 'Y',\n",
       "  'sales': 3145500,\n",
       "  'count': 28},\n",
       " {'name': '황민아',\n",
       "  'gender': 'F',\n",
       "  'age': 44,\n",
       "  'hpno': '010-8851-2576',\n",
       "  'email': 'min353@happyschool.com',\n",
       "  'optin': 'Y',\n",
       "  'sales': 4983500,\n",
       "  'count': 112},\n",
       " {'name': '표나리',\n",
       "  'gender': 'F',\n",
       "  'age': 37,\n",
       "  'hpno': '010-9516-7732',\n",
       "  'email': 'naree@naver.com',\n",
       "  'optin': 'Y',\n",
       "  'sales': 2725500,\n",
       "  'count': 32},\n",
       " {'name': '김단',\n",
       "  'gender': 'M',\n",
       "  'age': 30,\n",
       "  'hpno': '010-4816-4732',\n",
       "  'email': 'daniel@gmail.com',\n",
       "  'optin': 'Y',\n",
       "  'sales': 3308700,\n",
       "  'count': 45},\n",
       " {'name': '윤동오',\n",
       "  'gender': 'M',\n",
       "  'age': 48,\n",
       "  'hpno': '010-4599-4758',\n",
       "  'email': 'dongohyoon2811@huenet.com',\n",
       "  'optin': 'N',\n",
       "  'sales': 5611700,\n",
       "  'count': 81},\n",
       " {'name': '송민지',\n",
       "  'gender': 'F',\n",
       "  'age': 28,\n",
       "  'hpno': '010-8889-3005',\n",
       "  'email': 'elsa@naver.com',\n",
       "  'optin': 'Y',\n",
       "  'sales': 2888700,\n",
       "  'count': 92},\n",
       " {'name': '박지혁',\n",
       "  'gender': 'M',\n",
       "  'age': 27,\n",
       "  'hpno': '010-6520-3871',\n",
       "  'email': 'jihyck22@bigtent.com',\n",
       "  'optin': 'N',\n",
       "  'sales': 7299400,\n",
       "  'count': 143},\n",
       " {'name': '남상진',\n",
       "  'gender': 'M',\n",
       "  'age': 34,\n",
       "  'hpno': '010-4059-9935',\n",
       "  'email': 'sangjin@gmail.com',\n",
       "  'optin': 'Y',\n",
       "  'sales': 5196800,\n",
       "  'count': 28},\n",
       " {'name': '이윤후',\n",
       "  'gender': 'M',\n",
       "  'age': 25,\n",
       "  'hpno': '010-6900-8168',\n",
       "  'email': 'yoonhoolee@naver.com',\n",
       "  'optin': 'Y',\n",
       "  'sales': 4705400,\n",
       "  'count': 32}]"
      ]
     },
     "execution_count": 12,
     "metadata": {},
     "output_type": "execute_result"
    }
   ],
   "source": [
    "# use   dict\n",
    "\n",
    "mem_card=[dict(name=i[0] , gender=i[1], age=i[2], hpno=i[3], email=i[4], optin=i[5], sales=i[6], count=i[7]) for i in mem_list]\n",
    "\n",
    "mem_card"
   ]
  },
  {
   "cell_type": "code",
   "execution_count": 22,
   "metadata": {
    "scrolled": true
   },
   "outputs": [
    {
     "data": {
      "text/plain": [
       "[{'name': '서지수',\n",
       "  'gender': 'F',\n",
       "  'age': 24,\n",
       "  'hpno': '010-5429-6666',\n",
       "  'email': 'sjs@gmail.com',\n",
       "  'optin': 'Y',\n",
       "  'sales': 1052500,\n",
       "  'count': 12},\n",
       " {'name': '임단아',\n",
       "  'gender': 'F',\n",
       "  'age': 32,\n",
       "  'hpno': '010-5855-6513',\n",
       "  'email': 'danalim@gmail.com',\n",
       "  'optin': 'Y',\n",
       "  'sales': 350800,\n",
       "  'count': 13},\n",
       " {'name': '남경훈',\n",
       "  'gender': 'M',\n",
       "  'age': 46,\n",
       "  'hpno': '010-3620-7879',\n",
       "  'email': 'bruece@naver.com',\n",
       "  'optin': 'Y',\n",
       "  'sales': 7054500,\n",
       "  'count': 92},\n",
       " {'name': '박수하',\n",
       "  'gender': 'F',\n",
       "  'age': 31,\n",
       "  'hpno': '010-7319-8161',\n",
       "  'email': 'soo2121@samsung.com',\n",
       "  'optin': 'N',\n",
       "  'sales': 85400,\n",
       "  'count': 3},\n",
       " {'name': '김경율',\n",
       "  'gender': 'M',\n",
       "  'age': 62,\n",
       "  'hpno': '010-6300-6083',\n",
       "  'email': 'kkl@gle.net',\n",
       "  'optin': 'Y',\n",
       "  'sales': 4099500,\n",
       "  'count': 12},\n",
       " {'name': '박혜진',\n",
       "  'gender': 'M',\n",
       "  'age': 39,\n",
       "  'hpno': '010-3876-3880',\n",
       "  'email': 'hyejinp@gmail.com',\n",
       "  'optin': 'N',\n",
       "  'sales': 6007900,\n",
       "  'count': 101},\n",
       " {'name': '한가람',\n",
       "  'gender': 'F',\n",
       "  'age': 28,\n",
       "  'hpno': '010-4699-9251',\n",
       "  'email': 'goodwill@hilton.com',\n",
       "  'optin': 'Y',\n",
       "  'sales': 327200,\n",
       "  'count': 3},\n",
       " {'name': '조민호',\n",
       "  'gender': 'M',\n",
       "  'age': 31,\n",
       "  'hpno': '010-2639-4831',\n",
       "  'email': 'min0702@hyundai.com',\n",
       "  'optin': 'N',\n",
       "  'sales': 5575500,\n",
       "  'count': 56},\n",
       " {'name': '최아리',\n",
       "  'gender': 'F',\n",
       "  'age': 35,\n",
       "  'hpno': '010-2705-3535',\n",
       "  'email': 'bigtree@naver.com',\n",
       "  'optin': 'Y',\n",
       "  'sales': 7896300,\n",
       "  'count': 120},\n",
       " {'name': '배진우',\n",
       "  'gender': 'M',\n",
       "  'age': 41,\n",
       "  'hpno': '010-8522-5566',\n",
       "  'email': 'jinwbae@gmail.com',\n",
       "  'optin': 'N',\n",
       "  'sales': 2372600,\n",
       "  'count': 20},\n",
       " {'name': '김환중',\n",
       "  'gender': 'M',\n",
       "  'age': 53,\n",
       "  'hpno': '010-7367-9405',\n",
       "  'email': 'hjk@naver.com',\n",
       "  'optin': 'Y',\n",
       "  'sales': 4607900,\n",
       "  'count': 73},\n",
       " {'name': '이민수',\n",
       "  'gender': 'M',\n",
       "  'age': 29,\n",
       "  'hpno': '010-6366-2263',\n",
       "  'email': 'smp@naver.com',\n",
       "  'optin': 'Y',\n",
       "  'sales': 6173300,\n",
       "  'count': 81},\n",
       " {'name': '박원기',\n",
       "  'gender': 'M',\n",
       "  'age': 33,\n",
       "  'hpno': '010-3663-5462',\n",
       "  'email': 'wonki.park@hanwha.com',\n",
       "  'optin': 'Y',\n",
       "  'sales': 592400,\n",
       "  'count': 21},\n",
       " {'name': '강형규',\n",
       "  'gender': 'M',\n",
       "  'age': 42,\n",
       "  'hpno': '010-6648-2164',\n",
       "  'email': 'kyu3821@naver.com',\n",
       "  'optin': 'N',\n",
       "  'sales': 1767200,\n",
       "  'count': 15},\n",
       " {'name': '이상윤',\n",
       "  'gender': 'M',\n",
       "  'age': 39,\n",
       "  'hpno': '010-3543-2479',\n",
       "  'email': 'saint32@yahoo.com',\n",
       "  'optin': 'Y',\n",
       "  'sales': 4102100,\n",
       "  'count': 89},\n",
       " {'name': '김선미',\n",
       "  'gender': 'F',\n",
       "  'age': 52,\n",
       "  'hpno': '010-7497-9061',\n",
       "  'email': 'dreamcatcher@daum.net',\n",
       "  'optin': 'N',\n",
       "  'sales': 2190900,\n",
       "  'count': 19},\n",
       " {'name': '이주은',\n",
       "  'gender': 'F',\n",
       "  'age': 47,\n",
       "  'hpno': '010-7735-7277',\n",
       "  'email': 'dalhmin@naver.com',\n",
       "  'optin': 'N',\n",
       "  'sales': 304600,\n",
       "  'count': 12},\n",
       " {'name': '방혁',\n",
       "  'gender': 'M',\n",
       "  'age': 49,\n",
       "  'hpno': '010-2705-3535',\n",
       "  'email': 'peace@sk.com',\n",
       "  'optin': 'Y',\n",
       "  'sales': 5954900,\n",
       "  'count': 42},\n",
       " {'name': '홍진주',\n",
       "  'gender': 'F',\n",
       "  'age': 38,\n",
       "  'hpno': '010-9584-6382',\n",
       "  'email': 'redperl@daum.net',\n",
       "  'optin': 'Y',\n",
       "  'sales': 3755600,\n",
       "  'count': 13},\n",
       " {'name': '김사무엘',\n",
       "  'gender': 'M',\n",
       "  'age': 31,\n",
       "  'hpno': '010-4893-7757',\n",
       "  'email': 'dududaddy@peace.com',\n",
       "  'optin': 'Y',\n",
       "  'sales': 6974700,\n",
       "  'count': 79},\n",
       " {'name': '이진환',\n",
       "  'gender': 'M',\n",
       "  'age': 37,\n",
       "  'hpno': '010-4093-6487',\n",
       "  'email': 'jinhwan42@naver.com',\n",
       "  'optin': 'N',\n",
       "  'sales': 6315500,\n",
       "  'count': 92},\n",
       " {'name': '박준수',\n",
       "  'gender': 'M',\n",
       "  'age': 23,\n",
       "  'hpno': '010-5481-7213',\n",
       "  'email': 'joonsp@naver.com',\n",
       "  'optin': 'Y',\n",
       "  'sales': 3145500,\n",
       "  'count': 28},\n",
       " {'name': '황민아',\n",
       "  'gender': 'F',\n",
       "  'age': 44,\n",
       "  'hpno': '010-8851-2576',\n",
       "  'email': 'min353@happyschool.com',\n",
       "  'optin': 'Y',\n",
       "  'sales': 4983500,\n",
       "  'count': 112},\n",
       " {'name': '표나리',\n",
       "  'gender': 'F',\n",
       "  'age': 37,\n",
       "  'hpno': '010-9516-7732',\n",
       "  'email': 'naree@naver.com',\n",
       "  'optin': 'Y',\n",
       "  'sales': 2725500,\n",
       "  'count': 32},\n",
       " {'name': '김단',\n",
       "  'gender': 'M',\n",
       "  'age': 30,\n",
       "  'hpno': '010-4816-4732',\n",
       "  'email': 'daniel@gmail.com',\n",
       "  'optin': 'Y',\n",
       "  'sales': 3308700,\n",
       "  'count': 45},\n",
       " {'name': '윤동오',\n",
       "  'gender': 'M',\n",
       "  'age': 48,\n",
       "  'hpno': '010-4599-4758',\n",
       "  'email': 'dongohyoon2811@huenet.com',\n",
       "  'optin': 'N',\n",
       "  'sales': 5611700,\n",
       "  'count': 81},\n",
       " {'name': '송민지',\n",
       "  'gender': 'F',\n",
       "  'age': 28,\n",
       "  'hpno': '010-8889-3005',\n",
       "  'email': 'elsa@naver.com',\n",
       "  'optin': 'Y',\n",
       "  'sales': 2888700,\n",
       "  'count': 92},\n",
       " {'name': '박지혁',\n",
       "  'gender': 'M',\n",
       "  'age': 27,\n",
       "  'hpno': '010-6520-3871',\n",
       "  'email': 'jihyck22@bigtent.com',\n",
       "  'optin': 'N',\n",
       "  'sales': 7299400,\n",
       "  'count': 143},\n",
       " {'name': '남상진',\n",
       "  'gender': 'M',\n",
       "  'age': 34,\n",
       "  'hpno': '010-4059-9935',\n",
       "  'email': 'sangjin@gmail.com',\n",
       "  'optin': 'Y',\n",
       "  'sales': 5196800,\n",
       "  'count': 28},\n",
       " {'name': '이윤후',\n",
       "  'gender': 'M',\n",
       "  'age': 25,\n",
       "  'hpno': '010-6900-8168',\n",
       "  'email': 'yoonhoolee@naver.com',\n",
       "  'optin': 'Y',\n",
       "  'sales': 4705400,\n",
       "  'count': 32}]"
      ]
     },
     "execution_count": 22,
     "metadata": {},
     "output_type": "execute_result"
    }
   ],
   "source": [
    "# use   dict (list of tuple)\n",
    "\n",
    "mem_card=[dict([('name',i[0]) , ('gender',i[1]), ('age',i[2]), ('hpno',i[3]), ('email',i[4]), ('optin',i[5]), ('sales',i[6]), ('count',i[7])]) for i in mem_list]\n",
    "\n",
    "mem_card"
   ]
  },
  {
   "cell_type": "markdown",
   "metadata": {},
   "source": [
    "### 3. 최고 매출 회원 찾기 : sales list ,  sales_index 생성\n",
    "\n",
    "- mem_list 부터 sales_list, sales_index 생성\n",
    "- sales_list : 매출 목록을 갖는 리스트 ( [1052500, 350800, 7054500,...]\n",
    "- sales_index : 매출 금액과 회원 id 를 갖는 dictionary ({ {1052500: 0, 350800: 1, 7054500: 2,..}\n",
    "\n",
    "- 최고/최소 매출금액과 고객,  총 매출 금액 확인\n"
   ]
  },
  {
   "cell_type": "code",
   "execution_count": 14,
   "metadata": {
    "scrolled": true
   },
   "outputs": [
    {
     "name": "stdout",
     "output_type": "stream",
     "text": [
      "최고금액 >> 7896300\n",
      "sales_list >> [1052500, 350800, 7054500, 85400, 4099500, 6007900, 327200, 5575500, 7896300, 2372600, 4607900, 6173300, 592400, 1767200, 4102100, 2190900, 304600, 5954900, 3755600, 6974700, 6315500, 3145500, 4983500, 2725500, 3308700, 5611700, 2888700, 7299400, 5196800, 4705400]\n"
     ]
    }
   ],
   "source": [
    "sales_list=[i[6] for i in mem_list]\n",
    "\n",
    "print('최고금액 >>',max(sales_list))\n",
    "print('sales_list >>',sales_list)"
   ]
  },
  {
   "cell_type": "code",
   "execution_count": 17,
   "metadata": {
    "scrolled": true
   },
   "outputs": [
    {
     "name": "stdout",
     "output_type": "stream",
     "text": [
      "sales_index >> {1052500: 0, 350800: 1, 7054500: 2, 85400: 3, 4099500: 4, 6007900: 5, 327200: 6, 5575500: 7, 7896300: 8, 2372600: 9, 4607900: 10, 6173300: 11, 592400: 12, 1767200: 13, 4102100: 14, 2190900: 15, 304600: 16, 5954900: 17, 3755600: 18, 6974700: 19, 6315500: 20, 3145500: 21, 4983500: 22, 2725500: 23, 3308700: 24, 5611700: 25, 2888700: 26, 7299400: 27, 5196800: 28, 4705400: 29}\n"
     ]
    }
   ],
   "source": [
    "sales_index=dict([(mem_list[i][6],i) for i in range(len(mem_list))])\n",
    "\n",
    "print('sales_index >>',sales_index)"
   ]
  },
  {
   "cell_type": "code",
   "execution_count": 24,
   "metadata": {
    "scrolled": true
   },
   "outputs": [
    {
     "data": {
      "text/plain": [
       "4705400"
      ]
     },
     "execution_count": 24,
     "metadata": {},
     "output_type": "execute_result"
    }
   ],
   "source": [
    "max(sales_index, key=lambda k:sales_index[k])"
   ]
  },
  {
   "cell_type": "code",
   "execution_count": 33,
   "metadata": {},
   "outputs": [
    {
     "data": {
      "text/plain": [
       "7896300"
      ]
     },
     "execution_count": 33,
     "metadata": {},
     "output_type": "execute_result"
    }
   ],
   "source": [
    "max(sales_index.keys())"
   ]
  },
  {
   "cell_type": "code",
   "execution_count": 34,
   "metadata": {},
   "outputs": [
    {
     "data": {
      "text/plain": [
       "8"
      ]
     },
     "execution_count": 34,
     "metadata": {},
     "output_type": "execute_result"
    }
   ],
   "source": [
    "sales_index[max(sales_index.keys())]"
   ]
  },
  {
   "cell_type": "code",
   "execution_count": 36,
   "metadata": {},
   "outputs": [
    {
     "data": {
      "text/plain": [
       "{'name': '최아리',\n",
       " 'gender': 'F',\n",
       " 'age': 35,\n",
       " 'hpno': '010-2705-3535',\n",
       " 'email': 'bigtree@naver.com',\n",
       " 'optin': 'Y',\n",
       " 'sales': 7896300,\n",
       " 'count': 120}"
      ]
     },
     "execution_count": 36,
     "metadata": {},
     "output_type": "execute_result"
    }
   ],
   "source": [
    "# 최고 매출자\n",
    "mem_card[sales_index[max(sales_index.keys())]]"
   ]
  },
  {
   "cell_type": "code",
   "execution_count": 37,
   "metadata": {},
   "outputs": [
    {
     "data": {
      "text/plain": [
       "{'name': '박수하',\n",
       " 'gender': 'F',\n",
       " 'age': 31,\n",
       " 'hpno': '010-7319-8161',\n",
       " 'email': 'soo2121@samsung.com',\n",
       " 'optin': 'N',\n",
       " 'sales': 85400,\n",
       " 'count': 3}"
      ]
     },
     "execution_count": 37,
     "metadata": {},
     "output_type": "execute_result"
    }
   ],
   "source": [
    "# 최소 매출자\n",
    "mem_card[sales_index[min(sales_index.keys())]]"
   ]
  },
  {
   "cell_type": "code",
   "execution_count": 19,
   "metadata": {},
   "outputs": [
    {
     "data": {
      "text/plain": [
       "117426500"
      ]
     },
     "execution_count": 19,
     "metadata": {},
     "output_type": "execute_result"
    }
   ],
   "source": [
    "# 매출 총액\n",
    "\n",
    "sum(sales_index)"
   ]
  },
  {
   "cell_type": "markdown",
   "metadata": {},
   "source": [
    "### 4. 메일 수신 동의 고객에게  모바일 쿠폰 발송  : mob_cp_list 생성\n",
    "\n",
    "- mem_card로 부터 optin  여부를 확인하여 mob_cp_list생성\n",
    "\n"
   ]
  },
  {
   "cell_type": "code",
   "execution_count": 40,
   "metadata": {},
   "outputs": [
    {
     "name": "stdout",
     "output_type": "stream",
     "text": [
      "발송대상 건수>> 20\n",
      "발송대상 ['010-5429-6666', '010-5855-6513', '010-3620-7879', '010-6300-6083', '010-4699-9251', '010-2705-3535', '010-7367-9405', '010-6366-2263', '010-3663-5462', '010-3543-2479', '010-2705-3535', '010-9584-6382', '010-4893-7757', '010-5481-7213', '010-8851-2576', '010-9516-7732', '010-4816-4732', '010-8889-3005', '010-4059-9935', '010-6900-8168']\n"
     ]
    }
   ],
   "source": [
    "mob_cp_list = [i['hpno'] for i in mem_card if i['optin']=='Y']\n",
    "\n",
    "print('발송대상 건수>>',len(mob_cp_list))\n",
    "print('발송대상',mob_cp_list)"
   ]
  },
  {
   "cell_type": "markdown",
   "metadata": {},
   "source": [
    "### 5. vip 선정  (매출 금액600만원 이상) :  mem_list와 mem_card에 vip 여부 업데이트\n",
    "\n",
    "\n",
    "- sales_index 를 참고하여 mem_list와 mem_card에 vip 여부 항목을 추가한다. key: vip, values : Y or N\n"
   ]
  },
  {
   "cell_type": "code",
   "execution_count": 41,
   "metadata": {},
   "outputs": [],
   "source": [
    "for mem in mem_list:\n",
    "    if mem[6]>=6000000:\n",
    "        ans='Y'\n",
    "    else:\n",
    "        ans='N'\n",
    "    mem.append(ans)\n",
    "    mem_card[sales_index[mem[6]]]['vip']=ans"
   ]
  },
  {
   "cell_type": "code",
   "execution_count": 46,
   "metadata": {
    "scrolled": true
   },
   "outputs": [
    {
     "name": "stdout",
     "output_type": "stream",
     "text": [
      "mem_list >> [['서지수', 'F', 24, '010-5429-6666', 'sjs@gmail.com', 'Y', 1052500, 12, 'N'], ['임단아', 'F', 32, '010-5855-6513', 'danalim@gmail.com', 'Y', 350800, 13, 'N'], ['남경훈', 'M', 46, '010-3620-7879', 'bruece@naver.com', 'Y', 7054500, 92, 'Y'], ['박수하', 'F', 31, '010-7319-8161', 'soo2121@samsung.com', 'N', 85400, 3, 'N'], ['김경율', 'M', 62, '010-6300-6083', 'kkl@gle.net', 'Y', 4099500, 12, 'N'], ['박혜진', 'M', 39, '010-3876-3880', 'hyejinp@gmail.com', 'N', 6007900, 101, 'Y'], ['한가람', 'F', 28, '010-4699-9251', 'goodwill@hilton.com', 'Y', 327200, 3, 'N'], ['조민호', 'M', 31, '010-2639-4831', 'min0702@hyundai.com', 'N', 5575500, 56, 'N'], ['최아리', 'F', 35, '010-2705-3535', 'bigtree@naver.com', 'Y', 7896300, 120, 'Y'], ['배진우', 'M', 41, '010-8522-5566', 'jinwbae@gmail.com', 'N', 2372600, 20, 'N'], ['김환중', 'M', 53, '010-7367-9405', 'hjk@naver.com', 'Y', 4607900, 73, 'N'], ['이민수', 'M', 29, '010-6366-2263', 'smp@naver.com', 'Y', 6173300, 81, 'Y'], ['박원기', 'M', 33, '010-3663-5462', 'wonki.park@hanwha.com', 'Y', 592400, 21, 'N'], ['강형규', 'M', 42, '010-6648-2164', 'kyu3821@naver.com', 'N', 1767200, 15, 'N'], ['이상윤', 'M', 39, '010-3543-2479', 'saint32@yahoo.com', 'Y', 4102100, 89, 'N'], ['김선미', 'F', 52, '010-7497-9061', 'dreamcatcher@daum.net', 'N', 2190900, 19, 'N'], ['이주은', 'F', 47, '010-7735-7277', 'dalhmin@naver.com', 'N', 304600, 12, 'N'], ['방혁', 'M', 49, '010-2705-3535', 'peace@sk.com', 'Y', 5954900, 42, 'N'], ['홍진주', 'F', 38, '010-9584-6382', 'redperl@daum.net', 'Y', 3755600, 13, 'N'], ['김사무엘', 'M', 31, '010-4893-7757', 'dududaddy@peace.com', 'Y', 6974700, 79, 'Y'], ['이진환', 'M', 37, '010-4093-6487', 'jinhwan42@naver.com', 'N', 6315500, 92, 'Y'], ['박준수', 'M', 23, '010-5481-7213', 'joonsp@naver.com', 'Y', 3145500, 28, 'N'], ['황민아', 'F', 44, '010-8851-2576', 'min353@happyschool.com', 'Y', 4983500, 112, 'N'], ['표나리', 'F', 37, '010-9516-7732', 'naree@naver.com', 'Y', 2725500, 32, 'N'], ['김단', 'M', 30, '010-4816-4732', 'daniel@gmail.com', 'Y', 3308700, 45, 'N'], ['윤동오', 'M', 48, '010-4599-4758', 'dongohyoon2811@huenet.com', 'N', 5611700, 81, 'N'], ['송민지', 'F', 28, '010-8889-3005', 'elsa@naver.com', 'Y', 2888700, 92, 'N'], ['박지혁', 'M', 27, '010-6520-3871', 'jihyck22@bigtent.com', 'N', 7299400, 143, 'Y'], ['남상진', 'M', 34, '010-4059-9935', 'sangjin@gmail.com', 'Y', 5196800, 28, 'N'], ['이윤후', 'M', 25, '010-6900-8168', 'yoonhoolee@naver.com', 'Y', 4705400, 32, 'N']] \n",
      "\n",
      "mem_card >> [{'name': '서지수', 'gender': 'F', 'age': 24, 'hpno': '010-5429-6666', 'email': 'sjs@gmail.com', 'optin': 'Y', 'sales': 1052500, 'count': 12, 'vip': 'N'}, {'name': '임단아', 'gender': 'F', 'age': 32, 'hpno': '010-5855-6513', 'email': 'danalim@gmail.com', 'optin': 'Y', 'sales': 350800, 'count': 13, 'vip': 'N'}, {'name': '남경훈', 'gender': 'M', 'age': 46, 'hpno': '010-3620-7879', 'email': 'bruece@naver.com', 'optin': 'Y', 'sales': 7054500, 'count': 92, 'vip': 'Y'}, {'name': '박수하', 'gender': 'F', 'age': 31, 'hpno': '010-7319-8161', 'email': 'soo2121@samsung.com', 'optin': 'N', 'sales': 85400, 'count': 3, 'vip': 'N'}, {'name': '김경율', 'gender': 'M', 'age': 62, 'hpno': '010-6300-6083', 'email': 'kkl@gle.net', 'optin': 'Y', 'sales': 4099500, 'count': 12, 'vip': 'N'}, {'name': '박혜진', 'gender': 'M', 'age': 39, 'hpno': '010-3876-3880', 'email': 'hyejinp@gmail.com', 'optin': 'N', 'sales': 6007900, 'count': 101, 'vip': 'Y'}, {'name': '한가람', 'gender': 'F', 'age': 28, 'hpno': '010-4699-9251', 'email': 'goodwill@hilton.com', 'optin': 'Y', 'sales': 327200, 'count': 3, 'vip': 'N'}, {'name': '조민호', 'gender': 'M', 'age': 31, 'hpno': '010-2639-4831', 'email': 'min0702@hyundai.com', 'optin': 'N', 'sales': 5575500, 'count': 56, 'vip': 'N'}, {'name': '최아리', 'gender': 'F', 'age': 35, 'hpno': '010-2705-3535', 'email': 'bigtree@naver.com', 'optin': 'Y', 'sales': 7896300, 'count': 120, 'vip': 'Y'}, {'name': '배진우', 'gender': 'M', 'age': 41, 'hpno': '010-8522-5566', 'email': 'jinwbae@gmail.com', 'optin': 'N', 'sales': 2372600, 'count': 20, 'vip': 'N'}, {'name': '김환중', 'gender': 'M', 'age': 53, 'hpno': '010-7367-9405', 'email': 'hjk@naver.com', 'optin': 'Y', 'sales': 4607900, 'count': 73, 'vip': 'N'}, {'name': '이민수', 'gender': 'M', 'age': 29, 'hpno': '010-6366-2263', 'email': 'smp@naver.com', 'optin': 'Y', 'sales': 6173300, 'count': 81, 'vip': 'Y'}, {'name': '박원기', 'gender': 'M', 'age': 33, 'hpno': '010-3663-5462', 'email': 'wonki.park@hanwha.com', 'optin': 'Y', 'sales': 592400, 'count': 21, 'vip': 'N'}, {'name': '강형규', 'gender': 'M', 'age': 42, 'hpno': '010-6648-2164', 'email': 'kyu3821@naver.com', 'optin': 'N', 'sales': 1767200, 'count': 15, 'vip': 'N'}, {'name': '이상윤', 'gender': 'M', 'age': 39, 'hpno': '010-3543-2479', 'email': 'saint32@yahoo.com', 'optin': 'Y', 'sales': 4102100, 'count': 89, 'vip': 'N'}, {'name': '김선미', 'gender': 'F', 'age': 52, 'hpno': '010-7497-9061', 'email': 'dreamcatcher@daum.net', 'optin': 'N', 'sales': 2190900, 'count': 19, 'vip': 'N'}, {'name': '이주은', 'gender': 'F', 'age': 47, 'hpno': '010-7735-7277', 'email': 'dalhmin@naver.com', 'optin': 'N', 'sales': 304600, 'count': 12, 'vip': 'N'}, {'name': '방혁', 'gender': 'M', 'age': 49, 'hpno': '010-2705-3535', 'email': 'peace@sk.com', 'optin': 'Y', 'sales': 5954900, 'count': 42, 'vip': 'N'}, {'name': '홍진주', 'gender': 'F', 'age': 38, 'hpno': '010-9584-6382', 'email': 'redperl@daum.net', 'optin': 'Y', 'sales': 3755600, 'count': 13, 'vip': 'N'}, {'name': '김사무엘', 'gender': 'M', 'age': 31, 'hpno': '010-4893-7757', 'email': 'dududaddy@peace.com', 'optin': 'Y', 'sales': 6974700, 'count': 79, 'vip': 'Y'}, {'name': '이진환', 'gender': 'M', 'age': 37, 'hpno': '010-4093-6487', 'email': 'jinhwan42@naver.com', 'optin': 'N', 'sales': 6315500, 'count': 92, 'vip': 'Y'}, {'name': '박준수', 'gender': 'M', 'age': 23, 'hpno': '010-5481-7213', 'email': 'joonsp@naver.com', 'optin': 'Y', 'sales': 3145500, 'count': 28, 'vip': 'N'}, {'name': '황민아', 'gender': 'F', 'age': 44, 'hpno': '010-8851-2576', 'email': 'min353@happyschool.com', 'optin': 'Y', 'sales': 4983500, 'count': 112, 'vip': 'N'}, {'name': '표나리', 'gender': 'F', 'age': 37, 'hpno': '010-9516-7732', 'email': 'naree@naver.com', 'optin': 'Y', 'sales': 2725500, 'count': 32, 'vip': 'N'}, {'name': '김단', 'gender': 'M', 'age': 30, 'hpno': '010-4816-4732', 'email': 'daniel@gmail.com', 'optin': 'Y', 'sales': 3308700, 'count': 45, 'vip': 'N'}, {'name': '윤동오', 'gender': 'M', 'age': 48, 'hpno': '010-4599-4758', 'email': 'dongohyoon2811@huenet.com', 'optin': 'N', 'sales': 5611700, 'count': 81, 'vip': 'N'}, {'name': '송민지', 'gender': 'F', 'age': 28, 'hpno': '010-8889-3005', 'email': 'elsa@naver.com', 'optin': 'Y', 'sales': 2888700, 'count': 92, 'vip': 'N'}, {'name': '박지혁', 'gender': 'M', 'age': 27, 'hpno': '010-6520-3871', 'email': 'jihyck22@bigtent.com', 'optin': 'N', 'sales': 7299400, 'count': 143, 'vip': 'Y'}, {'name': '남상진', 'gender': 'M', 'age': 34, 'hpno': '010-4059-9935', 'email': 'sangjin@gmail.com', 'optin': 'Y', 'sales': 5196800, 'count': 28, 'vip': 'N'}, {'name': '이윤후', 'gender': 'M', 'age': 25, 'hpno': '010-6900-8168', 'email': 'yoonhoolee@naver.com', 'optin': 'Y', 'sales': 4705400, 'count': 32, 'vip': 'N'}]\n"
     ]
    }
   ],
   "source": [
    "print('mem_list >>',mem_list,'\\n')\n",
    "print('mem_card >>',mem_card)"
   ]
  },
  {
   "cell_type": "markdown",
   "metadata": {},
   "source": [
    "### [실습] 6. 연령대별 쿠폰발송 : 연령대 항목을 mem_card와 mem_list에 추가, mob_cp_age20 생성\n",
    "\n",
    "\n",
    "- 연령대 항목을 mem_card와 mem_list에 추가\n",
    "  * key - agegroup\n",
    "  * value -  20s  : 20~ 29, 30s : 30~ 39 , 40s : 40~ 49, 50s : 50~ 59, 60s : 60~ 70\n",
    "  \n",
    " - 연령대 그룹이 20대이면서 수신동의가 된 고객 출력 \n",
    " \n",
    " - 두 가지 접근법\n",
    "    * 연령을 if ~ elif로 비교 하며 구성 (우선)\n",
    "    * agegroup_index dictionary 를 코딩으로 생성하고, 이를 활용하여 구성 (시간되면)"
   ]
  },
  {
   "cell_type": "code",
   "execution_count": 63,
   "metadata": {},
   "outputs": [],
   "source": [
    "# approach 1 : if ~elif ~\n",
    "\n",
    "for mem in mem_list:\n",
    "    if mem[2]>=60:\n",
    "        ans='60s'\n",
    "    elif mem[2]>=50:\n",
    "        ans='50s'\n",
    "    elif mem[2]>=40:\n",
    "        ans='40s'\n",
    "    elif mem[2]>=30:\n",
    "        ans='30s'\n",
    "    elif mem[2]>=20:\n",
    "        ans='20s'\n",
    "    \n",
    "    mem.append(ans)\n",
    "#     mem[9]=ans\n",
    "    mem_card[sales_index[mem[6]]]['agegroup']=ans"
   ]
  },
  {
   "cell_type": "code",
   "execution_count": 64,
   "metadata": {},
   "outputs": [
    {
     "name": "stdout",
     "output_type": "stream",
     "text": [
      "mem_list[7] >> ['조민호', 'M', 31, '010-2639-4831', 'min0702@hyundai.com', 'N', 5575500, 56, 'N', '30s']\n",
      "mem_card[7] >> {'name': '조민호', 'gender': 'M', 'age': 31, 'hpno': '010-2639-4831', 'email': 'min0702@hyundai.com', 'optin': 'N', 'sales': 5575500, 'count': 56, 'vip': 'N', 'agegroup': '30s'}\n"
     ]
    }
   ],
   "source": [
    "print('mem_list[7] >>',mem_list[7])\n",
    "print('mem_card[7] >>',mem_card[7])"
   ]
  },
  {
   "cell_type": "code",
   "execution_count": 66,
   "metadata": {
    "scrolled": true
   },
   "outputs": [
    {
     "name": "stdout",
     "output_type": "stream",
     "text": [
      "mob_cp_age20 >>> ['010-5429-6666', '010-4699-9251', '010-6366-2263', '010-5481-7213', '010-8889-3005', '010-6900-8168']\n"
     ]
    }
   ],
   "source": [
    "mob_cp_age20=[mem[3] for mem in mem_list if mem[9]=='20s' and mem[5]=='Y']\n",
    "\n",
    "print ('mob_cp_age20 >>>' , mob_cp_age20)"
   ]
  },
  {
   "cell_type": "code",
   "execution_count": 69,
   "metadata": {},
   "outputs": [
    {
     "name": "stdout",
     "output_type": "stream",
     "text": [
      "agegroup_index >>  {20: '20s', 21: '20s', 22: '20s', 23: '20s', 24: '20s', 25: '20s', 26: '20s', 27: '20s', 28: '20s', 29: '20s', 30: '30s', 31: '30s', 32: '30s', 33: '30s', 34: '30s', 35: '30s', 36: '30s', 37: '30s', 38: '30s', 39: '30s', 40: '40s', 41: '40s', 42: '40s', 43: '40s', 44: '40s', 45: '40s', 46: '40s', 47: '40s', 48: '40s', 49: '40s', 50: '50s', 51: '50s', 52: '50s', 53: '50s', 54: '50s', 55: '50s', 56: '50s', 57: '50s', 58: '50s', 59: '50s', 60: '60s', 61: '60s', 62: '60s', 63: '60s', 64: '60s', 65: '60s', 66: '60s', 67: '60s', 68: '60s', 69: '60s'}\n"
     ]
    }
   ],
   "source": [
    "# approach 2 : agegroup_index 를 활용\n",
    "# step 1 : agegroup_index  dict 생성\n",
    "\n",
    "agegroup_index={}\n",
    "\n",
    "for i in range(20,70):\n",
    "    if i>=60:\n",
    "        ans='60s'\n",
    "    elif i>=50:\n",
    "        ans='50s'\n",
    "    elif i>=40:\n",
    "        ans='40s'\n",
    "    elif i>=30:\n",
    "        ans='30s'\n",
    "    elif i>=20:\n",
    "        ans='20s'\n",
    "    agegroup_index[i]=ans\n",
    "    \n",
    "print ( 'agegroup_index >> ' ,agegroup_index    )"
   ]
  },
  {
   "cell_type": "code",
   "execution_count": null,
   "metadata": {},
   "outputs": [],
   "source": []
  },
  {
   "cell_type": "code",
   "execution_count": 74,
   "metadata": {},
   "outputs": [
    {
     "name": "stdout",
     "output_type": "stream",
     "text": [
      "mem_list[7] ['조민호', 'M', 31, '010-2639-4831', 'min0702@hyundai.com', 'N', 5575500, 56, 'N', '30s']\n",
      "mem_card[7] {'name': '조민호', 'gender': 'M', 'age': 31, 'hpno': '010-2639-4831', 'email': 'min0702@hyundai.com', 'optin': 'N', 'sales': 5575500, 'count': 56, 'vip': 'N', 'agegroup': '30s'}\n"
     ]
    }
   ],
   "source": [
    "# step 2 : agegroup_index 를 활용한 mem_card, mem_list update\n",
    "for mem in mem_list:\n",
    "    mem.append(agegroup_index[mem[2]])\n",
    "    mem_card[sales_index[mem[6]]]['agegroup']=agegroup_index[mem[2]]\n",
    "\n",
    "print('mem_list[7] >>',mem_list[7])\n",
    "print('mem_card[7] >>',mem_card[7])"
   ]
  },
  {
   "cell_type": "markdown",
   "metadata": {},
   "source": [
    "### [HW2] 7. 고객 조회 시스템  \n",
    "- 성명, 전화번호, 이메일 을 입력 받으면 고객카드가 조회됨\n",
    " * name_index, hp_index, email_index 생성\n",
    "- 동작 방식 \n",
    " * 1. 성명, 전화번호, 이메일 중 무엇으로 검색 할 것인지 입력 받음 ( input('1: 성명, 2: 전화번호, 3 : 이메일 >> '))\n",
    " * 2. 성명/전화번호/이메일 값을 입력받음 (  input (' 성명을 입력해주세요 >>> '))\n",
    " * 3. 고객카드를 보여줌,  해당 고객이 없을 경우에는 없다는 메시지 출력\n",
    " "
   ]
  },
  {
   "cell_type": "code",
   "execution_count": 70,
   "metadata": {
    "scrolled": true
   },
   "outputs": [
    {
     "name": "stdout",
     "output_type": "stream",
     "text": [
      "1: 성명, 2: 전화번호, 3 : 이메일 >> 1\n",
      "조민호\n",
      "{'name': '조민호', 'gender': 'M', 'age': 31, 'hpno': '010-2639-4831', 'email': 'min0702@hyundai.com', 'optin': 'N', 'sales': 5575500, 'count': 56, 'vip': 'N', 'agegroup': '30s'}\n"
     ]
    }
   ],
   "source": [
    "cate=int(input('1: 성명, 2: 전화번호, 3 : 이메일 >> '))\n",
    "catedict={1: ['성명','name',0], 2: ['전화번호','hpno',3], 3 : ['이메일','email',4]}\n",
    "\n",
    "searchkey=input()\n",
    "\n",
    "ans=-1\n",
    "for idx,mem in enumerate(mem_card):\n",
    "    if mem[catedict[cate][1]]==searchkey:\n",
    "        ans=idx\n",
    "        break\n",
    "\n",
    "if ans>-1:\n",
    "    print(mem_card[ans])\n",
    "else:\n",
    "    print('해당 고객이 없습니다.')"
   ]
  },
  {
   "cell_type": "markdown",
   "metadata": {},
   "source": [
    "### [HW2] 8. 성별  회당 평균 구매 금액을 비교   \n",
    "- 고객별 회당 평균 구매금액을 구함\n",
    "- 성별로  회당 평균 구매금액의 평균을 구함"
   ]
  },
  {
   "cell_type": "code",
   "execution_count": 75,
   "metadata": {
    "scrolled": true
   },
   "outputs": [
    {
     "name": "stdout",
     "output_type": "stream",
     "text": [
      "서지수님의 회당 평균 구매금액 : 87708원\n",
      "임단아님의 회당 평균 구매금액 : 26985원\n",
      "남경훈님의 회당 평균 구매금액 : 76679원\n",
      "박수하님의 회당 평균 구매금액 : 28467원\n",
      "김경율님의 회당 평균 구매금액 : 341625원\n",
      "박혜진님의 회당 평균 구매금액 : 59484원\n",
      "한가람님의 회당 평균 구매금액 : 109067원\n",
      "조민호님의 회당 평균 구매금액 : 99562원\n",
      "최아리님의 회당 평균 구매금액 : 65802원\n",
      "배진우님의 회당 평균 구매금액 : 118630원\n",
      "김환중님의 회당 평균 구매금액 : 63122원\n",
      "이민수님의 회당 평균 구매금액 : 76214원\n",
      "박원기님의 회당 평균 구매금액 : 28210원\n",
      "강형규님의 회당 평균 구매금액 : 117813원\n",
      "이상윤님의 회당 평균 구매금액 : 46091원\n",
      "김선미님의 회당 평균 구매금액 : 115311원\n",
      "이주은님의 회당 평균 구매금액 : 25383원\n",
      "방혁님의 회당 평균 구매금액 : 141783원\n",
      "홍진주님의 회당 평균 구매금액 : 288892원\n",
      "김사무엘님의 회당 평균 구매금액 : 88287원\n",
      "이진환님의 회당 평균 구매금액 : 68647원\n",
      "박준수님의 회당 평균 구매금액 : 112339원\n",
      "황민아님의 회당 평균 구매금액 : 44496원\n",
      "표나리님의 회당 평균 구매금액 : 85172원\n",
      "김단님의 회당 평균 구매금액 : 73527원\n",
      "윤동오님의 회당 평균 구매금액 : 69280원\n",
      "송민지님의 회당 평균 구매금액 : 31399원\n",
      "박지혁님의 회당 평균 구매금액 : 51045원\n",
      "남상진님의 회당 평균 구매금액 : 185600원\n",
      "이윤후님의 회당 평균 구매금액 : 147044원\n",
      "\n",
      "여성 고객님의 회당 평균 구매금액: 61626원\n",
      "남성 고객님의 회당 평균 구매금액: 80412원\n"
     ]
    }
   ],
   "source": [
    "msum=fsum=mcnt=fcnt=0\n",
    "\n",
    "for mem in mem_card:\n",
    "    avg=mem['sales']/mem['count']\n",
    "    if mem['gender']=='F':\n",
    "        fsum+=mem['sales']\n",
    "        fcnt+=mem['count']\n",
    "    else:\n",
    "        msum+=mem['sales']\n",
    "        mcnt+=mem['count']\n",
    "    print('{}님의 회당 평균 구매금액 : {}원'.format(mem['name'],round(avg)))\n",
    "\n",
    "print('\\n'+'여성 고객님의 회당 평균 구매금액: {}원'.format(round(fsum/fcnt)))\n",
    "print('남성 고객님의 회당 평균 구매금액: {}원'.format(round(msum/mcnt)))"
   ]
  },
  {
   "cell_type": "markdown",
   "metadata": {},
   "source": [
    "### [HW2] 9. [선택] naver mail 계정 보유 고객 대상 캠페인 \n",
    "- 이메일 주소가 naver 이면서 수신동의 된 회원 대상 캠페인,  대상 회원 목록"
   ]
  },
  {
   "cell_type": "code",
   "execution_count": 85,
   "metadata": {},
   "outputs": [
    {
     "name": "stdout",
     "output_type": "stream",
     "text": [
      "Naver 이메일이면서 수신동의 된 회원 목록\n",
      "남경훈, 최아리, 김환중, 이민수, 박준수, 표나리, 송민지, 이윤후\n",
      "\n",
      "\n",
      "{'name': '남경훈', 'gender': 'M', 'age': 46, 'hpno': '010-3620-7879', 'email': 'bruece@naver.com', 'optin': 'Y', 'sales': 7054500, 'count': 92, 'vip': 'Y', 'agegroup': '40s'}\n",
      "{'name': '최아리', 'gender': 'F', 'age': 35, 'hpno': '010-2705-3535', 'email': 'bigtree@naver.com', 'optin': 'Y', 'sales': 7896300, 'count': 120, 'vip': 'Y', 'agegroup': '30s'}\n",
      "{'name': '김환중', 'gender': 'M', 'age': 53, 'hpno': '010-7367-9405', 'email': 'hjk@naver.com', 'optin': 'Y', 'sales': 4607900, 'count': 73, 'vip': 'N', 'agegroup': '50s'}\n",
      "{'name': '이민수', 'gender': 'M', 'age': 29, 'hpno': '010-6366-2263', 'email': 'smp@naver.com', 'optin': 'Y', 'sales': 6173300, 'count': 81, 'vip': 'Y', 'agegroup': '20s'}\n",
      "{'name': '박준수', 'gender': 'M', 'age': 23, 'hpno': '010-5481-7213', 'email': 'joonsp@naver.com', 'optin': 'Y', 'sales': 3145500, 'count': 28, 'vip': 'N', 'agegroup': '20s'}\n",
      "{'name': '표나리', 'gender': 'F', 'age': 37, 'hpno': '010-9516-7732', 'email': 'naree@naver.com', 'optin': 'Y', 'sales': 2725500, 'count': 32, 'vip': 'N', 'agegroup': '30s'}\n",
      "{'name': '송민지', 'gender': 'F', 'age': 28, 'hpno': '010-8889-3005', 'email': 'elsa@naver.com', 'optin': 'Y', 'sales': 2888700, 'count': 92, 'vip': 'N', 'agegroup': '20s'}\n",
      "{'name': '이윤후', 'gender': 'M', 'age': 25, 'hpno': '010-6900-8168', 'email': 'yoonhoolee@naver.com', 'optin': 'Y', 'sales': 4705400, 'count': 32, 'vip': 'N', 'agegroup': '20s'}\n"
     ]
    }
   ],
   "source": [
    "ans=[]\n",
    "\n",
    "for mem in mem_card:\n",
    "    if 'naver' in mem['email'] and mem['optin']=='Y':\n",
    "        ans.append(mem)\n",
    "\n",
    "print('Naver 이메일이면서 수신동의 된 회원 목록')\n",
    "print(', '.join([a['name'] for a in ans]))\n",
    "\n",
    "print('\\n')\n",
    "_=[print(a) for a in ans]"
   ]
  },
  {
   "cell_type": "markdown",
   "metadata": {},
   "source": [
    "### [HW2]10.[선택]  연령대별, 성별 평균 객단가 (고객별 매출 금액) 산출\n",
    "- 연령대별\n",
    "- 성별\n",
    "- 연령대 x 성별"
   ]
  },
  {
   "cell_type": "code",
   "execution_count": null,
   "metadata": {},
   "outputs": [],
   "source": [
    "msum=fsum=mcnt=fcnt=0\n",
    "\n",
    "for mem in mem_card:\n",
    "    avg=mem['sales']/mem['count']\n",
    "    if mem['gender']=='F':\n",
    "        fsum+=mem['sales']\n",
    "        fcnt+=mem['count']\n",
    "    else:\n",
    "        msum+=mem['sales']\n",
    "        mcnt+=mem['count']\n",
    "    print('{}님의 회당 평균 구매금액 : {}원'.format(mem['name'],round(avg)))\n",
    "\n",
    "print('\\n'+'여성 고객님의 회당 평균 구매금액: {}원'.format(round(fsum/fcnt)))\n",
    "print('남성 고객님의 회당 평균 구매금액: {}원'.format(round(msum/mcnt)))"
   ]
  }
 ],
 "metadata": {
  "kernelspec": {
   "display_name": "Python 3",
   "language": "python",
   "name": "python3"
  },
  "language_info": {
   "codemirror_mode": {
    "name": "ipython",
    "version": 3
   },
   "file_extension": ".py",
   "mimetype": "text/x-python",
   "name": "python",
   "nbconvert_exporter": "python",
   "pygments_lexer": "ipython3",
   "version": "3.6.10"
  }
 },
 "nbformat": 4,
 "nbformat_minor": 2
}
