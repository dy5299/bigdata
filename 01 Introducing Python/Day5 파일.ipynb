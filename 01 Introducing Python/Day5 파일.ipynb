{
 "cells": [
  {
   "cell_type": "markdown",
   "metadata": {},
   "source": [
    "# File"
   ]
  },
  {
   "cell_type": "markdown",
   "metadata": {},
   "source": [
    "mode의 첫 글자는 작업을 명시한다.\n",
    "- r: 파일 읽기\n",
    "- w: 파일 쓰기 (파일이 존재하지 않으면 파일을 생성하고, 파일이 존재하면 덮어쓴다)\n",
    "- x: 파일 쓰기 (파일이 존재하지 않을 경우에만 해당한다)\n",
    "- a: 파일 추가하기 (파일이 존재하면 파일의 끝에서부터 쓴다)\n",
    "\n",
    "mode의 두 번째 글자는 파일타입을 명시한다.\n",
    "- t (또는 아무것도 명시하지 않음) : 텍스트 타입\n",
    "- b : 이진binary 타입"
   ]
  },
  {
   "cell_type": "markdown",
   "metadata": {},
   "source": [
    "파일 오브젝트: 쟁반. 닫는 것까지 해야 파일이 완성된다."
   ]
  },
  {
   "cell_type": "code",
   "execution_count": 3,
   "metadata": {},
   "outputs": [],
   "source": [
    "import csv\n",
    "villains = [\n",
    "    ['Doctor','No'],\n",
    "    ['Rosa','klebb'],\n",
    "    ['Mister','Big'],\n",
    "    ['Auric','Goldfinger'],\n",
    "    ['Ernst','Blofeld']\n",
    "]"
   ]
  },
  {
   "cell_type": "code",
   "execution_count": 4,
   "metadata": {},
   "outputs": [],
   "source": [
    "with open('villains.csv','wt') as fout:\n",
    "    csvout = csv.writer(fout)\n",
    "    csvout.writerows(villains)"
   ]
  },
  {
   "cell_type": "code",
   "execution_count": 9,
   "metadata": {},
   "outputs": [
    {
     "name": "stdout",
     "output_type": "stream",
     "text": [
      "[['Doctor', 'No'], [], ['Rosa', 'klebb'], [], ['Mister', 'Big'], [], ['Auric', 'Goldfinger'], [], ['Ernst', 'Blofeld'], []]\n"
     ]
    }
   ],
   "source": [
    "with open('villains.csv','rt') as fin:\n",
    "    cin=csv.reader(fin)\n",
    "    villains = [row for row in cin]\n",
    "\n",
    "print(villains)"
   ]
  },
  {
   "cell_type": "code",
   "execution_count": 11,
   "metadata": {},
   "outputs": [
    {
     "name": "stdout",
     "output_type": "stream",
     "text": [
      "[OrderedDict([('first', 'Doctor'), ('last', 'No')]), OrderedDict([('first', 'Rosa'), ('last', 'klebb')]), OrderedDict([('first', 'Mister'), ('last', 'Big')]), OrderedDict([('first', 'Auric'), ('last', 'Goldfinger')]), OrderedDict([('first', 'Ernst'), ('last', 'Blofeld')])]\n"
     ]
    }
   ],
   "source": [
    "with open('villains.csv','rt') as fin:\n",
    "    cin=csv.DictReader(fin,\\\n",
    "                      fieldnames=['first','last'])\n",
    "    villains_d = [row for row in cin]\n",
    "\n",
    "print(villains_d)"
   ]
  },
  {
   "cell_type": "code",
   "execution_count": 16,
   "metadata": {},
   "outputs": [],
   "source": [
    "with open('villains2.csv','wt') as fout:\n",
    "    cout = csv.DictWriter(fout,['first','last'])\n",
    "    cout.writeheader()\n",
    "    cout.writerows(villains_d)"
   ]
  },
  {
   "cell_type": "code",
   "execution_count": 19,
   "metadata": {},
   "outputs": [
    {
     "data": {
      "text/html": [
       "<div>\n",
       "<style scoped>\n",
       "    .dataframe tbody tr th:only-of-type {\n",
       "        vertical-align: middle;\n",
       "    }\n",
       "\n",
       "    .dataframe tbody tr th {\n",
       "        vertical-align: top;\n",
       "    }\n",
       "\n",
       "    .dataframe thead th {\n",
       "        text-align: right;\n",
       "    }\n",
       "</style>\n",
       "<table border=\"1\" class=\"dataframe\">\n",
       "  <thead>\n",
       "    <tr style=\"text-align: right;\">\n",
       "      <th></th>\n",
       "      <th>first</th>\n",
       "      <th>last</th>\n",
       "    </tr>\n",
       "  </thead>\n",
       "  <tbody>\n",
       "    <tr>\n",
       "      <th>0</th>\n",
       "      <td>Doctor</td>\n",
       "      <td>No</td>\n",
       "    </tr>\n",
       "    <tr>\n",
       "      <th>1</th>\n",
       "      <td>Rosa</td>\n",
       "      <td>klebb</td>\n",
       "    </tr>\n",
       "    <tr>\n",
       "      <th>2</th>\n",
       "      <td>Mister</td>\n",
       "      <td>Big</td>\n",
       "    </tr>\n",
       "    <tr>\n",
       "      <th>3</th>\n",
       "      <td>Auric</td>\n",
       "      <td>Goldfinger</td>\n",
       "    </tr>\n",
       "    <tr>\n",
       "      <th>4</th>\n",
       "      <td>Ernst</td>\n",
       "      <td>Blofeld</td>\n",
       "    </tr>\n",
       "  </tbody>\n",
       "</table>\n",
       "</div>"
      ],
      "text/plain": [
       "    first        last\n",
       "0  Doctor          No\n",
       "1    Rosa       klebb\n",
       "2  Mister         Big\n",
       "3   Auric  Goldfinger\n",
       "4   Ernst     Blofeld"
      ]
     },
     "execution_count": 19,
     "metadata": {},
     "output_type": "execute_result"
    }
   ],
   "source": [
    "import pandas as pd\n",
    "villains_df = pd.read_csv('villains2.csv')\n",
    "villains_df"
   ]
  },
  {
   "cell_type": "code",
   "execution_count": null,
   "metadata": {},
   "outputs": [],
   "source": []
  }
 ],
 "metadata": {
  "kernelspec": {
   "display_name": "Python 3",
   "language": "python",
   "name": "python3"
  },
  "language_info": {
   "codemirror_mode": {
    "name": "ipython",
    "version": 3
   },
   "file_extension": ".py",
   "mimetype": "text/x-python",
   "name": "python",
   "nbconvert_exporter": "python",
   "pygments_lexer": "ipython3",
   "version": "3.6.10"
  }
 },
 "nbformat": 4,
 "nbformat_minor": 4
}
