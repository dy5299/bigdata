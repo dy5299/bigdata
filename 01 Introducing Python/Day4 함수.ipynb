{
 "cells": [
  {
   "cell_type": "markdown",
   "metadata": {},
   "source": [
    "# Function"
   ]
  },
  {
   "cell_type": "markdown",
   "metadata": {},
   "source": [
    "## Review"
   ]
  },
  {
   "cell_type": "markdown",
   "metadata": {},
   "source": [
    "### #1. 숫자 맞추기"
   ]
  },
  {
   "cell_type": "code",
   "execution_count": 1,
   "metadata": {},
   "outputs": [],
   "source": [
    "def guess_me(min,max,trial):\n",
    "    \"\"\"\n",
    "    컴퓨터와 숫자 맞추기 게임을 하고자 한다. 컴퓨터가 생각하는 특정 값을 내가 맞추는 게임이다.\n",
    "    \n",
    "    컴퓨터가 내가 제시한 숫자보다 큰 값을 생각했으면 up, 작은 값을 생각했으면 down을 출력하며 소통한다\n",
    "    함수 안에서 맞춘 결과, 또는 컴퓨터가 생각했던 숫자를 출력하고 마무리한다.\n",
    "    while 문 자료의 예시를 참조 해도 되고, 다르게 구현해도 된다.\n",
    "    정해진 시도 횟수 안에 맞추면 True를 못 맞추면 False를 반환한다.\n",
    "    \"\"\"\n",
    "    import random\n",
    "    ans=int(random.randint(min,max))\n",
    "    \n",
    "    for _ in range(trial):\n",
    "        guess=int(input('Enter your guessing number'))\n",
    "        if guess>ans:\n",
    "            print('down')\n",
    "        elif guess<ans:\n",
    "            print('up')\n",
    "        elif guess==ans:\n",
    "            print(\"Congratulations! It was {}.\".format(ans))\n",
    "            return True\n",
    "        print()\n",
    "    return False"
   ]
  },
  {
   "cell_type": "code",
   "execution_count": 20,
   "metadata": {},
   "outputs": [
    {
     "name": "stdout",
     "output_type": "stream",
     "text": [
      "5\n",
      "up\n",
      "\n",
      "6\n",
      "up\n",
      "\n",
      "7\n",
      "up\n",
      "\n"
     ]
    },
    {
     "data": {
      "text/plain": [
       "False"
      ]
     },
     "execution_count": 20,
     "metadata": {},
     "output_type": "execute_result"
    }
   ],
   "source": [
    "guess_me(1,10,3)"
   ]
  },
  {
   "cell_type": "markdown",
   "metadata": {},
   "source": [
    "### #2. 주사위 게임"
   ]
  },
  {
   "cell_type": "code",
   "execution_count": 17,
   "metadata": {},
   "outputs": [],
   "source": [
    "def run_dices(num,trial):\n",
    "    \"\"\"\n",
    "    주사위 게임을 만들어 본다. 모두 같은 수가 나오면 'conglat!'' 메시지가 출력된다.\n",
    "    \n",
    "    num 개의 주사위를 던진다 (random 함수를 이용해서 자동 발생 시킨다)\n",
    "    trial 횟수 만큼 시도한다. 모두 같은 숫자의 주사위가 나오면 반복하지\n",
    "    않는다.\n",
    "    return 값은 win, last_dices , trial_cnt이다.\n",
    "        - win : 지정한 횟수 안에 같은 주사위가 발생하면 True, 아니면 False\n",
    "        - last_dices : 마지막 시도의 주사위. tuple 또는 list 등이다.\n",
    "        - trial_cnt : 시도횟수\n",
    "    \"\"\"\n",
    "    import random\n",
    "    for trial_cnt in range(trial):\n",
    "        trial_results = [int(random.randint(1,6)) for _ in range(num)]\n",
    "        \n",
    "        if len(set(trial_results))==1:\n",
    "            return True, tuple(trial_results), trial_cnt+1\n",
    "    return False, tuple(trial_results), trial_cnt+1"
   ]
  },
  {
   "cell_type": "code",
   "execution_count": 34,
   "metadata": {},
   "outputs": [
    {
     "name": "stdout",
     "output_type": "stream",
     "text": [
      "conglat!, you've got same number (3, 3) in 3 trials\n"
     ]
    }
   ],
   "source": [
    "win, last_dices, trial_cnt = run_dices(2,10)\n",
    "\n",
    "if win==True:\n",
    "    print(\"conglat!, you've got same number {} in {} trials\".format(last_dices,trial_cnt))\n",
    "else:\n",
    "    print(\"Sorry, even {} trials, no same dice combination, final dices are {}\".format(trial_cnt,last_dices))"
   ]
  },
  {
   "cell_type": "code",
   "execution_count": 36,
   "metadata": {},
   "outputs": [
    {
     "name": "stdout",
     "output_type": "stream",
     "text": [
      "Sorry, even 4 trials, no same dice combination, final dices are (4, 5)\n"
     ]
    }
   ],
   "source": [
    "win, last_dices, trial_cnt = run_dices(2,4)\n",
    "\n",
    "if win==True:\n",
    "    print(\"conglat!, you've got same number {} in {} trials\".format(last_dices,trial_cnt))\n",
    "else:\n",
    "    print(\"Sorry, even {} trials, no same dice combination, final dices are {}\".format(trial_cnt,last_dices))"
   ]
  },
  {
   "cell_type": "markdown",
   "metadata": {},
   "source": [
    "### #3. 게임 호출"
   ]
  },
  {
   "cell_type": "code",
   "execution_count": null,
   "metadata": {},
   "outputs": [],
   "source": [
    "\n",
    "#     game_type=int(input(\"\"\"게임을 선택해주세요.\n",
    "#     guess_me 게임 >> '1' 입력\n",
    "#     run_dice 게임 >> '2' 입력\"\"\"+'\\n'))"
   ]
  },
  {
   "cell_type": "code",
   "execution_count": 3,
   "metadata": {
    "scrolled": true
   },
   "outputs": [
    {
     "name": "stdout",
     "output_type": "stream",
     "text": [
      "게임을 선택해주세요.\n",
      "guess_me 게임 >> '1' 입력\n",
      "run_dice 게임 >> '2' 입력\n",
      "1\n"
     ]
    }
   ],
   "source": [
    "game_type=int(input(\"\"\"게임을 선택해주세요.\n",
    "guess_me 게임 >> '1' 입력\n",
    "run_dice 게임 >> '2' 입력\"\"\"+'\\n'))"
   ]
  },
  {
   "cell_type": "code",
   "execution_count": 13,
   "metadata": {},
   "outputs": [],
   "source": [
    "def lets_play(game_type,trial,minv=0,maxv=0,num=0):\n",
    "    \"\"\"\n",
    "    guess_me와 run_dice를 각각 시도 하고 싶은 게임과 시도회수를 입력 받는다.\n",
    "    몇 승 몇 패인지 출력하고 끝난다.\n",
    "    필요한 인자는 직접 고려한다\n",
    "    반환 값은 없다.\n",
    "    \n",
    "    함수의 기본값을 설정하는 방향으로 의도한 것.\n",
    "    매개변수 설정하라는 의도는 아니었다.\n",
    "    \"\"\"\n",
    "    \n",
    "\n",
    "    win=lose=0\n",
    "    \n",
    "    if game_type==1:\n",
    "        result=guess_me(minv,maxv,trial)\n",
    "        if result==True:\n",
    "            win+=1\n",
    "        else:\n",
    "            lose+=1\n",
    "            \n",
    "            \n",
    "    elif game_type==2:\n",
    "        result,_, trial_cnt=run_dices(num,trial)\n",
    "        if result==True:\n",
    "            win=1\n",
    "            lose=trial_cnt-1\n",
    "        else:\n",
    "            lose=trial_cnt\n",
    "    \n",
    "    print('{}승 {}패'.format(win,lose))\n",
    "    "
   ]
  },
  {
   "cell_type": "code",
   "execution_count": 14,
   "metadata": {},
   "outputs": [
    {
     "ename": "SyntaxError",
     "evalue": "invalid syntax (<ipython-input-14-dae58b3c0e68>, line 1)",
     "output_type": "error",
     "traceback": [
      "\u001b[1;36m  File \u001b[1;32m\"<ipython-input-14-dae58b3c0e68>\"\u001b[1;36m, line \u001b[1;32m1\u001b[0m\n\u001b[1;33m    lets_play(game_type=1,trial=5,minv=1,maxv=10,num=2):\u001b[0m\n\u001b[1;37m                                                        ^\u001b[0m\n\u001b[1;31mSyntaxError\u001b[0m\u001b[1;31m:\u001b[0m invalid syntax\n"
     ]
    }
   ],
   "source": [
    "lets_play(game_type=1,trial=5,minv=1,maxv=10,num=2):"
   ]
  },
  {
   "cell_type": "code",
   "execution_count": 15,
   "metadata": {
    "scrolled": true
   },
   "outputs": [
    {
     "ename": "SyntaxError",
     "evalue": "invalid syntax (<ipython-input-15-ae7f71999881>, line 1)",
     "output_type": "error",
     "traceback": [
      "\u001b[1;36m  File \u001b[1;32m\"<ipython-input-15-ae7f71999881>\"\u001b[1;36m, line \u001b[1;32m1\u001b[0m\n\u001b[1;33m    lets_play(1,5,1,10,2):\u001b[0m\n\u001b[1;37m                          ^\u001b[0m\n\u001b[1;31mSyntaxError\u001b[0m\u001b[1;31m:\u001b[0m invalid syntax\n"
     ]
    }
   ],
   "source": [
    "lets_play(1,5,1,10,2):"
   ]
  },
  {
   "cell_type": "code",
   "execution_count": 16,
   "metadata": {},
   "outputs": [
    {
     "ename": "NameError",
     "evalue": "name 'play_game' is not defined",
     "output_type": "error",
     "traceback": [
      "\u001b[1;31m---------------------------------------------------------------------------\u001b[0m",
      "\u001b[1;31mNameError\u001b[0m                                 Traceback (most recent call last)",
      "\u001b[1;32m<ipython-input-16-5b1e9f46dc79>\u001b[0m in \u001b[0;36m<module>\u001b[1;34m\u001b[0m\n\u001b[0;32m     10\u001b[0m     \u001b[0mprint\u001b[0m\u001b[1;33m(\u001b[0m\u001b[1;34m'{}승 {}패'\u001b[0m\u001b[1;33m.\u001b[0m\u001b[0mformat\u001b[0m\u001b[1;33m(\u001b[0m\u001b[0mwin_cnt\u001b[0m\u001b[1;33m,\u001b[0m\u001b[0mlose_cnt\u001b[0m\u001b[1;33m)\u001b[0m\u001b[1;33m)\u001b[0m\u001b[1;33m\u001b[0m\u001b[1;33m\u001b[0m\u001b[0m\n\u001b[0;32m     11\u001b[0m \u001b[1;33m\u001b[0m\u001b[0m\n\u001b[1;32m---> 12\u001b[1;33m \u001b[0mprint\u001b[0m\u001b[1;33m(\u001b[0m\u001b[0mlets_play\u001b[0m\u001b[1;33m(\u001b[0m\u001b[1;33m(\u001b[0m\u001b[0mrun_dices\u001b[0m\u001b[1;33m,\u001b[0m\u001b[1;36m3\u001b[0m\u001b[1;33m)\u001b[0m \u001b[1;33m,\u001b[0m \u001b[1;33m(\u001b[0m\u001b[0mrun_dices\u001b[0m\u001b[1;33m,\u001b[0m\u001b[1;36m2\u001b[0m\u001b[1;33m)\u001b[0m\u001b[1;33m)\u001b[0m\u001b[1;33m)\u001b[0m\u001b[1;33m\u001b[0m\u001b[1;33m\u001b[0m\u001b[0m\n\u001b[0m\u001b[0;32m     13\u001b[0m \u001b[1;33m\u001b[0m\u001b[0m\n",
      "\u001b[1;32m<ipython-input-16-5b1e9f46dc79>\u001b[0m in \u001b[0;36mlets_play\u001b[1;34m(*argv)\u001b[0m\n\u001b[0;32m      2\u001b[0m     \u001b[0mresult\u001b[0m\u001b[1;33m=\u001b[0m\u001b[0mlist\u001b[0m\u001b[1;33m(\u001b[0m\u001b[1;33m)\u001b[0m\u001b[1;33m\u001b[0m\u001b[1;33m\u001b[0m\u001b[0m\n\u001b[0;32m      3\u001b[0m     \u001b[1;32mfor\u001b[0m \u001b[0mf\u001b[0m\u001b[1;33m,\u001b[0m\u001b[0mcnt\u001b[0m \u001b[1;32min\u001b[0m \u001b[0margv\u001b[0m\u001b[1;33m:\u001b[0m\u001b[1;33m\u001b[0m\u001b[1;33m\u001b[0m\u001b[0m\n\u001b[1;32m----> 4\u001b[1;33m         \u001b[0mresult\u001b[0m\u001b[1;33m+=\u001b[0m\u001b[0mplay_game\u001b[0m\u001b[1;33m(\u001b[0m\u001b[0mf\u001b[0m\u001b[1;33m,\u001b[0m\u001b[0mcnt\u001b[0m\u001b[1;33m)\u001b[0m\u001b[1;33m\u001b[0m\u001b[1;33m\u001b[0m\u001b[0m\n\u001b[0m\u001b[0;32m      5\u001b[0m         \u001b[0mprint\u001b[0m\u001b[1;33m(\u001b[0m\u001b[0mlen\u001b[0m\u001b[1;33m(\u001b[0m\u001b[0mresult\u001b[0m\u001b[1;33m)\u001b[0m\u001b[1;33m,\u001b[0m \u001b[0mresult\u001b[0m\u001b[1;33m)\u001b[0m\u001b[1;33m\u001b[0m\u001b[1;33m\u001b[0m\u001b[0m\n\u001b[0;32m      6\u001b[0m \u001b[1;33m\u001b[0m\u001b[0m\n",
      "\u001b[1;31mNameError\u001b[0m: name 'play_game' is not defined"
     ]
    }
   ],
   "source": [
    "\n",
    "\n",
    "def lets_play(*argv):\n",
    "    result=list()\n",
    "    for f,cnt in argv:\n",
    "        result+=play_game(f,cnt)\n",
    "        print(len(result), result)\n",
    "        \n",
    "    win_cnt = sum(result)\n",
    "    lose_cnt = len(result) - win_cnt\n",
    "    \n",
    "    print('{}승 {}패'.format(win_cnt,lose_cnt))\n",
    "\n",
    "print(lets_play((run_dices,3) , (run_dices,2)))\n",
    "    "
   ]
  },
  {
   "cell_type": "code",
   "execution_count": null,
   "metadata": {},
   "outputs": [],
   "source": []
  }
 ],
 "metadata": {
  "kernelspec": {
   "display_name": "Python 3",
   "language": "python",
   "name": "python3"
  },
  "language_info": {
   "codemirror_mode": {
    "name": "ipython",
    "version": 3
   },
   "file_extension": ".py",
   "mimetype": "text/x-python",
   "name": "python",
   "nbconvert_exporter": "python",
   "pygments_lexer": "ipython3",
   "version": "3.6.10"
  }
 },
 "nbformat": 4,
 "nbformat_minor": 4
}
